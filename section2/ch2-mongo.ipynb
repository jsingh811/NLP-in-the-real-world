{
 "cells": [
  {
   "cell_type": "code",
   "execution_count": 1,
   "id": "363979bf",
   "metadata": {},
   "outputs": [
    {
     "name": "stdout",
     "output_type": "stream",
     "text": [
      "Collecting pymongo\n",
      "  Downloading pymongo-4.3.3-cp39-cp39-macosx_10_9_universal2.whl (413 kB)\n",
      "\u001b[K     |████████████████████████████████| 413 kB 2.3 MB/s eta 0:00:01\n",
      "\u001b[?25hCollecting dnspython<3.0.0,>=1.16.0\n",
      "  Downloading dnspython-2.2.1-py3-none-any.whl (269 kB)\n",
      "\u001b[K     |████████████████████████████████| 269 kB 5.8 MB/s eta 0:00:01\n",
      "\u001b[?25hInstalling collected packages: dnspython, pymongo\n",
      "Successfully installed dnspython-2.2.1 pymongo-4.3.3\n"
     ]
    }
   ],
   "source": [
    "! python -m pip install pymongo==4.3.3"
   ]
  },
  {
   "cell_type": "code",
   "execution_count": null,
   "id": "d6be8423",
   "metadata": {},
   "outputs": [],
   "source": [
    "from pymongo import MongoClient\n",
    "\n",
    "# Note: Change connection string as needed\n",
    "client = MongoClient(\"mongodb://localhost:27017/\")\n",
    "\n",
    "# Database Name\n",
    "db = client[\"database\"]\n",
    "\n",
    "# Collection Name\n",
    "collection = db[\"your collection name\"]\n",
    "\n",
    "# to find one record\n",
    "one_result = collection.find_one()\n",
    "\n",
    "# To perfrom text search as discussed above\n",
    "result = collection.find(\n",
    "    {\"$text\": {\"$search\": \"cake\"}}\n",
    ")"
   ]
  }
 ],
 "metadata": {
  "kernelspec": {
   "display_name": "Python 3 (ipykernel)",
   "language": "python",
   "name": "python3"
  },
  "language_info": {
   "codemirror_mode": {
    "name": "ipython",
    "version": 3
   },
   "file_extension": ".py",
   "mimetype": "text/x-python",
   "name": "python",
   "nbconvert_exporter": "python",
   "pygments_lexer": "ipython3",
   "version": "3.9.7"
  }
 },
 "nbformat": 4,
 "nbformat_minor": 5
}
