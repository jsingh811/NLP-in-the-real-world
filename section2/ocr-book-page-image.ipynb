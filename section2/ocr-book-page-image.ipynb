{
 "cells": [
  {
   "cell_type": "code",
   "execution_count": 1,
   "id": "1ad60c6d",
   "metadata": {},
   "outputs": [
    {
     "name": "stdout",
     "output_type": "stream",
     "text": [
      "Requirement already satisfied: pytesseract in /Users/jsingh/opt/anaconda3/lib/python3.9/site-packages (0.3.9)\n",
      "Requirement already satisfied: Pillow>=8.0.0 in /Users/jsingh/opt/anaconda3/lib/python3.9/site-packages (from pytesseract) (8.4.0)\n",
      "Requirement already satisfied: packaging>=21.3 in /Users/jsingh/opt/anaconda3/lib/python3.9/site-packages (from pytesseract) (21.3)\n",
      "Requirement already satisfied: pyparsing!=3.0.5,>=2.0.2 in /Users/jsingh/opt/anaconda3/lib/python3.9/site-packages (from packaging>=21.3->pytesseract) (3.0.4)\n",
      "Requirement already satisfied: opencv-python in /Users/jsingh/opt/anaconda3/lib/python3.9/site-packages (4.6.0.66)\n",
      "Requirement already satisfied: numpy>=1.14.5 in /Users/jsingh/opt/anaconda3/lib/python3.9/site-packages (from opencv-python) (1.22.2)\n"
     ]
    }
   ],
   "source": [
    "! pip install pytesseract\n",
    "! pip install opencv-python"
   ]
  },
  {
   "cell_type": "code",
   "execution_count": 2,
   "id": "fd0b43fa",
   "metadata": {},
   "outputs": [
    {
     "name": "stdout",
     "output_type": "stream",
     "text": [
      "a a a ae ae a ER ee\n",
      "\n",
      "Preface\n",
      "\n",
      "a a Ee ee a Ee a ee Sd\n",
      "\n",
      "The desire to put Artificial Intelligence (AI) and robots to work in order to improve\n",
      "the human experience, amplify human intelligence, and automate the mundane\n",
      "have been consistent and long-lasting human endeavors. Greek, Indian, and other\n",
      "ancient epics contain multiple references to human-created AI concepts with the\n",
      "hope that the resultant solutions would complement and supplement human needs\n",
      "and activities.\n",
      "\n",
      "Recent advances in computing power and the availability of data—coupled with\n",
      "the needs of the modern enterprise—have now brought us to a place where AI is\n",
      "no longer the stuff of epics and legend. We are seeing AI becoming integral, increas-\n",
      "ing influences on customer experiences and human needs. AI is already around us\n",
      "in various shapes and forms, even if we don’t recognize the innter workings at first\n",
      "glance. We interact with AI via machine learning (and learning algorithms) on a daily\n",
      "basis. Some examples include email spam filters, entertainment recommendations,\n",
      "mail sorting, online shopping recommendations, and the next generation of medi-\n",
      "cines and therapies. The applications of AI are increasingly at the core of many uses\n",
      "in consumer products, e-commerce, banking, insurance, life sciences and healthcare,\n",
      "manufacturing, energy and utilities, law, and education.\n",
      "\n",
      "The design and uses of AI in the enterprise are no longer nice-to-have or experi-\n",
      "mental technologies. It is rapidly becoming the foundation of digital transforma-\n",
      "tion for small, medium, and large businesses. However, there is still a digital divide\n",
      "between the AI “haves” and “have nots”—with innovative and data-first technology\n",
      "companies, financial services, and e-commerce being relatively ahead of the curve,\n",
      "compared to other verticals. Additionally, this digital divide is exacerbated by strat-\n",
      "egy maturity, regional/geographical locations, talent availability, and funding. T he\n",
      "good news is, thanks to the cloud, modern data platforms, machine/deep learning,\n",
      "and easier connectivity to systems of record and systems of engagement—digital\n",
      "transformation driven by AI is more realizable than ever before.\n",
      "\n",
      "While the technology is available, and continues to evolve rapidly, a substantial\n",
      "number of Al-led digital transformation efforts fail to deliver, or only partly deliver,\n",
      "on business outcomes, value generation, and Return on Investment (ROD. Our goal\n",
      "with this book is to change the current reality by increasing awareness and providing\n",
      "the knowledge you can use to drive your organization’s success with AI. The intel-\n",
      "ligent enterprise of tomorrow will be one that leverages business endeavors, human\n",
      "intelligence, and AI to their utmost via symbiosis.\n",
      "\n",
      "A global team of business leaders, technology executives, and data scientists, the\n",
      "authors of this book bring the best of their expertise and cross-functional professional\n",
      "\n",
      "ix\n",
      "\n"
     ]
    }
   ],
   "source": [
    "import cv2\n",
    "from pytesseract import image_to_string\n",
    "filename = \"20220629_131726.jpg\"\n",
    "img = cv2.imread(filename)\n",
    "text = image_to_string(img, lang='eng')\n",
    "print(text)"
   ]
  },
  {
   "cell_type": "code",
   "execution_count": 3,
   "id": "ec4bba9b",
   "metadata": {},
   "outputs": [],
   "source": [
    "import numpy as np\n",
    "import cv2\n",
    "\n",
    "def get_grayscale(image):\n",
    "    return cv2.cvtColor(image, cv2.COLOR_BGR2GRAY)\n",
    "\n",
    "def thresholding(image):\n",
    "    return cv2.threshold(\n",
    "        image, 0, 255, \n",
    "        cv2.THRESH_BINARY + cv2.THRESH_OTSU\n",
    "    )[1]\n",
    "\n",
    "def opening(image):\n",
    "    return cv2.morphologyEx(\n",
    "        image, cv2.MORPH_OPEN, np.ones((5,5),np.uint8)\n",
    "    )\n"
   ]
  },
  {
   "cell_type": "code",
   "execution_count": 4,
   "id": "7d3a7240",
   "metadata": {},
   "outputs": [
    {
     "name": "stdout",
     "output_type": "stream",
     "text": [
      "Oe\n",
      "\n",
      "Preface\n",
      "\n",
      "OO\n",
      "\n",
      "The desire to put Artificial Intelligence (AI) and robots to work in order to improve\n",
      "the human experience, amplify human intelligence, and automate the mundane\n",
      "have been consistent and long-lasting human endeavors. Greek, Indian, and other\n",
      "ancient epics contain multiple references to human-created AI concepts with the\n",
      "hope that the resultant solutions would complement and supplement human needs\n",
      "and activities.\n",
      "\n",
      "Recent advances in computing power and the availability of data—coupled with\n",
      "the needs of the modern enterprise—have now brought us to a place where AI is\n",
      "no longer the stuff of epics and legend. We are seeing AI becoming integral, increas-\n",
      "ing influences on customer experiences and human needs. AI is already around us\n",
      "in various shapes and forms, even if we don’t recognize the innter workings at first\n",
      "glance. We interact with AI via machine learning (and learning algorithms) on a daily\n",
      "basis. Some examples include email spam filters, entertainment recommendations,\n",
      "mail sorting, online shopping recommendations, and the next generation of medi-\n",
      "cines and therapies. The applications of AI are increasingly at the core of many uses\n",
      "in consumer products, e-commerce, banking, insurance, life sciences and healthcare,\n",
      "manufacturing, energy and utilities, law, and education.\n",
      "\n",
      "The design and uses of AI in the enterprise are no longer nice-to-have or experi-\n",
      "mental technologies. It is rapidly becoming the foundation of digital transforma-\n",
      "tion for small, medium, and large businesses. However, there is still a digital divide\n",
      "between the AI “haves” and “have nots”—with innovative and data-first technology\n",
      "companies, financial services, and e-commerce being relatively ahead of the curve,\n",
      "compared to other verticals. Additionally, this digital divide is exacerbated by strat-\n",
      "egy maturity, regional/geographical locations, talent availability, and funding. The\n",
      "good news is, thanks to the cloud, modern data platforms, machine/deep learning,\n",
      "and easier connectivity to systems of record and systems of engagement—digital\n",
      "transformation driven by AI is more realizable than ever before.\n",
      "\n",
      "While the technology is available, and continues to evolve rapidly, a substantial\n",
      "number of Al-led digital transformation efforts fail to deliver, or only partly deliver,\n",
      "on business outcomes, value generation, and Return on Investment (ROD. Our goal\n",
      "with this book is to change the current reality by increasing awareness and providing\n",
      "the knowledge you can use to drive your organization’s success with AI. The intel-\n",
      "ligent enterprise of tomorrow will be one that leverages business endeavors, human\n",
      "intelligence, and AI to their utmost via symbiosis.\n",
      "\n",
      "A global team of business leaders, technology executives, and data scientists, the\n",
      "authors of this book bring the best of their expertise and cross-functional professional\n",
      "\n",
      "ix\n",
      "\n"
     ]
    }
   ],
   "source": [
    "gray = get_grayscale(img)\n",
    "thresh = thresholding(gray)\n",
    "openn = opening(gray)\n",
    "text_filt = image_to_string(thresh, lang=\"eng\")\n",
    "print(text_filt)"
   ]
  },
  {
   "cell_type": "code",
   "execution_count": 5,
   "id": "048fb880",
   "metadata": {},
   "outputs": [
    {
     "name": "stdout",
     "output_type": "stream",
     "text": [
      "ETL NN eT Mc Ne MR ly ee A EE ee SOR eM\n",
      "\n",
      "Preface\n",
      "\n",
      "SERPS Hae Te eR Per eS RR ERO I PR Re ee\n",
      "\n",
      "The desire to put Artificial Intelligence (AI) and robots to work in order to improve\n",
      "the human experience, amplify human intelligence, and automate the mundane\n",
      "have been consistent and long-lasting human endeavors. Greek, Indian, and other\n",
      "ancient epics contain multiple references to human-created AI concepts with the\n",
      "hope that the resultant solutions would complement and supplement human needs\n",
      "and activities.\n",
      "\n",
      "Recent advances in computing power and the availability of data—coupled with\n",
      "the needs of the modern enterprise—have now brought us to a place where AI is\n",
      "no longer the stuff of epics and legend. We are seeing AI becoming integral, increas-\n",
      "ing influences on customer experiences and human needs. AI is already around us\n",
      "in various shapes and forms, even if we don’t recognize the innter workings at first\n",
      "glance. We interact with AI via machine learning (and learning algorithms) on a daily\n",
      "basis. Some examples include email spam filters, entertainment recommendations,\n",
      "mail sorting, online shopping recommendations, and the next generation of medi-\n",
      "cines and therapies. The applications of AI are increasingly at the core of many uses\n",
      "in consumer products, e-commerce, banking, insurance, life sciences and healthcare,\n",
      "manufacturing, energy and utilities, law, and education.\n",
      "\n",
      "The design and uses of AI in the enterprise are no longer nice-to-have or experi-\n",
      "mental technologies. It is rapidly becoming the foundation of digital transforma-\n",
      "tion for small, medium, and large businesses. However, there is still a digital divide\n",
      "between the AI “haves” and “have nots”—with innovative and data-first technology\n",
      "companies, financial services, and e-commerce being relatively ahead of the curve,\n",
      "compared to other verticals. Additionally, this digital divide is exacerbated by strat-\n",
      "egy maturity, regional/geographical locations, talent availability, and funding. The\n",
      "good news is, thanks to the cloud, modern data platforms, machine/deep learning,\n",
      "and easier connectivity to systems of record and systems of engagement—digital\n",
      "transformation driven by AI is more realizable than ever before.\n",
      "\n",
      "While the technology is available, and continues to evolve rapidly, a substantial\n",
      "number of Al-led digital transformation efforts fail to deliver, or only partly deliver,\n",
      "on business outcomes, value generation, and Return on Investment (ROD. Our goal\n",
      "with this book is to change the current reality by increasing awareness and providing\n",
      "the knowledge you can use to drive your organization’s success with AI. The intel-\n",
      "ligent enterprise of tomorrow will be one that leverages business endeavors, human\n",
      "intelligence, and AI to their utmost via symbiosis.\n",
      "\n",
      "A global team of business leaders, technology executives, and data scientists, the\n",
      "authors of this book bring the best of their expertise and cross-functional professional\n",
      "\n",
      "ix\n",
      "\n"
     ]
    }
   ],
   "source": [
    "text_filt_op = image_to_string(openn, lang=\"eng\")\n",
    "print(text_filt_op)"
   ]
  },
  {
   "cell_type": "code",
   "execution_count": null,
   "id": "0184f7f0",
   "metadata": {},
   "outputs": [],
   "source": []
  }
 ],
 "metadata": {
  "kernelspec": {
   "display_name": "Python 3 (ipykernel)",
   "language": "python",
   "name": "python3"
  },
  "language_info": {
   "codemirror_mode": {
    "name": "ipython",
    "version": 3
   },
   "file_extension": ".py",
   "mimetype": "text/x-python",
   "name": "python",
   "nbconvert_exporter": "python",
   "pygments_lexer": "ipython3",
   "version": "3.9.15"
  }
 },
 "nbformat": 4,
 "nbformat_minor": 5
}
