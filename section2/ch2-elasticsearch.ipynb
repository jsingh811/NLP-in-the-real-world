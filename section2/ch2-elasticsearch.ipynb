{
 "cells": [
  {
   "cell_type": "code",
   "execution_count": 1,
   "id": "9c9fb7d7",
   "metadata": {},
   "outputs": [
    {
     "name": "stdout",
     "output_type": "stream",
     "text": [
      "Collecting elasticsearch\n",
      "  Using cached elasticsearch-8.5.0-py3-none-any.whl (385 kB)\n",
      "Collecting elastic-transport<9,>=8\n",
      "  Using cached elastic_transport-8.4.0-py3-none-any.whl (59 kB)\n",
      "Requirement already satisfied: certifi in /Users/jyotikasingh/opt/anaconda3/envs/py39/lib/python3.9/site-packages (from elastic-transport<9,>=8->elasticsearch) (2021.10.8)\n",
      "Requirement already satisfied: urllib3<2,>=1.26.2 in /Users/jyotikasingh/opt/anaconda3/envs/py39/lib/python3.9/site-packages (from elastic-transport<9,>=8->elasticsearch) (1.26.7)\n",
      "Installing collected packages: elastic-transport, elasticsearch\n",
      "Successfully installed elastic-transport-8.4.0 elasticsearch-8.5.0\n"
     ]
    }
   ],
   "source": [
    "! python -m pip install elasticsearch==8.5.0"
   ]
  },
  {
   "cell_type": "code",
   "execution_count": 2,
   "id": "3866ae25",
   "metadata": {},
   "outputs": [],
   "source": [
    "mappings = {\n",
    " \"users\": \"\"\"{\n",
    "  \"mappings\" : {\n",
    "   \"entity\" : {\n",
    "    \"properties\" : {\n",
    "     \"name\" : {\n",
    "      \"type\" : \"text\",\n",
    "      \"fields\" : {\"keyword\" : {\n",
    "       \"type\" : \"keyword\", \"ignore_above\" : 256\n",
    "      }}\n",
    "     },\n",
    "     \"userId\" : {\n",
    "      \"type\" : \"text\",\n",
    "      \"fields\" : {\"raw\" : {\"type\" : \"long\"}}\n",
    "       }\n",
    "    }\n",
    "   }\n",
    "  }\n",
    " }\"\"\"\n",
    "}"
   ]
  },
  {
   "cell_type": "code",
   "execution_count": null,
   "id": "b455c988",
   "metadata": {},
   "outputs": [],
   "source": [
    "from elasticsearch import Elasticsearch\n",
    "\n",
    "conn = Elasticsearch(\n",
    "    [{\"host\": <host>, \"port\": <port>}],\n",
    "    http_auth=(<username>, <password>),\n",
    "    timeout=60,\n",
    "    max_retries=5,\n",
    "    retry_on_timeout=True,\n",
    "    maxsize=25,\n",
    ")\n",
    "\n",
    "for index_name in mappings:\n",
    "    conn.indices.create(\n",
    "        index=index_name, ignore=400, \n",
    "        body=mappings[index_name]\n",
    "    )"
   ]
  },
  {
   "cell_type": "code",
   "execution_count": null,
   "id": "de0a23a7",
   "metadata": {},
   "outputs": [],
   "source": [
    "# Add data\n",
    "conn.index(\n",
    "    index=self.index_name, doc_type=\"entity\", id=1, \n",
    "    body={\"name\": \"mandatory payment\", \"userId\": 1}\n",
    ")\n",
    "\n",
    "conn.index(\n",
    "    index=self.index_name, doc_type=\"entity\", id=2, \n",
    "    body={\"name\": \"herman woman\", \"userId\": 2}\n",
    ")"
   ]
  },
  {
   "cell_type": "code",
   "execution_count": null,
   "id": "3bddb3cd",
   "metadata": {},
   "outputs": [],
   "source": [
    "from elasticsearch import Elasticsearch\n",
    "es_master = \"elastic.orgname.com\"\n",
    "es_port   = \"9200\"\n",
    "es = Elasticsearch([{'host':es_master, 'port':es_port}])\n",
    "# This query will return only userId field both both \n",
    "# document _id 1 and 2\n",
    "query = { \"_source\": [\"userId\"], \n",
    "  \"query\": {\n",
    "     \"bool\": {\n",
    "         \"must\": [\n",
    "         {\"match\": {\"name\": \"*man*\"}}\n",
    "        ]\n",
    "     }\n",
    "}}\n",
    "\n",
    "res = es.search(\n",
    "    index=\"user\", \n",
    "    body =query,\n",
    "    size = 10000, \n",
    "    request_timeout = 30\n",
    ")\n",
    "\n",
    "hits = res['hits']['hits']\n",
    "print(\"no. of users: \", len(hits))"
   ]
  }
 ],
 "metadata": {
  "kernelspec": {
   "display_name": "Python 3 (ipykernel)",
   "language": "python",
   "name": "python3"
  },
  "language_info": {
   "codemirror_mode": {
    "name": "ipython",
    "version": 3
   },
   "file_extension": ".py",
   "mimetype": "text/x-python",
   "name": "python",
   "nbconvert_exporter": "python",
   "pygments_lexer": "ipython3",
   "version": "3.9.7"
  }
 },
 "nbformat": 4,
 "nbformat_minor": 5
}
