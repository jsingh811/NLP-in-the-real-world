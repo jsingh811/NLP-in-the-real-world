{
 "cells": [
  {
   "cell_type": "code",
   "execution_count": 1,
   "id": "692eef40",
   "metadata": {},
   "outputs": [],
   "source": [
    "# https://www.kaggle.com/datasets/uciml/sms-spam-collection-dataset"
   ]
  },
  {
   "cell_type": "code",
   "execution_count": 1,
   "id": "1842c542",
   "metadata": {},
   "outputs": [
    {
     "name": "stdout",
     "output_type": "stream",
     "text": [
      "Requirement already satisfied: nltk in /Users/jyotikasingh/opt/anaconda3/envs/myenv/lib/python3.9/site-packages (3.6.5)\n",
      "Requirement already satisfied: joblib in /Users/jyotikasingh/opt/anaconda3/envs/myenv/lib/python3.9/site-packages (from nltk) (1.2.0)\n",
      "Requirement already satisfied: regex>=2021.8.3 in /Users/jyotikasingh/opt/anaconda3/envs/myenv/lib/python3.9/site-packages (from nltk) (2022.10.31)\n",
      "Requirement already satisfied: click in /Users/jyotikasingh/opt/anaconda3/envs/myenv/lib/python3.9/site-packages (from nltk) (8.1.3)\n",
      "Requirement already satisfied: tqdm in /Users/jyotikasingh/opt/anaconda3/envs/myenv/lib/python3.9/site-packages (from nltk) (4.64.1)\n",
      "Requirement already satisfied: pandas in /Users/jyotikasingh/opt/anaconda3/envs/myenv/lib/python3.9/site-packages (1.5.2)\n",
      "Requirement already satisfied: pytz>=2020.1 in /Users/jyotikasingh/opt/anaconda3/envs/myenv/lib/python3.9/site-packages (from pandas) (2022.6)\n",
      "Requirement already satisfied: numpy>=1.20.3 in /Users/jyotikasingh/opt/anaconda3/envs/myenv/lib/python3.9/site-packages (from pandas) (1.23.5)\n",
      "Requirement already satisfied: python-dateutil>=2.8.1 in /Users/jyotikasingh/opt/anaconda3/envs/myenv/lib/python3.9/site-packages (from pandas) (2.8.2)\n",
      "Requirement already satisfied: six>=1.5 in /Users/jyotikasingh/opt/anaconda3/envs/myenv/lib/python3.9/site-packages (from python-dateutil>=2.8.1->pandas) (1.16.0)\n",
      "Requirement already satisfied: scikit-learn in /Users/jyotikasingh/opt/anaconda3/envs/myenv/lib/python3.9/site-packages (1.1.3)\n",
      "Requirement already satisfied: numpy>=1.17.3 in /Users/jyotikasingh/opt/anaconda3/envs/myenv/lib/python3.9/site-packages (from scikit-learn) (1.23.5)\n",
      "Requirement already satisfied: scipy>=1.3.2 in /Users/jyotikasingh/opt/anaconda3/envs/myenv/lib/python3.9/site-packages (from scikit-learn) (1.9.3)\n",
      "Requirement already satisfied: threadpoolctl>=2.0.0 in /Users/jyotikasingh/opt/anaconda3/envs/myenv/lib/python3.9/site-packages (from scikit-learn) (3.1.0)\n",
      "Requirement already satisfied: joblib>=1.0.0 in /Users/jyotikasingh/opt/anaconda3/envs/myenv/lib/python3.9/site-packages (from scikit-learn) (1.2.0)\n"
     ]
    }
   ],
   "source": [
    "! pip install nltk\n",
    "! pip install pandas\n",
    "! pip install scikit-learn"
   ]
  },
  {
   "cell_type": "code",
   "execution_count": 2,
   "id": "ae1851bb",
   "metadata": {},
   "outputs": [
    {
     "name": "stderr",
     "output_type": "stream",
     "text": [
      "[nltk_data] Downloading package wordnet to\n",
      "[nltk_data]     /Users/jyotikasingh/nltk_data...\n",
      "[nltk_data]   Package wordnet is already up-to-date!\n"
     ]
    },
    {
     "data": {
      "text/plain": [
       "True"
      ]
     },
     "execution_count": 2,
     "metadata": {},
     "output_type": "execute_result"
    }
   ],
   "source": [
    "import nltk\n",
    "nltk.download('wordnet')"
   ]
  },
  {
   "cell_type": "code",
   "execution_count": 2,
   "id": "dbebe429",
   "metadata": {},
   "outputs": [
    {
     "name": "stdout",
     "output_type": "stream",
     "text": [
      "     v1                                                 v2 Unnamed: 2  \\\n",
      "0   ham  Go until jurong point, crazy.. Available only ...        NaN   \n",
      "1   ham                      Ok lar... Joking wif u oni...        NaN   \n",
      "2  spam  Free entry in 2 a wkly comp to win FA Cup fina...        NaN   \n",
      "3   ham  U dun say so early hor... U c already then say...        NaN   \n",
      "4   ham  Nah I don't think he goes to usf, he lives aro...        NaN   \n",
      "\n",
      "  Unnamed: 3 Unnamed: 4  \n",
      "0        NaN        NaN  \n",
      "1        NaN        NaN  \n",
      "2        NaN        NaN  \n",
      "3        NaN        NaN  \n",
      "4        NaN        NaN  \n"
     ]
    }
   ],
   "source": [
    "# Read the data using pandas\n",
    "import pandas as pd\n",
    "df = pd.read_csv(\"spam.csv\", encoding ='latin1')\n",
    "print(df.head())"
   ]
  },
  {
   "cell_type": "code",
   "execution_count": 3,
   "id": "714f5439",
   "metadata": {},
   "outputs": [
    {
     "name": "stdout",
     "output_type": "stream",
     "text": [
      "  class                                               text\n",
      "0   ham  Go until jurong point, crazy.. Available only ...\n",
      "1   ham                      Ok lar... Joking wif u oni...\n",
      "2  spam  Free entry in 2 a wkly comp to win FA Cup fina...\n",
      "3   ham  U dun say so early hor... U c already then say...\n",
      "4   ham  Nah I don't think he goes to usf, he lives aro...\n"
     ]
    }
   ],
   "source": [
    "# Rename columns, remove unused columns\n",
    "df.rename(columns={'v1': 'class', 'v2': 'text'}, inplace=True)\n",
    "drop_columns = [col for col in df.columns if col not in ['class', 'text']]\n",
    "df.drop(drop_columns, axis=1, inplace=True)\n",
    "print(df.head())"
   ]
  },
  {
   "cell_type": "code",
   "execution_count": 4,
   "id": "888b9c49",
   "metadata": {},
   "outputs": [
    {
     "data": {
      "text/html": [
       "<div>\n",
       "<style scoped>\n",
       "    .dataframe tbody tr th:only-of-type {\n",
       "        vertical-align: middle;\n",
       "    }\n",
       "\n",
       "    .dataframe tbody tr th {\n",
       "        vertical-align: top;\n",
       "    }\n",
       "\n",
       "    .dataframe thead th {\n",
       "        text-align: right;\n",
       "    }\n",
       "</style>\n",
       "<table border=\"1\" class=\"dataframe\">\n",
       "  <thead>\n",
       "    <tr style=\"text-align: right;\">\n",
       "      <th></th>\n",
       "      <th>class</th>\n",
       "      <th>text</th>\n",
       "    </tr>\n",
       "  </thead>\n",
       "  <tbody>\n",
       "    <tr>\n",
       "      <th>count</th>\n",
       "      <td>5572</td>\n",
       "      <td>5572</td>\n",
       "    </tr>\n",
       "    <tr>\n",
       "      <th>unique</th>\n",
       "      <td>2</td>\n",
       "      <td>5169</td>\n",
       "    </tr>\n",
       "    <tr>\n",
       "      <th>top</th>\n",
       "      <td>ham</td>\n",
       "      <td>Sorry, I'll call later</td>\n",
       "    </tr>\n",
       "    <tr>\n",
       "      <th>freq</th>\n",
       "      <td>4825</td>\n",
       "      <td>30</td>\n",
       "    </tr>\n",
       "  </tbody>\n",
       "</table>\n",
       "</div>"
      ],
      "text/plain": [
       "       class                    text\n",
       "count   5572                    5572\n",
       "unique     2                    5169\n",
       "top      ham  Sorry, I'll call later\n",
       "freq    4825                      30"
      ]
     },
     "execution_count": 4,
     "metadata": {},
     "output_type": "execute_result"
    }
   ],
   "source": [
    "df.describe()"
   ]
  },
  {
   "cell_type": "code",
   "execution_count": 5,
   "id": "b32ad8e2",
   "metadata": {},
   "outputs": [
    {
     "data": {
      "text/plain": [
       "ham     0.865937\n",
       "spam    0.134063\n",
       "Name: class, dtype: float64"
      ]
     },
     "execution_count": 5,
     "metadata": {},
     "output_type": "execute_result"
    }
   ],
   "source": [
    "df['class'].value_counts(normalize=True)\n",
    "# 86.5% of the data belongs to class ham. There is a high class imbalance."
   ]
  },
  {
   "cell_type": "code",
   "execution_count": 6,
   "id": "ef606310",
   "metadata": {},
   "outputs": [
    {
     "data": {
      "text/plain": [
       "0       Go until jurong point, crazy.. Available only ...\n",
       "1                           Ok lar... Joking wif u oni...\n",
       "2       Free entry in 2 a wkly comp to win FA Cup fina...\n",
       "3       U dun say so early hor... U c already then say...\n",
       "4       Nah I don't think he goes to usf, he lives aro...\n",
       "                              ...                        \n",
       "5567    This is the 2nd time we have tried 2 contact u...\n",
       "5568                Will Ì_ b going to esplanade fr home?\n",
       "5569    Pity, * was in mood for that. So...any other s...\n",
       "5570    The guy did some bitching but I acted like i'd...\n",
       "5571                           Rofl. Its true to its name\n",
       "Name: text, Length: 5572, dtype: object"
      ]
     },
     "execution_count": 6,
     "metadata": {},
     "output_type": "execute_result"
    }
   ],
   "source": [
    "df[\"text\"] # We see some informal language and extra punctuation. "
   ]
  },
  {
   "cell_type": "code",
   "execution_count": 7,
   "id": "19649eed",
   "metadata": {},
   "outputs": [],
   "source": [
    "from nltk.corpus import stopwords\n",
    "import string\n",
    "import random\n",
    "from nltk.stem.wordnet import WordNetLemmatizer\n",
    "\n",
    "stop = set(stopwords.words('english'))\n",
    "exclude = set(string.punctuation)\n",
    "lemma = WordNetLemmatizer()\n",
    "\n",
    "def clean(doc):\n",
    "    stop_free = \" \".join([i for i in doc.lower().split() if i not in stop])\n",
    "    punc_free = \"\".join([ch for ch in stop_free if ch not in exclude])\n",
    "    normalized = \" \".join(lemma.lemmatize(word) for word in punc_free.split())\n",
    "    return normalized\n",
    "\n",
    "data = df.values.tolist()\n",
    "cleaned_data = [(clean(doc), label) for label, doc in data]\n",
    "cleaned_data = [(d, l) for d, l in cleaned_data if len(d)>5]\n",
    "random.shuffle(cleaned_data)\n",
    "x = [itm[0] for itm in cleaned_data]\n",
    "y = [itm[1] for itm in cleaned_data]"
   ]
  },
  {
   "cell_type": "code",
   "execution_count": 8,
   "id": "7b42c45a",
   "metadata": {},
   "outputs": [
    {
     "name": "stdout",
     "output_type": "stream",
     "text": [
      "Counter({'ham': 4764, 'spam': 747})\n"
     ]
    }
   ],
   "source": [
    "from collections import Counter\n",
    "print(Counter(y))"
   ]
  },
  {
   "cell_type": "code",
   "execution_count": 9,
   "id": "d21f3e54",
   "metadata": {},
   "outputs": [],
   "source": [
    "from sklearn.model_selection import train_test_split\n",
    "from sklearn.feature_extraction.text import TfidfVectorizer\n",
    "\n",
    "train_x, valid_x, train_y, valid_y = train_test_split(x, y)\n",
    "\n",
    "vectorizer = TfidfVectorizer(max_df=0.9, min_df=0.01, max_features=5000)\n",
    "X_train = vectorizer.fit_transform(train_x)\n",
    "X_valid = vectorizer.transform(valid_x)\n"
   ]
  },
  {
   "cell_type": "code",
   "execution_count": 10,
   "id": "60e121c2",
   "metadata": {},
   "outputs": [
    {
     "data": {
      "text/plain": [
       "array([1.        , 1.        , 1.        , ..., 0.55809467, 1.        ,\n",
       "       1.        ])"
      ]
     },
     "execution_count": 10,
     "metadata": {},
     "output_type": "execute_result"
    }
   ],
   "source": [
    "X_train.data\n"
   ]
  },
  {
   "cell_type": "code",
   "execution_count": 11,
   "id": "32125fb5",
   "metadata": {},
   "outputs": [
    {
     "name": "stdout",
     "output_type": "stream",
     "text": [
      "\n",
      "    Best alpha     : 0.4\n",
      "    Avg. Precision : 0.954273785981103\n",
      "    Avg. Recall    : 0.8729883813235189\n",
      "    Avg. F1        : 0.9080138649208602\n",
      "\n",
      "    \n",
      "Per class evaluation\n",
      "    Classes        : ['ham' 'spam']\n",
      "    Precision      : [0.96260163 0.94594595]\n",
      "    Recall         : [0.99328859 0.75268817]\n",
      "    F1             : [0.97770438 0.83832335]\n"
     ]
    },
    {
     "data": {
      "text/plain": [
       "<sklearn.metrics._plot.confusion_matrix.ConfusionMatrixDisplay at 0x7fc659f8af10>"
      ]
     },
     "execution_count": 11,
     "metadata": {},
     "output_type": "execute_result"
    },
    {
     "data": {
      "image/png": "[encoded data removed]",
      "text/plain": [
       "<Figure size 640x480 with 2 Axes>"
      ]
     },
     "metadata": {},
     "output_type": "display_data"
    }
   ],
   "source": [
    "import numpy as np\n",
    "from sklearn.naive_bayes import GaussianNB, MultinomialNB\n",
    "from sklearn.metrics import precision_recall_fscore_support\n",
    "from sklearn.metrics import confusion_matrix, ConfusionMatrixDisplay\n",
    "\n",
    "def multinomialBN_model(X_train, train_y, X_valid, valid_y, alpha=1.0):\n",
    "    model = MultinomialNB(alpha=alpha).fit(X_train, train_y)\n",
    "    y_pred = model.predict(X_valid)\n",
    "    (\n",
    "        prec, recall, f1, class_size\n",
    "    ) = precision_recall_fscore_support(\n",
    "        valid_y, y_pred, average=None, labels=model.classes_\n",
    "    )\n",
    "    scores = {\n",
    "        \"class_order\": model.classes_, \n",
    "        \"precision\": prec, \n",
    "        \"recall\": recall, \n",
    "        \"f1\": f1, \n",
    "        \"avg prec\": np.mean(prec), \n",
    "        \"avg recall\": np.mean(recall), \n",
    "        \"avg f1\": np.mean(f1)\n",
    "    }\n",
    "    return model, scores, y_pred\n",
    "\n",
    "models = {}\n",
    "for alpha in [0.1, 0.2, 0.4, 0.6, 0.8, 1.0]:\n",
    "    models[alpha] = multinomialBN_model(X_train, train_y, X_valid, valid_y, alpha=alpha)\n",
    "f1_max = max([models[alpha][1][\"avg f1\"] for alpha in models])\n",
    "best_alpha, best_model, best_score, y_pred = [(alpha, models[alpha][0], models[alpha][1], models[alpha][2])  for alpha in models if models[alpha][1][\"avg f1\"]==f1_max][0]\n",
    "print(f\"\"\"\n",
    "    Best alpha     : {best_alpha}\n",
    "    Avg. Precision : {best_score[\"avg prec\"]}\n",
    "    Avg. Recall    : {best_score[\"avg recall\"]}\n",
    "    Avg. F1        : {best_score[\"avg f1\"]}\"\"\")\n",
    "print(f\"\"\"\n",
    "    \\nPer class evaluation\n",
    "    Classes        : {best_score[\"class_order\"]}\n",
    "    Precision      : {best_score[\"precision\"]}\n",
    "    Recall         : {best_score[\"recall\"]}\n",
    "    F1             : {best_score[\"f1\"]}\"\"\")\n",
    "\n",
    "cm = confusion_matrix(valid_y, y_pred, labels=best_model.classes_)\n",
    "disp = ConfusionMatrixDisplay(confusion_matrix=cm, display_labels=best_model.classes_)\n",
    "disp.plot()"
   ]
  },
  {
   "cell_type": "code",
   "execution_count": 17,
   "id": "18024070",
   "metadata": {},
   "outputs": [
    {
     "name": "stdout",
     "output_type": "stream",
     "text": [
      "Predicted class for samples:  ['ham' 'spam' 'ham' 'spam']\n",
      "Probabilities: \n",
      " ['ham' 'spam'] \n",
      " [[0.70874105 0.29125895]\n",
      " [0.10782766 0.89217234]\n",
      " [0.94339795 0.05660205]\n",
      " [0.37811938 0.62188062]]\n"
     ]
    }
   ],
   "source": [
    "new_samples = [\n",
    "    \"You have completed your order. Please check your email for a refund receipt for $50.\",\n",
    "    \"Win lottery worth $2 Million! click here to participate for free.\",\n",
    "    \"Please send me the report by tomorrow morning. Thanks.\",\n",
    "    \"You have been selected for a free $500 prepaid card.\"\n",
    "]\n",
    "sample_vects = vectorizer.transform([clean(doc) for doc in new_samples])\n",
    "print(\"Predicted class for samples: \", best_model.predict(sample_vects))\n",
    "print(\n",
    "    \"Probabilities: \\n\", \n",
    "    best_model.classes_, \"\\n\", \n",
    "    best_model.predict_proba(sample_vects)\n",
    ")"
   ]
  },
  {
   "cell_type": "code",
   "execution_count": 14,
   "id": "2b6611f9",
   "metadata": {},
   "outputs": [
    {
     "data": {
      "text/plain": [
       "array([0.94921403, 0.96251511, 0.94558646, 0.95641646, 0.95157385])"
      ]
     },
     "execution_count": 14,
     "metadata": {},
     "output_type": "execute_result"
    }
   ],
   "source": [
    "from sklearn.model_selection import cross_val_score\n",
    "cross_val_score(\n",
    "    MultinomialNB(alpha=best_alpha),\n",
    "    X_train, train_y,\n",
    "    #scoring=\"recall\",\n",
    "    cv=5)"
   ]
  },
  {
   "cell_type": "code",
   "execution_count": 15,
   "id": "378d4ca9",
   "metadata": {},
   "outputs": [
    {
     "data": {
      "text/plain": [
       "{'fit_time': array([0.00408673, 0.00373816, 0.00417686, 0.00382996, 0.00376606]),\n",
       " 'score_time': array([0.00767422, 0.00742602, 0.00672722, 0.00753498, 0.00731206]),\n",
       " 'test_recall_spam': array([0.74      , 0.72483221, 0.75838926, 0.65100671, 0.68666667]),\n",
       " 'test_recall_ham': array([0.99265477, 0.98426023, 0.9884575 , 0.99370409, 0.99369748])}"
      ]
     },
     "execution_count": 15,
     "metadata": {},
     "output_type": "execute_result"
    }
   ],
   "source": [
    "# Checking cross validation recall scores per class\n",
    "from sklearn.metrics import make_scorer\n",
    "from sklearn.metrics import recall_score\n",
    "from sklearn.model_selection import cross_validate\n",
    "\n",
    "vect = TfidfVectorizer(max_df=0.9, min_df=0.01, max_features=5000)\n",
    "\n",
    "scoring = {\n",
    "    'recall_spam': make_scorer(\n",
    "        recall_score, average = None, labels=[\"spam\"]\n",
    "    ), \n",
    "    'recall_ham': make_scorer(\n",
    "        recall_score, average = None, labels=[\"ham\"]\n",
    "    )\n",
    "}\n",
    "\n",
    "cross_validate(\n",
    "    MultinomialNB(alpha=best_alpha), \n",
    "    vect.fit_transform(x),\n",
    "    y,\n",
    "    scoring=scoring, \n",
    "    cv=5\n",
    ")\n",
    "# >> 'test_recall_spam': array([0.64666667, 0.69333333, 0.73154362, 0.67114094, 0.7852349 ]),\n",
    "# >> 'test_recall_ham': array([0.98860104, 0.99378238, 0.99585492, 0.99067358, 0.98963731])}"
   ]
  },
  {
   "cell_type": "code",
   "execution_count": 16,
   "id": "ad6a36cc",
   "metadata": {},
   "outputs": [
    {
     "data": {
      "text/plain": [
       "0.9608127721335269"
      ]
     },
     "execution_count": 16,
     "metadata": {},
     "output_type": "execute_result"
    }
   ],
   "source": [
    "from sklearn import metrics\n",
    "metrics.accuracy_score(y_pred, valid_y)\n"
   ]
  },
  {
   "cell_type": "code",
   "execution_count": null,
   "id": "f13806d0",
   "metadata": {},
   "outputs": [],
   "source": []
  }
 ],
 "metadata": {
  "kernelspec": {
   "display_name": "Python 3 (ipykernel)",
   "language": "python",
   "name": "python3"
  },
  "language_info": {
   "codemirror_mode": {
    "name": "ipython",
    "version": 3
   },
   "file_extension": ".py",
   "mimetype": "text/x-python",
   "name": "python",
   "nbconvert_exporter": "python",
   "pygments_lexer": "ipython3",
   "version": "3.9.15"
  }
 },
 "nbformat": 4,
 "nbformat_minor": 5
}
