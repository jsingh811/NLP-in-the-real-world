{
 "cells": [
  {
   "cell_type": "markdown",
   "id": "346e85bd",
   "metadata": {},
   "source": [
    "# sumy"
   ]
  },
  {
   "cell_type": "code",
   "execution_count": 1,
   "id": "a95ae522",
   "metadata": {},
   "outputs": [
    {
     "name": "stdout",
     "output_type": "stream",
     "text": [
      "Collecting sumy\n",
      "  Downloading sumy-0.11.0-py2.py3-none-any.whl (97 kB)\n",
      "\u001b[2K     \u001b[90m━━━━━━━━━━━━━━━━━━━━━━━━━━━━━━━━━━━━━━━━\u001b[0m \u001b[32m97.3/97.3 kB\u001b[0m \u001b[31m2.1 MB/s\u001b[0m eta \u001b[36m0:00:00\u001b[0ma \u001b[36m0:00:01\u001b[0m\n",
      "\u001b[?25hRequirement already satisfied: requests>=2.7.0 in /Users/jyotikasingh/opt/anaconda3/envs/myenv/lib/python3.9/site-packages (from sumy) (2.28.1)\n",
      "Collecting breadability>=0.1.20\n",
      "  Using cached breadability-0.1.20-py2.py3-none-any.whl\n",
      "Collecting docopt<0.7,>=0.6.1\n",
      "  Using cached docopt-0.6.2-py2.py3-none-any.whl\n",
      "Requirement already satisfied: nltk>=3.0.2 in /Users/jyotikasingh/opt/anaconda3/envs/myenv/lib/python3.9/site-packages (from sumy) (3.6.5)\n",
      "Collecting pycountry>=18.2.23\n",
      "  Using cached pycountry-22.3.5-py2.py3-none-any.whl\n",
      "Collecting chardet\n",
      "  Downloading chardet-5.0.0-py3-none-any.whl (193 kB)\n",
      "\u001b[2K     \u001b[90m━━━━━━━━━━━━━━━━━━━━━━━━━━━━━━━━━━━━━━━\u001b[0m \u001b[32m193.6/193.6 kB\u001b[0m \u001b[31m2.2 MB/s\u001b[0m eta \u001b[36m0:00:00\u001b[0ma \u001b[36m0:00:01\u001b[0m\n",
      "\u001b[?25hCollecting lxml>=2.0\n",
      "  Downloading lxml-4.9.1-cp39-cp39-macosx_10_15_x86_64.whl (4.6 MB)\n",
      "\u001b[2K     \u001b[90m━━━━━━━━━━━━━━━━━━━━━━━━━━━━━━━━━━━━━━━━\u001b[0m \u001b[32m4.6/4.6 MB\u001b[0m \u001b[31m4.2 MB/s\u001b[0m eta \u001b[36m0:00:00\u001b[0m00:01\u001b[0m00:01\u001b[0m\n",
      "\u001b[?25hRequirement already satisfied: tqdm in /Users/jyotikasingh/opt/anaconda3/envs/myenv/lib/python3.9/site-packages (from nltk>=3.0.2->sumy) (4.64.1)\n",
      "Requirement already satisfied: regex>=2021.8.3 in /Users/jyotikasingh/opt/anaconda3/envs/myenv/lib/python3.9/site-packages (from nltk>=3.0.2->sumy) (2022.10.31)\n",
      "Requirement already satisfied: joblib in /Users/jyotikasingh/opt/anaconda3/envs/myenv/lib/python3.9/site-packages (from nltk>=3.0.2->sumy) (1.2.0)\n",
      "Requirement already satisfied: click in /Users/jyotikasingh/opt/anaconda3/envs/myenv/lib/python3.9/site-packages (from nltk>=3.0.2->sumy) (8.1.3)\n",
      "Requirement already satisfied: setuptools in /Users/jyotikasingh/opt/anaconda3/envs/myenv/lib/python3.9/site-packages (from pycountry>=18.2.23->sumy) (65.5.0)\n",
      "Requirement already satisfied: urllib3<1.27,>=1.21.1 in /Users/jyotikasingh/opt/anaconda3/envs/myenv/lib/python3.9/site-packages (from requests>=2.7.0->sumy) (1.26.13)\n",
      "Requirement already satisfied: certifi>=2017.4.17 in /Users/jyotikasingh/opt/anaconda3/envs/myenv/lib/python3.9/site-packages (from requests>=2.7.0->sumy) (2022.9.24)\n",
      "Requirement already satisfied: charset-normalizer<3,>=2 in /Users/jyotikasingh/opt/anaconda3/envs/myenv/lib/python3.9/site-packages (from requests>=2.7.0->sumy) (2.1.1)\n",
      "Requirement already satisfied: idna<4,>=2.5 in /Users/jyotikasingh/opt/anaconda3/envs/myenv/lib/python3.9/site-packages (from requests>=2.7.0->sumy) (3.4)\n",
      "Installing collected packages: docopt, pycountry, lxml, chardet, breadability, sumy\n",
      "Successfully installed breadability-0.1.20 chardet-5.0.0 docopt-0.6.2 lxml-4.9.1 pycountry-22.3.5 sumy-0.11.0\n",
      "Requirement already satisfied: nltk in /Users/jyotikasingh/opt/anaconda3/envs/myenv/lib/python3.9/site-packages (3.6.5)\n",
      "Requirement already satisfied: click in /Users/jyotikasingh/opt/anaconda3/envs/myenv/lib/python3.9/site-packages (from nltk) (8.1.3)\n",
      "Requirement already satisfied: tqdm in /Users/jyotikasingh/opt/anaconda3/envs/myenv/lib/python3.9/site-packages (from nltk) (4.64.1)\n",
      "Requirement already satisfied: joblib in /Users/jyotikasingh/opt/anaconda3/envs/myenv/lib/python3.9/site-packages (from nltk) (1.2.0)\n",
      "Requirement already satisfied: regex>=2021.8.3 in /Users/jyotikasingh/opt/anaconda3/envs/myenv/lib/python3.9/site-packages (from nltk) (2022.10.31)\n"
     ]
    }
   ],
   "source": [
    "! pip install sumy\n",
    "! pip install nltk"
   ]
  },
  {
   "cell_type": "code",
   "execution_count": 2,
   "id": "383a434c",
   "metadata": {},
   "outputs": [
    {
     "name": "stderr",
     "output_type": "stream",
     "text": [
      "[nltk_data] Downloading package punkt to\n",
      "[nltk_data]     /Users/jyotikasingh/nltk_data...\n",
      "[nltk_data]   Unzipping tokenizers/punkt.zip.\n"
     ]
    },
    {
     "data": {
      "text/plain": [
       "True"
      ]
     },
     "execution_count": 2,
     "metadata": {},
     "output_type": "execute_result"
    }
   ],
   "source": [
    "# may need to run this one time\n",
    "import nltk\n",
    "nltk.download(\"punkt\")"
   ]
  },
  {
   "cell_type": "code",
   "execution_count": 3,
   "id": "a01b9a18",
   "metadata": {},
   "outputs": [
    {
     "name": "stdout",
     "output_type": "stream",
     "text": [
      "Turing Award winner Jim Gray imagined data science as a \"fourth paradigm\" of science ( empirical, theoretical, computational, and now data-driven) and asserted that \"everything about science is changing because of the impact of information technology\" and the data deluge.\n",
      "[20] Later, attendees at a 1992 statistics symposium at the University of Montpellier II acknowledged the emergence of a new discipline focused on data of various origins and forms, combining established concepts and principles of statistics and data analysis with computing.\n",
      "[24]\"Data science\" became more widely used in the next few years: in 2002, the Committee on Data for Science and Technology launched Data Science Journal.\n",
      "[24] In 2014, the American Statistical Association's Section on Statistical Learning and Data Mining changed its name to the Section on Statistical Learning and Data Science, reflecting the ascendant popularity of data science.\n"
     ]
    }
   ],
   "source": [
    "from sumy.parsers.html import HtmlParser\n",
    "from sumy.nlp.tokenizers import Tokenizer\n",
    "from sumy.summarizers.text_rank import TextRankSummarizer\n",
    "\n",
    "url = \"https://en.wikipedia.org/wiki/Data_science\"\n",
    "parser = HtmlParser.from_url(url, Tokenizer(\"english\"))\n",
    "summarizer = TextRankSummarizer()\n",
    "for sentence in summarizer(parser.document, 4):\n",
    "    print(sentence)"
   ]
  },
  {
   "cell_type": "markdown",
   "id": "eb2057a3",
   "metadata": {},
   "source": [
    "# Gensim"
   ]
  },
  {
   "cell_type": "code",
   "execution_count": 7,
   "id": "ce890062",
   "metadata": {},
   "outputs": [],
   "source": [
    "text = 'Data science is an interdisciplinary field that uses scientific methods, processes, algorithms and systems to extract knowledge and insights from noisy, structured and unstructured data,[1][2] and apply knowledge and actionable insights from data across a broad range of application domains. Data science is related to data mining, machine learning and big data.\\n\\nData science is a \"concept to unify statistics, data analysis, informatics, and their related methods\" in order to \"understand and analyze actual phenomena\" with data.[3] It uses techniques and theories drawn from many fields within the context of mathematics, statistics, computer science, information science, and domain knowledge.[4] However, data science is different from computer science and information science. Turing Award winner Jim Gray imagined data science as a \"fourth paradigm\" of science (empirical, theoretical, computational, and now data-driven) and asserted that \"everything about science is changing because of the impact of information technology\" and the data deluge.[5][6]\\n\\nA data scientist is someone who creates programming code and combines it with statistical knowledge to create insights from data.[7] Data science is an interdisciplinary field focused on extracting knowledge from data sets, which are typically large (see big data), and applying the knowledge and actionable insights from data to solve problems in a wide range of application domains.[8] The field encompasses preparing data for analysis, formulating data science problems, analyzing data, developing data-driven solutions, and presenting findings to inform high-level decisions in a broad range of application domains. As such, it incorporates skills from computer science, statistics, information science, mathematics, information visualization, data sonification, data integration, graphic design, complex systems, communication and business.[9][10] Statistician Nathan Yau, drawing on Ben Fry, also links data science to human–computer interaction: users should be able to intuitively control and explore data.[11][12] In 2015, the American Statistical Association identified database management, statistics and machine learning, and distributed and parallel systems as the three emerging foundational professional communities.[13] Many statisticians, including Nate Silver, have argued that data science is not a new field, but rather another name for statistics.[14] Others argue that data science is distinct from statistics because it focuses on problems and techniques unique to digital data.[15] Vasant Dhar writes that statistics emphasizes quantitative data and description. In contrast, data science deals with quantitative and qualitative data (e.g. images) and emphasizes prediction and action.[16] Andrew Gelman of Columbia University has described statistics as a nonessential part of data science.[17] Stanford professor David Donoho writes that data science is not distinguished from statistics by the size of datasets or use of computing, and that many graduate programs misleadingly advertise their analytics and statistics training as the essence of a data-science program. He describes data science as an applied field growing out of traditional statistics.[18] In summary, data science can be therefore described as an applied branch of statistics. In 1962, John Tukey described a field he called \"data analysis\", which resembles modern data science.[18] In 1985, in a lecture given to the Chinese Academy of Sciences in Beijing, C. F. Jeff Wu used the term \"data science\" for the first time as an alternative name for statistics.[19] Later, attendees at a 1992 statistics symposium at the University of Montpellier II acknowledged the emergence of a new discipline focused on data of various origins and forms, combining established concepts and principles of statistics and data analysis with computing.[20][21]\\n\\nThe term \"data science\" has been traced back to 1974, when Peter Naur proposed it as an alternative name for computer science.[22] In 1996, the International Federation of Classification Societies became the first conference to specifically feature data science as a topic.[22] However, the definition was still in flux. After the 1985 lecture in the Chinese Academy of Sciences in Beijing, in 1997 C. F. Jeff Wu again suggested that statistics should be renamed data science. He reasoned that a new name would help statistics shed inaccurate stereotypes, such as being synonymous with accounting, or limited to describing data.[23] In 1998, Hayashi Chikio argued for data science as a new, interdisciplinary concept, with three aspects: data design, collection, and analysis.[21]\\n\\nDuring the 1990s, popular terms for the process of finding patterns in datasets (which were increasingly large) included \"knowledge discovery\" and \"data mining\".[24][22]\\n\\nThe modern conception of data science as an independent discipline is sometimes attributed to William S. Cleveland.[25] In a 2001 paper, he advocated an expansion of statistics beyond theory into technical areas; because this would significantly change the field, it warranted a new name.[24] \"Data science\" became more widely used in the next few years: in 2002, the Committee on Data for Science and Technology launched Data Science Journal. In 2003, Columbia University launched The Journal of Data Science.[24] In 2014, the American Statistical Association\\'s Section on Statistical Learning and Data Mining changed its name to the Section on Statistical Learning and Data Science, reflecting the ascendant popularity of data science.[26]\\n\\nThe professional title of \"data scientist\" has been attributed to DJ Patil and Jeff Hammerbacher in 2008.[27] Though it was used by the National Science Board in their 2005 report \"Long-Lived Digital Data Collections: Enabling Research and Education in the 21st Century\", it referred broadly to any key role in managing a digital data collection.[28]\\n\\nThere is still no consensus on the definition of data science, and it is considered by some to be a buzzword.[29] Big data is a related marketing term.[30] Data scientists are responsible for breaking down big data into usable information and creating software and algorithms that help companies and organizations determine optimal operations.[31]\\n\\nThere is a variety of different technologies and techniques that are used for data science, depending on the application.\\n\\nFurther information: Statistics § Methods\\nLinear regression\\nLogistic regression\\nDecision trees are used as prediction models for classification and data fitting. The decision tree structure can be used to generate rules able to classify or predict target/class/label variable based on the observation attributes.\\nSupport-vector machine (SVM)\\nCluster analysis is a technique used to group data together.\\nDimensionality reduction is used to reduce the complexity of data computation so that it can be performed more quickly.\\nMachine learning is a technique used to perform tasks by inferencing patterns from data.\\nNaive Bayes classifiers are used to classify by applying the Bayes\\' theorem. They are mainly used in datasets with large amounts of data and can aptly generate accurate results.'"
   ]
  },
  {
   "cell_type": "code",
   "execution_count": 8,
   "id": "df741aa0",
   "metadata": {},
   "outputs": [
    {
     "name": "stdout",
     "output_type": "stream",
     "text": [
      "Requirement already satisfied: gensim==3.8.3 in /Users/jyotikasingh/opt/anaconda3/envs/myenv/lib/python3.9/site-packages (3.8.3)\n",
      "Requirement already satisfied: numpy>=1.11.3 in /Users/jyotikasingh/opt/anaconda3/envs/myenv/lib/python3.9/site-packages (from gensim==3.8.3) (1.23.5)\n",
      "Requirement already satisfied: scipy>=0.18.1 in /Users/jyotikasingh/opt/anaconda3/envs/myenv/lib/python3.9/site-packages (from gensim==3.8.3) (1.9.3)\n",
      "Requirement already satisfied: smart-open>=1.8.1 in /Users/jyotikasingh/opt/anaconda3/envs/myenv/lib/python3.9/site-packages (from gensim==3.8.3) (5.2.1)\n",
      "Requirement already satisfied: six>=1.5.0 in /Users/jyotikasingh/opt/anaconda3/envs/myenv/lib/python3.9/site-packages (from gensim==3.8.3) (1.16.0)\n"
     ]
    }
   ],
   "source": [
    "! pip install gensim==3.8.3"
   ]
  },
  {
   "cell_type": "code",
   "execution_count": 6,
   "id": "e7951d5f",
   "metadata": {},
   "outputs": [
    {
     "name": "stdout",
     "output_type": "stream",
     "text": [
      "619 7210\n",
      "A data scientist is someone who creates programming code and combines it with statistical knowledge to create insights from data.[7] Data science is an interdisciplinary field focused on extracting knowledge from data sets, which are typically large (see big data), and applying the knowledge and actionable insights from data to solve problems in a wide range of application domains.[8] The field encompasses preparing data for analysis, formulating data science problems, analyzing data, developing data-driven solutions, and presenting findings to inform high-level decisions in a broad range of application domains.\n"
     ]
    }
   ],
   "source": [
    "from gensim.summarization import summarize\n",
    "\n",
    "# ratio param can help us specify the proportion of sentences to retain\n",
    "gensim_summary = summarize(text, ratio=0.055)#400/len(text))\n",
    "\n",
    "print(len(gensim_summary), len(text))\n",
    "print(gensim_summary)"
   ]
  },
  {
   "cell_type": "markdown",
   "id": "b09984ab",
   "metadata": {},
   "source": [
    "# Transformers"
   ]
  },
  {
   "cell_type": "code",
   "execution_count": 7,
   "id": "731aabf2",
   "metadata": {},
   "outputs": [
    {
     "name": "stdout",
     "output_type": "stream",
     "text": [
      "Requirement already satisfied: transformers in /Users/jyotikasingh/opt/anaconda3/envs/myenv/lib/python3.9/site-packages (4.17.0)\n",
      "Requirement already satisfied: sacremoses in /Users/jyotikasingh/opt/anaconda3/envs/myenv/lib/python3.9/site-packages (from transformers) (0.0.53)\n",
      "Requirement already satisfied: regex!=2019.12.17 in /Users/jyotikasingh/opt/anaconda3/envs/myenv/lib/python3.9/site-packages (from transformers) (2022.10.31)\n",
      "Requirement already satisfied: packaging>=20.0 in /Users/jyotikasingh/opt/anaconda3/envs/myenv/lib/python3.9/site-packages (from transformers) (21.3)\n",
      "Requirement already satisfied: huggingface-hub<1.0,>=0.1.0 in /Users/jyotikasingh/opt/anaconda3/envs/myenv/lib/python3.9/site-packages (from transformers) (0.11.1)\n",
      "Requirement already satisfied: pyyaml>=5.1 in /Users/jyotikasingh/opt/anaconda3/envs/myenv/lib/python3.9/site-packages (from transformers) (6.0)\n",
      "Requirement already satisfied: numpy>=1.17 in /Users/jyotikasingh/opt/anaconda3/envs/myenv/lib/python3.9/site-packages (from transformers) (1.23.5)\n",
      "Requirement already satisfied: tokenizers!=0.11.3,>=0.11.1 in /Users/jyotikasingh/opt/anaconda3/envs/myenv/lib/python3.9/site-packages (from transformers) (0.12.1)\n",
      "Requirement already satisfied: filelock in /Users/jyotikasingh/opt/anaconda3/envs/myenv/lib/python3.9/site-packages (from transformers) (3.8.0)\n",
      "Requirement already satisfied: tqdm>=4.27 in /Users/jyotikasingh/opt/anaconda3/envs/myenv/lib/python3.9/site-packages (from transformers) (4.64.1)\n",
      "Requirement already satisfied: requests in /Users/jyotikasingh/opt/anaconda3/envs/myenv/lib/python3.9/site-packages (from transformers) (2.28.1)\n",
      "Requirement already satisfied: typing-extensions>=3.7.4.3 in /Users/jyotikasingh/opt/anaconda3/envs/myenv/lib/python3.9/site-packages (from huggingface-hub<1.0,>=0.1.0->transformers) (4.4.0)\n",
      "Requirement already satisfied: pyparsing!=3.0.5,>=2.0.2 in /Users/jyotikasingh/opt/anaconda3/envs/myenv/lib/python3.9/site-packages (from packaging>=20.0->transformers) (3.0.9)\n",
      "Requirement already satisfied: idna<4,>=2.5 in /Users/jyotikasingh/opt/anaconda3/envs/myenv/lib/python3.9/site-packages (from requests->transformers) (3.4)\n",
      "Requirement already satisfied: certifi>=2017.4.17 in /Users/jyotikasingh/opt/anaconda3/envs/myenv/lib/python3.9/site-packages (from requests->transformers) (2022.9.24)\n",
      "Requirement already satisfied: urllib3<1.27,>=1.21.1 in /Users/jyotikasingh/opt/anaconda3/envs/myenv/lib/python3.9/site-packages (from requests->transformers) (1.26.13)\n",
      "Requirement already satisfied: charset-normalizer<3,>=2 in /Users/jyotikasingh/opt/anaconda3/envs/myenv/lib/python3.9/site-packages (from requests->transformers) (2.1.1)\n",
      "Requirement already satisfied: joblib in /Users/jyotikasingh/opt/anaconda3/envs/myenv/lib/python3.9/site-packages (from sacremoses->transformers) (1.2.0)\n",
      "Requirement already satisfied: click in /Users/jyotikasingh/opt/anaconda3/envs/myenv/lib/python3.9/site-packages (from sacremoses->transformers) (8.1.3)\n",
      "Requirement already satisfied: six in /Users/jyotikasingh/opt/anaconda3/envs/myenv/lib/python3.9/site-packages (from sacremoses->transformers) (1.16.0)\n",
      "Collecting bert-extractive-summarizer\n",
      "  Using cached bert_extractive_summarizer-0.10.1-py3-none-any.whl (25 kB)\n",
      "Requirement already satisfied: spacy in /Users/jyotikasingh/opt/anaconda3/envs/myenv/lib/python3.9/site-packages (from bert-extractive-summarizer) (3.2.3)\n",
      "Requirement already satisfied: scikit-learn in /Users/jyotikasingh/opt/anaconda3/envs/myenv/lib/python3.9/site-packages (from bert-extractive-summarizer) (1.1.3)\n",
      "Requirement already satisfied: transformers in /Users/jyotikasingh/opt/anaconda3/envs/myenv/lib/python3.9/site-packages (from bert-extractive-summarizer) (4.17.0)\n",
      "Requirement already satisfied: scipy>=1.3.2 in /Users/jyotikasingh/opt/anaconda3/envs/myenv/lib/python3.9/site-packages (from scikit-learn->bert-extractive-summarizer) (1.9.3)\n",
      "Requirement already satisfied: joblib>=1.0.0 in /Users/jyotikasingh/opt/anaconda3/envs/myenv/lib/python3.9/site-packages (from scikit-learn->bert-extractive-summarizer) (1.2.0)\n",
      "Requirement already satisfied: threadpoolctl>=2.0.0 in /Users/jyotikasingh/opt/anaconda3/envs/myenv/lib/python3.9/site-packages (from scikit-learn->bert-extractive-summarizer) (3.1.0)\n",
      "Requirement already satisfied: numpy>=1.17.3 in /Users/jyotikasingh/opt/anaconda3/envs/myenv/lib/python3.9/site-packages (from scikit-learn->bert-extractive-summarizer) (1.23.5)\n",
      "Requirement already satisfied: pydantic!=1.8,!=1.8.1,<1.9.0,>=1.7.4 in /Users/jyotikasingh/opt/anaconda3/envs/myenv/lib/python3.9/site-packages (from spacy->bert-extractive-summarizer) (1.8.2)\n",
      "Requirement already satisfied: tqdm<5.0.0,>=4.38.0 in /Users/jyotikasingh/opt/anaconda3/envs/myenv/lib/python3.9/site-packages (from spacy->bert-extractive-summarizer) (4.64.1)\n",
      "Requirement already satisfied: spacy-legacy<3.1.0,>=3.0.8 in /Users/jyotikasingh/opt/anaconda3/envs/myenv/lib/python3.9/site-packages (from spacy->bert-extractive-summarizer) (3.0.10)\n",
      "Requirement already satisfied: langcodes<4.0.0,>=3.2.0 in /Users/jyotikasingh/opt/anaconda3/envs/myenv/lib/python3.9/site-packages (from spacy->bert-extractive-summarizer) (3.3.0)\n",
      "Requirement already satisfied: requests<3.0.0,>=2.13.0 in /Users/jyotikasingh/opt/anaconda3/envs/myenv/lib/python3.9/site-packages (from spacy->bert-extractive-summarizer) (2.28.1)\n",
      "Requirement already satisfied: pathy>=0.3.5 in /Users/jyotikasingh/opt/anaconda3/envs/myenv/lib/python3.9/site-packages (from spacy->bert-extractive-summarizer) (0.10.0)\n",
      "Requirement already satisfied: packaging>=20.0 in /Users/jyotikasingh/opt/anaconda3/envs/myenv/lib/python3.9/site-packages (from spacy->bert-extractive-summarizer) (21.3)\n",
      "Requirement already satisfied: jinja2 in /Users/jyotikasingh/opt/anaconda3/envs/myenv/lib/python3.9/site-packages (from spacy->bert-extractive-summarizer) (3.1.2)\n",
      "Requirement already satisfied: blis<0.8.0,>=0.4.0 in /Users/jyotikasingh/opt/anaconda3/envs/myenv/lib/python3.9/site-packages (from spacy->bert-extractive-summarizer) (0.7.9)\n",
      "Requirement already satisfied: thinc<8.1.0,>=8.0.12 in /Users/jyotikasingh/opt/anaconda3/envs/myenv/lib/python3.9/site-packages (from spacy->bert-extractive-summarizer) (8.0.17)\n",
      "Requirement already satisfied: cymem<2.1.0,>=2.0.2 in /Users/jyotikasingh/opt/anaconda3/envs/myenv/lib/python3.9/site-packages (from spacy->bert-extractive-summarizer) (2.0.7)\n",
      "Requirement already satisfied: wasabi<1.1.0,>=0.8.1 in /Users/jyotikasingh/opt/anaconda3/envs/myenv/lib/python3.9/site-packages (from spacy->bert-extractive-summarizer) (0.10.1)\n",
      "Requirement already satisfied: spacy-loggers<2.0.0,>=1.0.0 in /Users/jyotikasingh/opt/anaconda3/envs/myenv/lib/python3.9/site-packages (from spacy->bert-extractive-summarizer) (1.0.3)\n",
      "Requirement already satisfied: catalogue<2.1.0,>=2.0.6 in /Users/jyotikasingh/opt/anaconda3/envs/myenv/lib/python3.9/site-packages (from spacy->bert-extractive-summarizer) (2.0.8)\n",
      "Requirement already satisfied: preshed<3.1.0,>=3.0.2 in /Users/jyotikasingh/opt/anaconda3/envs/myenv/lib/python3.9/site-packages (from spacy->bert-extractive-summarizer) (3.0.8)\n",
      "Requirement already satisfied: srsly<3.0.0,>=2.4.1 in /Users/jyotikasingh/opt/anaconda3/envs/myenv/lib/python3.9/site-packages (from spacy->bert-extractive-summarizer) (2.4.5)\n",
      "Requirement already satisfied: typer<0.5.0,>=0.3.0 in /Users/jyotikasingh/opt/anaconda3/envs/myenv/lib/python3.9/site-packages (from spacy->bert-extractive-summarizer) (0.4.2)\n",
      "Requirement already satisfied: murmurhash<1.1.0,>=0.28.0 in /Users/jyotikasingh/opt/anaconda3/envs/myenv/lib/python3.9/site-packages (from spacy->bert-extractive-summarizer) (1.0.9)\n",
      "Requirement already satisfied: setuptools in /Users/jyotikasingh/opt/anaconda3/envs/myenv/lib/python3.9/site-packages (from spacy->bert-extractive-summarizer) (65.5.0)\n",
      "Requirement already satisfied: huggingface-hub<1.0,>=0.1.0 in /Users/jyotikasingh/opt/anaconda3/envs/myenv/lib/python3.9/site-packages (from transformers->bert-extractive-summarizer) (0.11.1)\n",
      "Requirement already satisfied: regex!=2019.12.17 in /Users/jyotikasingh/opt/anaconda3/envs/myenv/lib/python3.9/site-packages (from transformers->bert-extractive-summarizer) (2022.10.31)\n",
      "Requirement already satisfied: pyyaml>=5.1 in /Users/jyotikasingh/opt/anaconda3/envs/myenv/lib/python3.9/site-packages (from transformers->bert-extractive-summarizer) (6.0)\n",
      "Requirement already satisfied: sacremoses in /Users/jyotikasingh/opt/anaconda3/envs/myenv/lib/python3.9/site-packages (from transformers->bert-extractive-summarizer) (0.0.53)\n",
      "Requirement already satisfied: tokenizers!=0.11.3,>=0.11.1 in /Users/jyotikasingh/opt/anaconda3/envs/myenv/lib/python3.9/site-packages (from transformers->bert-extractive-summarizer) (0.12.1)\n",
      "Requirement already satisfied: filelock in /Users/jyotikasingh/opt/anaconda3/envs/myenv/lib/python3.9/site-packages (from transformers->bert-extractive-summarizer) (3.8.0)\n"
     ]
    },
    {
     "name": "stdout",
     "output_type": "stream",
     "text": [
      "Requirement already satisfied: typing-extensions>=3.7.4.3 in /Users/jyotikasingh/opt/anaconda3/envs/myenv/lib/python3.9/site-packages (from huggingface-hub<1.0,>=0.1.0->transformers->bert-extractive-summarizer) (4.4.0)\n",
      "Requirement already satisfied: pyparsing!=3.0.5,>=2.0.2 in /Users/jyotikasingh/opt/anaconda3/envs/myenv/lib/python3.9/site-packages (from packaging>=20.0->spacy->bert-extractive-summarizer) (3.0.9)\n",
      "Requirement already satisfied: smart-open<6.0.0,>=5.2.1 in /Users/jyotikasingh/opt/anaconda3/envs/myenv/lib/python3.9/site-packages (from pathy>=0.3.5->spacy->bert-extractive-summarizer) (5.2.1)\n",
      "Requirement already satisfied: charset-normalizer<3,>=2 in /Users/jyotikasingh/opt/anaconda3/envs/myenv/lib/python3.9/site-packages (from requests<3.0.0,>=2.13.0->spacy->bert-extractive-summarizer) (2.1.1)\n",
      "Requirement already satisfied: certifi>=2017.4.17 in /Users/jyotikasingh/opt/anaconda3/envs/myenv/lib/python3.9/site-packages (from requests<3.0.0,>=2.13.0->spacy->bert-extractive-summarizer) (2022.9.24)\n",
      "Requirement already satisfied: urllib3<1.27,>=1.21.1 in /Users/jyotikasingh/opt/anaconda3/envs/myenv/lib/python3.9/site-packages (from requests<3.0.0,>=2.13.0->spacy->bert-extractive-summarizer) (1.26.13)\n",
      "Requirement already satisfied: idna<4,>=2.5 in /Users/jyotikasingh/opt/anaconda3/envs/myenv/lib/python3.9/site-packages (from requests<3.0.0,>=2.13.0->spacy->bert-extractive-summarizer) (3.4)\n",
      "Requirement already satisfied: click<9.0.0,>=7.1.1 in /Users/jyotikasingh/opt/anaconda3/envs/myenv/lib/python3.9/site-packages (from typer<0.5.0,>=0.3.0->spacy->bert-extractive-summarizer) (8.1.3)\n",
      "Requirement already satisfied: MarkupSafe>=2.0 in /Users/jyotikasingh/opt/anaconda3/envs/myenv/lib/python3.9/site-packages (from jinja2->spacy->bert-extractive-summarizer) (2.1.1)\n",
      "Requirement already satisfied: six in /Users/jyotikasingh/opt/anaconda3/envs/myenv/lib/python3.9/site-packages (from sacremoses->transformers->bert-extractive-summarizer) (1.16.0)\n",
      "Installing collected packages: bert-extractive-summarizer\n",
      "Successfully installed bert-extractive-summarizer-0.10.1\n"
     ]
    }
   ],
   "source": [
    "! pip install transformers\n",
    "! pip install bert-extractive-summarizer"
   ]
  },
  {
   "cell_type": "code",
   "execution_count": 12,
   "id": "97a9ed0c",
   "metadata": {},
   "outputs": [
    {
     "name": "stderr",
     "output_type": "stream",
     "text": [
      "Some weights of the model checkpoint at bert-large-uncased were not used when initializing BertModel: ['cls.seq_relationship.bias', 'cls.predictions.transform.LayerNorm.weight', 'cls.predictions.transform.LayerNorm.bias', 'cls.predictions.bias', 'cls.predictions.decoder.weight', 'cls.predictions.transform.dense.weight', 'cls.predictions.transform.dense.bias', 'cls.seq_relationship.weight']\n",
      "- This IS expected if you are initializing BertModel from the checkpoint of a model trained on another task or with another architecture (e.g. initializing a BertForSequenceClassification model from a BertForPreTraining model).\n",
      "- This IS NOT expected if you are initializing BertModel from the checkpoint of a model that you expect to be exactly identical (initializing a BertForSequenceClassification model from a BertForSequenceClassification model).\n"
     ]
    },
    {
     "name": "stdout",
     "output_type": "stream",
     "text": [
      "Data science is an interdisciplinary field that uses scientific methods, processes, algorithms and systems to extract knowledge and insights from noisy, structured and unstructured data,[1][2] and apply knowledge and actionable insights from data across a broad range of application domains. Data science is a \"concept to unify statistics, data analysis, informatics, and their related methods\" in order to \"understand and analyze actual phenomena\" with data.[3] It uses techniques and theories drawn from many fields within the context of mathematics, statistics, computer science, information science, and domain knowledge.[4] However, data science is different from computer science and information science. Further information: Statistics § Methods\n",
      "Linear regression\n",
      "Logistic regression\n",
      "Decision trees are used as prediction models for classification and data fitting.\n"
     ]
    }
   ],
   "source": [
    "# BERT\n",
    "from summarizer import Summarizer\n",
    "bert_model = Summarizer()\n",
    "bert_summary = ''.join(\n",
    "    bert_model(text, min_length=50, max_length=500)\n",
    ")\n",
    "print(bert_summary)\n"
   ]
  },
  {
   "cell_type": "markdown",
   "id": "a65c3ebf",
   "metadata": {},
   "source": [
    "## Other transformer models"
   ]
  },
  {
   "cell_type": "code",
   "execution_count": 13,
   "id": "c805ef5e",
   "metadata": {},
   "outputs": [
    {
     "name": "stdout",
     "output_type": "stream",
     "text": [
      "Data science is an interdisciplinary field that uses scientific methods, processes, algorithms and systems to extract knowledge and insights from noisy, structured and unstructured data,[1][2] and apply knowledge and actionable insights from data across a broad range of application domains. He describes data science as an applied field growing out of traditional statistics.[18] In summary, data science can be therefore described as an applied branch of statistics. The decision tree structure can be used to generate rules able to classify or predict target/class/label variable based on the observation attributes.\n"
     ]
    }
   ],
   "source": [
    "# GPT2\n",
    "from summarizer import TransformerSummarizer\n",
    "gpt2_model = TransformerSummarizer(\n",
    "    transformer_type=\"GPT2\",\n",
    "    transformer_model_key=\"gpt2-medium\"\n",
    ")\n",
    "gpt2_summary = ''.join(gpt2_model(text, min_length=50, max_length=500))\n",
    "print(gpt2_summary)\n"
   ]
  },
  {
   "cell_type": "code",
   "execution_count": 14,
   "id": "54276d36",
   "metadata": {},
   "outputs": [
    {
     "name": "stderr",
     "output_type": "stream",
     "text": [
      "Some weights of the model checkpoint at xlnet-base-cased were not used when initializing XLNetModel: ['lm_loss.bias', 'lm_loss.weight']\n",
      "- This IS expected if you are initializing XLNetModel from the checkpoint of a model trained on another task or with another architecture (e.g. initializing a BertForSequenceClassification model from a BertForPreTraining model).\n",
      "- This IS NOT expected if you are initializing XLNetModel from the checkpoint of a model that you expect to be exactly identical (initializing a BertForSequenceClassification model from a BertForSequenceClassification model).\n"
     ]
    },
    {
     "name": "stdout",
     "output_type": "stream",
     "text": [
      "Data science is an interdisciplinary field that uses scientific methods, processes, algorithms and systems to extract knowledge and insights from noisy, structured and unstructured data,[1][2] and apply knowledge and actionable insights from data across a broad range of application domains. Support-vector machine (SVM)\n",
      "Cluster analysis is a technique used to group data together. Naive Bayes classifiers are used to classify by applying the Bayes' theorem.\n"
     ]
    }
   ],
   "source": [
    "# XLNet\n",
    "from summarizer import TransformerSummarizer\n",
    "xlnet_model = TransformerSummarizer(\n",
    "    transformer_type=\"XLNet\",\n",
    "    transformer_model_key=\"xlnet-base-cased\"\n",
    ")\n",
    "xlnet_summary = ''.join(xlnet_model(text, min_length=50, max_length=500))\n",
    "print(xlnet_summary)"
   ]
  },
  {
   "cell_type": "code",
   "execution_count": null,
   "id": "1f51c8d8",
   "metadata": {},
   "outputs": [],
   "source": []
  }
 ],
 "metadata": {
  "kernelspec": {
   "display_name": "Python 3 (ipykernel)",
   "language": "python",
   "name": "python3"
  },
  "language_info": {
   "codemirror_mode": {
    "name": "ipython",
    "version": 3
   },
   "file_extension": ".py",
   "mimetype": "text/x-python",
   "name": "python",
   "nbconvert_exporter": "python",
   "pygments_lexer": "ipython3",
   "version": "3.9.15"
  }
 },
 "nbformat": 4,
 "nbformat_minor": 5
}
