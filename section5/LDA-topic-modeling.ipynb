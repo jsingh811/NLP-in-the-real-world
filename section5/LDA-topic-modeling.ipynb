{
 "cells": [
  {
   "cell_type": "code",
   "execution_count": 21,
   "id": "a9828150",
   "metadata": {},
   "outputs": [],
   "source": [
    "# https://www.oreilly.com/library/view/applied-machine-learning/9781484257722/\n",
    "doc1 = \"\"\"Explore the world of using machine learning methods with deep computer vision, sensors and data in sports, health and fitness and other industries. Accompanied by practical step-by-step Python code samples and Jupyter notebooks, this comprehensive guide acts as a reference for a data scientist, machine learning practitioner or anyone interested in AI applications. These ML models and methods can be used to create solutions for AI enhanced coaching, judging, athletic performance improvement, movement analysis, simulations, in motion capture, gaming, cinema production and more.\n",
    "Packed with fun, practical applications for sports, machine learning models used in the book include supervised, unsupervised and cutting-edge reinforcement learning methods and models with popular tools like PyTorch, Tensorflow, Keras, OpenAI Gym and OpenCV. Author Kevin Ashley—who happens to be both a machine learning expert and a professional ski instructor—has written an insightful book that takes you on a journey of modern sport science and AI. \n",
    "Filled with thorough, engaging illustrations and dozens of real-life examples, this book is your next step to understanding the implementation of AI within the sports world and beyond. Whether you are a data scientist, a coach, an athlete, or simply a personal fitness enthusiast excited about connecting your findings with AI methods, the author’s practical expertise in both tech and sports is an undeniable asset for your learning process. Today’s data scientists are the future of athletics, and Applied Machine Learning for Health and Fitness hands you the knowledge you need to stay relevant in this rapidly growing space.\n",
    "Use machine learning in the cloud to train and deploy modelsPrimarily aimed at data scientists, coaches, sports enthusiasts and athletes interested in connecting sports with technology and AI methods. \"\"\"\n",
    "\n",
    "# https://www.oreilly.com/library/view/revenue-management/9781631570933/\n",
    "doc2 = \"This book describes the emerging ﬁeld of revenue management and its applications across a broad spectrum of business activity. It recounts the history and development of revenue management and addresses the analytical tools needed to integrate revenue management into management generally and ﬁnancial and accounting practice in particular. Revenue Management discusses and assesses various pricing practices and other revenue management techniques. It gives particular attention to the role of capacity analysis and the connection of revenue management to the theory of constraints. While revenue management originated in the service industries, it is now practiced across a broad spectrum of business and not-for-proﬁt organizations. This book will be a useful guide to managers at all levels who wish to give greater consideration to the importance of revenue management in their organizations. The second edition reorganizes the presentation of the subject, adds many new examples, and concludes with a chapter on emerging issues.\"\n",
    "\n",
    "#https://www.routledge.com/Social-Influence-Direct-and-Indirect-Processes/Forgas-Williams/p/book/9781841690391\n",
    "doc3 = \"\"\"Social influence processes play a key role in human behavior. Arguably our extraordinary evolutionary success has much to do with our subtle and highly developed ability to interact with and influence each other. In this volume, leading international researchers review and integrate contemporary theory and research on the many ways people influence each other, considering both explicit, direct, and implicit, indirect influence strategies. Three sections examine fundamental processes and theory in social influence research, the role of cognitive processes and strategies in social influence phenomena, and the operation of social influence mechanisms in group settings. By applying the latest research to a wide range of interpersonal phenomena, this volume greatly advances our understanding of social influence mechanisms in strategic social interaction, and should be of interest to all students, researchers and practitioners interested in the dynamics of everyday interpersonal behavior.\"\"\"\n",
    "\n",
    "\n",
    "# https://www.oreilly.com/library/view/hands-on-machine-learning/9781492032632/\n",
    "doc4 = \"\"\"Through a series of recent breakthroughs, deep learning has boosted the entire field of machine learning. Now, even programmers who know close to nothing about this technology can use simple, efficient tools to implement programs capable of learning from data. This practical book shows you how.\n",
    "\n",
    "By using concrete examples, minimal theory, and two production-ready Python frameworks—Scikit-Learn and TensorFlow—author Aurélien Géron helps you gain an intuitive understanding of the concepts and tools for building intelligent systems. You’ll learn a range of techniques, starting with simple linear regression and progressing to deep neural networks. With exercises in each chapter to help you apply what you’ve learned, all you need is programming experience to get started.\n",
    "\n",
    "Explore the machine learning landscape, particularly neural nets\n",
    "Use Scikit-Learn to track an example machine-learning project end-to-end\n",
    "Explore several training models, including support vector machines, decision trees, random forests, and ensemble methods\n",
    "Use the TensorFlow library to build and train neural nets\n",
    "Dive into neural net architectures, including convolutional nets, recurrent nets, and deep reinforcement learning\n",
    "Learn techniques for training and scaling deep neural nets\"\"\"\n",
    "documents = [doc1, doc2, doc3, doc4]\n"
   ]
  },
  {
   "cell_type": "code",
   "execution_count": 22,
   "id": "65f453d4",
   "metadata": {},
   "outputs": [
    {
     "name": "stdout",
     "output_type": "stream",
     "text": [
      "Requirement already satisfied: gensim in /Users/jyotikasingh/opt/anaconda3/envs/myenv/lib/python3.9/site-packages (4.2.0)\r\n",
      "Requirement already satisfied: scipy>=0.18.1 in /Users/jyotikasingh/opt/anaconda3/envs/myenv/lib/python3.9/site-packages (from gensim) (1.9.3)\r\n",
      "Requirement already satisfied: smart-open>=1.8.1 in /Users/jyotikasingh/opt/anaconda3/envs/myenv/lib/python3.9/site-packages (from gensim) (5.2.1)\r\n",
      "Requirement already satisfied: numpy>=1.17.0 in /Users/jyotikasingh/opt/anaconda3/envs/myenv/lib/python3.9/site-packages (from gensim) (1.23.5)\r\n"
     ]
    }
   ],
   "source": [
    "# Install and import libraries\n",
    "!pip install gensim\n",
    "from nltk.corpus import stopwords\n",
    "from nltk.stem.wordnet import WordNetLemmatizer\n",
    "import string\n",
    "# Text preprocessing as discussed in chapter 2\n",
    "stop = set(stopwords.words('english'))\n",
    "exclude = set(string.punctuation)\n",
    "lemma = WordNetLemmatizer()\n",
    "def clean(doc):\n",
    "    stop_free = \" \".join([i for i in doc.lower().split() if i not in stop])\n",
    "    punc_free = \"\".join([ch for ch in stop_free if ch not in exclude])\n",
    "    normalized = \" \".join(lemma.lemmatize(word) for word in punc_free.split())\n",
    "    return normalized\n",
    "processed_docs = [clean(doc).split() for doc in documents]\n",
    "\n"
   ]
  },
  {
   "cell_type": "code",
   "execution_count": 23,
   "id": "9690b083",
   "metadata": {},
   "outputs": [],
   "source": [
    "# Importing gensim\n",
    "import gensim\n",
    "from gensim import corpora\n",
    "# Creating the term dictionary of our corpus, where every unique term is assigned an index.\n",
    "dictionary = corpora.Dictionary(processed_docs)\n",
    "# Converting a list of documents (corpus) into Document-Term Matrix using dictionary prepared above.\n",
    "doc_term_matrix = [dictionary.doc2bow(doc) for doc in processed_docs]\n",
    "#doc_term_matrix\n"
   ]
  },
  {
   "cell_type": "code",
   "execution_count": 26,
   "id": "abdac508",
   "metadata": {},
   "outputs": [
    {
     "name": "stdout",
     "output_type": "stream",
     "text": [
      "(0, '0.048*\"management\" + 0.043*\"revenue\" + 0.012*\"book\" + 0.012*\"spectrum\" + 0.012*\"emerging\" + 0.012*\"business\" + 0.012*\"organization\" + 0.012*\"give\" + 0.012*\"practice\" + 0.012*\"particular\"')\n",
      "\n",
      "\n",
      "(1, '0.032*\"learning\" + 0.022*\"machine\" + 0.018*\"sport\" + 0.015*\"ai\" + 0.015*\"method\" + 0.015*\"data\" + 0.015*\"net\" + 0.013*\"deep\" + 0.013*\"neural\" + 0.010*\"scientist\"')\n",
      "\n",
      "\n",
      "(2, '0.043*\"influence\" + 0.032*\"social\" + 0.017*\"process\" + 0.017*\"research\" + 0.012*\"theory\" + 0.012*\"role\" + 0.012*\"phenomenon\" + 0.012*\"behavior\" + 0.012*\"strategy\" + 0.012*\"volume\"')\n",
      "\n",
      "\n"
     ]
    }
   ],
   "source": [
    "# Creating the object for LDA model using gensim library\n",
    "Lda = gensim.models.ldamodel.LdaModel\n",
    "# Running and Training LDA model on the document term matrix for 3 topics.\n",
    "lda_model = Lda(doc_term_matrix, num_topics=3, id2word = dictionary, passes=20)\n",
    "# Results\n",
    "for itm in lda_model.print_topics():\n",
    "    print(itm)\n",
    "    print(\"\\n\")\n"
   ]
  },
  {
   "cell_type": "code",
   "execution_count": 27,
   "id": "f3c65756",
   "metadata": {},
   "outputs": [
    {
     "name": "stdout",
     "output_type": "stream",
     "text": [
      "Score: 0.7505645155906677\t Topic: 0.032*\"learning\" + 0.022*\"machine\" + 0.018*\"sport\" + 0.015*\"ai\" + 0.015*\"method\"\n",
      "Score: 0.18311436474323273\t Topic: 0.043*\"influence\" + 0.032*\"social\" + 0.017*\"process\" + 0.017*\"research\" + 0.012*\"theory\"\n",
      "Score: 0.06632108241319656\t Topic: 0.048*\"management\" + 0.043*\"revenue\" + 0.012*\"book\" + 0.012*\"spectrum\" + 0.012*\"emerging\"\n"
     ]
    }
   ],
   "source": [
    "# https://www.oreilly.com/library/view/computer-vision-using/9781484266168/\n",
    "unseen_document = \"\"\"Organizations spend huge resources in developing software that can perform the way a human does. Image classification, object detection and tracking, pose estimation, facial recognition, and sentiment estimation all play a major role in solving computer vision problems. \n",
    "\n",
    "This book will bring into focus these and other deep learning architectures and techniques to help you create solutions using Keras and the TensorFlow library. You'll also review mutliple neural network architectures, including LeNet, AlexNet, VGG, Inception, R-CNN, Fast R-CNN, Faster R-CNN, Mask R-CNN, YOLO, and SqueezeNet and see how they work alongside Python code via best practices, tips, tricks, shortcuts, and pitfalls. All code snippets will be broken down and discussed thoroughly so you can implement the same principles in your respective environments.\n",
    "\n",
    "Computer Vision Using Deep Learning offers a comprehensive yet succinct guide that stitches DL and CV together to automate operations, reduce human intervention, increase capability, and cut the costs. \"\"\"#'natural language processing techniques using machine learning.'\n",
    "\n",
    "bow_vector = dictionary.doc2bow(clean(unseen_document).split())\n",
    "for index, score in sorted(lda_model[bow_vector], key=lambda tup: -1*tup[1]):\n",
    "    print(\"Score: {}\\t Topic: {}\".format(score, lda_model.print_topic(index, 5)))"
   ]
  },
  {
   "cell_type": "code",
   "execution_count": null,
   "id": "305c1997",
   "metadata": {},
   "outputs": [],
   "source": []
  }
 ],
 "metadata": {
  "kernelspec": {
   "display_name": "Python 3 (ipykernel)",
   "language": "python",
   "name": "python3"
  },
  "language_info": {
   "codemirror_mode": {
    "name": "ipython",
    "version": 3
   },
   "file_extension": ".py",
   "mimetype": "text/x-python",
   "name": "python",
   "nbconvert_exporter": "python",
   "pygments_lexer": "ipython3",
   "version": "3.9.15"
  }
 },
 "nbformat": 4,
 "nbformat_minor": 5
}
