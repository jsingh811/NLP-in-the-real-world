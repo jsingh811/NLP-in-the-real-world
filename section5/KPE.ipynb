{
 "cells": [
  {
   "cell_type": "code",
   "execution_count": 4,
   "id": "25b86bcd",
   "metadata": {},
   "outputs": [],
   "source": [
    "text = \"\"\"Natural language processing (NLP) is a subfield of linguistics, computer science, and artificial intelligence concerned with the interactions between computers and human language, in particular how to program computers to process and analyze large amounts of natural language data. The goal is a computer capable of \"understanding\" the contents of documents, including the contextual nuances of the language within them. The technology can then accurately extract information and insights contained in the documents as well as categorize and organize the documents themselves.\"\"\""
   ]
  },
  {
   "cell_type": "markdown",
   "id": "4943a10b",
   "metadata": {},
   "source": [
    "# textacy"
   ]
  },
  {
   "cell_type": "code",
   "execution_count": 9,
   "id": "c93d476c",
   "metadata": {},
   "outputs": [
    {
     "name": "stdout",
     "output_type": "stream",
     "text": [
      "Collecting textacy==0.9.1\n",
      "  Downloading textacy-0.9.1-py3-none-any.whl (203 kB)\n",
      "\u001b[K     |████████████████████████████████| 203 kB 193 kB/s eta 0:00:01\n",
      "\u001b[?25hCollecting pyemd>=0.5.0\n",
      "  Downloading pyemd-0.5.1.tar.gz (91 kB)\n",
      "\u001b[K     |████████████████████████████████| 91 kB 286 kB/s eta 0:00:01\n",
      "\u001b[?25hRequirement already satisfied: numpy>=1.17.0 in /Users/jyotikasingh/opt/anaconda3/envs/py39/lib/python3.9/site-packages (from textacy==0.9.1) (1.22.0)\n",
      "Requirement already satisfied: cachetools>=2.0.1 in /Users/jyotikasingh/opt/anaconda3/envs/py39/lib/python3.9/site-packages (from textacy==0.9.1) (5.1.0)\n",
      "Requirement already satisfied: tqdm>=4.19.6 in /Users/jyotikasingh/opt/anaconda3/envs/py39/lib/python3.9/site-packages (from textacy==0.9.1) (4.62.3)\n",
      "Requirement already satisfied: srsly>=0.0.5 in /Users/jyotikasingh/opt/anaconda3/envs/py39/lib/python3.9/site-packages (from textacy==0.9.1) (2.4.3)\n",
      "Requirement already satisfied: pyphen>=0.9.4 in /Users/jyotikasingh/opt/anaconda3/envs/py39/lib/python3.9/site-packages (from textacy==0.9.1) (0.12.0)\n",
      "Requirement already satisfied: cytoolz>=0.8.0 in /Users/jyotikasingh/opt/anaconda3/envs/py39/lib/python3.9/site-packages (from textacy==0.9.1) (0.11.0)\n",
      "Requirement already satisfied: joblib>=0.13.0 in /Users/jyotikasingh/opt/anaconda3/envs/py39/lib/python3.9/site-packages (from textacy==0.9.1) (1.1.0)\n",
      "Requirement already satisfied: spacy>=2.0.12 in /Users/jyotikasingh/opt/anaconda3/envs/py39/lib/python3.9/site-packages (from textacy==0.9.1) (3.3.0)\n",
      "Requirement already satisfied: networkx>=2.0 in /Users/jyotikasingh/opt/anaconda3/envs/py39/lib/python3.9/site-packages (from textacy==0.9.1) (2.6.3)\n",
      "Requirement already satisfied: scikit-learn>=0.19.0 in /Users/jyotikasingh/opt/anaconda3/envs/py39/lib/python3.9/site-packages (from textacy==0.9.1) (1.1.1)\n",
      "Requirement already satisfied: jellyfish>=0.7.0 in /Users/jyotikasingh/opt/anaconda3/envs/py39/lib/python3.9/site-packages (from textacy==0.9.1) (0.9.0)\n",
      "Requirement already satisfied: scipy>=0.17.0 in /Users/jyotikasingh/opt/anaconda3/envs/py39/lib/python3.9/site-packages (from textacy==0.9.1) (1.5.4)\n",
      "Requirement already satisfied: requests>=2.10.0 in /Users/jyotikasingh/opt/anaconda3/envs/py39/lib/python3.9/site-packages (from textacy==0.9.1) (2.26.0)\n",
      "Requirement already satisfied: toolz>=0.8.0 in /Users/jyotikasingh/opt/anaconda3/envs/py39/lib/python3.9/site-packages (from cytoolz>=0.8.0->textacy==0.9.1) (0.11.1)\n",
      "Requirement already satisfied: certifi>=2017.4.17 in /Users/jyotikasingh/opt/anaconda3/envs/py39/lib/python3.9/site-packages (from requests>=2.10.0->textacy==0.9.1) (2021.10.8)\n",
      "Requirement already satisfied: idna<4,>=2.5 in /Users/jyotikasingh/opt/anaconda3/envs/py39/lib/python3.9/site-packages (from requests>=2.10.0->textacy==0.9.1) (3.2)\n",
      "Requirement already satisfied: charset-normalizer~=2.0.0 in /Users/jyotikasingh/opt/anaconda3/envs/py39/lib/python3.9/site-packages (from requests>=2.10.0->textacy==0.9.1) (2.0.4)\n",
      "Requirement already satisfied: urllib3<1.27,>=1.21.1 in /Users/jyotikasingh/opt/anaconda3/envs/py39/lib/python3.9/site-packages (from requests>=2.10.0->textacy==0.9.1) (1.26.7)\n",
      "Requirement already satisfied: threadpoolctl>=2.0.0 in /Users/jyotikasingh/opt/anaconda3/envs/py39/lib/python3.9/site-packages (from scikit-learn>=0.19.0->textacy==0.9.1) (2.2.0)\n",
      "Requirement already satisfied: langcodes<4.0.0,>=3.2.0 in /Users/jyotikasingh/opt/anaconda3/envs/py39/lib/python3.9/site-packages (from spacy>=2.0.12->textacy==0.9.1) (3.3.0)\n",
      "Requirement already satisfied: pydantic!=1.8,!=1.8.1,<1.9.0,>=1.7.4 in /Users/jyotikasingh/opt/anaconda3/envs/py39/lib/python3.9/site-packages (from spacy>=2.0.12->textacy==0.9.1) (1.8.2)\n",
      "Requirement already satisfied: typer<0.5.0,>=0.3.0 in /Users/jyotikasingh/opt/anaconda3/envs/py39/lib/python3.9/site-packages (from spacy>=2.0.12->textacy==0.9.1) (0.4.1)\n",
      "Requirement already satisfied: pathy>=0.3.5 in /Users/jyotikasingh/opt/anaconda3/envs/py39/lib/python3.9/site-packages (from spacy>=2.0.12->textacy==0.9.1) (0.6.1)\n",
      "Requirement already satisfied: thinc<8.1.0,>=8.0.14 in /Users/jyotikasingh/opt/anaconda3/envs/py39/lib/python3.9/site-packages (from spacy>=2.0.12->textacy==0.9.1) (8.0.16)\n",
      "Requirement already satisfied: cymem<2.1.0,>=2.0.2 in /Users/jyotikasingh/opt/anaconda3/envs/py39/lib/python3.9/site-packages (from spacy>=2.0.12->textacy==0.9.1) (2.0.6)\n",
      "Requirement already satisfied: murmurhash<1.1.0,>=0.28.0 in /Users/jyotikasingh/opt/anaconda3/envs/py39/lib/python3.9/site-packages (from spacy>=2.0.12->textacy==0.9.1) (1.0.7)\n",
      "Requirement already satisfied: packaging>=20.0 in /Users/jyotikasingh/opt/anaconda3/envs/py39/lib/python3.9/site-packages (from spacy>=2.0.12->textacy==0.9.1) (21.0)\n",
      "Requirement already satisfied: blis<0.8.0,>=0.4.0 in /Users/jyotikasingh/opt/anaconda3/envs/py39/lib/python3.9/site-packages (from spacy>=2.0.12->textacy==0.9.1) (0.7.7)\n",
      "Requirement already satisfied: preshed<3.1.0,>=3.0.2 in /Users/jyotikasingh/opt/anaconda3/envs/py39/lib/python3.9/site-packages (from spacy>=2.0.12->textacy==0.9.1) (3.0.6)\n",
      "Requirement already satisfied: catalogue<2.1.0,>=2.0.6 in /Users/jyotikasingh/opt/anaconda3/envs/py39/lib/python3.9/site-packages (from spacy>=2.0.12->textacy==0.9.1) (2.0.7)\n",
      "Requirement already satisfied: wasabi<1.1.0,>=0.9.1 in /Users/jyotikasingh/opt/anaconda3/envs/py39/lib/python3.9/site-packages (from spacy>=2.0.12->textacy==0.9.1) (0.9.1)\n",
      "Requirement already satisfied: spacy-legacy<3.1.0,>=3.0.9 in /Users/jyotikasingh/opt/anaconda3/envs/py39/lib/python3.9/site-packages (from spacy>=2.0.12->textacy==0.9.1) (3.0.9)\n",
      "Requirement already satisfied: spacy-loggers<2.0.0,>=1.0.0 in /Users/jyotikasingh/opt/anaconda3/envs/py39/lib/python3.9/site-packages (from spacy>=2.0.12->textacy==0.9.1) (1.0.2)\n",
      "Requirement already satisfied: setuptools in /Users/jyotikasingh/opt/anaconda3/envs/py39/lib/python3.9/site-packages (from spacy>=2.0.12->textacy==0.9.1) (58.0.4)\n",
      "Requirement already satisfied: jinja2 in /Users/jyotikasingh/opt/anaconda3/envs/py39/lib/python3.9/site-packages (from spacy>=2.0.12->textacy==0.9.1) (2.11.3)\n",
      "Requirement already satisfied: pyparsing>=2.0.2 in /Users/jyotikasingh/opt/anaconda3/envs/py39/lib/python3.9/site-packages (from packaging>=20.0->spacy>=2.0.12->textacy==0.9.1) (3.0.4)\n",
      "Requirement already satisfied: smart-open<6.0.0,>=5.0.0 in /Users/jyotikasingh/opt/anaconda3/envs/py39/lib/python3.9/site-packages (from pathy>=0.3.5->spacy>=2.0.12->textacy==0.9.1) (5.2.1)\n",
      "Requirement already satisfied: typing-extensions>=3.7.4.3 in /Users/jyotikasingh/opt/anaconda3/envs/py39/lib/python3.9/site-packages (from pydantic!=1.8,!=1.8.1,<1.9.0,>=1.7.4->spacy>=2.0.12->textacy==0.9.1) (3.10.0.2)\n",
      "Requirement already satisfied: click<9.0.0,>=7.1.1 in /Users/jyotikasingh/opt/anaconda3/envs/py39/lib/python3.9/site-packages (from typer<0.5.0,>=0.3.0->spacy>=2.0.12->textacy==0.9.1) (8.0.3)\n",
      "Requirement already satisfied: MarkupSafe>=0.23 in /Users/jyotikasingh/opt/anaconda3/envs/py39/lib/python3.9/site-packages (from jinja2->spacy>=2.0.12->textacy==0.9.1) (1.1.1)\n",
      "Building wheels for collected packages: pyemd\n",
      "  Building wheel for pyemd (setup.py) ... \u001b[?25ldone\n",
      "\u001b[?25h  Created wheel for pyemd: filename=pyemd-0.5.1-cp39-cp39-macosx_10_9_x86_64.whl size=72367 sha256=e6a2681315ca568c3d435cacaab0c25e643155a3dc3ffd1f5425e1e097f644ab\n",
      "  Stored in directory: /Users/jyotikasingh/Library/Caches/pip/wheels/64/bf/3e/0859be9a0108fc932a29b943792dcafb3b979555cf1bb5add6\n",
      "Successfully built pyemd\n",
      "Installing collected packages: pyemd, textacy\n",
      "  Attempting uninstall: textacy\n",
      "    Found existing installation: textacy 0.12.0\n",
      "    Uninstalling textacy-0.12.0:\n",
      "      Successfully uninstalled textacy-0.12.0\n",
      "Successfully installed pyemd-0.5.1 textacy-0.9.1\n",
      "Collecting en-core-web-sm==3.3.0\n",
      "  Downloading https://github.com/explosion/spacy-models/releases/download/en_core_web_sm-3.3.0/en_core_web_sm-3.3.0-py3-none-any.whl (12.8 MB)\n",
      "\u001b[K     |████████████████████████████████| 12.8 MB 384 kB/s eta 0:00:01\n",
      "\u001b[?25hRequirement already satisfied: spacy<3.4.0,>=3.3.0.dev0 in /Users/jyotikasingh/opt/anaconda3/envs/py39/lib/python3.9/site-packages (from en-core-web-sm==3.3.0) (3.3.0)\n",
      "Requirement already satisfied: langcodes<4.0.0,>=3.2.0 in /Users/jyotikasingh/opt/anaconda3/envs/py39/lib/python3.9/site-packages (from spacy<3.4.0,>=3.3.0.dev0->en-core-web-sm==3.3.0) (3.3.0)\n",
      "Requirement already satisfied: srsly<3.0.0,>=2.4.3 in /Users/jyotikasingh/opt/anaconda3/envs/py39/lib/python3.9/site-packages (from spacy<3.4.0,>=3.3.0.dev0->en-core-web-sm==3.3.0) (2.4.3)\n",
      "Requirement already satisfied: thinc<8.1.0,>=8.0.14 in /Users/jyotikasingh/opt/anaconda3/envs/py39/lib/python3.9/site-packages (from spacy<3.4.0,>=3.3.0.dev0->en-core-web-sm==3.3.0) (8.0.16)\n",
      "Requirement already satisfied: spacy-legacy<3.1.0,>=3.0.9 in /Users/jyotikasingh/opt/anaconda3/envs/py39/lib/python3.9/site-packages (from spacy<3.4.0,>=3.3.0.dev0->en-core-web-sm==3.3.0) (3.0.9)\n",
      "Requirement already satisfied: cymem<2.1.0,>=2.0.2 in /Users/jyotikasingh/opt/anaconda3/envs/py39/lib/python3.9/site-packages (from spacy<3.4.0,>=3.3.0.dev0->en-core-web-sm==3.3.0) (2.0.6)\n",
      "Requirement already satisfied: pathy>=0.3.5 in /Users/jyotikasingh/opt/anaconda3/envs/py39/lib/python3.9/site-packages (from spacy<3.4.0,>=3.3.0.dev0->en-core-web-sm==3.3.0) (0.6.1)\n",
      "Requirement already satisfied: tqdm<5.0.0,>=4.38.0 in /Users/jyotikasingh/opt/anaconda3/envs/py39/lib/python3.9/site-packages (from spacy<3.4.0,>=3.3.0.dev0->en-core-web-sm==3.3.0) (4.62.3)\n",
      "Requirement already satisfied: typer<0.5.0,>=0.3.0 in /Users/jyotikasingh/opt/anaconda3/envs/py39/lib/python3.9/site-packages (from spacy<3.4.0,>=3.3.0.dev0->en-core-web-sm==3.3.0) (0.4.1)\n",
      "Requirement already satisfied: spacy-loggers<2.0.0,>=1.0.0 in /Users/jyotikasingh/opt/anaconda3/envs/py39/lib/python3.9/site-packages (from spacy<3.4.0,>=3.3.0.dev0->en-core-web-sm==3.3.0) (1.0.2)\n",
      "Requirement already satisfied: wasabi<1.1.0,>=0.9.1 in /Users/jyotikasingh/opt/anaconda3/envs/py39/lib/python3.9/site-packages (from spacy<3.4.0,>=3.3.0.dev0->en-core-web-sm==3.3.0) (0.9.1)\n",
      "Requirement already satisfied: catalogue<2.1.0,>=2.0.6 in /Users/jyotikasingh/opt/anaconda3/envs/py39/lib/python3.9/site-packages (from spacy<3.4.0,>=3.3.0.dev0->en-core-web-sm==3.3.0) (2.0.7)\n",
      "Requirement already satisfied: packaging>=20.0 in /Users/jyotikasingh/opt/anaconda3/envs/py39/lib/python3.9/site-packages (from spacy<3.4.0,>=3.3.0.dev0->en-core-web-sm==3.3.0) (21.0)\n",
      "Requirement already satisfied: numpy>=1.15.0 in /Users/jyotikasingh/opt/anaconda3/envs/py39/lib/python3.9/site-packages (from spacy<3.4.0,>=3.3.0.dev0->en-core-web-sm==3.3.0) (1.22.0)\n",
      "Requirement already satisfied: jinja2 in /Users/jyotikasingh/opt/anaconda3/envs/py39/lib/python3.9/site-packages (from spacy<3.4.0,>=3.3.0.dev0->en-core-web-sm==3.3.0) (2.11.3)\n",
      "Requirement already satisfied: blis<0.8.0,>=0.4.0 in /Users/jyotikasingh/opt/anaconda3/envs/py39/lib/python3.9/site-packages (from spacy<3.4.0,>=3.3.0.dev0->en-core-web-sm==3.3.0) (0.7.7)\n",
      "Requirement already satisfied: murmurhash<1.1.0,>=0.28.0 in /Users/jyotikasingh/opt/anaconda3/envs/py39/lib/python3.9/site-packages (from spacy<3.4.0,>=3.3.0.dev0->en-core-web-sm==3.3.0) (1.0.7)\n",
      "Requirement already satisfied: preshed<3.1.0,>=3.0.2 in /Users/jyotikasingh/opt/anaconda3/envs/py39/lib/python3.9/site-packages (from spacy<3.4.0,>=3.3.0.dev0->en-core-web-sm==3.3.0) (3.0.6)\n",
      "Requirement already satisfied: requests<3.0.0,>=2.13.0 in /Users/jyotikasingh/opt/anaconda3/envs/py39/lib/python3.9/site-packages (from spacy<3.4.0,>=3.3.0.dev0->en-core-web-sm==3.3.0) (2.26.0)\n",
      "Requirement already satisfied: pydantic!=1.8,!=1.8.1,<1.9.0,>=1.7.4 in /Users/jyotikasingh/opt/anaconda3/envs/py39/lib/python3.9/site-packages (from spacy<3.4.0,>=3.3.0.dev0->en-core-web-sm==3.3.0) (1.8.2)\n",
      "Requirement already satisfied: setuptools in /Users/jyotikasingh/opt/anaconda3/envs/py39/lib/python3.9/site-packages (from spacy<3.4.0,>=3.3.0.dev0->en-core-web-sm==3.3.0) (58.0.4)\n",
      "Requirement already satisfied: pyparsing>=2.0.2 in /Users/jyotikasingh/opt/anaconda3/envs/py39/lib/python3.9/site-packages (from packaging>=20.0->spacy<3.4.0,>=3.3.0.dev0->en-core-web-sm==3.3.0) (3.0.4)\n"
     ]
    },
    {
     "name": "stdout",
     "output_type": "stream",
     "text": [
      "Requirement already satisfied: smart-open<6.0.0,>=5.0.0 in /Users/jyotikasingh/opt/anaconda3/envs/py39/lib/python3.9/site-packages (from pathy>=0.3.5->spacy<3.4.0,>=3.3.0.dev0->en-core-web-sm==3.3.0) (5.2.1)\n",
      "Requirement already satisfied: typing-extensions>=3.7.4.3 in /Users/jyotikasingh/opt/anaconda3/envs/py39/lib/python3.9/site-packages (from pydantic!=1.8,!=1.8.1,<1.9.0,>=1.7.4->spacy<3.4.0,>=3.3.0.dev0->en-core-web-sm==3.3.0) (3.10.0.2)\n",
      "Requirement already satisfied: urllib3<1.27,>=1.21.1 in /Users/jyotikasingh/opt/anaconda3/envs/py39/lib/python3.9/site-packages (from requests<3.0.0,>=2.13.0->spacy<3.4.0,>=3.3.0.dev0->en-core-web-sm==3.3.0) (1.26.7)\n",
      "Requirement already satisfied: certifi>=2017.4.17 in /Users/jyotikasingh/opt/anaconda3/envs/py39/lib/python3.9/site-packages (from requests<3.0.0,>=2.13.0->spacy<3.4.0,>=3.3.0.dev0->en-core-web-sm==3.3.0) (2021.10.8)\n",
      "Requirement already satisfied: idna<4,>=2.5 in /Users/jyotikasingh/opt/anaconda3/envs/py39/lib/python3.9/site-packages (from requests<3.0.0,>=2.13.0->spacy<3.4.0,>=3.3.0.dev0->en-core-web-sm==3.3.0) (3.2)\n",
      "Requirement already satisfied: charset-normalizer~=2.0.0 in /Users/jyotikasingh/opt/anaconda3/envs/py39/lib/python3.9/site-packages (from requests<3.0.0,>=2.13.0->spacy<3.4.0,>=3.3.0.dev0->en-core-web-sm==3.3.0) (2.0.4)\n",
      "Requirement already satisfied: click<9.0.0,>=7.1.1 in /Users/jyotikasingh/opt/anaconda3/envs/py39/lib/python3.9/site-packages (from typer<0.5.0,>=0.3.0->spacy<3.4.0,>=3.3.0.dev0->en-core-web-sm==3.3.0) (8.0.3)\n",
      "Requirement already satisfied: MarkupSafe>=0.23 in /Users/jyotikasingh/opt/anaconda3/envs/py39/lib/python3.9/site-packages (from jinja2->spacy<3.4.0,>=3.3.0.dev0->en-core-web-sm==3.3.0) (1.1.1)\n",
      "\u001b[38;5;2m✔ Download and installation successful\u001b[0m\n",
      "You can now load the package via spacy.load('en_core_web_sm')\n"
     ]
    }
   ],
   "source": [
    "!pip install textacy==0.9.1\n",
    "!python -m spacy download en_core_web_sm"
   ]
  },
  {
   "cell_type": "code",
   "execution_count": 13,
   "id": "dcfc00d1",
   "metadata": {},
   "outputs": [
    {
     "name": "stdout",
     "output_type": "stream",
     "text": [
      "\n",
      "\n",
      " TextRank keyphrases \n",
      "  ['natural language processing', 'natural language datum', 'computer capable', 'computer science', 'human language']\n",
      "\n",
      "\n",
      " SGRank keyphrases \n",
      "  ['natural language datum', 'natural language processing', 'artificial intelligence', 'human language', 'computer science']\n"
     ]
    }
   ],
   "source": [
    "from textacy import load_spacy_lang, make_spacy_doc\n",
    "from textacy.ke import sgrank, textrank\n",
    "\n",
    "en = load_spacy_lang(\n",
    "    \"en_core_web_sm\", \n",
    "    disable=(\"parser\",)\n",
    ")\n",
    "doc = make_spacy_doc(text, lang=en)\n",
    "\n",
    "# TextRank\n",
    "textrank = textrank(\n",
    "    doc, normalize=\"lemma\", topn=5\n",
    ")\n",
    "\n",
    "# SGRank\n",
    "sg = sgrank(doc, topn=5)\n",
    "print(\n",
    "    \"\\n\\n TextRank keyphrases \\n \", \n",
    "    [kp for kp, _ in textrank]\n",
    ")\n",
    "\n",
    "print(\n",
    "    \"\\n\\n SGRank keyphrases \\n \", \n",
    "    [kp for kp, _ in sg]\n",
    ")"
   ]
  },
  {
   "cell_type": "markdown",
   "id": "b879ae3c",
   "metadata": {},
   "source": [
    "# KeyBERT"
   ]
  },
  {
   "cell_type": "code",
   "execution_count": 19,
   "id": "59771695",
   "metadata": {},
   "outputs": [
    {
     "name": "stdout",
     "output_type": "stream",
     "text": [
      "huggingface/tokenizers: The current process just got forked, after parallelism has already been used. Disabling parallelism to avoid deadlocks...\n",
      "To disable this warning, you can either:\n",
      "\t- Avoid using `tokenizers` before the fork if possible\n",
      "\t- Explicitly set the environment variable TOKENIZERS_PARALLELISM=(true | false)\n",
      "Requirement already satisfied: keybert in /Users/jyotikasingh/opt/anaconda3/envs/py39/lib/python3.9/site-packages (0.5.1)\n",
      "Requirement already satisfied: sentence-transformers>=0.3.8 in /Users/jyotikasingh/opt/anaconda3/envs/py39/lib/python3.9/site-packages (from keybert) (2.2.0)\n",
      "Requirement already satisfied: scikit-learn>=0.22.2 in /Users/jyotikasingh/opt/anaconda3/envs/py39/lib/python3.9/site-packages (from keybert) (1.1.1)\n",
      "Requirement already satisfied: numpy>=1.18.5 in /Users/jyotikasingh/opt/anaconda3/envs/py39/lib/python3.9/site-packages (from keybert) (1.22.0)\n",
      "Requirement already satisfied: rich>=10.4.0 in /Users/jyotikasingh/opt/anaconda3/envs/py39/lib/python3.9/site-packages (from keybert) (12.4.4)\n",
      "Requirement already satisfied: commonmark<0.10.0,>=0.9.0 in /Users/jyotikasingh/opt/anaconda3/envs/py39/lib/python3.9/site-packages (from rich>=10.4.0->keybert) (0.9.1)\n",
      "Requirement already satisfied: pygments<3.0.0,>=2.6.0 in /Users/jyotikasingh/opt/anaconda3/envs/py39/lib/python3.9/site-packages (from rich>=10.4.0->keybert) (2.12.0)\n",
      "Requirement already satisfied: threadpoolctl>=2.0.0 in /Users/jyotikasingh/opt/anaconda3/envs/py39/lib/python3.9/site-packages (from scikit-learn>=0.22.2->keybert) (2.2.0)\n",
      "Requirement already satisfied: scipy>=1.3.2 in /Users/jyotikasingh/opt/anaconda3/envs/py39/lib/python3.9/site-packages (from scikit-learn>=0.22.2->keybert) (1.5.4)\n",
      "Requirement already satisfied: joblib>=1.0.0 in /Users/jyotikasingh/opt/anaconda3/envs/py39/lib/python3.9/site-packages (from scikit-learn>=0.22.2->keybert) (1.1.0)\n",
      "Requirement already satisfied: torchvision in /Users/jyotikasingh/opt/anaconda3/envs/py39/lib/python3.9/site-packages (from sentence-transformers>=0.3.8->keybert) (0.12.0)\n",
      "Requirement already satisfied: transformers<5.0.0,>=4.6.0 in /Users/jyotikasingh/opt/anaconda3/envs/py39/lib/python3.9/site-packages (from sentence-transformers>=0.3.8->keybert) (4.19.2)\n",
      "Requirement already satisfied: tqdm in /Users/jyotikasingh/opt/anaconda3/envs/py39/lib/python3.9/site-packages (from sentence-transformers>=0.3.8->keybert) (4.62.3)\n",
      "Requirement already satisfied: sentencepiece in /Users/jyotikasingh/opt/anaconda3/envs/py39/lib/python3.9/site-packages (from sentence-transformers>=0.3.8->keybert) (0.1.96)\n",
      "Requirement already satisfied: torch>=1.6.0 in /Users/jyotikasingh/opt/anaconda3/envs/py39/lib/python3.9/site-packages (from sentence-transformers>=0.3.8->keybert) (1.11.0)\n",
      "Requirement already satisfied: huggingface-hub in /Users/jyotikasingh/opt/anaconda3/envs/py39/lib/python3.9/site-packages (from sentence-transformers>=0.3.8->keybert) (0.6.0)\n",
      "Requirement already satisfied: nltk in /Users/jyotikasingh/opt/anaconda3/envs/py39/lib/python3.9/site-packages (from sentence-transformers>=0.3.8->keybert) (3.6.5)\n",
      "Requirement already satisfied: typing-extensions in /Users/jyotikasingh/opt/anaconda3/envs/py39/lib/python3.9/site-packages (from torch>=1.6.0->sentence-transformers>=0.3.8->keybert) (3.10.0.2)\n",
      "Requirement already satisfied: tokenizers!=0.11.3,<0.13,>=0.11.1 in /Users/jyotikasingh/opt/anaconda3/envs/py39/lib/python3.9/site-packages (from transformers<5.0.0,>=4.6.0->sentence-transformers>=0.3.8->keybert) (0.12.1)\n",
      "Requirement already satisfied: filelock in /Users/jyotikasingh/opt/anaconda3/envs/py39/lib/python3.9/site-packages (from transformers<5.0.0,>=4.6.0->sentence-transformers>=0.3.8->keybert) (3.3.1)\n",
      "Requirement already satisfied: packaging>=20.0 in /Users/jyotikasingh/opt/anaconda3/envs/py39/lib/python3.9/site-packages (from transformers<5.0.0,>=4.6.0->sentence-transformers>=0.3.8->keybert) (21.0)\n",
      "Requirement already satisfied: requests in /Users/jyotikasingh/opt/anaconda3/envs/py39/lib/python3.9/site-packages (from transformers<5.0.0,>=4.6.0->sentence-transformers>=0.3.8->keybert) (2.26.0)\n",
      "Requirement already satisfied: regex!=2019.12.17 in /Users/jyotikasingh/opt/anaconda3/envs/py39/lib/python3.9/site-packages (from transformers<5.0.0,>=4.6.0->sentence-transformers>=0.3.8->keybert) (2021.8.3)\n",
      "Requirement already satisfied: pyyaml>=5.1 in /Users/jyotikasingh/opt/anaconda3/envs/py39/lib/python3.9/site-packages (from transformers<5.0.0,>=4.6.0->sentence-transformers>=0.3.8->keybert) (6.0)\n",
      "Requirement already satisfied: pyparsing>=2.0.2 in /Users/jyotikasingh/opt/anaconda3/envs/py39/lib/python3.9/site-packages (from packaging>=20.0->transformers<5.0.0,>=4.6.0->sentence-transformers>=0.3.8->keybert) (3.0.4)\n",
      "Requirement already satisfied: click in /Users/jyotikasingh/opt/anaconda3/envs/py39/lib/python3.9/site-packages (from nltk->sentence-transformers>=0.3.8->keybert) (8.0.3)\n",
      "Requirement already satisfied: charset-normalizer~=2.0.0 in /Users/jyotikasingh/opt/anaconda3/envs/py39/lib/python3.9/site-packages (from requests->transformers<5.0.0,>=4.6.0->sentence-transformers>=0.3.8->keybert) (2.0.4)\n",
      "Requirement already satisfied: idna<4,>=2.5 in /Users/jyotikasingh/opt/anaconda3/envs/py39/lib/python3.9/site-packages (from requests->transformers<5.0.0,>=4.6.0->sentence-transformers>=0.3.8->keybert) (3.2)\n",
      "Requirement already satisfied: certifi>=2017.4.17 in /Users/jyotikasingh/opt/anaconda3/envs/py39/lib/python3.9/site-packages (from requests->transformers<5.0.0,>=4.6.0->sentence-transformers>=0.3.8->keybert) (2021.10.8)\n",
      "Requirement already satisfied: urllib3<1.27,>=1.21.1 in /Users/jyotikasingh/opt/anaconda3/envs/py39/lib/python3.9/site-packages (from requests->transformers<5.0.0,>=4.6.0->sentence-transformers>=0.3.8->keybert) (1.26.7)\n",
      "Requirement already satisfied: pillow!=8.3.*,>=5.3.0 in /Users/jyotikasingh/opt/anaconda3/envs/py39/lib/python3.9/site-packages (from torchvision->sentence-transformers>=0.3.8->keybert) (8.4.0)\n"
     ]
    },
    {
     "data": {
      "text/html": [
       "<pre style=\"white-space:pre;overflow-x:auto;line-height:normal;font-family:Menlo,'DejaVu Sans Mono',consolas,'Courier New',monospace\"><span style=\"color: #000000; text-decoration-color: #000000; background-color: #ffff00\">Natural language processing</span> is a subfield of linguistics, computer science, and artificial \n",
       "intelligence concerned with the interactions between computers and human language, in \n",
       "particular how to program computers to process and analyze large amounts <span style=\"color: #000000; text-decoration-color: #000000; background-color: #ffff00\">of natural language</span> \n",
       "The goal is a computer capable of \"understanding\" the contents of documents, including the \n",
       "contextual nuances of the language within them. The technology can then accurately extract \n",
       "information and insights contained in the documents as well as categorize and organize the \n",
       "documents themselves.\n",
       "</pre>\n"
      ],
      "text/plain": [
       "\u001b[30;48;2;255;255;0mNatural language processing\u001b[0m is a subfield of linguistics, computer science, and artificial \n",
       "intelligence concerned with the interactions between computers and human language, in \n",
       "particular how to program computers to process and analyze large amounts \u001b[30;48;2;255;255;0mof natural language\u001b[0m \n",
       "The goal is a computer capable of \"understanding\" the contents of documents, including the \n",
       "contextual nuances of the language within them. The technology can then accurately extract \n",
       "information and insights contained in the documents as well as categorize and organize the \n",
       "documents themselves.\n"
      ]
     },
     "metadata": {},
     "output_type": "display_data"
    }
   ],
   "source": [
    "!pip install keybert==0.5.1\n",
    "from keybert import KeyBERT\n",
    "\n",
    "# any model from sbert.net/docs/pretrained_models.html\n",
    "# can be specified below\n",
    "# default model = all-MiniLM-L6-v2\n",
    "kw_model = KeyBERT()\n",
    "keywords = kw_model.extract_keywords(\n",
    "    text, keyphrase_ngram_range=(1, 3),\n",
    "    stop_words=None, highlight=True\n",
    ")\n"
   ]
  },
  {
   "cell_type": "code",
   "execution_count": 20,
   "id": "183e2a1e",
   "metadata": {},
   "outputs": [
    {
     "name": "stdout",
     "output_type": "stream",
     "text": [
      "[('processing nlp', 0.7913), ('language processing nlp', 0.7629), ('processing nlp is', 0.7527), ('natural language processing', 0.7435), ('of natural language', 0.6745)]\n"
     ]
    }
   ],
   "source": [
    "print(keywords)"
   ]
  },
  {
   "cell_type": "markdown",
   "id": "bafa5b57",
   "metadata": {},
   "source": [
    "# rake-nltk"
   ]
  },
  {
   "cell_type": "code",
   "execution_count": 22,
   "id": "29399f0d",
   "metadata": {},
   "outputs": [
    {
     "name": "stdout",
     "output_type": "stream",
     "text": [
      "huggingface/tokenizers: The current process just got forked, after parallelism has already been used. Disabling parallelism to avoid deadlocks...\n",
      "To disable this warning, you can either:\n",
      "\t- Avoid using `tokenizers` before the fork if possible\n",
      "\t- Explicitly set the environment variable TOKENIZERS_PARALLELISM=(true | false)\n",
      "Collecting rake-nltk\n",
      "  Downloading rake_nltk-1.0.6-py3-none-any.whl (9.1 kB)\n",
      "Requirement already satisfied: nltk<4.0.0,>=3.6.2 in /Users/jyotikasingh/opt/anaconda3/envs/py39/lib/python3.9/site-packages (from rake-nltk) (3.6.5)\n",
      "Requirement already satisfied: click in /Users/jyotikasingh/opt/anaconda3/envs/py39/lib/python3.9/site-packages (from nltk<4.0.0,>=3.6.2->rake-nltk) (8.0.3)\n",
      "Requirement already satisfied: joblib in /Users/jyotikasingh/opt/anaconda3/envs/py39/lib/python3.9/site-packages (from nltk<4.0.0,>=3.6.2->rake-nltk) (1.1.0)\n",
      "Requirement already satisfied: regex>=2021.8.3 in /Users/jyotikasingh/opt/anaconda3/envs/py39/lib/python3.9/site-packages (from nltk<4.0.0,>=3.6.2->rake-nltk) (2021.8.3)\n",
      "Requirement already satisfied: tqdm in /Users/jyotikasingh/opt/anaconda3/envs/py39/lib/python3.9/site-packages (from nltk<4.0.0,>=3.6.2->rake-nltk) (4.62.3)\n",
      "Installing collected packages: rake-nltk\n",
      "Successfully installed rake-nltk-1.0.6\n"
     ]
    }
   ],
   "source": [
    "!pip install rake-nltk"
   ]
  },
  {
   "cell_type": "code",
   "execution_count": 29,
   "id": "2caf2ab3",
   "metadata": {},
   "outputs": [
    {
     "name": "stdout",
     "output_type": "stream",
     "text": [
      "['artificial intelligence concerned', 'analyze large amounts', 'accurately extract information', 'natural language processing', 'natural language data']\n"
     ]
    }
   ],
   "source": [
    "from rake_nltk import Rake\n",
    "# Considers nltk english stopwords and punctuations\n",
    "r = Rake()\n",
    "\n",
    "r.extract_keywords_from_text(text)\n",
    "\n",
    "# top 5 keyphrases\n",
    "print(r.get_ranked_phrases()[0:5])"
   ]
  },
  {
   "cell_type": "code",
   "execution_count": null,
   "id": "e1d21b4e",
   "metadata": {},
   "outputs": [],
   "source": []
  }
 ],
 "metadata": {
  "kernelspec": {
   "display_name": "Python 3 (ipykernel)",
   "language": "python",
   "name": "python3"
  },
  "language_info": {
   "codemirror_mode": {
    "name": "ipython",
    "version": 3
   },
   "file_extension": ".py",
   "mimetype": "text/x-python",
   "name": "python",
   "nbconvert_exporter": "python",
   "pygments_lexer": "ipython3",
   "version": "3.9.15"
  }
 },
 "nbformat": 4,
 "nbformat_minor": 5
}
