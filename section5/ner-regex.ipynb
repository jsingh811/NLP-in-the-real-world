{
 "cells": [
  {
   "cell_type": "markdown",
   "id": "2e623eef",
   "metadata": {},
   "source": [
    "# Extracting emails using regex"
   ]
  },
  {
   "cell_type": "code",
   "execution_count": 1,
   "id": "6e5f4700",
   "metadata": {},
   "outputs": [
    {
     "name": "stdout",
     "output_type": "stream",
     "text": [
      "['j_2.4-dj3@xyz.co.net']\n",
      "[]\n"
     ]
    }
   ],
   "source": [
    "import re\n",
    "\n",
    "text_list = [\"send to j_2.4-dj3@xyz.co.net for queries.\", \n",
    "             \"follow me on twitter@jyotikasingh_.\"]\n",
    "# \\S matches any non-whitespace character\n",
    "# @ for its occurrence in the emaIl ID,\n",
    "#  . for the period after @\n",
    "# + for when a character is repeated one or more times\n",
    "for text in text_list:\n",
    "    print(re.findall('\\S+@\\S+\\.\\S+', text))\n"
   ]
  },
  {
   "cell_type": "code",
   "execution_count": null,
   "id": "75f30321",
   "metadata": {},
   "outputs": [],
   "source": []
  }
 ],
 "metadata": {
  "kernelspec": {
   "display_name": "Python 3 (ipykernel)",
   "language": "python",
   "name": "python3"
  },
  "language_info": {
   "codemirror_mode": {
    "name": "ipython",
    "version": 3
   },
   "file_extension": ".py",
   "mimetype": "text/x-python",
   "name": "python",
   "nbconvert_exporter": "python",
   "pygments_lexer": "ipython3",
   "version": "3.9.15"
  }
 },
 "nbformat": 4,
 "nbformat_minor": 5
}
