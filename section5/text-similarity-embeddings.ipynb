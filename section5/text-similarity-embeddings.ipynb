{
 "cells": [
  {
   "cell_type": "markdown",
   "id": "546175e2",
   "metadata": {},
   "source": [
    "# spaCy"
   ]
  },
  {
   "cell_type": "code",
   "execution_count": 1,
   "id": "5328edd4",
   "metadata": {},
   "outputs": [
    {
     "name": "stdout",
     "output_type": "stream",
     "text": [
      "Requirement already satisfied: spacy==3.2.3 in /Users/jyotikasingh/opt/anaconda3/envs/myenv/lib/python3.9/site-packages (3.2.3)\n",
      "Requirement already satisfied: wasabi<1.1.0,>=0.8.1 in /Users/jyotikasingh/opt/anaconda3/envs/myenv/lib/python3.9/site-packages (from spacy==3.2.3) (0.10.1)\n",
      "Requirement already satisfied: langcodes<4.0.0,>=3.2.0 in /Users/jyotikasingh/opt/anaconda3/envs/myenv/lib/python3.9/site-packages (from spacy==3.2.3) (3.3.0)\n",
      "Requirement already satisfied: srsly<3.0.0,>=2.4.1 in /Users/jyotikasingh/opt/anaconda3/envs/myenv/lib/python3.9/site-packages (from spacy==3.2.3) (2.4.5)\n",
      "Requirement already satisfied: thinc<8.1.0,>=8.0.12 in /Users/jyotikasingh/opt/anaconda3/envs/myenv/lib/python3.9/site-packages (from spacy==3.2.3) (8.0.17)\n",
      "Requirement already satisfied: setuptools in /Users/jyotikasingh/opt/anaconda3/envs/myenv/lib/python3.9/site-packages (from spacy==3.2.3) (65.5.0)\n",
      "Requirement already satisfied: jinja2 in /Users/jyotikasingh/opt/anaconda3/envs/myenv/lib/python3.9/site-packages (from spacy==3.2.3) (3.1.2)\n",
      "Requirement already satisfied: preshed<3.1.0,>=3.0.2 in /Users/jyotikasingh/opt/anaconda3/envs/myenv/lib/python3.9/site-packages (from spacy==3.2.3) (3.0.8)\n",
      "Requirement already satisfied: pathy>=0.3.5 in /Users/jyotikasingh/opt/anaconda3/envs/myenv/lib/python3.9/site-packages (from spacy==3.2.3) (0.10.0)\n",
      "Requirement already satisfied: spacy-loggers<2.0.0,>=1.0.0 in /Users/jyotikasingh/opt/anaconda3/envs/myenv/lib/python3.9/site-packages (from spacy==3.2.3) (1.0.3)\n",
      "Requirement already satisfied: tqdm<5.0.0,>=4.38.0 in /Users/jyotikasingh/opt/anaconda3/envs/myenv/lib/python3.9/site-packages (from spacy==3.2.3) (4.64.1)\n",
      "Requirement already satisfied: cymem<2.1.0,>=2.0.2 in /Users/jyotikasingh/opt/anaconda3/envs/myenv/lib/python3.9/site-packages (from spacy==3.2.3) (2.0.7)\n",
      "Requirement already satisfied: requests<3.0.0,>=2.13.0 in /Users/jyotikasingh/opt/anaconda3/envs/myenv/lib/python3.9/site-packages (from spacy==3.2.3) (2.28.1)\n",
      "Requirement already satisfied: typer<0.5.0,>=0.3.0 in /Users/jyotikasingh/opt/anaconda3/envs/myenv/lib/python3.9/site-packages (from spacy==3.2.3) (0.4.2)\n",
      "Requirement already satisfied: numpy>=1.15.0 in /Users/jyotikasingh/opt/anaconda3/envs/myenv/lib/python3.9/site-packages (from spacy==3.2.3) (1.23.5)\n",
      "Requirement already satisfied: spacy-legacy<3.1.0,>=3.0.8 in /Users/jyotikasingh/opt/anaconda3/envs/myenv/lib/python3.9/site-packages (from spacy==3.2.3) (3.0.10)\n",
      "Requirement already satisfied: pydantic!=1.8,!=1.8.1,<1.9.0,>=1.7.4 in /Users/jyotikasingh/opt/anaconda3/envs/myenv/lib/python3.9/site-packages (from spacy==3.2.3) (1.8.2)\n",
      "Requirement already satisfied: packaging>=20.0 in /Users/jyotikasingh/opt/anaconda3/envs/myenv/lib/python3.9/site-packages (from spacy==3.2.3) (21.3)\n",
      "Requirement already satisfied: catalogue<2.1.0,>=2.0.6 in /Users/jyotikasingh/opt/anaconda3/envs/myenv/lib/python3.9/site-packages (from spacy==3.2.3) (2.0.8)\n",
      "Requirement already satisfied: blis<0.8.0,>=0.4.0 in /Users/jyotikasingh/opt/anaconda3/envs/myenv/lib/python3.9/site-packages (from spacy==3.2.3) (0.7.9)\n",
      "Requirement already satisfied: murmurhash<1.1.0,>=0.28.0 in /Users/jyotikasingh/opt/anaconda3/envs/myenv/lib/python3.9/site-packages (from spacy==3.2.3) (1.0.9)\n",
      "Requirement already satisfied: pyparsing!=3.0.5,>=2.0.2 in /Users/jyotikasingh/opt/anaconda3/envs/myenv/lib/python3.9/site-packages (from packaging>=20.0->spacy==3.2.3) (3.0.9)\n",
      "Requirement already satisfied: smart-open<6.0.0,>=5.2.1 in /Users/jyotikasingh/opt/anaconda3/envs/myenv/lib/python3.9/site-packages (from pathy>=0.3.5->spacy==3.2.3) (5.2.1)\n",
      "Requirement already satisfied: typing-extensions>=3.7.4.3 in /Users/jyotikasingh/opt/anaconda3/envs/myenv/lib/python3.9/site-packages (from pydantic!=1.8,!=1.8.1,<1.9.0,>=1.7.4->spacy==3.2.3) (4.4.0)\n",
      "Requirement already satisfied: urllib3<1.27,>=1.21.1 in /Users/jyotikasingh/opt/anaconda3/envs/myenv/lib/python3.9/site-packages (from requests<3.0.0,>=2.13.0->spacy==3.2.3) (1.26.13)\n",
      "Requirement already satisfied: idna<4,>=2.5 in /Users/jyotikasingh/opt/anaconda3/envs/myenv/lib/python3.9/site-packages (from requests<3.0.0,>=2.13.0->spacy==3.2.3) (3.4)\n",
      "Requirement already satisfied: charset-normalizer<3,>=2 in /Users/jyotikasingh/opt/anaconda3/envs/myenv/lib/python3.9/site-packages (from requests<3.0.0,>=2.13.0->spacy==3.2.3) (2.1.1)\n",
      "Requirement already satisfied: certifi>=2017.4.17 in /Users/jyotikasingh/opt/anaconda3/envs/myenv/lib/python3.9/site-packages (from requests<3.0.0,>=2.13.0->spacy==3.2.3) (2022.9.24)\n",
      "Requirement already satisfied: click<9.0.0,>=7.1.1 in /Users/jyotikasingh/opt/anaconda3/envs/myenv/lib/python3.9/site-packages (from typer<0.5.0,>=0.3.0->spacy==3.2.3) (8.1.3)\n",
      "Requirement already satisfied: MarkupSafe>=2.0 in /Users/jyotikasingh/opt/anaconda3/envs/myenv/lib/python3.9/site-packages (from jinja2->spacy==3.2.3) (2.1.1)\n",
      "Collecting en-core-web-lg==3.2.0\n",
      "  Downloading https://github.com/explosion/spacy-models/releases/download/en_core_web_lg-3.2.0/en_core_web_lg-3.2.0-py3-none-any.whl (777.4 MB)\n",
      "\u001b[2K     \u001b[90m━━━━━━━━━━━━━━━━━━━━━━━━━━━━━━━━━━━━━━━\u001b[0m \u001b[32m777.4/777.4 MB\u001b[0m \u001b[31m2.5 MB/s\u001b[0m eta \u001b[36m0:00:00\u001b[0m00:01\u001b[0m00:04\u001b[0m\n",
      "\u001b[?25hRequirement already satisfied: spacy<3.3.0,>=3.2.0 in /Users/jyotikasingh/opt/anaconda3/envs/myenv/lib/python3.9/site-packages (from en-core-web-lg==3.2.0) (3.2.3)\n",
      "Requirement already satisfied: spacy-legacy<3.1.0,>=3.0.8 in /Users/jyotikasingh/opt/anaconda3/envs/myenv/lib/python3.9/site-packages (from spacy<3.3.0,>=3.2.0->en-core-web-lg==3.2.0) (3.0.10)\n",
      "Requirement already satisfied: blis<0.8.0,>=0.4.0 in /Users/jyotikasingh/opt/anaconda3/envs/myenv/lib/python3.9/site-packages (from spacy<3.3.0,>=3.2.0->en-core-web-lg==3.2.0) (0.7.9)\n",
      "Requirement already satisfied: wasabi<1.1.0,>=0.8.1 in /Users/jyotikasingh/opt/anaconda3/envs/myenv/lib/python3.9/site-packages (from spacy<3.3.0,>=3.2.0->en-core-web-lg==3.2.0) (0.10.1)\n",
      "Requirement already satisfied: thinc<8.1.0,>=8.0.12 in /Users/jyotikasingh/opt/anaconda3/envs/myenv/lib/python3.9/site-packages (from spacy<3.3.0,>=3.2.0->en-core-web-lg==3.2.0) (8.0.17)\n",
      "Requirement already satisfied: tqdm<5.0.0,>=4.38.0 in /Users/jyotikasingh/opt/anaconda3/envs/myenv/lib/python3.9/site-packages (from spacy<3.3.0,>=3.2.0->en-core-web-lg==3.2.0) (4.64.1)\n",
      "Requirement already satisfied: setuptools in /Users/jyotikasingh/opt/anaconda3/envs/myenv/lib/python3.9/site-packages (from spacy<3.3.0,>=3.2.0->en-core-web-lg==3.2.0) (65.5.0)\n",
      "Requirement already satisfied: pydantic!=1.8,!=1.8.1,<1.9.0,>=1.7.4 in /Users/jyotikasingh/opt/anaconda3/envs/myenv/lib/python3.9/site-packages (from spacy<3.3.0,>=3.2.0->en-core-web-lg==3.2.0) (1.8.2)\n",
      "Requirement already satisfied: jinja2 in /Users/jyotikasingh/opt/anaconda3/envs/myenv/lib/python3.9/site-packages (from spacy<3.3.0,>=3.2.0->en-core-web-lg==3.2.0) (3.1.2)\n",
      "Requirement already satisfied: murmurhash<1.1.0,>=0.28.0 in /Users/jyotikasingh/opt/anaconda3/envs/myenv/lib/python3.9/site-packages (from spacy<3.3.0,>=3.2.0->en-core-web-lg==3.2.0) (1.0.9)\n",
      "Requirement already satisfied: catalogue<2.1.0,>=2.0.6 in /Users/jyotikasingh/opt/anaconda3/envs/myenv/lib/python3.9/site-packages (from spacy<3.3.0,>=3.2.0->en-core-web-lg==3.2.0) (2.0.8)\n",
      "Requirement already satisfied: cymem<2.1.0,>=2.0.2 in /Users/jyotikasingh/opt/anaconda3/envs/myenv/lib/python3.9/site-packages (from spacy<3.3.0,>=3.2.0->en-core-web-lg==3.2.0) (2.0.7)\n",
      "Requirement already satisfied: pathy>=0.3.5 in /Users/jyotikasingh/opt/anaconda3/envs/myenv/lib/python3.9/site-packages (from spacy<3.3.0,>=3.2.0->en-core-web-lg==3.2.0) (0.10.0)\n",
      "Requirement already satisfied: preshed<3.1.0,>=3.0.2 in /Users/jyotikasingh/opt/anaconda3/envs/myenv/lib/python3.9/site-packages (from spacy<3.3.0,>=3.2.0->en-core-web-lg==3.2.0) (3.0.8)\n",
      "Requirement already satisfied: requests<3.0.0,>=2.13.0 in /Users/jyotikasingh/opt/anaconda3/envs/myenv/lib/python3.9/site-packages (from spacy<3.3.0,>=3.2.0->en-core-web-lg==3.2.0) (2.28.1)\n",
      "Requirement already satisfied: typer<0.5.0,>=0.3.0 in /Users/jyotikasingh/opt/anaconda3/envs/myenv/lib/python3.9/site-packages (from spacy<3.3.0,>=3.2.0->en-core-web-lg==3.2.0) (0.4.2)\n",
      "Requirement already satisfied: numpy>=1.15.0 in /Users/jyotikasingh/opt/anaconda3/envs/myenv/lib/python3.9/site-packages (from spacy<3.3.0,>=3.2.0->en-core-web-lg==3.2.0) (1.23.5)\n",
      "Requirement already satisfied: langcodes<4.0.0,>=3.2.0 in /Users/jyotikasingh/opt/anaconda3/envs/myenv/lib/python3.9/site-packages (from spacy<3.3.0,>=3.2.0->en-core-web-lg==3.2.0) (3.3.0)\n",
      "Requirement already satisfied: srsly<3.0.0,>=2.4.1 in /Users/jyotikasingh/opt/anaconda3/envs/myenv/lib/python3.9/site-packages (from spacy<3.3.0,>=3.2.0->en-core-web-lg==3.2.0) (2.4.5)\n",
      "Requirement already satisfied: spacy-loggers<2.0.0,>=1.0.0 in /Users/jyotikasingh/opt/anaconda3/envs/myenv/lib/python3.9/site-packages (from spacy<3.3.0,>=3.2.0->en-core-web-lg==3.2.0) (1.0.3)\n",
      "Requirement already satisfied: packaging>=20.0 in /Users/jyotikasingh/opt/anaconda3/envs/myenv/lib/python3.9/site-packages (from spacy<3.3.0,>=3.2.0->en-core-web-lg==3.2.0) (21.3)\n"
     ]
    },
    {
     "name": "stdout",
     "output_type": "stream",
     "text": [
      "Requirement already satisfied: pyparsing!=3.0.5,>=2.0.2 in /Users/jyotikasingh/opt/anaconda3/envs/myenv/lib/python3.9/site-packages (from packaging>=20.0->spacy<3.3.0,>=3.2.0->en-core-web-lg==3.2.0) (3.0.9)\n",
      "Requirement already satisfied: smart-open<6.0.0,>=5.2.1 in /Users/jyotikasingh/opt/anaconda3/envs/myenv/lib/python3.9/site-packages (from pathy>=0.3.5->spacy<3.3.0,>=3.2.0->en-core-web-lg==3.2.0) (5.2.1)\n",
      "Requirement already satisfied: typing-extensions>=3.7.4.3 in /Users/jyotikasingh/opt/anaconda3/envs/myenv/lib/python3.9/site-packages (from pydantic!=1.8,!=1.8.1,<1.9.0,>=1.7.4->spacy<3.3.0,>=3.2.0->en-core-web-lg==3.2.0) (4.4.0)\n",
      "Requirement already satisfied: urllib3<1.27,>=1.21.1 in /Users/jyotikasingh/opt/anaconda3/envs/myenv/lib/python3.9/site-packages (from requests<3.0.0,>=2.13.0->spacy<3.3.0,>=3.2.0->en-core-web-lg==3.2.0) (1.26.13)\n",
      "Requirement already satisfied: certifi>=2017.4.17 in /Users/jyotikasingh/opt/anaconda3/envs/myenv/lib/python3.9/site-packages (from requests<3.0.0,>=2.13.0->spacy<3.3.0,>=3.2.0->en-core-web-lg==3.2.0) (2022.9.24)\n",
      "Requirement already satisfied: idna<4,>=2.5 in /Users/jyotikasingh/opt/anaconda3/envs/myenv/lib/python3.9/site-packages (from requests<3.0.0,>=2.13.0->spacy<3.3.0,>=3.2.0->en-core-web-lg==3.2.0) (3.4)\n",
      "Requirement already satisfied: charset-normalizer<3,>=2 in /Users/jyotikasingh/opt/anaconda3/envs/myenv/lib/python3.9/site-packages (from requests<3.0.0,>=2.13.0->spacy<3.3.0,>=3.2.0->en-core-web-lg==3.2.0) (2.1.1)\n",
      "Requirement already satisfied: click<9.0.0,>=7.1.1 in /Users/jyotikasingh/opt/anaconda3/envs/myenv/lib/python3.9/site-packages (from typer<0.5.0,>=0.3.0->spacy<3.3.0,>=3.2.0->en-core-web-lg==3.2.0) (8.1.3)\n",
      "Requirement already satisfied: MarkupSafe>=2.0 in /Users/jyotikasingh/opt/anaconda3/envs/myenv/lib/python3.9/site-packages (from jinja2->spacy<3.3.0,>=3.2.0->en-core-web-lg==3.2.0) (2.1.1)\n",
      "\u001b[38;5;2m✔ Download and installation successful\u001b[0m\n",
      "You can now load the package via spacy.load('en_core_web_lg')\n"
     ]
    }
   ],
   "source": [
    "! pip install spacy==3.2.3\n",
    "! python -m spacy download \"en_core_web_lg\""
   ]
  },
  {
   "cell_type": "code",
   "execution_count": 3,
   "id": "695154f7",
   "metadata": {},
   "outputs": [
    {
     "name": "stdout",
     "output_type": "stream",
     "text": [
      "I like cold soda <> hot meal -> 0.6526761073589249\n",
      "hot chocolate is filling <> hot meal -> 0.7840665641430987\n",
      "ice cream is cold <> hot meal -> 0.6564778194706912\n",
      "burger tastes best when hot <> hot meal -> 0.8263906754007433\n"
     ]
    }
   ],
   "source": [
    "import spacy\n",
    "\n",
    "nlp = spacy.load(\"en_core_web_lg\")\n",
    "\n",
    "docs = [\n",
    "    nlp(u\"I like cold soda\"),\n",
    "    nlp(u\"hot chocolate is filling\"),\n",
    "    nlp(u\"ice cream is cold\"),\n",
    "    nlp(u\"burger tastes best when hot\")\n",
    "]\n",
    "\n",
    "sample = nlp(u\"hot meal\")\n",
    "\n",
    "\n",
    "for doc in docs:\n",
    "    \n",
    "    print(doc, \"<>\", sample, \"->\", doc.similarity(sample))"
   ]
  },
  {
   "cell_type": "markdown",
   "id": "842ddc50",
   "metadata": {},
   "source": [
    "# Gensim"
   ]
  },
  {
   "cell_type": "code",
   "execution_count": 6,
   "id": "4f077469",
   "metadata": {},
   "outputs": [
    {
     "name": "stdout",
     "output_type": "stream",
     "text": [
      "Requirement already satisfied: gensim in /Users/jyotikasingh/opt/anaconda3/envs/myenv/lib/python3.9/site-packages (4.2.0)\n",
      "Requirement already satisfied: numpy>=1.17.0 in /Users/jyotikasingh/opt/anaconda3/envs/myenv/lib/python3.9/site-packages (from gensim) (1.23.5)\n",
      "Requirement already satisfied: smart-open>=1.8.1 in /Users/jyotikasingh/opt/anaconda3/envs/myenv/lib/python3.9/site-packages (from gensim) (5.2.1)\n",
      "Requirement already satisfied: scipy>=0.18.1 in /Users/jyotikasingh/opt/anaconda3/envs/myenv/lib/python3.9/site-packages (from gensim) (1.9.3)\n"
     ]
    }
   ],
   "source": [
    "! pip install gensim"
   ]
  },
  {
   "cell_type": "code",
   "execution_count": 5,
   "id": "33997160",
   "metadata": {},
   "outputs": [
    {
     "name": "stdout",
     "output_type": "stream",
     "text": [
      "[==================================================] 100.0% 1662.8/1662.8MB downloaded\n"
     ]
    }
   ],
   "source": [
    "import gensim.downloader as api\n",
    "corpus = api.load('word2vec-google-news-300')"
   ]
  },
  {
   "cell_type": "code",
   "execution_count": 7,
   "id": "3ebbf5a2",
   "metadata": {},
   "outputs": [
    {
     "name": "stdout",
     "output_type": "stream",
     "text": [
      "0.674938\n",
      "0.46843547\n"
     ]
    }
   ],
   "source": [
    "print(corpus.n_similarity(['hot', 'meal'], ['burger', 'tastes', 'best', 'when', 'hot']))\n",
    "print(corpus.n_similarity(['hot', 'meal'], ['I', 'like', 'cold', 'soda']))\n"
   ]
  },
  {
   "cell_type": "markdown",
   "id": "55df81de",
   "metadata": {},
   "source": [
    "# Transformers"
   ]
  },
  {
   "cell_type": "code",
   "execution_count": 13,
   "id": "1037a5df",
   "metadata": {},
   "outputs": [
    {
     "name": "stdout",
     "output_type": "stream",
     "text": [
      "huggingface/tokenizers: The current process just got forked, after parallelism has already been used. Disabling parallelism to avoid deadlocks...\n",
      "To disable this warning, you can either:\n",
      "\t- Avoid using `tokenizers` before the fork if possible\n",
      "\t- Explicitly set the environment variable TOKENIZERS_PARALLELISM=(true | false)\n",
      "Requirement already satisfied: transformers in /Users/jyotikasingh/opt/anaconda3/envs/myenv/lib/python3.9/site-packages (4.17.0)\n",
      "Requirement already satisfied: huggingface-hub<1.0,>=0.1.0 in /Users/jyotikasingh/opt/anaconda3/envs/myenv/lib/python3.9/site-packages (from transformers) (0.11.1)\n",
      "Requirement already satisfied: filelock in /Users/jyotikasingh/opt/anaconda3/envs/myenv/lib/python3.9/site-packages (from transformers) (3.8.0)\n",
      "Requirement already satisfied: regex!=2019.12.17 in /Users/jyotikasingh/opt/anaconda3/envs/myenv/lib/python3.9/site-packages (from transformers) (2022.10.31)\n",
      "Requirement already satisfied: sacremoses in /Users/jyotikasingh/opt/anaconda3/envs/myenv/lib/python3.9/site-packages (from transformers) (0.0.53)\n",
      "Requirement already satisfied: tqdm>=4.27 in /Users/jyotikasingh/opt/anaconda3/envs/myenv/lib/python3.9/site-packages (from transformers) (4.64.1)\n",
      "Requirement already satisfied: requests in /Users/jyotikasingh/opt/anaconda3/envs/myenv/lib/python3.9/site-packages (from transformers) (2.28.1)\n",
      "Requirement already satisfied: packaging>=20.0 in /Users/jyotikasingh/opt/anaconda3/envs/myenv/lib/python3.9/site-packages (from transformers) (21.3)\n",
      "Requirement already satisfied: pyyaml>=5.1 in /Users/jyotikasingh/opt/anaconda3/envs/myenv/lib/python3.9/site-packages (from transformers) (6.0)\n",
      "Requirement already satisfied: tokenizers!=0.11.3,>=0.11.1 in /Users/jyotikasingh/opt/anaconda3/envs/myenv/lib/python3.9/site-packages (from transformers) (0.12.1)\n",
      "Requirement already satisfied: numpy>=1.17 in /Users/jyotikasingh/opt/anaconda3/envs/myenv/lib/python3.9/site-packages (from transformers) (1.23.5)\n",
      "Requirement already satisfied: typing-extensions>=3.7.4.3 in /Users/jyotikasingh/opt/anaconda3/envs/myenv/lib/python3.9/site-packages (from huggingface-hub<1.0,>=0.1.0->transformers) (4.4.0)\n",
      "Requirement already satisfied: pyparsing!=3.0.5,>=2.0.2 in /Users/jyotikasingh/opt/anaconda3/envs/myenv/lib/python3.9/site-packages (from packaging>=20.0->transformers) (3.0.9)\n",
      "Requirement already satisfied: urllib3<1.27,>=1.21.1 in /Users/jyotikasingh/opt/anaconda3/envs/myenv/lib/python3.9/site-packages (from requests->transformers) (1.26.13)\n",
      "Requirement already satisfied: idna<4,>=2.5 in /Users/jyotikasingh/opt/anaconda3/envs/myenv/lib/python3.9/site-packages (from requests->transformers) (3.4)\n",
      "Requirement already satisfied: certifi>=2017.4.17 in /Users/jyotikasingh/opt/anaconda3/envs/myenv/lib/python3.9/site-packages (from requests->transformers) (2022.9.24)\n",
      "Requirement already satisfied: charset-normalizer<3,>=2 in /Users/jyotikasingh/opt/anaconda3/envs/myenv/lib/python3.9/site-packages (from requests->transformers) (2.1.1)\n",
      "Requirement already satisfied: click in /Users/jyotikasingh/opt/anaconda3/envs/myenv/lib/python3.9/site-packages (from sacremoses->transformers) (8.1.3)\n",
      "Requirement already satisfied: six in /Users/jyotikasingh/opt/anaconda3/envs/myenv/lib/python3.9/site-packages (from sacremoses->transformers) (1.16.0)\n",
      "Requirement already satisfied: joblib in /Users/jyotikasingh/opt/anaconda3/envs/myenv/lib/python3.9/site-packages (from sacremoses->transformers) (1.2.0)\n",
      "huggingface/tokenizers: The current process just got forked, after parallelism has already been used. Disabling parallelism to avoid deadlocks...\n",
      "To disable this warning, you can either:\n",
      "\t- Avoid using `tokenizers` before the fork if possible\n",
      "\t- Explicitly set the environment variable TOKENIZERS_PARALLELISM=(true | false)\n",
      "Collecting sentence-transformers\n",
      "  Downloading sentence-transformers-2.2.2.tar.gz (85 kB)\n",
      "\u001b[2K     \u001b[90m━━━━━━━━━━━━━━━━━━━━━━━━━━━━━━━━━━━━━━━━\u001b[0m \u001b[32m86.0/86.0 kB\u001b[0m \u001b[31m1.4 MB/s\u001b[0m eta \u001b[36m0:00:00\u001b[0ma \u001b[36m0:00:01\u001b[0m\n",
      "\u001b[?25h  Preparing metadata (setup.py) ... \u001b[?25ldone\n",
      "\u001b[?25hRequirement already satisfied: transformers<5.0.0,>=4.6.0 in /Users/jyotikasingh/opt/anaconda3/envs/myenv/lib/python3.9/site-packages (from sentence-transformers) (4.17.0)\n",
      "Requirement already satisfied: tqdm in /Users/jyotikasingh/opt/anaconda3/envs/myenv/lib/python3.9/site-packages (from sentence-transformers) (4.64.1)\n",
      "Requirement already satisfied: torch>=1.6.0 in /Users/jyotikasingh/opt/anaconda3/envs/myenv/lib/python3.9/site-packages (from sentence-transformers) (1.13.0)\n",
      "Collecting torchvision\n",
      "  Downloading torchvision-0.14.0-cp39-cp39-macosx_10_9_x86_64.whl (1.4 MB)\n",
      "\u001b[2K     \u001b[90m━━━━━━━━━━━━━━━━━━━━━━━━━━━━━━━━━━━━━━━━\u001b[0m \u001b[32m1.4/1.4 MB\u001b[0m \u001b[31m1.7 MB/s\u001b[0m eta \u001b[36m0:00:00\u001b[0m00:01\u001b[0m00:01\u001b[0m\n",
      "\u001b[?25hRequirement already satisfied: numpy in /Users/jyotikasingh/opt/anaconda3/envs/myenv/lib/python3.9/site-packages (from sentence-transformers) (1.23.5)\n",
      "Requirement already satisfied: scikit-learn in /Users/jyotikasingh/opt/anaconda3/envs/myenv/lib/python3.9/site-packages (from sentence-transformers) (1.1.3)\n",
      "Requirement already satisfied: scipy in /Users/jyotikasingh/opt/anaconda3/envs/myenv/lib/python3.9/site-packages (from sentence-transformers) (1.9.3)\n",
      "Requirement already satisfied: nltk in /Users/jyotikasingh/opt/anaconda3/envs/myenv/lib/python3.9/site-packages (from sentence-transformers) (3.6.5)\n",
      "Collecting sentencepiece\n",
      "  Downloading sentencepiece-0.1.97-cp39-cp39-macosx_10_9_x86_64.whl (1.2 MB)\n",
      "\u001b[2K     \u001b[90m━━━━━━━━━━━━━━━━━━━━━━━━━━━━━━━━━━━━━━━━\u001b[0m \u001b[32m1.2/1.2 MB\u001b[0m \u001b[31m1.1 MB/s\u001b[0m eta \u001b[36m0:00:00\u001b[0m00:01\u001b[0m00:01\u001b[0m\n",
      "\u001b[?25hRequirement already satisfied: huggingface-hub>=0.4.0 in /Users/jyotikasingh/opt/anaconda3/envs/myenv/lib/python3.9/site-packages (from sentence-transformers) (0.11.1)\n",
      "Requirement already satisfied: requests in /Users/jyotikasingh/opt/anaconda3/envs/myenv/lib/python3.9/site-packages (from huggingface-hub>=0.4.0->sentence-transformers) (2.28.1)\n",
      "Requirement already satisfied: typing-extensions>=3.7.4.3 in /Users/jyotikasingh/opt/anaconda3/envs/myenv/lib/python3.9/site-packages (from huggingface-hub>=0.4.0->sentence-transformers) (4.4.0)\n",
      "Requirement already satisfied: filelock in /Users/jyotikasingh/opt/anaconda3/envs/myenv/lib/python3.9/site-packages (from huggingface-hub>=0.4.0->sentence-transformers) (3.8.0)\n",
      "Requirement already satisfied: packaging>=20.9 in /Users/jyotikasingh/opt/anaconda3/envs/myenv/lib/python3.9/site-packages (from huggingface-hub>=0.4.0->sentence-transformers) (21.3)\n",
      "Requirement already satisfied: pyyaml>=5.1 in /Users/jyotikasingh/opt/anaconda3/envs/myenv/lib/python3.9/site-packages (from huggingface-hub>=0.4.0->sentence-transformers) (6.0)\n",
      "Requirement already satisfied: sacremoses in /Users/jyotikasingh/opt/anaconda3/envs/myenv/lib/python3.9/site-packages (from transformers<5.0.0,>=4.6.0->sentence-transformers) (0.0.53)\n",
      "Requirement already satisfied: regex!=2019.12.17 in /Users/jyotikasingh/opt/anaconda3/envs/myenv/lib/python3.9/site-packages (from transformers<5.0.0,>=4.6.0->sentence-transformers) (2022.10.31)\n",
      "Requirement already satisfied: tokenizers!=0.11.3,>=0.11.1 in /Users/jyotikasingh/opt/anaconda3/envs/myenv/lib/python3.9/site-packages (from transformers<5.0.0,>=4.6.0->sentence-transformers) (0.12.1)\n",
      "Requirement already satisfied: joblib in /Users/jyotikasingh/opt/anaconda3/envs/myenv/lib/python3.9/site-packages (from nltk->sentence-transformers) (1.2.0)\n",
      "Requirement already satisfied: click in /Users/jyotikasingh/opt/anaconda3/envs/myenv/lib/python3.9/site-packages (from nltk->sentence-transformers) (8.1.3)\n",
      "Requirement already satisfied: threadpoolctl>=2.0.0 in /Users/jyotikasingh/opt/anaconda3/envs/myenv/lib/python3.9/site-packages (from scikit-learn->sentence-transformers) (3.1.0)\n",
      "Collecting pillow!=8.3.*,>=5.3.0\n",
      "  Downloading Pillow-9.3.0-cp39-cp39-macosx_10_10_x86_64.whl (3.3 MB)\n",
      "\u001b[2K     \u001b[90m━━━━━━━━━━━━━━━━━━━━━━━━━━━━━━━━━━━━━━━━\u001b[0m \u001b[32m3.3/3.3 MB\u001b[0m \u001b[31m2.6 MB/s\u001b[0m eta \u001b[36m0:00:00\u001b[0m00:01\u001b[0m00:01\u001b[0m\n",
      "\u001b[?25hRequirement already satisfied: pyparsing!=3.0.5,>=2.0.2 in /Users/jyotikasingh/opt/anaconda3/envs/myenv/lib/python3.9/site-packages (from packaging>=20.9->huggingface-hub>=0.4.0->sentence-transformers) (3.0.9)\n"
     ]
    },
    {
     "name": "stdout",
     "output_type": "stream",
     "text": [
      "Requirement already satisfied: idna<4,>=2.5 in /Users/jyotikasingh/opt/anaconda3/envs/myenv/lib/python3.9/site-packages (from requests->huggingface-hub>=0.4.0->sentence-transformers) (3.4)\n",
      "Requirement already satisfied: charset-normalizer<3,>=2 in /Users/jyotikasingh/opt/anaconda3/envs/myenv/lib/python3.9/site-packages (from requests->huggingface-hub>=0.4.0->sentence-transformers) (2.1.1)\n",
      "Requirement already satisfied: urllib3<1.27,>=1.21.1 in /Users/jyotikasingh/opt/anaconda3/envs/myenv/lib/python3.9/site-packages (from requests->huggingface-hub>=0.4.0->sentence-transformers) (1.26.13)\n",
      "Requirement already satisfied: certifi>=2017.4.17 in /Users/jyotikasingh/opt/anaconda3/envs/myenv/lib/python3.9/site-packages (from requests->huggingface-hub>=0.4.0->sentence-transformers) (2022.9.24)\n",
      "Requirement already satisfied: six in /Users/jyotikasingh/opt/anaconda3/envs/myenv/lib/python3.9/site-packages (from sacremoses->transformers<5.0.0,>=4.6.0->sentence-transformers) (1.16.0)\n",
      "Building wheels for collected packages: sentence-transformers\n",
      "  Building wheel for sentence-transformers (setup.py) ... \u001b[?25ldone\n",
      "\u001b[?25h  Created wheel for sentence-transformers: filename=sentence_transformers-2.2.2-py3-none-any.whl size=125925 sha256=de3e7084c61926c188002d96279baf10d912a01f66c611d60976a2bfecfa7a2c\n",
      "  Stored in directory: /Users/jyotikasingh/Library/Caches/pip/wheels/71/67/06/162a3760c40d74dd40bc855d527008d26341c2b0ecf3e8e11f\n",
      "Successfully built sentence-transformers\n",
      "Installing collected packages: sentencepiece, pillow, torchvision, sentence-transformers\n",
      "Successfully installed pillow-9.3.0 sentence-transformers-2.2.2 sentencepiece-0.1.97 torchvision-0.14.0\n"
     ]
    }
   ],
   "source": [
    "! pip install transformers\n",
    "! pip install sentence-transformers"
   ]
  },
  {
   "cell_type": "code",
   "execution_count": 14,
   "id": "19b6a891",
   "metadata": {},
   "outputs": [
    {
     "name": "stdout",
     "output_type": "stream",
     "text": [
      "Similarity score: 0.3480038046836853\n",
      "Similarity score: 0.11001470685005188\n"
     ]
    }
   ],
   "source": [
    "from sentence_transformers import SentenceTransformer, util\n",
    "import numpy as np\n",
    "\n",
    "model = SentenceTransformer('stsb-roberta-base')\n",
    "doc1 = \"hot chocolate is filling\"\n",
    "doc2 = \"ice cream is cold\"\n",
    "samp = \"hot meal\"\n",
    "\n",
    "# encode sentences to get their embeddings\n",
    "embedding1 = model.encode(doc1, convert_to_tensor=True)\n",
    "embedding2 = model.encode(doc2, convert_to_tensor=True)\n",
    "samp_embedding = model.encode(samp, convert_to_tensor=True)\n",
    "\n",
    "# compute similarity scores of two embeddings\n",
    "cosine_scores = util.cos_sim(embedding1, samp_embedding)\n",
    "print(\"Similarity score:\", cosine_scores.item())\n",
    "# >> Similarity score: 0.3480038046836853\n",
    "\n",
    "cosine_scores = util.cos_sim(embedding2, samp_embedding)\n",
    "print(\"Similarity score:\", cosine_scores.item())\n",
    "# >> Similarity score: 0.11001470685005188"
   ]
  },
  {
   "cell_type": "code",
   "execution_count": 15,
   "id": "11d77fd8",
   "metadata": {},
   "outputs": [
    {
     "name": "stdout",
     "output_type": "stream",
     "text": [
      "Similarity score: 0.7925456762313843\n",
      "Similarity score: 0.30324894189834595\n"
     ]
    }
   ],
   "source": [
    "bert_model = SentenceTransformer('bert-base-nli-mean-tokens')\n",
    "\n",
    "# encode sentences to get their embeddings\n",
    "embedding1 = bert_model.encode(doc1, convert_to_tensor=True)\n",
    "embedding2 = bert_model.encode(doc2, convert_to_tensor=True)\n",
    "samp_embedding = bert_model.encode(samp, convert_to_tensor=True)\n",
    "\n",
    "# compute similarity scores of two embeddings\n",
    "cosine_scores = util.cos_sim(embedding1, samp_embedding)\n",
    "print(\"Similarity score:\", cosine_scores.item())\n",
    "\n",
    "cosine_scores = util.cos_sim(embedding2, samp_embedding)\n",
    "print(\"Similarity score:\", cosine_scores.item())"
   ]
  },
  {
   "cell_type": "code",
   "execution_count": null,
   "id": "8395c3d1",
   "metadata": {},
   "outputs": [],
   "source": []
  }
 ],
 "metadata": {
  "kernelspec": {
   "display_name": "Python 3 (ipykernel)",
   "language": "python",
   "name": "python3"
  },
  "language_info": {
   "codemirror_mode": {
    "name": "ipython",
    "version": 3
   },
   "file_extension": ".py",
   "mimetype": "text/x-python",
   "name": "python",
   "nbconvert_exporter": "python",
   "pygments_lexer": "ipython3",
   "version": "3.9.15"
  }
 },
 "nbformat": 4,
 "nbformat_minor": 5
}
