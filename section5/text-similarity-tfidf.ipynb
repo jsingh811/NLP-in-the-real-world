{
 "cells": [
  {
   "cell_type": "code",
   "execution_count": 3,
   "id": "120b5604",
   "metadata": {},
   "outputs": [
    {
     "name": "stdout",
     "output_type": "stream",
     "text": [
      "Collecting scikit-learn\n",
      "  Downloading scikit_learn-1.1.3-cp39-cp39-macosx_10_9_x86_64.whl (8.7 MB)\n",
      "\u001b[2K     \u001b[90m━━━━━━━━━━━━━━━━━━━━━━━━━━━━━━━━━━━━━━━━\u001b[0m \u001b[32m8.7/8.7 MB\u001b[0m \u001b[31m8.6 MB/s\u001b[0m eta \u001b[36m0:00:00\u001b[0m00:01\u001b[0m00:01\u001b[0m\n",
      "\u001b[?25hRequirement already satisfied: joblib>=1.0.0 in /Users/jyotikasingh/opt/anaconda3/envs/myenv/lib/python3.9/site-packages (from scikit-learn) (1.2.0)\n",
      "Collecting threadpoolctl>=2.0.0\n",
      "  Using cached threadpoolctl-3.1.0-py3-none-any.whl (14 kB)\n",
      "Requirement already satisfied: scipy>=1.3.2 in /Users/jyotikasingh/opt/anaconda3/envs/myenv/lib/python3.9/site-packages (from scikit-learn) (1.9.3)\n",
      "Requirement already satisfied: numpy>=1.17.3 in /Users/jyotikasingh/opt/anaconda3/envs/myenv/lib/python3.9/site-packages (from scikit-learn) (1.23.5)\n",
      "Installing collected packages: threadpoolctl, scikit-learn\n",
      "Successfully installed scikit-learn-1.1.3 threadpoolctl-3.1.0\n"
     ]
    }
   ],
   "source": [
    "! pip install scikit-learn"
   ]
  },
  {
   "cell_type": "code",
   "execution_count": 4,
   "id": "acbf153a",
   "metadata": {},
   "outputs": [
    {
     "name": "stdout",
     "output_type": "stream",
     "text": [
      "hot chocolate is filling 0.4377912310861148\n",
      "burger tastes best when hot 0.3667390112974172\n",
      "I like cold soda 0.0\n",
      "ice cream is cold 0.0\n"
     ]
    }
   ],
   "source": [
    "from sklearn.feature_extraction.text import TfidfVectorizer\n",
    "from sklearn.metrics.pairwise import cosine_similarity\n",
    "\n",
    "# this is your corpus\n",
    "docs_list = [\n",
    "    \"I like cold soda\",\n",
    "    \"hot chocolate is filling\",\n",
    "    \"ice cream is cold\",\n",
    "    \"burger tastes best when hot\"\n",
    "] # replace with text items in a list\n",
    "\n",
    "# this is the item you want to find similar items to\n",
    "sample = \"hot meal\"\n",
    "\n",
    "vect = TfidfVectorizer()\n",
    "# get tfidf of all samples in the corpus\n",
    "tfidf = vect.fit_transform(docs_list)\n",
    "\n",
    "# get tfidf vector for sample document\n",
    "selected_itm = vect.transform([sample])\n",
    "\n",
    "# similarity between sample doc & the rest of the corpus\n",
    "cosine_sim = [\n",
    "    cosine_similarity(selected_itm, itm)[0][0]\n",
    "    for itm in tfidf\n",
    "]\n",
    "\n",
    "# top matches with scores\n",
    "inxs = sorted(\n",
    "    range(len(cosine_sim)),\n",
    "    key=lambda i: cosine_sim[i],\n",
    "    reverse=True\n",
    ")\n",
    "for i in inxs:\n",
    "    print(docs_list[i], cosine_sim[i])\n",
    "# >> hot chocolate is filling 0.4377912310861148\n",
    "# >> burger tastes best when hot 0.3667390112974172\n",
    "# >> I like cold soda 0.0\n",
    "# >> icecream is cold 0.0"
   ]
  },
  {
   "cell_type": "code",
   "execution_count": null,
   "id": "5622e91f",
   "metadata": {},
   "outputs": [],
   "source": []
  }
 ],
 "metadata": {
  "kernelspec": {
   "display_name": "Python 3 (ipykernel)",
   "language": "python",
   "name": "python3"
  },
  "language_info": {
   "codemirror_mode": {
    "name": "ipython",
    "version": 3
   },
   "file_extension": ".py",
   "mimetype": "text/x-python",
   "name": "python",
   "nbconvert_exporter": "python",
   "pygments_lexer": "ipython3",
   "version": "3.9.15"
  }
 },
 "nbformat": 4,
 "nbformat_minor": 5
}
