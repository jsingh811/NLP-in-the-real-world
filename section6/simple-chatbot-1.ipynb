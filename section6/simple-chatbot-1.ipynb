{
 "cells": [
  {
   "cell_type": "code",
   "execution_count": 1,
   "id": "ca9ae634",
   "metadata": {},
   "outputs": [
    {
     "name": "stdout",
     "output_type": "stream",
     "text": [
      "\n",
      "        Hi! I can help you with store information. \n",
      "        Type 'timing' to know about the store timings. \n",
      "        Type 'address' to learn about the store address.\n",
      "\n",
      "timing and address\n",
      "\n",
      "            The store is open from 8am to 9pm PST every day. \n",
      "            It is closed on public holidays.\n",
      "        \n",
      "xyz St, Los Angeles, CA, 91***\n"
     ]
    }
   ],
   "source": [
    "def get_responses(user_message):\n",
    "    \"\"\"\n",
    "    Returns a list of responses based on user input message.\n",
    "    \"\"\"\n",
    "    output = []\n",
    "    if \"timing\" in user_message:\n",
    "        output.append(\"\"\"\n",
    "            The store is open from 8am to 9pm PST every day. \n",
    "            It is closed on public holidays.\n",
    "        \"\"\")\n",
    "    if \"address\" in user_message:\n",
    "        output.append(\"xyz St, Los Angeles, CA, 91***\")\n",
    "\n",
    "    if len(output) > 0:\n",
    "        return output\n",
    "    else: # If user_message doesn't match 'timing' or 'address'\n",
    "        return [\"\"\"\n",
    "            Sorry, we are unable to answer your query. \n",
    "            Please call +1(800)****** for assistance.\"\"\"\n",
    "        ]\n",
    "\n",
    "print(\"\"\"\n",
    "        Hi! I can help you with store information. \n",
    "        Type 'timing' to know about the store timings. \n",
    "        Type 'address' to learn about the store address.\n",
    "\"\"\")\n",
    "user_input = input().lower()\n",
    "print(\"\\n\".join(get_responses(user_input)))"
   ]
  },
  {
   "cell_type": "code",
   "execution_count": null,
   "id": "affc3620",
   "metadata": {},
   "outputs": [],
   "source": []
  }
 ],
 "metadata": {
  "kernelspec": {
   "display_name": "Python 3 (ipykernel)",
   "language": "python",
   "name": "python3"
  },
  "language_info": {
   "codemirror_mode": {
    "name": "ipython",
    "version": 3
   },
   "file_extension": ".py",
   "mimetype": "text/x-python",
   "name": "python",
   "nbconvert_exporter": "python",
   "pygments_lexer": "ipython3",
   "version": "3.9.7"
  }
 },
 "nbformat": 4,
 "nbformat_minor": 5
}
