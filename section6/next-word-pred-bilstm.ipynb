{
 "cells": [
  {
   "cell_type": "code",
   "execution_count": 7,
   "id": "45e68c05",
   "metadata": {},
   "outputs": [
    {
     "name": "stdout",
     "output_type": "stream",
     "text": [
      "Requirement already satisfied: wikipedia in /Users/jyotikasingh/opt/anaconda3/envs/py39/lib/python3.9/site-packages (1.4.0)\n",
      "Requirement already satisfied: beautifulsoup4 in /Users/jyotikasingh/opt/anaconda3/envs/py39/lib/python3.9/site-packages (from wikipedia) (4.10.0)\n",
      "Requirement already satisfied: requests<3.0.0,>=2.0.0 in /Users/jyotikasingh/opt/anaconda3/envs/py39/lib/python3.9/site-packages (from wikipedia) (2.26.0)\n",
      "Requirement already satisfied: certifi>=2017.4.17 in /Users/jyotikasingh/opt/anaconda3/envs/py39/lib/python3.9/site-packages (from requests<3.0.0,>=2.0.0->wikipedia) (2021.10.8)\n",
      "Requirement already satisfied: idna<4,>=2.5 in /Users/jyotikasingh/opt/anaconda3/envs/py39/lib/python3.9/site-packages (from requests<3.0.0,>=2.0.0->wikipedia) (3.2)\n",
      "Requirement already satisfied: charset-normalizer~=2.0.0 in /Users/jyotikasingh/opt/anaconda3/envs/py39/lib/python3.9/site-packages (from requests<3.0.0,>=2.0.0->wikipedia) (2.0.4)\n",
      "Requirement already satisfied: urllib3<1.27,>=1.21.1 in /Users/jyotikasingh/opt/anaconda3/envs/py39/lib/python3.9/site-packages (from requests<3.0.0,>=2.0.0->wikipedia) (1.26.7)\n",
      "Requirement already satisfied: soupsieve>1.2 in /Users/jyotikasingh/opt/anaconda3/envs/py39/lib/python3.9/site-packages (from beautifulsoup4->wikipedia) (2.2.1)\n"
     ]
    }
   ],
   "source": [
    "!pip install wikipedia\n",
    "\n",
    "import wikipedia\n",
    "# use .summary instead of .content for just the summary text.\n",
    "data = wikipedia.page(\"Data Science\").content\n",
    "data += wikipedia.page(\"Natural Language Processing\").content\n",
    "data += wikipedia.page(\"Artificial Intelligence\").content\n",
    "data += wikipedia.page(\"Machine Learning (ML)\").content\n",
    "data += wikipedia.page(\"Machine Translation\").content\n",
    "data += wikipedia.page(\"Deep Learning\").content\n",
    "data += wikipedia.page(\"Chatterbot\").content\n",
    "data += wikipedia.page(\"Data Analysis\").content\n",
    "data += wikipedia.page(\"Time Series\").content\n",
    "data += wikipedia.page(\"Supervised Learning\").content\n",
    "\n",
    "\n"
   ]
  },
  {
   "cell_type": "code",
   "execution_count": 8,
   "id": "123ec9af",
   "metadata": {},
   "outputs": [],
   "source": [
    "from nltk import tokenize\n",
    "from tensorflow.keras.preprocessing.text import Tokenizer\n",
    "\n",
    "# Remove small sentences\n",
    "lines = tokenize.sent_tokenize(data)\n",
    "lines = [i for i in lines if len(i.strip())>5]\n",
    "\n",
    "# for words not found in index\n",
    "tokenizer = Tokenizer(oov_token='<oov>') \n",
    "tokenizer.fit_on_texts(lines)\n",
    "total_words = len(tokenizer.word_index) + 1"
   ]
  },
  {
   "cell_type": "code",
   "execution_count": 12,
   "id": "ab871eda",
   "metadata": {},
   "outputs": [
    {
     "name": "stdout",
     "output_type": "stream",
     "text": [
      "len(input_sequences)=17729\n",
      "max_len=10\n"
     ]
    }
   ],
   "source": [
    "import numpy as np\n",
    "from tensorflow.keras.utils import to_categorical\n",
    "from tensorflow.keras.preprocessing.sequence import pad_sequences\n",
    "\n",
    "max_seq_len = 10\n",
    "input_sequences = []\n",
    "\n",
    "for line in lines:\n",
    "    tokens = tokenizer.texts_to_sequences([line])[0]\n",
    "    for i in range(1, min(max_seq_len, len(tokens))):\n",
    "        ngram_seq = tokens[: i+1]\n",
    "        input_sequences.append(ngram_seq)\n",
    "print(f\"{len(input_sequences)=}\")\n",
    "\n",
    "max_len = max([len(i) for i in input_sequences])\n",
    "print(f\"{max_len=}\")\n",
    "\n",
    "input_sequences = np.array(\n",
    "    pad_sequences(\n",
    "        input_sequences, maxlen=max_len, padding='pre'\n",
    "    )\n",
    ")\n",
    "\n",
    "xs, labels = input_sequences[:,:-1], input_sequences[:,-1]\n",
    "ys = to_categorical(\n",
    "    labels, num_classes=total_words\n",
    ")"
   ]
  },
  {
   "cell_type": "code",
   "execution_count": 18,
   "id": "65f3db12",
   "metadata": {},
   "outputs": [
    {
     "name": "stdout",
     "output_type": "stream",
     "text": [
      "Epoch 1/40\n",
      "555/555 [==============================] - 12s 18ms/step - loss: 6.9923 - accuracy: 0.0715\n",
      "Epoch 2/40\n",
      "555/555 [==============================] - 11s 19ms/step - loss: 5.8978 - accuracy: 0.1336\n",
      "Epoch 3/40\n",
      "555/555 [==============================] - 11s 20ms/step - loss: 5.0262 - accuracy: 0.1781\n",
      "Epoch 4/40\n",
      "555/555 [==============================] - 11s 20ms/step - loss: 4.1854 - accuracy: 0.2386\n",
      "Epoch 5/40\n",
      "555/555 [==============================] - 11s 19ms/step - loss: 3.4173 - accuracy: 0.3237\n",
      "Epoch 6/40\n",
      "555/555 [==============================] - 10s 19ms/step - loss: 2.7879 - accuracy: 0.4136\n",
      "Epoch 7/40\n",
      "555/555 [==============================] - 11s 19ms/step - loss: 2.2961 - accuracy: 0.4942\n",
      "Epoch 8/40\n",
      "555/555 [==============================] - 10s 18ms/step - loss: 1.9672 - accuracy: 0.5515\n",
      "Epoch 9/40\n",
      "555/555 [==============================] - 10s 19ms/step - loss: 1.6977 - accuracy: 0.6056\n",
      "Epoch 10/40\n",
      "555/555 [==============================] - 10s 19ms/step - loss: 1.5155 - accuracy: 0.6423\n",
      "Epoch 11/40\n",
      "555/555 [==============================] - 10s 19ms/step - loss: 1.3618 - accuracy: 0.6713\n",
      "Epoch 12/40\n",
      "555/555 [==============================] - 10s 18ms/step - loss: 1.2622 - accuracy: 0.6921\n",
      "Epoch 13/40\n",
      "555/555 [==============================] - 10s 18ms/step - loss: 1.1791 - accuracy: 0.7095\n",
      "Epoch 14/40\n",
      "555/555 [==============================] - 10s 18ms/step - loss: 1.0938 - accuracy: 0.7261\n",
      "Epoch 15/40\n",
      "555/555 [==============================] - 11s 19ms/step - loss: 1.0380 - accuracy: 0.7403\n",
      "Epoch 16/40\n",
      "555/555 [==============================] - 10s 18ms/step - loss: 1.0072 - accuracy: 0.7443\n",
      "Epoch 17/40\n",
      "555/555 [==============================] - 11s 20ms/step - loss: 0.9989 - accuracy: 0.7439\n",
      "Epoch 18/40\n",
      "555/555 [==============================] - 10s 18ms/step - loss: 0.9433 - accuracy: 0.7590\n",
      "Epoch 19/40\n",
      "555/555 [==============================] - 10s 18ms/step - loss: 0.9548 - accuracy: 0.7533\n",
      "Epoch 20/40\n",
      "555/555 [==============================] - 10s 18ms/step - loss: 0.9258 - accuracy: 0.7625\n",
      "Epoch 21/40\n",
      "555/555 [==============================] - 11s 21ms/step - loss: 0.8965 - accuracy: 0.7691\n",
      "Epoch 22/40\n",
      "555/555 [==============================] - 12s 21ms/step - loss: 0.8490 - accuracy: 0.7791\n",
      "Epoch 23/40\n",
      "555/555 [==============================] - 11s 20ms/step - loss: 0.8509 - accuracy: 0.7770\n",
      "Epoch 24/40\n",
      "555/555 [==============================] - 11s 20ms/step - loss: 0.8808 - accuracy: 0.7684\n",
      "Epoch 25/40\n",
      "555/555 [==============================] - 11s 20ms/step - loss: 0.8616 - accuracy: 0.7743\n",
      "Epoch 26/40\n",
      "555/555 [==============================] - 12s 21ms/step - loss: 0.8470 - accuracy: 0.7781\n",
      "Epoch 27/40\n",
      "555/555 [==============================] - 12s 22ms/step - loss: 0.8703 - accuracy: 0.7692\n",
      "Epoch 28/40\n",
      "555/555 [==============================] - 12s 21ms/step - loss: 0.8513 - accuracy: 0.7767\n",
      "Epoch 29/40\n",
      "555/555 [==============================] - 13s 23ms/step - loss: 0.8565 - accuracy: 0.7727\n",
      "Epoch 30/40\n",
      "555/555 [==============================] - 11s 20ms/step - loss: 0.8279 - accuracy: 0.7812\n",
      "Epoch 31/40\n",
      "555/555 [==============================] - 11s 19ms/step - loss: 0.7861 - accuracy: 0.7919\n",
      "Epoch 32/40\n",
      "555/555 [==============================] - 11s 20ms/step - loss: 0.7723 - accuracy: 0.7938\n",
      "Epoch 33/40\n",
      "555/555 [==============================] - 12s 22ms/step - loss: 0.7987 - accuracy: 0.7859\n",
      "Epoch 34/40\n",
      "555/555 [==============================] - 11s 20ms/step - loss: 0.8043 - accuracy: 0.7871\n",
      "Epoch 35/40\n",
      "555/555 [==============================] - 12s 22ms/step - loss: 0.8244 - accuracy: 0.7814\n",
      "Epoch 36/40\n",
      "555/555 [==============================] - 11s 20ms/step - loss: 0.7787 - accuracy: 0.7940\n",
      "Epoch 37/40\n",
      "555/555 [==============================] - 11s 20ms/step - loss: 0.7628 - accuracy: 0.7948\n",
      "Epoch 38/40\n",
      "555/555 [==============================] - 12s 21ms/step - loss: 0.7685 - accuracy: 0.7960\n",
      "Epoch 39/40\n",
      "555/555 [==============================] - 11s 20ms/step - loss: 0.7559 - accuracy: 0.7969\n",
      "Epoch 40/40\n",
      "555/555 [==============================] - 10s 18ms/step - loss: 0.7866 - accuracy: 0.7931\n"
     ]
    }
   ],
   "source": [
    "from tensorflow.keras.layers import (\n",
    "    Embedding, LSTM, Dense, Bidirectional\n",
    ")\n",
    "from tensorflow.keras.models import Sequential\n",
    "from tensorflow.keras.optimizers import Adam\n",
    "\n",
    "model = Sequential()\n",
    "model.add(Embedding(\n",
    "    total_words, 100, input_length=max_len-1)\n",
    ")\n",
    "model.add(Bidirectional(LSTM(64)))\n",
    "model.add(Dense(total_words, activation='softmax'))\n",
    "adam = Adam(learning_rate=0.01)\n",
    "model.compile(\n",
    "    loss='categorical_crossentropy',\n",
    "    optimizer=adam, metrics=['accuracy']\n",
    ")\n",
    "history = model.fit(xs, ys, epochs=40, verbose=1)"
   ]
  },
  {
   "cell_type": "code",
   "execution_count": 19,
   "id": "61f8f728",
   "metadata": {},
   "outputs": [
    {
     "data": {
      "image/png": "[encoded data removed]",
      "text/plain": [
       "<Figure size 432x288 with 1 Axes>"
      ]
     },
     "metadata": {
      "needs_background": "light"
     },
     "output_type": "display_data"
    },
    {
     "data": {
      "image/png": "[encoded data removed]",
      "text/plain": [
       "<Figure size 432x288 with 1 Axes>"
      ]
     },
     "metadata": {
      "needs_background": "light"
     },
     "output_type": "display_data"
    }
   ],
   "source": [
    "import matplotlib.pyplot as plt\n",
    "\n",
    "plt.plot(history.history[\"accuracy\"])\n",
    "plt.xlabel(\"Epochs\")\n",
    "plt.ylabel(\"accuracy\")\n",
    "plt.show()\n",
    "\n",
    "plt.plot(history.history[\"loss\"])\n",
    "plt.xlabel(\"Epochs\")\n",
    "plt.ylabel(\"loss\")\n",
    "plt.show()"
   ]
  },
  {
   "cell_type": "code",
   "execution_count": 20,
   "id": "054dc189",
   "metadata": {},
   "outputs": [],
   "source": [
    "def predict_nw(text, next_words=2):\n",
    "    words = [text]\n",
    "    for _ in range(next_words):\n",
    "        full_text = \" \".join(words)\n",
    "        token_list = tokenizer.texts_to_sequences(\n",
    "            [full_text]\n",
    "        )[0]\n",
    "        token_list = pad_sequences(\n",
    "            [token_list], maxlen=max_len-1, padding='pre'\n",
    "        )\n",
    "        predicted = np.argmax(model.predict(\n",
    "            token_list, verbose=0\n",
    "        ), axis=-1)\n",
    "        next_word = \"\"\n",
    "        for word, inx in tokenizer.word_index.items():\n",
    "            if inx == predicted:\n",
    "                next_word = word\n",
    "                break\n",
    "        words.append(next_word)\n",
    "    \n",
    "    return \" \".join(\n",
    "        [words[0]] + [\n",
    "            \"\".join([\"\\033[1m\", w, \"\\033[0m\"])# to bold the predictions\n",
    "            for w in words[1:]\n",
    "        ]\n",
    "    )"
   ]
  },
  {
   "cell_type": "code",
   "execution_count": 32,
   "id": "fc123996",
   "metadata": {},
   "outputs": [
    {
     "name": "stdout",
     "output_type": "stream",
     "text": [
      "neural \u001b[1mnetworks\u001b[0m\n",
      "machine \u001b[1mlearning\u001b[0m\n",
      "language \u001b[1mmodels\u001b[0m \u001b[1mlearned\u001b[0m \u001b[1mfrom\u001b[0m \u001b[1mdata\u001b[0m \u001b[1mto\u001b[0m \u001b[1mcontext\u001b[0m \u001b[1mresults\u001b[0m \u001b[1min\u001b[0m \u001b[1mcontain\u001b[0m\n",
      "natural \u001b[1mlanguage\u001b[0m \u001b[1mprocessing\u001b[0m\n",
      "deep \u001b[1mlearning\u001b[0m\n",
      "language model is \u001b[1mthe\u001b[0m \u001b[1mcontinuous\u001b[0m\n",
      "nlp \u001b[1mpowered\u001b[0m \u001b[1mdocument\u001b[0m \u001b[1mai\u001b[0m \u001b[1menables\u001b[0m \u001b[1mnon\u001b[0m \u001b[1mlinear\u001b[0m \u001b[1mclassification\u001b[0m\n",
      "processing data to \u001b[1mrank\u001b[0m \u001b[1mwhen\u001b[0m \u001b[1manalysts\u001b[0m \u001b[1mperform\u001b[0m\n"
     ]
    }
   ],
   "source": [
    "print(predict_nw(\"neural\", next_words=1))\n",
    "print(predict_nw(\"machine\", next_words=1))\n",
    "print(predict_nw(\"language\", next_words=9))\n",
    "print(predict_nw(\"natural\", next_words=2))\n",
    "print(predict_nw(\"deep\", next_words=1))\n",
    "print(predict_nw(\"language model is\", next_words=2))\n",
    "print(predict_nw(\"nlp\", next_words=7))\n",
    "print(predict_nw(\"processing data to\", next_words=4))"
   ]
  },
  {
   "cell_type": "code",
   "execution_count": null,
   "id": "92f9e304",
   "metadata": {},
   "outputs": [],
   "source": []
  }
 ],
 "metadata": {
  "kernelspec": {
   "display_name": "Python 3 (ipykernel)",
   "language": "python",
   "name": "python3"
  },
  "language_info": {
   "codemirror_mode": {
    "name": "ipython",
    "version": 3
   },
   "file_extension": ".py",
   "mimetype": "text/x-python",
   "name": "python",
   "nbconvert_exporter": "python",
   "pygments_lexer": "ipython3",
   "version": "3.9.7"
  }
 },
 "nbformat": 4,
 "nbformat_minor": 5
}
