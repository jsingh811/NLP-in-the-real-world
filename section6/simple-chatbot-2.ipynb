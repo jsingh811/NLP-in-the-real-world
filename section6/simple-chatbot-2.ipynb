{
 "cells": [
  {
   "cell_type": "code",
   "execution_count": 1,
   "id": "ca9ae634",
   "metadata": {},
   "outputs": [],
   "source": [
    "import re\n",
    "from nltk.corpus import wordnet\n",
    "\n",
    "# Building a list of Keywords\n",
    "words_dict = {\n",
    "    \"greet\": [\"hello\", \"hi\", \"hey\"], \n",
    "    \"timings\": [\"timings\", \"open\"], \n",
    "    \"address\": [\"address\", \"location\", \"where\"], \n",
    "    \"exit\": [\"bye\"]\n",
    "}\n",
    "syns = {}\n",
    "# adding synonyms to each word above\n",
    "for key in words_dict:\n",
    "    synonyms = []\n",
    "    for word in words_dict[key]:\n",
    "        for syn in wordnet.synsets(word):\n",
    "            for lem in syn.lemmas(): \n",
    "                # Remove special characters from synonym strings\n",
    "                lem_name = re.sub(\n",
    "                    \"[^a-zA-Z0-9 \\n\\.]\", \" \", lem.name()\n",
    "                )\n",
    "                synonyms.append(\".*\\\\b\" + lem_name + \"\\\\b.*\")\n",
    "        synonyms.append(\".*\\\\b\" + word + \"\\\\b.*\")\n",
    "    syns[key] = set(synonyms)"
   ]
  },
  {
   "cell_type": "code",
   "execution_count": 2,
   "id": "affc3620",
   "metadata": {},
   "outputs": [],
   "source": [
    "keywords_dict={}\n",
    "for intent, keys in syns.items():\n",
    "    # Joining with OR (|) operator\n",
    "    keywords_dict[intent] = re.compile(\"|\".join(keys))"
   ]
  },
  {
   "cell_type": "code",
   "execution_count": 3,
   "id": "11fc4f39",
   "metadata": {},
   "outputs": [],
   "source": [
    "responses = {\n",
    "  \"greet\": \"Hello! How can I help you?\",\n",
    "  \"timings\": \"\"\"\n",
    "    The store is open from 8am to 9pm PST every day. \n",
    "    It is closed on public holidays.\n",
    "  \"\"\",\n",
    "  \"address\": \"\"\"\n",
    "    The store is located at xyz St, Los Angeles, CA, 91***.\n",
    "  \"\"\",\n",
    "  \"fallback\": \"\"\"\n",
    "    Sorry, we are unable to answer your query. \n",
    "    Please call +1(800)****** for assistance.\n",
    "  \"\"\",\n",
    "  \"exit\": \"Bye!\",\n",
    "}"
   ]
  },
  {
   "cell_type": "code",
   "execution_count": 4,
   "id": "652f7d82",
   "metadata": {},
   "outputs": [
    {
     "name": "stdout",
     "output_type": "stream",
     "text": [
      "\n",
      "\n",
      "Welcome to Jo's store. How may I help you?\n",
      "hi\n",
      "Hello! How can I help you?\n",
      "is this store open on Friday? and where is it located?\n",
      "\n",
      "    The store is open from 8am to 9pm PST every day. \n",
      "    It is closed on public holidays.\n",
      "  \n",
      "\n",
      "    The store is located at xyz St, Los Angeles, CA, 91***.\n",
      "  \n",
      "ok. do you sell cupcakes?\n",
      "\n",
      "    Sorry, we are unable to answer your query. \n",
      "    Please call +1(800)****** for assistance.\n",
      "  \n",
      "ok bye\n",
      "Bye!\n"
     ]
    }
   ],
   "source": [
    "print (\"\\n\\nWelcome to Jo's store. How may I help you?\")\n",
    "while (True):  \n",
    "    # Takes the user input\n",
    "    user_input = input().lower()\n",
    "    matched_intent = [] \n",
    "    # Note: this implementation matches one intent at a time\n",
    "    for intent, pattern in keywords_dict.items():\n",
    "        # Using the regular expression\n",
    "        if re.search(pattern, user_input):\n",
    "            # select intent on keyword match\n",
    "            matched_intent.append(intent)  \n",
    "    # The fallback intent is selected by default\n",
    "    if len(matched_intent) == 0:\n",
    "        matched_intent.append(\"fallback\")\n",
    "    for intent in matched_intent:\n",
    "        if intent in responses:\n",
    "            # Prints response that matches the selected intent\n",
    "            print(responses[intent])\n",
    "        # Defining the Chatbot's exit condition\n",
    "    if \"exit\" in matched_intent:\n",
    "        break"
   ]
  },
  {
   "cell_type": "code",
   "execution_count": null,
   "id": "f7de1055",
   "metadata": {},
   "outputs": [],
   "source": []
  }
 ],
 "metadata": {
  "kernelspec": {
   "display_name": "Python 3 (ipykernel)",
   "language": "python",
   "name": "python3"
  },
  "language_info": {
   "codemirror_mode": {
    "name": "ipython",
    "version": 3
   },
   "file_extension": ".py",
   "mimetype": "text/x-python",
   "name": "python",
   "nbconvert_exporter": "python",
   "pygments_lexer": "ipython3",
   "version": "3.9.7"
  }
 },
 "nbformat": 4,
 "nbformat_minor": 5
}
