{
 "cells": [
  {
   "cell_type": "code",
   "execution_count": 1,
   "id": "ae769690",
   "metadata": {},
   "outputs": [
    {
     "name": "stdout",
     "output_type": "stream",
     "text": [
      "Requirement already satisfied: nltk in /Users/jyotikasingh/opt/anaconda3/envs/myenv/lib/python3.9/site-packages (3.6.5)\r\n",
      "Requirement already satisfied: regex>=2021.8.3 in /Users/jyotikasingh/opt/anaconda3/envs/myenv/lib/python3.9/site-packages (from nltk) (2022.10.31)\r\n",
      "Requirement already satisfied: click in /Users/jyotikasingh/opt/anaconda3/envs/myenv/lib/python3.9/site-packages (from nltk) (8.1.3)\r\n",
      "Requirement already satisfied: tqdm in /Users/jyotikasingh/opt/anaconda3/envs/myenv/lib/python3.9/site-packages (from nltk) (4.64.1)\r\n",
      "Requirement already satisfied: joblib in /Users/jyotikasingh/opt/anaconda3/envs/myenv/lib/python3.9/site-packages (from nltk) (1.2.0)\r\n"
     ]
    }
   ],
   "source": [
    "! pip install nltk"
   ]
  },
  {
   "cell_type": "code",
   "execution_count": 2,
   "id": "fadf704a",
   "metadata": {},
   "outputs": [
    {
     "name": "stdout",
     "output_type": "stream",
     "text": [
      "{'soundly', 'salutary', 'in_force', 'adept', 'skillful', 'goodness', 'effective', 'dear', 'practiced', 'undecomposed', 'unspoilt', 'full', 'skilful', 'ripe', 'unspoiled', 'beneficial', 'just', 'near', 'secure', 'expert', 'thoroughly', 'serious', 'dependable', 'safe', 'sound', 'respectable', 'honorable', 'upright', 'in_effect', 'well', 'good', 'right', 'commodity', 'proficient', 'trade_good', 'estimable', 'honest'}\n"
     ]
    }
   ],
   "source": [
    "from nltk.corpus import wordnet\n",
    "\n",
    "synonyms = []\n",
    "\n",
    "for syn in wordnet.synsets(\"good\"):\n",
    "    for l in syn.lemmas():\n",
    "        synonyms.append(l.name())\n",
    "\n",
    "synonyms = set(synonyms)\n",
    "print(synonyms)\n"
   ]
  },
  {
   "cell_type": "code",
   "execution_count": null,
   "id": "b2fbc46b",
   "metadata": {},
   "outputs": [],
   "source": []
  }
 ],
 "metadata": {
  "kernelspec": {
   "display_name": "Python 3 (ipykernel)",
   "language": "python",
   "name": "python3"
  },
  "language_info": {
   "codemirror_mode": {
    "name": "ipython",
    "version": 3
   },
   "file_extension": ".py",
   "mimetype": "text/x-python",
   "name": "python",
   "nbconvert_exporter": "python",
   "pygments_lexer": "ipython3",
   "version": "3.9.15"
  }
 },
 "nbformat": 4,
 "nbformat_minor": 5
}
