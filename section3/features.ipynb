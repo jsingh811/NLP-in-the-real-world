{
 "cells": [
  {
   "cell_type": "code",
   "execution_count": 1,
   "id": "1a206a7d",
   "metadata": {},
   "outputs": [
    {
     "name": "stdout",
     "output_type": "stream",
     "text": [
      "Requirement already satisfied: scikit-learn in /Users/jyotikasingh/opt/anaconda3/envs/myenv/lib/python3.9/site-packages (1.1.3)\n",
      "Requirement already satisfied: joblib>=1.0.0 in /Users/jyotikasingh/opt/anaconda3/envs/myenv/lib/python3.9/site-packages (from scikit-learn) (1.2.0)\n",
      "Requirement already satisfied: scipy>=1.3.2 in /Users/jyotikasingh/opt/anaconda3/envs/myenv/lib/python3.9/site-packages (from scikit-learn) (1.9.3)\n",
      "Requirement already satisfied: numpy>=1.17.3 in /Users/jyotikasingh/opt/anaconda3/envs/myenv/lib/python3.9/site-packages (from scikit-learn) (1.23.5)\n",
      "Requirement already satisfied: threadpoolctl>=2.0.0 in /Users/jyotikasingh/opt/anaconda3/envs/myenv/lib/python3.9/site-packages (from scikit-learn) (3.1.0)\n",
      "\u001b[31mERROR: Could not find a version that satisfies the requirement ntlk (from versions: none)\u001b[0m\u001b[31m\n",
      "\u001b[0m\u001b[31mERROR: No matching distribution found for ntlk\u001b[0m\u001b[31m\n",
      "\u001b[0mRequirement already satisfied: numpy in /Users/jyotikasingh/opt/anaconda3/envs/myenv/lib/python3.9/site-packages (1.23.5)\n",
      "Requirement already satisfied: scipy in /Users/jyotikasingh/opt/anaconda3/envs/myenv/lib/python3.9/site-packages (1.9.3)\n",
      "Requirement already satisfied: numpy<1.26.0,>=1.18.5 in /Users/jyotikasingh/opt/anaconda3/envs/myenv/lib/python3.9/site-packages (from scipy) (1.23.5)\n",
      "Requirement already satisfied: pandas in /Users/jyotikasingh/opt/anaconda3/envs/myenv/lib/python3.9/site-packages (1.5.2)\n",
      "Requirement already satisfied: python-dateutil>=2.8.1 in /Users/jyotikasingh/opt/anaconda3/envs/myenv/lib/python3.9/site-packages (from pandas) (2.8.2)\n",
      "Requirement already satisfied: numpy>=1.20.3 in /Users/jyotikasingh/opt/anaconda3/envs/myenv/lib/python3.9/site-packages (from pandas) (1.23.5)\n",
      "Requirement already satisfied: pytz>=2020.1 in /Users/jyotikasingh/opt/anaconda3/envs/myenv/lib/python3.9/site-packages (from pandas) (2022.6)\n",
      "Requirement already satisfied: six>=1.5 in /Users/jyotikasingh/opt/anaconda3/envs/myenv/lib/python3.9/site-packages (from python-dateutil>=2.8.1->pandas) (1.16.0)\n"
     ]
    }
   ],
   "source": [
    "! pip install scikit-learn\n",
    "! pip install ntlk\n",
    "! pip install numpy\n",
    "! pip install scipy\n",
    "! pip install pandas"
   ]
  },
  {
   "cell_type": "code",
   "execution_count": 3,
   "id": "41032c0b",
   "metadata": {},
   "outputs": [
    {
     "name": "stdout",
     "output_type": "stream",
     "text": [
      "['A' 'B' 'C']\n",
      "[0 1 2 1 0]\n"
     ]
    }
   ],
   "source": [
    "from sklearn.preprocessing import LabelEncoder\n",
    "\n",
    "lenc = LabelEncoder()\n",
    "x = [\"A\", \"B\", \"C\", \"B\", \"A\"]\n",
    "x_enc = lenc.fit_transform(x)\n",
    "\n",
    "print(lenc.classes_)\n",
    "# >> ['A' 'B' 'C']\n",
    "print(x_enc)\n",
    "# >> [0 1 2 1 0]"
   ]
  },
  {
   "cell_type": "code",
   "execution_count": 4,
   "id": "2585ce25",
   "metadata": {},
   "outputs": [
    {
     "name": "stdout",
     "output_type": "stream",
     "text": [
      "[array(['Pop', 'Rock'], dtype=object)]\n",
      "[[1. 0.]\n",
      " [0. 1.]\n",
      " [0. 1.]]\n"
     ]
    }
   ],
   "source": [
    "from sklearn.preprocessing import OneHotEncoder\n",
    "\n",
    "x = [[\"Pop\"], [\"Rock\"], [\"Rock\"]]\n",
    "oenc = OneHotEncoder()\n",
    "x_enc = oenc.fit_transform(x)\n",
    "print(oenc.categories_)\n",
    "# >> [array(['Pop', 'Rock'], dtype=object)]\n",
    "print(x_enc.toarray())\n",
    "# >> [[1. 0.] [0. 1.] [0. 1.]]"
   ]
  },
  {
   "cell_type": "code",
   "execution_count": 5,
   "id": "bc5de7ad",
   "metadata": {},
   "outputs": [
    {
     "name": "stdout",
     "output_type": "stream",
     "text": [
      "{'like': 0, 'nlp': 2, 'ml': 1}\n",
      "[[2 1 1]]\n"
     ]
    }
   ],
   "source": [
    "from sklearn.feature_extraction.text import CountVectorizer\n",
    "\n",
    "text = [\"I like NLP like ML\"]\n",
    "\n",
    "vectorizer = CountVectorizer()\n",
    "# you can also create count vectors for n-grams\n",
    "# e.g., CountVectorizer(ngram_range=(2,2)) for bigrams\n",
    "vectorizer.fit(text)\n",
    "vector = vectorizer.transform(text)\n",
    "\n",
    "print(vectorizer.vocabulary_)\n",
    "# >> {'like': 0, 'nlp': 2, 'ml': 1}\n",
    "print(vector.toarray())\n",
    "# >> [[2 1 1]]"
   ]
  },
  {
   "cell_type": "code",
   "execution_count": 6,
   "id": "eeb4f8ab",
   "metadata": {},
   "outputs": [
    {
     "name": "stdout",
     "output_type": "stream",
     "text": [
      "(1, 10)\n",
      "[[ 0.40824829  0.          0.          0.         -0.40824829 -0.81649658\n",
      "   0.          0.          0.          0.        ]]\n"
     ]
    }
   ],
   "source": [
    "from sklearn.feature_extraction.text import HashingVectorizer\n",
    "text = [\"I like natural language processing\"]\n",
    "vectorizer = HashingVectorizer(n_features=10)\n",
    "vector = vectorizer.transform(text)\n",
    "print(vector.shape)\n",
    "# >> (1, 10)\n",
    "print(vector.toarray())\n",
    "# >> [[  0.40824829 0. 0. 0. -0.40824829\n",
    "# -0.81649658 0. 0. 0. 0.]]"
   ]
  },
  {
   "cell_type": "code",
   "execution_count": 7,
   "id": "8ac2b2bc",
   "metadata": {},
   "outputs": [
    {
     "name": "stdout",
     "output_type": "stream",
     "text": [
      "  (0, 5)\t0.6133555370249717\n",
      "  (0, 4)\t0.7898069290660905\n",
      "  (1, 5)\t0.3853716274664007\n",
      "  (1, 2)\t0.652490884512534\n",
      "  (1, 1)\t0.652490884512534\n",
      "  (2, 5)\t0.34520501686496574\n",
      "  (2, 4)\t0.444514311537431\n",
      "  (2, 3)\t0.5844829010200651\n",
      "  (2, 0)\t0.5844829010200651\n"
     ]
    }
   ],
   "source": [
    "from sklearn.feature_extraction.text import TfidfVectorizer\n",
    "\n",
    "x = [\"i like nlp\", \"nlp is fun\", \"learn and like nlp\"]\n",
    "vectorizer = TfidfVectorizer()\n",
    "vectorizer.fit(x)\n",
    "tfidf_x = vectorizer.transform(x)\n",
    "print(tfidf_x)"
   ]
  },
  {
   "cell_type": "code",
   "execution_count": 8,
   "id": "db8ec1b2",
   "metadata": {},
   "outputs": [
    {
     "name": "stdout",
     "output_type": "stream",
     "text": [
      "        blue  clouds  forest  grass  green  sky\n",
      "blue     2.0     1.0     0.0    0.0    0.0  2.0\n",
      "clouds   1.0     1.0     0.0    0.0    0.0  1.0\n",
      "forest   0.0     0.0     1.0    1.0    1.0  0.0\n",
      "grass    0.0     0.0     1.0    2.0    2.0  0.0\n",
      "green    0.0     0.0     1.0    2.0    2.0  0.0\n",
      "sky      2.0     1.0     0.0    0.0    0.0  2.0\n"
     ]
    }
   ],
   "source": [
    "import numpy as np\n",
    "import pandas as pd\n",
    "import scipy\n",
    "from nltk.tokenize import word_tokenize\n",
    "\n",
    "def create_cooccurrence_matrix(sentences, window_size=2):\n",
    "    vocabulary = {}\n",
    "    data = []\n",
    "    row = []\n",
    "    col = []\n",
    "    for sentence in sentences:\n",
    "        tokens = [\n",
    "            token\n",
    "            for token in word_tokenize(sentence.strip())\n",
    "            if token != u\"\"\n",
    "        ]\n",
    "        for pos, token in enumerate(tokens):\n",
    "            i = vocabulary.setdefault(token, len(vocabulary))\n",
    "            start = max(0, pos-window_size)\n",
    "            end = min(len(tokens), pos+window_size+1)\n",
    "            for pos2 in range(start, end):\n",
    "                j = vocabulary.setdefault(tokens[pos2], len(vocabulary))\n",
    "                data.append(1.)\n",
    "                row.append(i)\n",
    "                col.append(j)\n",
    "    cooc_matrix_sparse = scipy.sparse.coo_matrix(\n",
    "        (data, (row, col))\n",
    "    )\n",
    "    return vocabulary, cooc_matrix_sparse\n",
    "sentences = [\n",
    "    'grass green',\n",
    "    'sky blue',\n",
    "    'green grass forest',\n",
    "    'blue sky clouds'\n",
    "]\n",
    "\n",
    "vocab, coocc_matrix = create_cooccurrence_matrix(sentences)\n",
    "df_coocc  = pd.DataFrame(\n",
    "    coocc_matrix.todense(), index=vocab.keys(), columns = vocab.keys()\n",
    ")\n",
    "df_coocc = df_coocc.sort_index()[sorted(vocab.keys())]\n",
    "\n",
    "print(df_coocc)\n",
    "# >>\t   blue  clouds  forest  grass  green  sky\n",
    "# blue\t 2.0\t 1.0\t 0.0\t0.0\t0.0\t2.0\n",
    "# clouds   1.0\t 1.0\t 0.0\t0.0\t0.0\t1.0\n",
    "# forest   0.0\t 0.0\t 1.0\t1.0\t1.0\t0.0\n",
    "# grass\t0.0\t 0.0\t 1.0\t2.0\t2.0\t0.0\n",
    "# green\t0.0\t 0.0\t 1.0\t2.0\t2.0\t0.0\n",
    "# sky\t  2.0\t 1.0\t 0.0\t0.0\t0.0\t2.0"
   ]
  },
  {
   "cell_type": "code",
   "execution_count": 9,
   "id": "7c1ccda9",
   "metadata": {},
   "outputs": [
    {
     "name": "stdout",
     "output_type": "stream",
     "text": [
      "Requirement already satisfied: spacy in /Users/jyotikasingh/opt/anaconda3/envs/myenv/lib/python3.9/site-packages (3.2.3)\n",
      "Requirement already satisfied: pathy>=0.3.5 in /Users/jyotikasingh/opt/anaconda3/envs/myenv/lib/python3.9/site-packages (from spacy) (0.10.0)\n",
      "Requirement already satisfied: murmurhash<1.1.0,>=0.28.0 in /Users/jyotikasingh/opt/anaconda3/envs/myenv/lib/python3.9/site-packages (from spacy) (1.0.9)\n",
      "Requirement already satisfied: spacy-legacy<3.1.0,>=3.0.8 in /Users/jyotikasingh/opt/anaconda3/envs/myenv/lib/python3.9/site-packages (from spacy) (3.0.10)\n",
      "Requirement already satisfied: cymem<2.1.0,>=2.0.2 in /Users/jyotikasingh/opt/anaconda3/envs/myenv/lib/python3.9/site-packages (from spacy) (2.0.7)\n",
      "Requirement already satisfied: langcodes<4.0.0,>=3.2.0 in /Users/jyotikasingh/opt/anaconda3/envs/myenv/lib/python3.9/site-packages (from spacy) (3.3.0)\n",
      "Requirement already satisfied: tqdm<5.0.0,>=4.38.0 in /Users/jyotikasingh/opt/anaconda3/envs/myenv/lib/python3.9/site-packages (from spacy) (4.64.1)\n",
      "Requirement already satisfied: wasabi<1.1.0,>=0.8.1 in /Users/jyotikasingh/opt/anaconda3/envs/myenv/lib/python3.9/site-packages (from spacy) (0.10.1)\n",
      "Requirement already satisfied: pydantic!=1.8,!=1.8.1,<1.9.0,>=1.7.4 in /Users/jyotikasingh/opt/anaconda3/envs/myenv/lib/python3.9/site-packages (from spacy) (1.8.2)\n",
      "Requirement already satisfied: setuptools in /Users/jyotikasingh/opt/anaconda3/envs/myenv/lib/python3.9/site-packages (from spacy) (65.5.0)\n",
      "Requirement already satisfied: requests<3.0.0,>=2.13.0 in /Users/jyotikasingh/opt/anaconda3/envs/myenv/lib/python3.9/site-packages (from spacy) (2.28.1)\n",
      "Requirement already satisfied: blis<0.8.0,>=0.4.0 in /Users/jyotikasingh/opt/anaconda3/envs/myenv/lib/python3.9/site-packages (from spacy) (0.7.9)\n",
      "Requirement already satisfied: preshed<3.1.0,>=3.0.2 in /Users/jyotikasingh/opt/anaconda3/envs/myenv/lib/python3.9/site-packages (from spacy) (3.0.8)\n",
      "Requirement already satisfied: catalogue<2.1.0,>=2.0.6 in /Users/jyotikasingh/opt/anaconda3/envs/myenv/lib/python3.9/site-packages (from spacy) (2.0.8)\n",
      "Requirement already satisfied: thinc<8.1.0,>=8.0.12 in /Users/jyotikasingh/opt/anaconda3/envs/myenv/lib/python3.9/site-packages (from spacy) (8.0.17)\n",
      "Requirement already satisfied: numpy>=1.15.0 in /Users/jyotikasingh/opt/anaconda3/envs/myenv/lib/python3.9/site-packages (from spacy) (1.23.5)\n",
      "Requirement already satisfied: typer<0.5.0,>=0.3.0 in /Users/jyotikasingh/opt/anaconda3/envs/myenv/lib/python3.9/site-packages (from spacy) (0.4.2)\n",
      "Requirement already satisfied: packaging>=20.0 in /Users/jyotikasingh/opt/anaconda3/envs/myenv/lib/python3.9/site-packages (from spacy) (21.3)\n",
      "Requirement already satisfied: srsly<3.0.0,>=2.4.1 in /Users/jyotikasingh/opt/anaconda3/envs/myenv/lib/python3.9/site-packages (from spacy) (2.4.5)\n",
      "Requirement already satisfied: jinja2 in /Users/jyotikasingh/opt/anaconda3/envs/myenv/lib/python3.9/site-packages (from spacy) (3.1.2)\n",
      "Requirement already satisfied: spacy-loggers<2.0.0,>=1.0.0 in /Users/jyotikasingh/opt/anaconda3/envs/myenv/lib/python3.9/site-packages (from spacy) (1.0.3)\n",
      "Requirement already satisfied: pyparsing!=3.0.5,>=2.0.2 in /Users/jyotikasingh/opt/anaconda3/envs/myenv/lib/python3.9/site-packages (from packaging>=20.0->spacy) (3.0.9)\n",
      "Requirement already satisfied: smart-open<6.0.0,>=5.2.1 in /Users/jyotikasingh/opt/anaconda3/envs/myenv/lib/python3.9/site-packages (from pathy>=0.3.5->spacy) (5.2.1)\n",
      "Requirement already satisfied: typing-extensions>=3.7.4.3 in /Users/jyotikasingh/opt/anaconda3/envs/myenv/lib/python3.9/site-packages (from pydantic!=1.8,!=1.8.1,<1.9.0,>=1.7.4->spacy) (4.4.0)\n",
      "Requirement already satisfied: urllib3<1.27,>=1.21.1 in /Users/jyotikasingh/opt/anaconda3/envs/myenv/lib/python3.9/site-packages (from requests<3.0.0,>=2.13.0->spacy) (1.26.13)\n",
      "Requirement already satisfied: certifi>=2017.4.17 in /Users/jyotikasingh/opt/anaconda3/envs/myenv/lib/python3.9/site-packages (from requests<3.0.0,>=2.13.0->spacy) (2022.9.24)\n",
      "Requirement already satisfied: idna<4,>=2.5 in /Users/jyotikasingh/opt/anaconda3/envs/myenv/lib/python3.9/site-packages (from requests<3.0.0,>=2.13.0->spacy) (3.4)\n",
      "Requirement already satisfied: charset-normalizer<3,>=2 in /Users/jyotikasingh/opt/anaconda3/envs/myenv/lib/python3.9/site-packages (from requests<3.0.0,>=2.13.0->spacy) (2.1.1)\n",
      "Requirement already satisfied: click<9.0.0,>=7.1.1 in /Users/jyotikasingh/opt/anaconda3/envs/myenv/lib/python3.9/site-packages (from typer<0.5.0,>=0.3.0->spacy) (8.1.3)\n",
      "Requirement already satisfied: MarkupSafe>=2.0 in /Users/jyotikasingh/opt/anaconda3/envs/myenv/lib/python3.9/site-packages (from jinja2->spacy) (2.1.1)\n",
      "2022-12-02 16:04:13.456301: I tensorflow/core/platform/cpu_feature_guard.cc:193] This TensorFlow binary is optimized with oneAPI Deep Neural Network Library (oneDNN) to use the following CPU instructions in performance-critical operations:  AVX2 FMA\n",
      "To enable them in other operations, rebuild TensorFlow with the appropriate compiler flags.\n",
      "Collecting en-core-web-sm==3.2.0\n",
      "  Downloading https://github.com/explosion/spacy-models/releases/download/en_core_web_sm-3.2.0/en_core_web_sm-3.2.0-py3-none-any.whl (13.9 MB)\n",
      "\u001b[2K     \u001b[90m━━━━━━━━━━━━━━━━━━━━━━━━━━━━━━━━━━━━━━━━\u001b[0m \u001b[32m13.9/13.9 MB\u001b[0m \u001b[31m5.0 MB/s\u001b[0m eta \u001b[36m0:00:00\u001b[0m00:01\u001b[0m00:01\u001b[0mm\n",
      "\u001b[?25hRequirement already satisfied: spacy<3.3.0,>=3.2.0 in /Users/jyotikasingh/opt/anaconda3/envs/myenv/lib/python3.9/site-packages (from en-core-web-sm==3.2.0) (3.2.3)\n",
      "Requirement already satisfied: blis<0.8.0,>=0.4.0 in /Users/jyotikasingh/opt/anaconda3/envs/myenv/lib/python3.9/site-packages (from spacy<3.3.0,>=3.2.0->en-core-web-sm==3.2.0) (0.7.9)\n",
      "Requirement already satisfied: numpy>=1.15.0 in /Users/jyotikasingh/opt/anaconda3/envs/myenv/lib/python3.9/site-packages (from spacy<3.3.0,>=3.2.0->en-core-web-sm==3.2.0) (1.23.5)\n",
      "Requirement already satisfied: setuptools in /Users/jyotikasingh/opt/anaconda3/envs/myenv/lib/python3.9/site-packages (from spacy<3.3.0,>=3.2.0->en-core-web-sm==3.2.0) (65.5.0)\n",
      "Requirement already satisfied: langcodes<4.0.0,>=3.2.0 in /Users/jyotikasingh/opt/anaconda3/envs/myenv/lib/python3.9/site-packages (from spacy<3.3.0,>=3.2.0->en-core-web-sm==3.2.0) (3.3.0)\n",
      "Requirement already satisfied: spacy-legacy<3.1.0,>=3.0.8 in /Users/jyotikasingh/opt/anaconda3/envs/myenv/lib/python3.9/site-packages (from spacy<3.3.0,>=3.2.0->en-core-web-sm==3.2.0) (3.0.10)\n",
      "Requirement already satisfied: pydantic!=1.8,!=1.8.1,<1.9.0,>=1.7.4 in /Users/jyotikasingh/opt/anaconda3/envs/myenv/lib/python3.9/site-packages (from spacy<3.3.0,>=3.2.0->en-core-web-sm==3.2.0) (1.8.2)\n",
      "Requirement already satisfied: wasabi<1.1.0,>=0.8.1 in /Users/jyotikasingh/opt/anaconda3/envs/myenv/lib/python3.9/site-packages (from spacy<3.3.0,>=3.2.0->en-core-web-sm==3.2.0) (0.10.1)\n",
      "Requirement already satisfied: thinc<8.1.0,>=8.0.12 in /Users/jyotikasingh/opt/anaconda3/envs/myenv/lib/python3.9/site-packages (from spacy<3.3.0,>=3.2.0->en-core-web-sm==3.2.0) (8.0.17)\n",
      "Requirement already satisfied: requests<3.0.0,>=2.13.0 in /Users/jyotikasingh/opt/anaconda3/envs/myenv/lib/python3.9/site-packages (from spacy<3.3.0,>=3.2.0->en-core-web-sm==3.2.0) (2.28.1)\n",
      "Requirement already satisfied: packaging>=20.0 in /Users/jyotikasingh/opt/anaconda3/envs/myenv/lib/python3.9/site-packages (from spacy<3.3.0,>=3.2.0->en-core-web-sm==3.2.0) (21.3)\n",
      "Requirement already satisfied: pathy>=0.3.5 in /Users/jyotikasingh/opt/anaconda3/envs/myenv/lib/python3.9/site-packages (from spacy<3.3.0,>=3.2.0->en-core-web-sm==3.2.0) (0.10.0)\n",
      "Requirement already satisfied: tqdm<5.0.0,>=4.38.0 in /Users/jyotikasingh/opt/anaconda3/envs/myenv/lib/python3.9/site-packages (from spacy<3.3.0,>=3.2.0->en-core-web-sm==3.2.0) (4.64.1)\n",
      "Requirement already satisfied: jinja2 in /Users/jyotikasingh/opt/anaconda3/envs/myenv/lib/python3.9/site-packages (from spacy<3.3.0,>=3.2.0->en-core-web-sm==3.2.0) (3.1.2)\n",
      "Requirement already satisfied: srsly<3.0.0,>=2.4.1 in /Users/jyotikasingh/opt/anaconda3/envs/myenv/lib/python3.9/site-packages (from spacy<3.3.0,>=3.2.0->en-core-web-sm==3.2.0) (2.4.5)\n",
      "Requirement already satisfied: typer<0.5.0,>=0.3.0 in /Users/jyotikasingh/opt/anaconda3/envs/myenv/lib/python3.9/site-packages (from spacy<3.3.0,>=3.2.0->en-core-web-sm==3.2.0) (0.4.2)\n",
      "Requirement already satisfied: spacy-loggers<2.0.0,>=1.0.0 in /Users/jyotikasingh/opt/anaconda3/envs/myenv/lib/python3.9/site-packages (from spacy<3.3.0,>=3.2.0->en-core-web-sm==3.2.0) (1.0.3)\n",
      "Requirement already satisfied: catalogue<2.1.0,>=2.0.6 in /Users/jyotikasingh/opt/anaconda3/envs/myenv/lib/python3.9/site-packages (from spacy<3.3.0,>=3.2.0->en-core-web-sm==3.2.0) (2.0.8)\n",
      "Requirement already satisfied: cymem<2.1.0,>=2.0.2 in /Users/jyotikasingh/opt/anaconda3/envs/myenv/lib/python3.9/site-packages (from spacy<3.3.0,>=3.2.0->en-core-web-sm==3.2.0) (2.0.7)\n",
      "Requirement already satisfied: murmurhash<1.1.0,>=0.28.0 in /Users/jyotikasingh/opt/anaconda3/envs/myenv/lib/python3.9/site-packages (from spacy<3.3.0,>=3.2.0->en-core-web-sm==3.2.0) (1.0.9)\n",
      "Requirement already satisfied: preshed<3.1.0,>=3.0.2 in /Users/jyotikasingh/opt/anaconda3/envs/myenv/lib/python3.9/site-packages (from spacy<3.3.0,>=3.2.0->en-core-web-sm==3.2.0) (3.0.8)\n",
      "Requirement already satisfied: pyparsing!=3.0.5,>=2.0.2 in /Users/jyotikasingh/opt/anaconda3/envs/myenv/lib/python3.9/site-packages (from packaging>=20.0->spacy<3.3.0,>=3.2.0->en-core-web-sm==3.2.0) (3.0.9)\n"
     ]
    },
    {
     "name": "stdout",
     "output_type": "stream",
     "text": [
      "Requirement already satisfied: smart-open<6.0.0,>=5.2.1 in /Users/jyotikasingh/opt/anaconda3/envs/myenv/lib/python3.9/site-packages (from pathy>=0.3.5->spacy<3.3.0,>=3.2.0->en-core-web-sm==3.2.0) (5.2.1)\n",
      "Requirement already satisfied: typing-extensions>=3.7.4.3 in /Users/jyotikasingh/opt/anaconda3/envs/myenv/lib/python3.9/site-packages (from pydantic!=1.8,!=1.8.1,<1.9.0,>=1.7.4->spacy<3.3.0,>=3.2.0->en-core-web-sm==3.2.0) (4.4.0)\n",
      "Requirement already satisfied: urllib3<1.27,>=1.21.1 in /Users/jyotikasingh/opt/anaconda3/envs/myenv/lib/python3.9/site-packages (from requests<3.0.0,>=2.13.0->spacy<3.3.0,>=3.2.0->en-core-web-sm==3.2.0) (1.26.13)\n",
      "Requirement already satisfied: certifi>=2017.4.17 in /Users/jyotikasingh/opt/anaconda3/envs/myenv/lib/python3.9/site-packages (from requests<3.0.0,>=2.13.0->spacy<3.3.0,>=3.2.0->en-core-web-sm==3.2.0) (2022.9.24)\n",
      "Requirement already satisfied: charset-normalizer<3,>=2 in /Users/jyotikasingh/opt/anaconda3/envs/myenv/lib/python3.9/site-packages (from requests<3.0.0,>=2.13.0->spacy<3.3.0,>=3.2.0->en-core-web-sm==3.2.0) (2.1.1)\n",
      "Requirement already satisfied: idna<4,>=2.5 in /Users/jyotikasingh/opt/anaconda3/envs/myenv/lib/python3.9/site-packages (from requests<3.0.0,>=2.13.0->spacy<3.3.0,>=3.2.0->en-core-web-sm==3.2.0) (3.4)\n",
      "Requirement already satisfied: click<9.0.0,>=7.1.1 in /Users/jyotikasingh/opt/anaconda3/envs/myenv/lib/python3.9/site-packages (from typer<0.5.0,>=0.3.0->spacy<3.3.0,>=3.2.0->en-core-web-sm==3.2.0) (8.1.3)\n",
      "Requirement already satisfied: MarkupSafe>=2.0 in /Users/jyotikasingh/opt/anaconda3/envs/myenv/lib/python3.9/site-packages (from jinja2->spacy<3.3.0,>=3.2.0->en-core-web-sm==3.2.0) (2.1.1)\n",
      "\u001b[38;5;2m✔ Download and installation successful\u001b[0m\n",
      "You can now load the package via spacy.load('en_core_web_sm')\n"
     ]
    }
   ],
   "source": [
    "! pip install spacy\n",
    "! python -m spacy download \"en_core_web_sm\""
   ]
  },
  {
   "cell_type": "code",
   "execution_count": 10,
   "id": "52a2b81d",
   "metadata": {},
   "outputs": [
    {
     "name": "stderr",
     "output_type": "stream",
     "text": [
      "/Users/jyotikasingh/opt/anaconda3/envs/myenv/lib/python3.9/site-packages/tqdm/auto.py:22: TqdmWarning: IProgress not found. Please update jupyter and ipywidgets. See https://ipywidgets.readthedocs.io/en/stable/user_install.html\n",
      "  from .autonotebook import tqdm as notebook_tqdm\n",
      "2022-12-02 16:04:29.416094: I tensorflow/core/platform/cpu_feature_guard.cc:193] This TensorFlow binary is optimized with oneAPI Deep Neural Network Library (oneDNN) to use the following CPU instructions in performance-critical operations:  AVX2 FMA\n",
      "To enable them in other operations, rebuild TensorFlow with the appropriate compiler flags.\n"
     ]
    },
    {
     "data": {
      "text/plain": [
       "array([ 0.13381374,  0.36508197,  0.30986196, -0.09674297,  0.19606659,\n",
       "       -0.27809095, -0.7400991 ,  0.42656842, -0.25318536, -0.04447048,\n",
       "       -0.19573873, -0.6232816 ,  0.09217687, -0.09037766,  0.50237906,\n",
       "        0.48807704, -0.40230915, -0.25389698,  0.22596228,  0.62372756,\n",
       "       -0.3362951 ,  0.1865205 ,  0.96728605, -0.08843744, -0.35482422,\n",
       "       -0.1544794 , -0.32330373, -0.13426837,  0.02369949,  0.06470922,\n",
       "       -0.30293936,  0.3435747 , -0.05029403,  0.06842262, -0.37998134,\n",
       "       -0.728451  ,  0.01250184,  0.17351228,  1.1982682 ,  0.42723656,\n",
       "        0.19957814,  0.37723488,  1.3086611 ,  0.02693128, -0.32037276,\n",
       "        0.13329065,  0.15267858, -0.23527801,  0.27066565, -0.02691245,\n",
       "       -0.00457121, -0.10034095,  0.1442278 , -0.09963769,  0.01597232,\n",
       "        0.52032745, -0.00658892, -0.08868112,  0.35356194,  0.16364096,\n",
       "       -0.16582608, -0.27053612,  0.25772235, -0.4756692 , -0.68347526,\n",
       "       -0.36431193,  0.26009572, -0.9408033 , -0.15450715, -0.8409647 ,\n",
       "        0.65700984, -0.11577698,  0.13250688,  0.81435966, -0.15216988,\n",
       "       -0.5402556 , -0.6113548 , -0.45924973,  0.77297026, -0.9731171 ,\n",
       "        0.11082043, -0.38646886,  0.29611766,  0.4653796 , -0.71650493,\n",
       "       -0.21642467,  0.01292737, -0.24202803, -0.32052988,  0.73256075,\n",
       "        0.14674051,  0.6882284 ,  0.3068465 ,  0.25952506, -0.20025787,\n",
       "       -0.58577716], dtype=float32)"
      ]
     },
     "execution_count": 10,
     "metadata": {},
     "output_type": "execute_result"
    }
   ],
   "source": [
    "import spacy\n",
    "\n",
    "nlp = spacy.load(\"en_core_web_sm\")\n",
    "\n",
    "doc = nlp(u'hot chocolate is filling')\n",
    "\n",
    "doc.vector"
   ]
  },
  {
   "cell_type": "markdown",
   "id": "f5e40a53",
   "metadata": {},
   "source": [
    "# Gensim word2vec"
   ]
  },
  {
   "cell_type": "code",
   "execution_count": 4,
   "id": "f2acab47",
   "metadata": {},
   "outputs": [
    {
     "name": "stdout",
     "output_type": "stream",
     "text": [
      "Requirement already satisfied: gensim in /Users/jyotikasingh/opt/anaconda3/envs/myenv/lib/python3.9/site-packages (3.8.3)\n",
      "Requirement already satisfied: numpy>=1.11.3 in /Users/jyotikasingh/opt/anaconda3/envs/myenv/lib/python3.9/site-packages (from gensim) (1.23.5)\n",
      "Requirement already satisfied: smart-open>=1.8.1 in /Users/jyotikasingh/opt/anaconda3/envs/myenv/lib/python3.9/site-packages (from gensim) (5.2.1)\n",
      "Requirement already satisfied: six>=1.5.0 in /Users/jyotikasingh/opt/anaconda3/envs/myenv/lib/python3.9/site-packages (from gensim) (1.16.0)\n",
      "Requirement already satisfied: scipy>=0.18.1 in /Users/jyotikasingh/opt/anaconda3/envs/myenv/lib/python3.9/site-packages (from gensim) (1.9.3)\n"
     ]
    }
   ],
   "source": [
    "! pip install gensim"
   ]
  },
  {
   "cell_type": "code",
   "execution_count": 6,
   "id": "ee8d86c0",
   "metadata": {},
   "outputs": [
    {
     "data": {
      "text/plain": [
       "array([ 8.36181641e-03,  1.81640625e-01,  8.98437500e-02,  7.22656250e-02,\n",
       "        1.18652344e-01, -9.17968750e-02, -1.50390625e-01, -9.08203125e-02,\n",
       "        2.57812500e-01,  3.15856934e-03,  2.42187500e-01, -7.32421875e-02,\n",
       "        6.15234375e-02,  2.14843750e-02, -1.86767578e-02, -3.14453125e-01,\n",
       "       -4.54711914e-03, -1.28906250e-01,  3.89099121e-03, -1.14257812e-01,\n",
       "       -1.32812500e-01,  4.39453125e-02, -6.44531250e-02, -4.19921875e-02,\n",
       "        3.32031250e-01, -3.55468750e-01, -1.86523438e-01, -6.25000000e-02,\n",
       "        1.13769531e-01, -1.62109375e-01, -2.09960938e-01,  2.79296875e-01,\n",
       "       -1.16210938e-01,  5.54199219e-02, -2.55859375e-01, -1.65039062e-01,\n",
       "        6.49414062e-02, -1.36718750e-02, -3.63769531e-02, -9.61914062e-02,\n",
       "       -5.35156250e-01,  3.97949219e-02,  2.29492188e-01, -7.76367188e-02,\n",
       "       -2.85156250e-01, -3.63281250e-01, -5.56640625e-02,  1.27929688e-01,\n",
       "       -4.80957031e-02,  2.36328125e-01,  2.94921875e-01, -5.63964844e-02,\n",
       "        8.25195312e-02, -1.66015625e-01,  8.54492188e-03, -2.02636719e-02,\n",
       "        8.30078125e-03,  8.44726562e-02,  3.26171875e-01,  1.78710938e-01,\n",
       "        1.91406250e-01, -2.69775391e-02, -2.80761719e-03, -5.10253906e-02,\n",
       "        8.88671875e-02,  1.90429688e-01, -8.34960938e-02, -4.66308594e-02,\n",
       "       -1.14746094e-01, -2.43164062e-01, -1.25000000e-01, -1.41601562e-01,\n",
       "        2.08007812e-01, -1.34765625e-01, -1.01562500e-01, -1.28906250e-01,\n",
       "        2.28881836e-03, -1.18164062e-01,  3.35937500e-01, -2.44140625e-01,\n",
       "        2.36328125e-01, -3.90625000e-02,  1.68945312e-01, -3.90625000e-01,\n",
       "       -4.34570312e-02,  4.33593750e-01, -1.90429688e-02, -3.49609375e-01,\n",
       "        2.91015625e-01, -3.85742188e-02, -2.08007812e-01,  2.28515625e-01,\n",
       "       -9.22851562e-02,  2.94189453e-02, -3.22265625e-01,  2.77099609e-02,\n",
       "       -1.91406250e-01, -9.61914062e-02,  3.90625000e-02, -3.05175781e-02,\n",
       "       -3.29589844e-02,  5.51757812e-02,  9.86328125e-02, -1.28906250e-01,\n",
       "       -1.80664062e-02,  1.28906250e-01, -3.24707031e-02, -9.57031250e-02,\n",
       "        1.75781250e-01,  9.52148438e-02, -1.56250000e-01, -1.60156250e-01,\n",
       "       -8.39843750e-02, -2.75390625e-01,  1.12304688e-01, -1.51367188e-01,\n",
       "        2.06054688e-01,  8.30078125e-02, -4.60937500e-01,  2.08007812e-01,\n",
       "       -8.88671875e-02,  2.25585938e-01, -9.42382812e-02,  1.03515625e-01,\n",
       "        1.01074219e-01, -3.08593750e-01, -1.62109375e-01,  8.34960938e-02,\n",
       "        1.34765625e-01, -6.05468750e-02, -1.85546875e-01, -4.49218750e-02,\n",
       "       -2.63671875e-01,  1.64794922e-02, -2.09960938e-01, -6.16455078e-03,\n",
       "        6.16455078e-03, -1.51367188e-01,  6.54296875e-02,  3.78906250e-01,\n",
       "       -1.70898438e-01,  5.22460938e-02, -1.31835938e-01, -6.12792969e-02,\n",
       "        1.91688538e-04,  2.63671875e-01, -4.39453125e-02,  2.53906250e-01,\n",
       "       -6.49414062e-02, -3.02734375e-01,  1.47460938e-01, -1.51367188e-02,\n",
       "       -4.31640625e-01,  2.05078125e-01, -1.88476562e-01, -1.88476562e-01,\n",
       "        3.73046875e-01, -1.30859375e-01,  4.83398438e-02,  5.78613281e-02,\n",
       "       -2.05993652e-03,  7.56835938e-02,  9.81445312e-02, -9.71679688e-02,\n",
       "        1.49414062e-01, -3.06396484e-02,  1.96289062e-01, -2.13867188e-01,\n",
       "        7.61718750e-02,  3.29589844e-02, -4.70703125e-01,  1.43554688e-01,\n",
       "       -2.45361328e-02,  1.07910156e-01,  1.04003906e-01, -3.45703125e-01,\n",
       "        2.55859375e-01,  1.09375000e-01, -1.49414062e-01, -6.44531250e-02,\n",
       "       -1.31835938e-01, -3.76953125e-01,  3.97949219e-02, -1.86523438e-01,\n",
       "        1.39648438e-01, -2.71484375e-01,  8.54492188e-02,  1.60156250e-01,\n",
       "        3.95507812e-02,  1.79687500e-01,  3.08837891e-02, -1.40625000e-01,\n",
       "       -3.06640625e-01,  1.09863281e-01,  6.49414062e-02, -5.58471680e-03,\n",
       "       -2.69531250e-01,  1.25000000e-01, -7.27539062e-02, -2.59765625e-01,\n",
       "        1.59179688e-01,  1.72851562e-01, -1.46484375e-01, -1.47460938e-01,\n",
       "       -2.72216797e-02,  4.44335938e-02,  4.37011719e-02,  4.83398438e-02,\n",
       "       -3.63281250e-01,  3.10546875e-01, -1.40625000e-01,  1.84570312e-01,\n",
       "       -1.51367188e-01,  1.96289062e-01, -5.17578125e-02, -1.16699219e-01,\n",
       "        1.48437500e-01,  1.50390625e-01,  8.69140625e-02,  2.51953125e-01,\n",
       "        2.34375000e-01,  1.45507812e-01,  3.32031250e-01, -2.45361328e-02,\n",
       "        1.02050781e-01, -1.23535156e-01,  4.34570312e-02,  3.16406250e-01,\n",
       "        9.13085938e-02,  3.55468750e-01,  1.19628906e-01,  4.95910645e-04,\n",
       "       -5.90820312e-02, -4.68750000e-02, -9.81445312e-02, -9.96093750e-02,\n",
       "        3.00781250e-01, -6.29882812e-02,  3.90625000e-01,  1.41601562e-01,\n",
       "        6.44531250e-02, -2.63671875e-01, -8.69140625e-02,  1.18164062e-01,\n",
       "        7.32421875e-02, -1.00585938e-01,  1.30615234e-02,  3.56445312e-02,\n",
       "        2.92968750e-03,  7.71484375e-02,  3.85742188e-02, -2.57812500e-01,\n",
       "       -7.42187500e-02,  3.63281250e-01,  2.08007812e-01, -3.33984375e-01,\n",
       "        1.67968750e-01, -3.29589844e-02, -2.69775391e-02,  1.20605469e-01,\n",
       "       -1.59179688e-01, -3.54003906e-02,  1.15722656e-01,  2.96875000e-01,\n",
       "        6.39648438e-02,  4.10156250e-01, -3.45703125e-01, -9.86328125e-02,\n",
       "        1.15356445e-02, -5.63964844e-02,  4.66918945e-03, -2.05078125e-01,\n",
       "       -2.19726562e-01, -6.17675781e-02,  1.73828125e-01, -2.15820312e-01,\n",
       "        6.64062500e-02, -9.42382812e-02,  2.83203125e-02, -1.37695312e-01,\n",
       "       -1.01074219e-01, -2.01171875e-01,  3.67187500e-01,  1.90429688e-01,\n",
       "        2.40234375e-01, -1.11694336e-02, -2.15820312e-01,  2.20703125e-01,\n",
       "       -9.76562500e-02,  3.26171875e-01, -1.49414062e-01,  4.17480469e-02,\n",
       "       -4.27734375e-01, -1.65039062e-01, -9.13085938e-02,  3.49121094e-02,\n",
       "       -3.73535156e-02, -2.55859375e-01,  3.94531250e-01, -5.85937500e-02],\n",
       "      dtype=float32)"
      ]
     },
     "execution_count": 6,
     "metadata": {},
     "output_type": "execute_result"
    }
   ],
   "source": [
    "import gensim.downloader as api\n",
    "\n",
    "model = api.load('word2vec-google-news-300')\n",
    "model['river']"
   ]
  },
  {
   "cell_type": "markdown",
   "id": "decf81f9",
   "metadata": {},
   "source": [
    "# fastText"
   ]
  },
  {
   "cell_type": "code",
   "execution_count": 13,
   "id": "f0d066e4",
   "metadata": {},
   "outputs": [
    {
     "data": {
      "text/plain": [
       "array([-0.01679415,  0.00839234, -0.02177516, -0.00593151, -0.00834616,\n",
       "       -0.00154076, -0.00882761,  0.01569091, -0.01973948,  0.00249172,\n",
       "       -0.00890919, -0.02117214, -0.01711161, -0.00537765, -0.01926894,\n",
       "       -0.00029109, -0.01233554,  0.00183896, -0.0160269 , -0.00282335],\n",
       "      dtype=float32)"
      ]
     },
     "execution_count": 13,
     "metadata": {},
     "output_type": "execute_result"
    }
   ],
   "source": [
    "from gensim.models import FastText\n",
    "\n",
    "tokens_doc = [\n",
    "    ['I', 'like', 'nlp'],\n",
    "    ['nlp', 'and', 'machine', 'learning']\n",
    "]\n",
    "fast = FastText(\n",
    "    tokens_doc,\n",
    "    size=20,\n",
    "    window=1,\n",
    "    min_count=1,\n",
    "    workers=5,\n",
    "    min_n=1, max_n=2\n",
    ")\n",
    "# vector for word 'nlp'\n",
    "fast.wv['nlp']"
   ]
  },
  {
   "cell_type": "markdown",
   "id": "e28dbda6",
   "metadata": {},
   "source": [
    "# GloVe"
   ]
  },
  {
   "cell_type": "code",
   "execution_count": 16,
   "id": "cf0b385e",
   "metadata": {},
   "outputs": [
    {
     "name": "stdout",
     "output_type": "stream",
     "text": [
      "Collecting wget\n",
      "  Downloading wget-3.2.zip (10 kB)\n",
      "  Preparing metadata (setup.py) ... \u001b[?25ldone\n",
      "\u001b[?25hBuilding wheels for collected packages: wget\n",
      "  Building wheel for wget (setup.py) ... \u001b[?25ldone\n",
      "\u001b[?25h  Created wheel for wget: filename=wget-3.2-py3-none-any.whl size=9657 sha256=989ce580e106b4701d57190230a7fb0a580f39905ac1455e64c50b69def401a8\n",
      "  Stored in directory: /Users/jyotikasingh/Library/Caches/pip/wheels/04/5f/3e/46cc37c5d698415694d83f607f833f83f0149e49b3af9d0f38\n",
      "Successfully built wget\n",
      "Installing collected packages: wget\n",
      "Successfully installed wget-3.2\n"
     ]
    }
   ],
   "source": [
    "! pip install wget"
   ]
  },
  {
   "cell_type": "code",
   "execution_count": 19,
   "id": "9a349b40",
   "metadata": {},
   "outputs": [
    {
     "name": "stdout",
     "output_type": "stream",
     "text": [
      "100% [..................................................] 862182613 / 8621826133440 / 862182613\n",
      "Saved under glove.6B.zip\n",
      "Archive:  glove.6B.zip\n",
      "  inflating: glove.6B.50d.txt        \n",
      "  inflating: glove.6B.100d.txt       \n",
      "  inflating: glove.6B.200d.txt       \n",
      "  inflating: glove.6B.300d.txt       \n"
     ]
    }
   ],
   "source": [
    "! python -m wget http://nlp.stanford.edu/data/glove.6B.zip\n",
    "! unzip glove*.zip"
   ]
  },
  {
   "cell_type": "code",
   "execution_count": 21,
   "id": "93a11c86",
   "metadata": {},
   "outputs": [
    {
     "name": "stdout",
     "output_type": "stream",
     "text": [
      "[-0.3396    -0.034968   0.50918   -0.21131    0.12505   -0.1273\n",
      " -0.49713   -0.42766   -1.1465    -1.03      -0.68081   -0.8441\n",
      " -0.53539   -0.34949    0.35617    0.084823  -0.30111   -0.015468\n",
      "  0.20779   -0.21195    0.06292    1.538     -0.053514   0.82091\n",
      "  0.40287   -0.6614     0.36424    0.31173   -0.39355    0.30448\n",
      "  0.29614   -0.15658   -0.4304     0.10324    0.49861   -0.74793\n",
      " -1.2427     0.57625    0.40451   -0.38491   -0.43445    0.49646\n",
      "  0.16707    0.44802    0.11118    0.42416    0.3119     0.9609\n",
      " -0.74435    0.83122   -0.20885    0.76589    0.5018    -0.23054\n",
      "  0.069079   0.79359   -0.70704   -0.040888   0.35677    0.63979\n",
      " -0.45005    0.37254    0.020079  -0.25263   -0.46693    0.34979\n",
      " -0.20673    0.47023    0.26935   -1.0315    -0.33268   -0.72155\n",
      " -0.43251    0.38386    0.41144    1.0171     0.85954    0.12452\n",
      "  0.89378   -0.52045    0.25741    0.37725   -1.0493    -0.21989\n",
      "  0.0077625 -0.90762    0.078311  -0.50351    0.25786   -0.72913\n",
      "  0.25364    0.40323   -0.49612   -0.32482   -0.69986    0.20782\n",
      " -0.70231   -0.64524   -0.083101  -0.37792    0.02498    0.41812\n",
      "  0.17609    1.09      -0.13845   -0.794     -0.32692    0.79608\n",
      "  0.069371   0.44866   -1.1441     0.77456    0.5509    -0.066422\n",
      "  0.29285    0.22489    0.30026   -0.50712   -0.65223    1.0756\n",
      " -0.22994   -0.35388    0.13464   -0.40551    0.49609   -1.1065\n",
      "  0.16036   -0.18462    0.64449    0.37588   -0.0093257  0.17347\n",
      " -0.174      0.052165   0.64342   -0.065668  -0.42064    0.37874\n",
      "  0.44188   -0.19628    0.73919   -0.23613    0.12714    0.3434\n",
      "  1.6095     0.99767    0.52036   -0.036724   1.0639    -0.41385\n",
      "  0.83899    0.37225    0.43358   -0.228      1.2421    -0.11866\n",
      "  0.2723     0.54134   -0.73974   -0.53244    0.41792    0.21059\n",
      " -0.78672    0.1657     0.74051    0.96185    0.22702    0.012389\n",
      "  0.12724    0.16652   -0.51176    0.2001     0.81354   -0.53955\n",
      "  0.054946  -0.70224    0.37345   -0.93038   -0.15572   -0.44407\n",
      "  1.0802    -0.25002   -0.76627    0.41997   -0.20913    0.77068\n",
      " -0.22157    0.1719     0.47423    1.1007     0.61997    0.8611\n",
      " -0.12541   -0.024734  -0.49452    0.55635   -0.17882   -0.16741\n",
      "  0.33102   -0.14728  ]\n"
     ]
    }
   ],
   "source": [
    "import numpy as np\n",
    "\n",
    "emmbed_dict = {}\n",
    "with open('glove.6B.200d.txt', 'r') as f:\n",
    "    for line in f:\n",
    "        values = line.split()\n",
    "        word = values[0]\n",
    "        vector = np.asarray(values[1:], 'float32')\n",
    "        emmbed_dict[word] = vector\n",
    "print(emmbed_dict['river'])"
   ]
  },
  {
   "cell_type": "markdown",
   "id": "a498e31b",
   "metadata": {},
   "source": [
    "# ELMo"
   ]
  },
  {
   "cell_type": "code",
   "execution_count": 22,
   "id": "0f3f0890",
   "metadata": {},
   "outputs": [
    {
     "name": "stdout",
     "output_type": "stream",
     "text": [
      "Requirement already satisfied: tensorflow in /Users/jyotikasingh/opt/anaconda3/envs/myenv/lib/python3.9/site-packages (2.11.0)\n",
      "Requirement already satisfied: opt-einsum>=2.3.2 in /Users/jyotikasingh/opt/anaconda3/envs/myenv/lib/python3.9/site-packages (from tensorflow) (3.3.0)\n",
      "Requirement already satisfied: tensorflow-estimator<2.12,>=2.11.0 in /Users/jyotikasingh/opt/anaconda3/envs/myenv/lib/python3.9/site-packages (from tensorflow) (2.11.0)\n",
      "Requirement already satisfied: wrapt>=1.11.0 in /Users/jyotikasingh/opt/anaconda3/envs/myenv/lib/python3.9/site-packages (from tensorflow) (1.14.1)\n",
      "Requirement already satisfied: tensorboard<2.12,>=2.11 in /Users/jyotikasingh/opt/anaconda3/envs/myenv/lib/python3.9/site-packages (from tensorflow) (2.11.0)\n",
      "Requirement already satisfied: absl-py>=1.0.0 in /Users/jyotikasingh/opt/anaconda3/envs/myenv/lib/python3.9/site-packages (from tensorflow) (1.3.0)\n",
      "Requirement already satisfied: h5py>=2.9.0 in /Users/jyotikasingh/opt/anaconda3/envs/myenv/lib/python3.9/site-packages (from tensorflow) (3.7.0)\n",
      "Requirement already satisfied: gast<=0.4.0,>=0.2.1 in /Users/jyotikasingh/opt/anaconda3/envs/myenv/lib/python3.9/site-packages (from tensorflow) (0.4.0)\n",
      "Requirement already satisfied: tensorflow-io-gcs-filesystem>=0.23.1 in /Users/jyotikasingh/opt/anaconda3/envs/myenv/lib/python3.9/site-packages (from tensorflow) (0.28.0)\n",
      "Requirement already satisfied: setuptools in /Users/jyotikasingh/opt/anaconda3/envs/myenv/lib/python3.9/site-packages (from tensorflow) (65.5.0)\n",
      "Requirement already satisfied: libclang>=13.0.0 in /Users/jyotikasingh/opt/anaconda3/envs/myenv/lib/python3.9/site-packages (from tensorflow) (14.0.6)\n",
      "Requirement already satisfied: typing-extensions>=3.6.6 in /Users/jyotikasingh/opt/anaconda3/envs/myenv/lib/python3.9/site-packages (from tensorflow) (4.4.0)\n",
      "Requirement already satisfied: numpy>=1.20 in /Users/jyotikasingh/opt/anaconda3/envs/myenv/lib/python3.9/site-packages (from tensorflow) (1.23.5)\n",
      "Requirement already satisfied: keras<2.12,>=2.11.0 in /Users/jyotikasingh/opt/anaconda3/envs/myenv/lib/python3.9/site-packages (from tensorflow) (2.11.0)\n",
      "Requirement already satisfied: six>=1.12.0 in /Users/jyotikasingh/opt/anaconda3/envs/myenv/lib/python3.9/site-packages (from tensorflow) (1.16.0)\n",
      "Requirement already satisfied: grpcio<2.0,>=1.24.3 in /Users/jyotikasingh/opt/anaconda3/envs/myenv/lib/python3.9/site-packages (from tensorflow) (1.51.1)\n",
      "Requirement already satisfied: flatbuffers>=2.0 in /Users/jyotikasingh/opt/anaconda3/envs/myenv/lib/python3.9/site-packages (from tensorflow) (22.11.23)\n",
      "Requirement already satisfied: astunparse>=1.6.0 in /Users/jyotikasingh/opt/anaconda3/envs/myenv/lib/python3.9/site-packages (from tensorflow) (1.6.3)\n",
      "Requirement already satisfied: google-pasta>=0.1.1 in /Users/jyotikasingh/opt/anaconda3/envs/myenv/lib/python3.9/site-packages (from tensorflow) (0.2.0)\n",
      "Requirement already satisfied: protobuf<3.20,>=3.9.2 in /Users/jyotikasingh/opt/anaconda3/envs/myenv/lib/python3.9/site-packages (from tensorflow) (3.19.6)\n",
      "Requirement already satisfied: packaging in /Users/jyotikasingh/opt/anaconda3/envs/myenv/lib/python3.9/site-packages (from tensorflow) (21.3)\n",
      "Requirement already satisfied: termcolor>=1.1.0 in /Users/jyotikasingh/opt/anaconda3/envs/myenv/lib/python3.9/site-packages (from tensorflow) (2.1.1)\n",
      "Requirement already satisfied: wheel<1.0,>=0.23.0 in /Users/jyotikasingh/opt/anaconda3/envs/myenv/lib/python3.9/site-packages (from astunparse>=1.6.0->tensorflow) (0.37.1)\n",
      "Requirement already satisfied: tensorboard-data-server<0.7.0,>=0.6.0 in /Users/jyotikasingh/opt/anaconda3/envs/myenv/lib/python3.9/site-packages (from tensorboard<2.12,>=2.11->tensorflow) (0.6.1)\n",
      "Requirement already satisfied: google-auth-oauthlib<0.5,>=0.4.1 in /Users/jyotikasingh/opt/anaconda3/envs/myenv/lib/python3.9/site-packages (from tensorboard<2.12,>=2.11->tensorflow) (0.4.6)\n",
      "Requirement already satisfied: requests<3,>=2.21.0 in /Users/jyotikasingh/opt/anaconda3/envs/myenv/lib/python3.9/site-packages (from tensorboard<2.12,>=2.11->tensorflow) (2.28.1)\n",
      "Requirement already satisfied: werkzeug>=1.0.1 in /Users/jyotikasingh/opt/anaconda3/envs/myenv/lib/python3.9/site-packages (from tensorboard<2.12,>=2.11->tensorflow) (2.2.2)\n",
      "Requirement already satisfied: google-auth<3,>=1.6.3 in /Users/jyotikasingh/opt/anaconda3/envs/myenv/lib/python3.9/site-packages (from tensorboard<2.12,>=2.11->tensorflow) (2.14.1)\n",
      "Requirement already satisfied: markdown>=2.6.8 in /Users/jyotikasingh/opt/anaconda3/envs/myenv/lib/python3.9/site-packages (from tensorboard<2.12,>=2.11->tensorflow) (3.4.1)\n",
      "Requirement already satisfied: tensorboard-plugin-wit>=1.6.0 in /Users/jyotikasingh/opt/anaconda3/envs/myenv/lib/python3.9/site-packages (from tensorboard<2.12,>=2.11->tensorflow) (1.8.1)\n",
      "Requirement already satisfied: pyparsing!=3.0.5,>=2.0.2 in /Users/jyotikasingh/opt/anaconda3/envs/myenv/lib/python3.9/site-packages (from packaging->tensorflow) (3.0.9)\n",
      "Requirement already satisfied: cachetools<6.0,>=2.0.0 in /Users/jyotikasingh/opt/anaconda3/envs/myenv/lib/python3.9/site-packages (from google-auth<3,>=1.6.3->tensorboard<2.12,>=2.11->tensorflow) (5.2.0)\n",
      "Requirement already satisfied: pyasn1-modules>=0.2.1 in /Users/jyotikasingh/opt/anaconda3/envs/myenv/lib/python3.9/site-packages (from google-auth<3,>=1.6.3->tensorboard<2.12,>=2.11->tensorflow) (0.2.8)\n",
      "Requirement already satisfied: rsa<5,>=3.1.4 in /Users/jyotikasingh/opt/anaconda3/envs/myenv/lib/python3.9/site-packages (from google-auth<3,>=1.6.3->tensorboard<2.12,>=2.11->tensorflow) (4.9)\n",
      "Requirement already satisfied: requests-oauthlib>=0.7.0 in /Users/jyotikasingh/opt/anaconda3/envs/myenv/lib/python3.9/site-packages (from google-auth-oauthlib<0.5,>=0.4.1->tensorboard<2.12,>=2.11->tensorflow) (1.3.1)\n",
      "Requirement already satisfied: importlib-metadata>=4.4 in /Users/jyotikasingh/opt/anaconda3/envs/myenv/lib/python3.9/site-packages (from markdown>=2.6.8->tensorboard<2.12,>=2.11->tensorflow) (5.1.0)\n",
      "Requirement already satisfied: certifi>=2017.4.17 in /Users/jyotikasingh/opt/anaconda3/envs/myenv/lib/python3.9/site-packages (from requests<3,>=2.21.0->tensorboard<2.12,>=2.11->tensorflow) (2022.9.24)\n",
      "Requirement already satisfied: urllib3<1.27,>=1.21.1 in /Users/jyotikasingh/opt/anaconda3/envs/myenv/lib/python3.9/site-packages (from requests<3,>=2.21.0->tensorboard<2.12,>=2.11->tensorflow) (1.26.13)\n",
      "Requirement already satisfied: charset-normalizer<3,>=2 in /Users/jyotikasingh/opt/anaconda3/envs/myenv/lib/python3.9/site-packages (from requests<3,>=2.21.0->tensorboard<2.12,>=2.11->tensorflow) (2.1.1)\n",
      "Requirement already satisfied: idna<4,>=2.5 in /Users/jyotikasingh/opt/anaconda3/envs/myenv/lib/python3.9/site-packages (from requests<3,>=2.21.0->tensorboard<2.12,>=2.11->tensorflow) (3.4)\n",
      "Requirement already satisfied: MarkupSafe>=2.1.1 in /Users/jyotikasingh/opt/anaconda3/envs/myenv/lib/python3.9/site-packages (from werkzeug>=1.0.1->tensorboard<2.12,>=2.11->tensorflow) (2.1.1)\n",
      "Requirement already satisfied: zipp>=0.5 in /Users/jyotikasingh/opt/anaconda3/envs/myenv/lib/python3.9/site-packages (from importlib-metadata>=4.4->markdown>=2.6.8->tensorboard<2.12,>=2.11->tensorflow) (3.10.0)\n",
      "Requirement already satisfied: pyasn1<0.5.0,>=0.4.6 in /Users/jyotikasingh/opt/anaconda3/envs/myenv/lib/python3.9/site-packages (from pyasn1-modules>=0.2.1->google-auth<3,>=1.6.3->tensorboard<2.12,>=2.11->tensorflow) (0.4.8)\n",
      "Requirement already satisfied: oauthlib>=3.0.0 in /Users/jyotikasingh/opt/anaconda3/envs/myenv/lib/python3.9/site-packages (from requests-oauthlib>=0.7.0->google-auth-oauthlib<0.5,>=0.4.1->tensorboard<2.12,>=2.11->tensorflow) (3.2.2)\n",
      "Collecting tensorflow-hub\n",
      "  Using cached tensorflow_hub-0.12.0-py2.py3-none-any.whl (108 kB)\n",
      "Requirement already satisfied: protobuf>=3.8.0 in /Users/jyotikasingh/opt/anaconda3/envs/myenv/lib/python3.9/site-packages (from tensorflow-hub) (3.19.6)\n",
      "Requirement already satisfied: numpy>=1.12.0 in /Users/jyotikasingh/opt/anaconda3/envs/myenv/lib/python3.9/site-packages (from tensorflow-hub) (1.23.5)\n",
      "Installing collected packages: tensorflow-hub\n",
      "Successfully installed tensorflow-hub-0.12.0\n"
     ]
    }
   ],
   "source": [
    "! pip install tensorflow\n",
    "! pip install tensorflow-hub"
   ]
  },
  {
   "cell_type": "code",
   "execution_count": 23,
   "id": "7b202870",
   "metadata": {},
   "outputs": [
    {
     "name": "stderr",
     "output_type": "stream",
     "text": [
      "2022-12-02 16:27:38.260300: I tensorflow/core/platform/cpu_feature_guard.cc:193] This TensorFlow binary is optimized with oneAPI Deep Neural Network Library (oneDNN) to use the following CPU instructions in performance-critical operations:  AVX2 FMA\n",
      "To enable them in other operations, rebuild TensorFlow with the appropriate compiler flags.\n"
     ]
    },
    {
     "name": "stdout",
     "output_type": "stream",
     "text": [
      "INFO:tensorflow:Saver not created because there are no variables in the graph to restore\n"
     ]
    },
    {
     "name": "stderr",
     "output_type": "stream",
     "text": [
      "INFO:tensorflow:Saver not created because there are no variables in the graph to restore\n"
     ]
    },
    {
     "name": "stdout",
     "output_type": "stream",
     "text": [
      "WARNING:tensorflow:From /Users/jyotikasingh/opt/anaconda3/envs/myenv/lib/python3.9/site-packages/tensorflow/python/util/tf_should_use.py:243: initialize_all_variables (from tensorflow.python.ops.variables) is deprecated and will be removed after 2017-03-02.\n",
      "Instructions for updating:\n",
      "Use `tf.global_variables_initializer` instead.\n"
     ]
    },
    {
     "name": "stderr",
     "output_type": "stream",
     "text": [
      "WARNING:tensorflow:From /Users/jyotikasingh/opt/anaconda3/envs/myenv/lib/python3.9/site-packages/tensorflow/python/util/tf_should_use.py:243: initialize_all_variables (from tensorflow.python.ops.variables) is deprecated and will be removed after 2017-03-02.\n",
      "Instructions for updating:\n",
      "Use `tf.global_variables_initializer` instead.\n",
      "2022-12-02 16:27:38.676278: I tensorflow/compiler/mlir/mlir_graph_optimization_pass.cc:357] MLIR V1 optimization pass is not enabled\n"
     ]
    },
    {
     "name": "stdout",
     "output_type": "stream",
     "text": [
      "Word embeddings for the word \"watch\" in the 1st sentence\n",
      "[ 0.14079624 -0.15788543 -0.00950474 ...  0.43005997 -0.52887076\n",
      "  0.0632787 ]\n",
      "Word embeddings for the word \"watch\" in the 2nd sentence\n",
      "[-0.08213369  0.01050352 -0.01454161 ...  0.48705414 -0.5445795\n",
      "  0.52623963]\n"
     ]
    }
   ],
   "source": [
    "import tensorflow_hub as hub\n",
    "import tensorflow.compat.v1 as tf\n",
    "\n",
    "tf.disable_eager_execution()\n",
    "\n",
    "# Load pre trained ELMo model\n",
    "elmo = hub.Module(\n",
    "    \"https://tfhub.dev/google/elmo/3\",\n",
    "    trainable=True\n",
    ")\n",
    "\n",
    "# create an instance of ELMo\n",
    "embeddings = elmo(\n",
    "    [\n",
    "        \"I love to watch TV\",\n",
    "        \"I am wearing a wrist watch\"\n",
    "    ],\n",
    "    signature=\"default\",\n",
    "    as_dict=True)[\"elmo\"]\n",
    "init = tf.initialize_all_variables()\n",
    "sess = tf.Session()\n",
    "sess.run(init)\n",
    "\n",
    "print('Word embeddings for the word \"watch\" in the 1st sentence')\n",
    "print(sess.run(embeddings[0][3]))\n",
    "print('Word embeddings for the word \"watch\" in the 2nd sentence')\n",
    "print(sess.run(embeddings[1][5]))\n"
   ]
  },
  {
   "cell_type": "markdown",
   "id": "7a567792",
   "metadata": {},
   "source": [
    "# Universal sentence encoder"
   ]
  },
  {
   "cell_type": "code",
   "execution_count": 2,
   "id": "0dbb50cf",
   "metadata": {},
   "outputs": [
    {
     "name": "stdout",
     "output_type": "stream",
     "text": [
      "Requirement already satisfied: tensorflow in /Users/jyotikasingh/opt/anaconda3/envs/myenv/lib/python3.9/site-packages (2.11.0)\n",
      "Requirement already satisfied: six>=1.12.0 in /Users/jyotikasingh/opt/anaconda3/envs/myenv/lib/python3.9/site-packages (from tensorflow) (1.16.0)\n",
      "Requirement already satisfied: google-pasta>=0.1.1 in /Users/jyotikasingh/opt/anaconda3/envs/myenv/lib/python3.9/site-packages (from tensorflow) (0.2.0)\n",
      "Requirement already satisfied: absl-py>=1.0.0 in /Users/jyotikasingh/opt/anaconda3/envs/myenv/lib/python3.9/site-packages (from tensorflow) (1.3.0)\n",
      "Requirement already satisfied: flatbuffers>=2.0 in /Users/jyotikasingh/opt/anaconda3/envs/myenv/lib/python3.9/site-packages (from tensorflow) (22.11.23)\n",
      "Requirement already satisfied: setuptools in /Users/jyotikasingh/opt/anaconda3/envs/myenv/lib/python3.9/site-packages (from tensorflow) (65.5.0)\n",
      "Requirement already satisfied: protobuf<3.20,>=3.9.2 in /Users/jyotikasingh/opt/anaconda3/envs/myenv/lib/python3.9/site-packages (from tensorflow) (3.19.6)\n",
      "Requirement already satisfied: h5py>=2.9.0 in /Users/jyotikasingh/opt/anaconda3/envs/myenv/lib/python3.9/site-packages (from tensorflow) (3.7.0)\n",
      "Requirement already satisfied: tensorboard<2.12,>=2.11 in /Users/jyotikasingh/opt/anaconda3/envs/myenv/lib/python3.9/site-packages (from tensorflow) (2.11.0)\n",
      "Requirement already satisfied: wrapt>=1.11.0 in /Users/jyotikasingh/opt/anaconda3/envs/myenv/lib/python3.9/site-packages (from tensorflow) (1.14.1)\n",
      "Requirement already satisfied: astunparse>=1.6.0 in /Users/jyotikasingh/opt/anaconda3/envs/myenv/lib/python3.9/site-packages (from tensorflow) (1.6.3)\n",
      "Requirement already satisfied: tensorflow-estimator<2.12,>=2.11.0 in /Users/jyotikasingh/opt/anaconda3/envs/myenv/lib/python3.9/site-packages (from tensorflow) (2.11.0)\n",
      "Requirement already satisfied: opt-einsum>=2.3.2 in /Users/jyotikasingh/opt/anaconda3/envs/myenv/lib/python3.9/site-packages (from tensorflow) (3.3.0)\n",
      "Requirement already satisfied: grpcio<2.0,>=1.24.3 in /Users/jyotikasingh/opt/anaconda3/envs/myenv/lib/python3.9/site-packages (from tensorflow) (1.51.1)\n",
      "Requirement already satisfied: packaging in /Users/jyotikasingh/opt/anaconda3/envs/myenv/lib/python3.9/site-packages (from tensorflow) (21.3)\n",
      "Requirement already satisfied: typing-extensions>=3.6.6 in /Users/jyotikasingh/opt/anaconda3/envs/myenv/lib/python3.9/site-packages (from tensorflow) (4.4.0)\n",
      "Requirement already satisfied: keras<2.12,>=2.11.0 in /Users/jyotikasingh/opt/anaconda3/envs/myenv/lib/python3.9/site-packages (from tensorflow) (2.11.0)\n",
      "Requirement already satisfied: numpy>=1.20 in /Users/jyotikasingh/opt/anaconda3/envs/myenv/lib/python3.9/site-packages (from tensorflow) (1.23.5)\n",
      "Requirement already satisfied: tensorflow-io-gcs-filesystem>=0.23.1 in /Users/jyotikasingh/opt/anaconda3/envs/myenv/lib/python3.9/site-packages (from tensorflow) (0.28.0)\n",
      "Requirement already satisfied: gast<=0.4.0,>=0.2.1 in /Users/jyotikasingh/opt/anaconda3/envs/myenv/lib/python3.9/site-packages (from tensorflow) (0.4.0)\n",
      "Requirement already satisfied: termcolor>=1.1.0 in /Users/jyotikasingh/opt/anaconda3/envs/myenv/lib/python3.9/site-packages (from tensorflow) (2.1.1)\n",
      "Requirement already satisfied: libclang>=13.0.0 in /Users/jyotikasingh/opt/anaconda3/envs/myenv/lib/python3.9/site-packages (from tensorflow) (14.0.6)\n",
      "Requirement already satisfied: wheel<1.0,>=0.23.0 in /Users/jyotikasingh/opt/anaconda3/envs/myenv/lib/python3.9/site-packages (from astunparse>=1.6.0->tensorflow) (0.37.1)\n",
      "Requirement already satisfied: werkzeug>=1.0.1 in /Users/jyotikasingh/opt/anaconda3/envs/myenv/lib/python3.9/site-packages (from tensorboard<2.12,>=2.11->tensorflow) (2.2.2)\n",
      "Requirement already satisfied: google-auth<3,>=1.6.3 in /Users/jyotikasingh/opt/anaconda3/envs/myenv/lib/python3.9/site-packages (from tensorboard<2.12,>=2.11->tensorflow) (2.14.1)\n",
      "Requirement already satisfied: requests<3,>=2.21.0 in /Users/jyotikasingh/opt/anaconda3/envs/myenv/lib/python3.9/site-packages (from tensorboard<2.12,>=2.11->tensorflow) (2.28.1)\n",
      "Requirement already satisfied: markdown>=2.6.8 in /Users/jyotikasingh/opt/anaconda3/envs/myenv/lib/python3.9/site-packages (from tensorboard<2.12,>=2.11->tensorflow) (3.4.1)\n",
      "Requirement already satisfied: google-auth-oauthlib<0.5,>=0.4.1 in /Users/jyotikasingh/opt/anaconda3/envs/myenv/lib/python3.9/site-packages (from tensorboard<2.12,>=2.11->tensorflow) (0.4.6)\n",
      "Requirement already satisfied: tensorboard-plugin-wit>=1.6.0 in /Users/jyotikasingh/opt/anaconda3/envs/myenv/lib/python3.9/site-packages (from tensorboard<2.12,>=2.11->tensorflow) (1.8.1)\n",
      "Requirement already satisfied: tensorboard-data-server<0.7.0,>=0.6.0 in /Users/jyotikasingh/opt/anaconda3/envs/myenv/lib/python3.9/site-packages (from tensorboard<2.12,>=2.11->tensorflow) (0.6.1)\n",
      "Requirement already satisfied: pyparsing!=3.0.5,>=2.0.2 in /Users/jyotikasingh/opt/anaconda3/envs/myenv/lib/python3.9/site-packages (from packaging->tensorflow) (3.0.9)\n",
      "Requirement already satisfied: cachetools<6.0,>=2.0.0 in /Users/jyotikasingh/opt/anaconda3/envs/myenv/lib/python3.9/site-packages (from google-auth<3,>=1.6.3->tensorboard<2.12,>=2.11->tensorflow) (5.2.0)\n",
      "Requirement already satisfied: pyasn1-modules>=0.2.1 in /Users/jyotikasingh/opt/anaconda3/envs/myenv/lib/python3.9/site-packages (from google-auth<3,>=1.6.3->tensorboard<2.12,>=2.11->tensorflow) (0.2.8)\n",
      "Requirement already satisfied: rsa<5,>=3.1.4 in /Users/jyotikasingh/opt/anaconda3/envs/myenv/lib/python3.9/site-packages (from google-auth<3,>=1.6.3->tensorboard<2.12,>=2.11->tensorflow) (4.9)\n",
      "Requirement already satisfied: requests-oauthlib>=0.7.0 in /Users/jyotikasingh/opt/anaconda3/envs/myenv/lib/python3.9/site-packages (from google-auth-oauthlib<0.5,>=0.4.1->tensorboard<2.12,>=2.11->tensorflow) (1.3.1)\n",
      "Requirement already satisfied: importlib-metadata>=4.4 in /Users/jyotikasingh/opt/anaconda3/envs/myenv/lib/python3.9/site-packages (from markdown>=2.6.8->tensorboard<2.12,>=2.11->tensorflow) (5.1.0)\n",
      "Requirement already satisfied: charset-normalizer<3,>=2 in /Users/jyotikasingh/opt/anaconda3/envs/myenv/lib/python3.9/site-packages (from requests<3,>=2.21.0->tensorboard<2.12,>=2.11->tensorflow) (2.1.1)\n",
      "Requirement already satisfied: idna<4,>=2.5 in /Users/jyotikasingh/opt/anaconda3/envs/myenv/lib/python3.9/site-packages (from requests<3,>=2.21.0->tensorboard<2.12,>=2.11->tensorflow) (3.4)\n",
      "Requirement already satisfied: urllib3<1.27,>=1.21.1 in /Users/jyotikasingh/opt/anaconda3/envs/myenv/lib/python3.9/site-packages (from requests<3,>=2.21.0->tensorboard<2.12,>=2.11->tensorflow) (1.26.13)\n",
      "Requirement already satisfied: certifi>=2017.4.17 in /Users/jyotikasingh/opt/anaconda3/envs/myenv/lib/python3.9/site-packages (from requests<3,>=2.21.0->tensorboard<2.12,>=2.11->tensorflow) (2022.9.24)\n",
      "Requirement already satisfied: MarkupSafe>=2.1.1 in /Users/jyotikasingh/opt/anaconda3/envs/myenv/lib/python3.9/site-packages (from werkzeug>=1.0.1->tensorboard<2.12,>=2.11->tensorflow) (2.1.1)\n",
      "Requirement already satisfied: zipp>=0.5 in /Users/jyotikasingh/opt/anaconda3/envs/myenv/lib/python3.9/site-packages (from importlib-metadata>=4.4->markdown>=2.6.8->tensorboard<2.12,>=2.11->tensorflow) (3.10.0)\n",
      "Requirement already satisfied: pyasn1<0.5.0,>=0.4.6 in /Users/jyotikasingh/opt/anaconda3/envs/myenv/lib/python3.9/site-packages (from pyasn1-modules>=0.2.1->google-auth<3,>=1.6.3->tensorboard<2.12,>=2.11->tensorflow) (0.4.8)\n",
      "Requirement already satisfied: oauthlib>=3.0.0 in /Users/jyotikasingh/opt/anaconda3/envs/myenv/lib/python3.9/site-packages (from requests-oauthlib>=0.7.0->google-auth-oauthlib<0.5,>=0.4.1->tensorboard<2.12,>=2.11->tensorflow) (3.2.2)\n",
      "Requirement already satisfied: tensorflow_hub in /Users/jyotikasingh/opt/anaconda3/envs/myenv/lib/python3.9/site-packages (0.12.0)\n",
      "Requirement already satisfied: protobuf>=3.8.0 in /Users/jyotikasingh/opt/anaconda3/envs/myenv/lib/python3.9/site-packages (from tensorflow_hub) (3.19.6)\n",
      "Requirement already satisfied: numpy>=1.12.0 in /Users/jyotikasingh/opt/anaconda3/envs/myenv/lib/python3.9/site-packages (from tensorflow_hub) (1.23.5)\n"
     ]
    }
   ],
   "source": [
    "! pip install tensorflow\n",
    "! pip install tensorflow_hub\n"
   ]
  },
  {
   "cell_type": "code",
   "execution_count": 1,
   "id": "06a402be",
   "metadata": {},
   "outputs": [
    {
     "name": "stderr",
     "output_type": "stream",
     "text": [
      "2022-12-02 16:52:15.100294: I tensorflow/core/platform/cpu_feature_guard.cc:193] This TensorFlow binary is optimized with oneAPI Deep Neural Network Library (oneDNN) to use the following CPU instructions in performance-critical operations:  AVX2 FMA\n",
      "To enable them in other operations, rebuild TensorFlow with the appropriate compiler flags.\n",
      "2022-12-02 16:52:21.248141: I tensorflow/core/platform/cpu_feature_guard.cc:193] This TensorFlow binary is optimized with oneAPI Deep Neural Network Library (oneDNN) to use the following CPU instructions in performance-critical operations:  AVX2 FMA\n",
      "To enable them in other operations, rebuild TensorFlow with the appropriate compiler flags.\n"
     ]
    },
    {
     "data": {
      "text/plain": [
       "array([[ 0.04982673, -0.03076092, -0.00110719, ..., -0.06628991,\n",
       "         0.10678975, -0.02064821],\n",
       "       [-0.00369536,  0.03064634, -0.05556111, ...,  0.01751419,\n",
       "         0.03164959, -0.05139377]], dtype=float32)"
      ]
     },
     "execution_count": 1,
     "metadata": {},
     "output_type": "execute_result"
    }
   ],
   "source": [
    "import tensorflow_hub as hub\n",
    "import tensorflow.compat.v1 as tf\n",
    "\n",
    "tf.enable_eager_execution()\n",
    "\n",
    "embed = hub.load(\"https://tfhub.dev/google/universal-sentence-encoder/4\")\n",
    "\n",
    "sentences = [\n",
    "    \"I love to watch TV\",\n",
    "    \"I am wearing a wrist watch\"\n",
    "]\n",
    "embeddings = embed(sentences)\n",
    "\n",
    "embeddings.numpy()"
   ]
  },
  {
   "cell_type": "markdown",
   "id": "5f798f91",
   "metadata": {},
   "source": [
    "# Transformers"
   ]
  },
  {
   "cell_type": "code",
   "execution_count": 24,
   "id": "027e53da",
   "metadata": {},
   "outputs": [
    {
     "name": "stdout",
     "output_type": "stream",
     "text": [
      "Requirement already satisfied: transformers in /Users/jyotikasingh/opt/anaconda3/envs/myenv/lib/python3.9/site-packages (4.17.0)\n",
      "Requirement already satisfied: numpy>=1.17 in /Users/jyotikasingh/opt/anaconda3/envs/myenv/lib/python3.9/site-packages (from transformers) (1.23.5)\n",
      "Requirement already satisfied: requests in /Users/jyotikasingh/opt/anaconda3/envs/myenv/lib/python3.9/site-packages (from transformers) (2.28.1)\n",
      "Requirement already satisfied: sacremoses in /Users/jyotikasingh/opt/anaconda3/envs/myenv/lib/python3.9/site-packages (from transformers) (0.0.53)\n",
      "Requirement already satisfied: tokenizers!=0.11.3,>=0.11.1 in /Users/jyotikasingh/opt/anaconda3/envs/myenv/lib/python3.9/site-packages (from transformers) (0.12.1)\n",
      "Requirement already satisfied: pyyaml>=5.1 in /Users/jyotikasingh/opt/anaconda3/envs/myenv/lib/python3.9/site-packages (from transformers) (6.0)\n",
      "Requirement already satisfied: tqdm>=4.27 in /Users/jyotikasingh/opt/anaconda3/envs/myenv/lib/python3.9/site-packages (from transformers) (4.64.1)\n",
      "Requirement already satisfied: packaging>=20.0 in /Users/jyotikasingh/opt/anaconda3/envs/myenv/lib/python3.9/site-packages (from transformers) (21.3)\n",
      "Requirement already satisfied: regex!=2019.12.17 in /Users/jyotikasingh/opt/anaconda3/envs/myenv/lib/python3.9/site-packages (from transformers) (2022.10.31)\n",
      "Requirement already satisfied: huggingface-hub<1.0,>=0.1.0 in /Users/jyotikasingh/opt/anaconda3/envs/myenv/lib/python3.9/site-packages (from transformers) (0.11.1)\n",
      "Requirement already satisfied: filelock in /Users/jyotikasingh/opt/anaconda3/envs/myenv/lib/python3.9/site-packages (from transformers) (3.8.0)\n",
      "Requirement already satisfied: typing-extensions>=3.7.4.3 in /Users/jyotikasingh/opt/anaconda3/envs/myenv/lib/python3.9/site-packages (from huggingface-hub<1.0,>=0.1.0->transformers) (4.4.0)\n",
      "Requirement already satisfied: pyparsing!=3.0.5,>=2.0.2 in /Users/jyotikasingh/opt/anaconda3/envs/myenv/lib/python3.9/site-packages (from packaging>=20.0->transformers) (3.0.9)\n",
      "Requirement already satisfied: idna<4,>=2.5 in /Users/jyotikasingh/opt/anaconda3/envs/myenv/lib/python3.9/site-packages (from requests->transformers) (3.4)\n",
      "Requirement already satisfied: charset-normalizer<3,>=2 in /Users/jyotikasingh/opt/anaconda3/envs/myenv/lib/python3.9/site-packages (from requests->transformers) (2.1.1)\n",
      "Requirement already satisfied: certifi>=2017.4.17 in /Users/jyotikasingh/opt/anaconda3/envs/myenv/lib/python3.9/site-packages (from requests->transformers) (2022.9.24)\n",
      "Requirement already satisfied: urllib3<1.27,>=1.21.1 in /Users/jyotikasingh/opt/anaconda3/envs/myenv/lib/python3.9/site-packages (from requests->transformers) (1.26.13)\n",
      "Requirement already satisfied: six in /Users/jyotikasingh/opt/anaconda3/envs/myenv/lib/python3.9/site-packages (from sacremoses->transformers) (1.16.0)\n",
      "Requirement already satisfied: joblib in /Users/jyotikasingh/opt/anaconda3/envs/myenv/lib/python3.9/site-packages (from sacremoses->transformers) (1.2.0)\n",
      "Requirement already satisfied: click in /Users/jyotikasingh/opt/anaconda3/envs/myenv/lib/python3.9/site-packages (from sacremoses->transformers) (8.1.3)\n",
      "Requirement already satisfied: sentence-transformers in /Users/jyotikasingh/opt/anaconda3/envs/myenv/lib/python3.9/site-packages (2.2.2)\n",
      "Requirement already satisfied: scipy in /Users/jyotikasingh/opt/anaconda3/envs/myenv/lib/python3.9/site-packages (from sentence-transformers) (1.9.3)\n",
      "Requirement already satisfied: scikit-learn in /Users/jyotikasingh/opt/anaconda3/envs/myenv/lib/python3.9/site-packages (from sentence-transformers) (1.1.3)\n",
      "Requirement already satisfied: torch>=1.6.0 in /Users/jyotikasingh/opt/anaconda3/envs/myenv/lib/python3.9/site-packages (from sentence-transformers) (1.13.0)\n",
      "Requirement already satisfied: transformers<5.0.0,>=4.6.0 in /Users/jyotikasingh/opt/anaconda3/envs/myenv/lib/python3.9/site-packages (from sentence-transformers) (4.17.0)\n",
      "Requirement already satisfied: nltk in /Users/jyotikasingh/opt/anaconda3/envs/myenv/lib/python3.9/site-packages (from sentence-transformers) (3.6.5)\n",
      "Requirement already satisfied: tqdm in /Users/jyotikasingh/opt/anaconda3/envs/myenv/lib/python3.9/site-packages (from sentence-transformers) (4.64.1)\n",
      "Requirement already satisfied: huggingface-hub>=0.4.0 in /Users/jyotikasingh/opt/anaconda3/envs/myenv/lib/python3.9/site-packages (from sentence-transformers) (0.11.1)\n",
      "Requirement already satisfied: numpy in /Users/jyotikasingh/opt/anaconda3/envs/myenv/lib/python3.9/site-packages (from sentence-transformers) (1.23.5)\n",
      "Requirement already satisfied: torchvision in /Users/jyotikasingh/opt/anaconda3/envs/myenv/lib/python3.9/site-packages (from sentence-transformers) (0.14.0)\n",
      "Requirement already satisfied: sentencepiece in /Users/jyotikasingh/opt/anaconda3/envs/myenv/lib/python3.9/site-packages (from sentence-transformers) (0.1.97)\n",
      "Requirement already satisfied: requests in /Users/jyotikasingh/opt/anaconda3/envs/myenv/lib/python3.9/site-packages (from huggingface-hub>=0.4.0->sentence-transformers) (2.28.1)\n",
      "Requirement already satisfied: pyyaml>=5.1 in /Users/jyotikasingh/opt/anaconda3/envs/myenv/lib/python3.9/site-packages (from huggingface-hub>=0.4.0->sentence-transformers) (6.0)\n",
      "Requirement already satisfied: typing-extensions>=3.7.4.3 in /Users/jyotikasingh/opt/anaconda3/envs/myenv/lib/python3.9/site-packages (from huggingface-hub>=0.4.0->sentence-transformers) (4.4.0)\n",
      "Requirement already satisfied: filelock in /Users/jyotikasingh/opt/anaconda3/envs/myenv/lib/python3.9/site-packages (from huggingface-hub>=0.4.0->sentence-transformers) (3.8.0)\n",
      "Requirement already satisfied: packaging>=20.9 in /Users/jyotikasingh/opt/anaconda3/envs/myenv/lib/python3.9/site-packages (from huggingface-hub>=0.4.0->sentence-transformers) (21.3)\n",
      "Requirement already satisfied: tokenizers!=0.11.3,>=0.11.1 in /Users/jyotikasingh/opt/anaconda3/envs/myenv/lib/python3.9/site-packages (from transformers<5.0.0,>=4.6.0->sentence-transformers) (0.12.1)\n",
      "Requirement already satisfied: sacremoses in /Users/jyotikasingh/opt/anaconda3/envs/myenv/lib/python3.9/site-packages (from transformers<5.0.0,>=4.6.0->sentence-transformers) (0.0.53)\n",
      "Requirement already satisfied: regex!=2019.12.17 in /Users/jyotikasingh/opt/anaconda3/envs/myenv/lib/python3.9/site-packages (from transformers<5.0.0,>=4.6.0->sentence-transformers) (2022.10.31)\n",
      "Requirement already satisfied: joblib in /Users/jyotikasingh/opt/anaconda3/envs/myenv/lib/python3.9/site-packages (from nltk->sentence-transformers) (1.2.0)\n",
      "Requirement already satisfied: click in /Users/jyotikasingh/opt/anaconda3/envs/myenv/lib/python3.9/site-packages (from nltk->sentence-transformers) (8.1.3)\n",
      "Requirement already satisfied: threadpoolctl>=2.0.0 in /Users/jyotikasingh/opt/anaconda3/envs/myenv/lib/python3.9/site-packages (from scikit-learn->sentence-transformers) (3.1.0)\n",
      "Requirement already satisfied: pillow!=8.3.*,>=5.3.0 in /Users/jyotikasingh/opt/anaconda3/envs/myenv/lib/python3.9/site-packages (from torchvision->sentence-transformers) (9.3.0)\n",
      "Requirement already satisfied: pyparsing!=3.0.5,>=2.0.2 in /Users/jyotikasingh/opt/anaconda3/envs/myenv/lib/python3.9/site-packages (from packaging>=20.9->huggingface-hub>=0.4.0->sentence-transformers) (3.0.9)\n",
      "Requirement already satisfied: charset-normalizer<3,>=2 in /Users/jyotikasingh/opt/anaconda3/envs/myenv/lib/python3.9/site-packages (from requests->huggingface-hub>=0.4.0->sentence-transformers) (2.1.1)\n",
      "Requirement already satisfied: urllib3<1.27,>=1.21.1 in /Users/jyotikasingh/opt/anaconda3/envs/myenv/lib/python3.9/site-packages (from requests->huggingface-hub>=0.4.0->sentence-transformers) (1.26.13)\n",
      "Requirement already satisfied: certifi>=2017.4.17 in /Users/jyotikasingh/opt/anaconda3/envs/myenv/lib/python3.9/site-packages (from requests->huggingface-hub>=0.4.0->sentence-transformers) (2022.9.24)\n",
      "Requirement already satisfied: idna<4,>=2.5 in /Users/jyotikasingh/opt/anaconda3/envs/myenv/lib/python3.9/site-packages (from requests->huggingface-hub>=0.4.0->sentence-transformers) (3.4)\n",
      "Requirement already satisfied: six in /Users/jyotikasingh/opt/anaconda3/envs/myenv/lib/python3.9/site-packages (from sacremoses->transformers<5.0.0,>=4.6.0->sentence-transformers) (1.16.0)\n"
     ]
    }
   ],
   "source": [
    "! pip install transformers\n",
    "! pip install sentence-transformers\n"
   ]
  },
  {
   "cell_type": "code",
   "execution_count": 25,
   "id": "47c6d773",
   "metadata": {},
   "outputs": [
    {
     "name": "stdout",
     "output_type": "stream",
     "text": [
      "[[-4.50781614e-01 -2.76739091e-01  1.25894403e+00  1.99568361e-01\n",
      "   6.88663721e-01  4.79360372e-01 -4.22404706e-01  4.28741455e-01\n",
      "   3.97531956e-01 -3.00607849e-02 -5.40209949e-01  8.14363241e-01\n",
      "  -1.78754460e-02  9.26031694e-02  2.50436634e-01  2.09438324e-01\n",
      "  -7.44030774e-01 -2.34441549e-01  5.06882131e-01 -7.73964496e-03\n",
      "   4.78665084e-01  4.08504829e-02 -8.53223801e-01 -4.83158231e-02\n",
      "   9.02073756e-02 -3.96714002e-01  1.76787242e-01 -7.34953165e-01\n",
      "  -9.87483859e-01  3.26186121e-01 -3.71115565e-01 -9.70747411e-01\n",
      "   2.89142013e-01 -4.40381438e-01 -1.95847973e-01  3.24776113e-01\n",
      "   1.32101119e-01 -6.24954849e-02 -1.96072876e-01  1.38612688e-01\n",
      "   4.79865968e-01  3.37879471e-02  5.12158096e-01  6.33963823e-01\n",
      "  -1.61993551e+00 -4.23679680e-01 -5.07638216e-01  1.80900350e-01\n",
      "  -1.03218031e+00 -8.41399193e-01 -1.54714417e+00 -1.14395283e-02\n",
      "  -6.24203943e-02  3.39939117e-01 -5.00815630e-01  6.85738921e-01\n",
      "   8.94497156e-01 -1.35711336e+00  1.67555660e-01  2.49044046e-01\n",
      "   9.95903909e-02 -3.19814563e-01  6.61862075e-01  6.10781431e-01\n",
      "  -2.74925511e-02  3.76560360e-01 -1.38709052e-02 -5.48699081e-01\n",
      "  -1.07544494e+00 -2.15960026e-01  5.62109709e-01 -4.64485548e-02\n",
      "  -7.19366074e-01  1.12703288e+00 -1.17570162e+00  4.51439440e-01\n",
      "  -1.42048493e-01  2.95835435e-01  8.57235789e-01  3.77820373e-01\n",
      "  -1.30029380e-01  2.71673113e-01  1.39327359e+00  3.07653397e-01\n",
      "   8.42495143e-01  6.97003677e-02  6.48385286e-01  1.35104668e+00\n",
      "  -1.31339359e+00  2.21585855e-01  1.79169118e-01  1.61858514e-01\n",
      "   1.32848427e-01  2.40192205e-01  9.52520788e-01 -3.68349463e-01\n",
      "  -9.06452760e-02 -1.94872677e-01 -9.54546779e-02 -4.97861385e-01\n",
      "  -1.31406233e-01 -8.98230255e-01 -8.31985474e-01  6.74838433e-03\n",
      "  -4.16665614e-01 -3.73142034e-01 -2.10519776e-01 -1.23672113e-01\n",
      "  -5.61341107e-01  6.80380583e-01 -1.28061436e-02  4.34023947e-01\n",
      "   9.06555414e-01 -1.10773712e-01 -2.14765206e-01 -4.89673555e-01\n",
      "  -1.13575494e+00  2.84290671e-01  2.23055094e-01  1.06191540e+00\n",
      "  -1.48632526e-01  9.32878733e-01 -3.79887313e-01 -1.30740508e-01\n",
      "   1.23481619e+00  1.30999178e-01  1.46460339e-01  1.99152693e-01\n",
      "  -4.55764771e-01  2.54925266e-02  7.93808281e-01 -4.97319698e-02\n",
      "   1.51414192e+00 -2.47821644e-01 -2.00813711e-01 -1.85466647e-01\n",
      "  -3.03552300e-01 -3.74685735e-01 -4.62707847e-01 -5.86399436e-01\n",
      "  -7.33281195e-01  6.30813479e-01  1.63235292e-01 -2.11129248e-01\n",
      "   3.80499102e-02 -1.92844555e-01  5.90156130e-02  8.19346458e-02\n",
      "  -6.40691459e-01  1.85898930e-01 -5.05017102e-01  1.00819921e+00\n",
      "  -1.09161127e+00 -1.27337039e+00 -8.75349522e-01  3.43254685e-01\n",
      "  -7.13727236e-01  3.41675758e-01  1.94052652e-01  3.17542762e-01\n",
      "   2.34726056e-01  8.91287148e-01 -5.48033953e-01 -5.33440113e-01\n",
      "   3.97180438e-01 -1.12498057e+00  2.65920788e-01 -5.36721110e-01\n",
      "   4.32738453e-01 -2.90557265e-01  8.66456449e-01 -9.48669136e-01\n",
      "   3.29442173e-01 -2.20703706e-02  1.89189419e-01 -3.32517743e-01\n",
      "   7.06910372e-01  6.13443494e-01  1.12106824e+00 -1.09980249e+00\n",
      "   3.07903409e-01 -1.05964467e-01  6.04499221e-01 -7.98680484e-01\n",
      "  -8.65765750e-01 -4.78502482e-01 -1.46464750e-01  6.08986095e-02\n",
      "   4.18365628e-01 -6.70818314e-02 -7.22373724e-01 -5.50171137e-01\n",
      "  -3.87903392e-01 -1.49149549e+00  1.74664035e-01  4.66250300e-01\n",
      "  -1.09560442e+00  2.62890190e-01 -5.81512332e-01 -2.56086607e-02\n",
      "   4.65514988e-01 -7.16095388e-01  1.40221074e-01 -5.66426992e-01\n",
      "   4.51986909e-01  2.29363099e-01 -7.72656798e-01  6.33526361e-03\n",
      "  -2.02259198e-01 -1.73883855e-01 -5.37350714e-01  1.15572500e+00\n",
      "   4.17174488e-01  8.73901904e-01  7.40445554e-02 -7.72778153e-01\n",
      "   7.80498266e-01 -4.01187778e-01  2.17989646e-02  4.09688085e-01\n",
      "   9.81571734e-01 -2.52586901e-01 -2.26063117e-01  5.39213538e-01\n",
      "  -9.67410624e-01  9.38177764e-01  6.84304476e-01  4.23779160e-01\n",
      "   1.67086422e+00  4.71934736e-01  7.82534242e-01 -1.70850933e-01\n",
      "  -5.86471140e-01  1.20069042e-01  2.19805703e-01 -2.79657245e-01\n",
      "   1.19065076e-01 -3.84179384e-01  6.75197169e-02  1.04864359e+00\n",
      "   6.73945725e-01  8.16377878e-01  4.44393784e-01 -4.15113091e-01\n",
      "  -1.20881963e+00 -9.84397888e-01  5.78935385e-01  1.59461200e-01\n",
      "   7.35153770e-03  4.18462276e-01 -3.03217471e-01 -3.65312070e-01\n",
      "  -4.83736634e-01 -6.90019369e-01 -2.85460174e-01  2.65007228e-01\n",
      "  -7.28253365e-01 -5.42468727e-01 -2.82808155e-01  9.45048109e-02\n",
      "  -1.71715349e-01 -5.24407625e-01 -8.25374365e-01 -4.50616218e-02\n",
      "   7.51775503e-01 -3.29938740e-01 -1.27829596e-01  6.81071818e-01\n",
      "  -2.66821116e-01  3.32337499e-01 -3.95365834e-01 -2.83397571e-03\n",
      "   1.80771621e-03 -1.92350343e-01  2.26825878e-01 -5.55076361e-01\n",
      "   9.00079727e-01  3.00905436e-01 -8.82630110e-01 -6.25014603e-01\n",
      "   7.17891529e-02 -7.26291761e-02 -1.75726187e+00  3.81208390e-01\n",
      "  -2.67885149e-01 -4.67360973e-01  1.86337411e-01 -9.46794748e-01\n",
      "  -3.34752083e-01  2.85859525e-01 -5.13031304e-01  2.78708190e-01\n",
      "  -3.93678278e-01 -7.64950156e-01  2.25542281e-02  8.60583782e-03\n",
      "   4.55299854e-01 -4.56980705e-01 -1.01221550e+00 -8.51520658e-01\n",
      "  -9.56884682e-01 -9.62210119e-01 -1.38989615e+00 -4.03553158e-01\n",
      "   1.83488429e-01  1.40939057e-02  7.08058104e-02  3.34616870e-01\n",
      "  -6.80691600e-01 -4.27060395e-01 -6.82012379e-01  2.37936467e-01\n",
      "   7.89923906e-01 -2.05533788e-01 -3.41179222e-01  4.12370563e-01\n",
      "  -4.97253001e-01  5.87822720e-02 -3.82367253e-01 -1.37882209e+00\n",
      "  -5.25977015e-01  7.33892143e-01 -5.17967939e-02  8.17438513e-02\n",
      "   1.21774673e-01  1.00682592e+00 -2.34605491e-01  6.95504129e-01\n",
      "  -7.47909725e-01 -2.29296312e-01  1.02920592e+00 -5.78634381e-01\n",
      "  -3.84938598e-01  6.84896708e-01 -6.58037737e-02  1.23679447e+00\n",
      "  -2.39622906e-01 -1.42349005e+00  7.05383599e-01 -2.20860124e-01\n",
      "   2.59209841e-01  3.32047105e-01 -3.21218520e-01 -4.17200588e-02\n",
      "   7.29773283e-01 -3.27857584e-01  6.33846223e-01 -1.05060220e+00\n",
      "   1.44146129e-01  9.44333494e-01  2.49251440e-01 -6.26519918e-01\n",
      "  -4.28341925e-01  1.12162031e-01 -7.83450842e-01 -5.09370506e-01\n",
      "   6.70195520e-01  1.87096894e-01 -1.54221773e-01  7.14109004e-01\n",
      "  -2.14182064e-02  3.95074859e-02 -7.88043082e-01 -2.87561536e-01\n",
      "  -9.33073312e-02 -6.16420031e-01  2.84652382e-01  5.95503971e-02\n",
      "   1.06010413e+00 -1.61816522e-01  7.04053044e-01 -1.60257435e+00\n",
      "  -5.89768052e-01 -8.80148634e-02 -4.23495471e-01 -1.00806087e-01\n",
      "  -5.34970701e-01 -5.02518892e-01 -2.67918944e-01 -1.15205921e-01\n",
      "   1.78114176e-01 -8.80583346e-01 -5.45773804e-01 -7.95220912e-01\n",
      "  -3.63399297e-01 -3.38063836e-01  2.60464381e-02 -4.39231813e-01\n",
      "  -6.12553097e-02 -4.52310205e-01  9.70480263e-01  2.06247509e-01\n",
      "  -8.13107342e-02 -2.47034997e-01 -1.56763867e-01 -1.24820280e+00\n",
      "   6.35853171e-01  7.33628273e-02 -1.42338306e-01 -1.00735791e-01\n",
      "   3.33054334e-01 -5.47741689e-02  1.01672120e-01 -2.22945958e-01\n",
      "  -8.05243775e-02  2.38249362e-01  5.59965312e-01  3.99614125e-01\n",
      "  -7.03361928e-02 -9.55321848e-01 -3.53610247e-01 -3.12726647e-02\n",
      "  -4.87590916e-02 -3.18952091e-02 -6.87112808e-01  2.27607653e-01\n",
      "   6.11141384e-01 -1.44709444e+00 -2.16712475e-01  9.47773814e-01\n",
      "   5.16067266e-01 -3.79529595e-01 -1.33738041e-01  8.89658928e-01\n",
      "  -1.36307800e+00  3.84157181e-01  3.88263077e-01 -3.94424945e-01\n",
      "  -8.48918185e-02  4.85952318e-01 -1.84904143e-01  1.54532969e-01\n",
      "   1.28078043e-01 -1.20346308e-01  4.76989597e-01  4.26612943e-02\n",
      "  -7.05739558e-02  5.70702434e-01  1.39901340e-01 -1.13931693e-01\n",
      "   4.13675547e-01 -7.06012249e-01 -2.92288035e-01  7.14868754e-02\n",
      "   6.24270141e-01  9.12523508e-01 -2.53926098e-01 -2.23863184e-01\n",
      "   8.70809495e-01  1.58001870e-01  4.82257038e-01  2.06718415e-01\n",
      "  -2.55308479e-01  2.35643119e-01  3.41574699e-01  3.15856159e-01\n",
      "  -5.16756356e-01 -1.06404281e+00  1.33489087e-01 -9.75847661e-01\n",
      "   3.23716789e-01 -2.52809942e-01 -1.94503382e-01 -4.63830739e-01\n",
      "  -3.37261677e-01  7.36299813e-01 -5.93471169e-01  1.45901859e-01\n",
      "  -2.97671221e-02  8.79710197e-01  4.50660586e-01  1.53585553e-01\n",
      "  -5.50475538e-01 -3.31697673e-01 -2.84080934e-02  3.53753090e-01\n",
      "  -1.14536965e+00  5.17909825e-01 -3.44802439e-02 -2.78519601e-01\n",
      "   1.39383793e-01  9.25867915e-01 -8.19288969e-01  7.51598924e-02\n",
      "   9.87328663e-02  3.88248920e-01  3.52107525e-01  9.79060292e-01\n",
      "   1.46524572e+00  2.68517852e-01 -4.61507261e-01 -3.45801085e-01\n",
      "  -6.74939215e-01  1.30783439e-01 -8.70759308e-01  6.92775488e-01\n",
      "  -5.62681496e-01  1.10206284e-01 -1.99371040e-01  5.73873758e-01\n",
      "   4.12106574e-01  8.33989263e-01 -9.45090830e-01 -3.97760302e-01\n",
      "   4.50389713e-01 -1.48123242e-02 -6.14446223e-01 -4.30400968e-01\n",
      "  -2.46617138e-01  1.10771406e+00 -2.92356849e-01  3.34789574e-01\n",
      "  -5.61106682e-01 -7.20435560e-01 -5.47774434e-01  1.99329153e-01\n",
      "  -2.14475095e-01 -2.39422381e-01  4.46793973e-01 -5.79710901e-01\n",
      "  -2.15947047e-01 -5.28884053e-01  9.76112068e-01 -5.52338302e-01\n",
      "   7.25494266e-01 -1.57984123e-01  1.05910122e+00 -3.27226043e-01\n",
      "   6.14168525e-01 -9.87527892e-02  9.55937147e-01  9.46887732e-01\n",
      "  -2.95938551e-01  2.72362649e-01  6.08077288e-01  5.15671849e-01\n",
      "  -9.77211952e-01 -2.20224425e-01  1.76874685e+00 -6.36974052e-02\n",
      "  -1.87462673e-01  3.93954068e-01  4.90490109e-01 -6.11655772e-01\n",
      "  -5.49620867e-01  5.26644289e-01  6.78186774e-01 -1.55330813e+00\n",
      "   3.82881433e-01 -5.32722056e-01 -1.97351277e-01 -4.22245711e-02\n",
      "   7.72740170e-02 -1.70989513e-01 -1.50593638e-01 -7.15166032e-01\n",
      "  -8.40662539e-01  4.98733640e-01 -3.95408459e-02 -2.15578526e-01\n",
      "   5.48185408e-01 -2.52116974e-02  3.11500221e-01  5.60378194e-01\n",
      "  -7.68105388e-01 -5.96701145e-01 -1.10086083e+00  9.49408233e-01\n",
      "   4.13682818e-01  1.77781388e-01 -3.61371398e-01 -5.57828486e-01\n",
      "   1.06570506e+00  7.26914167e-01 -6.12885177e-01 -1.06265627e-01\n",
      "   4.18456018e-01 -9.21244860e-01 -1.14439702e+00 -4.48497355e-01\n",
      "   3.09775740e-01  6.99725866e-01  3.78065795e-01 -8.28742862e-01\n",
      "  -1.46182463e-01  9.37059820e-02  7.04352796e-01 -1.24521410e+00\n",
      "  -7.75716826e-02  2.08980024e-01  1.56787768e-01 -3.65982473e-01\n",
      "  -4.92215365e-01 -1.64947689e-01  5.56915641e-01  4.60559577e-01\n",
      "   1.18160076e-01  8.30606699e-01 -2.18683481e-01  1.07597792e+00\n",
      "  -5.61101511e-02 -8.97453845e-01 -9.95088816e-01  7.63607681e-01\n",
      "  -8.12546790e-01 -1.59365758e-01 -8.99821699e-01  5.25666654e-01\n",
      "  -7.17002526e-02  9.32741284e-01  7.21272156e-02 -7.60587156e-01\n",
      "   4.66512829e-01 -2.45295372e-02  1.47511631e-01 -5.64940155e-01\n",
      "  -4.75295335e-01  6.76519394e-01  1.04941845e+00  9.22109723e-01\n",
      "  -2.17859581e-01  3.51232409e-01 -8.64116192e-01 -4.43586498e-01\n",
      "  -2.22123295e-01 -7.04469204e-01  8.90759468e-01 -2.23751888e-01\n",
      "  -8.32831800e-01  9.28147435e-01  1.10409236e+00  7.58310556e-01\n",
      "   4.94598925e-01  8.75114381e-01 -6.35208368e-01  7.52017260e-01\n",
      "  -4.90314215e-01  4.43217680e-02  1.15718283e-01 -7.52074942e-02\n",
      "  -1.14506669e-01 -1.65356711e-01  7.07828641e-01 -5.62156737e-01\n",
      "   1.48379460e-01  4.57264066e-01  1.13220692e-01  6.57388389e-01\n",
      "   1.13511741e+00  6.15528524e-01 -3.13540995e-01 -1.08468223e+00\n",
      "   6.46287501e-02 -2.31107289e-04  3.96759987e-01  6.28836930e-01\n",
      "  -3.44999842e-02  1.21388912e+00  4.60598826e-01 -7.81987369e-01\n",
      "   8.92207384e-01 -1.26382753e-01 -1.57391131e-01 -2.08198324e-01\n",
      "   5.76610446e-01  2.65647560e-01 -1.37426943e-01  2.02249780e-01\n",
      "   9.98847857e-02  1.78202361e-01  2.43373737e-01 -4.65876639e-01\n",
      "  -3.85592580e-01 -1.13140619e+00  6.11797333e-01  1.94478557e-02\n",
      "   2.01640272e+00  3.99769843e-01 -2.75198907e-01 -3.66604686e-01\n",
      "   2.16869280e-01 -1.48130283e-01  6.54228404e-02 -2.68657088e-01\n",
      "   4.72414702e-01  6.73629194e-02 -6.57194376e-01  2.80535638e-01\n",
      "   8.97658646e-01  1.38846710e-01  8.11957836e-01  3.55134547e-01\n",
      "  -8.40735376e-01 -1.25955081e+00  9.29387584e-02  1.57751098e-01\n",
      "  -6.85481429e-02 -4.58843820e-03 -6.00349665e-01 -1.21216822e+00\n",
      "   9.80108455e-02  1.69257745e-01 -9.80229229e-02  4.94935155e-01\n",
      "  -6.33158565e-01 -7.18860745e-01 -3.68529201e-01 -6.78464770e-01\n",
      "  -3.64559054e-01 -3.54027487e-02  6.35894239e-01  8.52661788e-01\n",
      "   3.05958152e-01  4.63263094e-01 -3.24266315e-01  1.23957109e+00\n",
      "   2.49335632e-01 -3.24792594e-01  1.11544430e+00 -3.54442775e-01\n",
      "  -5.69135189e-01  6.06695265e-02 -7.29132116e-01  3.37967724e-01\n",
      "  -6.63593113e-01  5.55892825e-01  5.96261263e-01 -1.28475472e-01\n",
      "  -2.52079934e-01 -5.88950872e-01  4.24000829e-01  1.52533442e-01\n",
      "  -4.86781925e-01  9.33327258e-01  1.06915700e+00  3.86042386e-01\n",
      "  -7.69052804e-01  7.06353411e-02 -3.18248011e-02 -2.86641121e-02\n",
      "  -6.53010428e-01  4.82525706e-01  3.98579955e-01  2.09165424e-01\n",
      "  -1.20040703e+00  2.00510204e-01  2.45921165e-01 -6.13061607e-01\n",
      "  -5.83360553e-01 -3.14530134e-02 -5.13377562e-02 -1.91071004e-01\n",
      "   3.65149140e-01  1.18296929e-01 -5.97132683e-01 -4.59959731e-02\n",
      "  -9.07775640e-01 -7.92096734e-01  8.33947480e-01  1.01771212e+00\n",
      "   2.29019165e-01  2.16011763e-01 -8.19775164e-01  2.03484520e-01\n",
      "   2.69348532e-01 -5.81253529e-01 -5.73709548e-01  6.85828090e-01]]\n"
     ]
    }
   ],
   "source": [
    "from sentence_transformers import SentenceTransformer\n",
    "\n",
    "docs = [\"NLP method for feature extraction.\"]\n",
    "sbert = SentenceTransformer('bert-base-nli-mean-tokens')\n",
    "sentence_embeddings_BERT = sbert.encode(docs)\n",
    "print(sentence_embeddings_BERT)"
   ]
  },
  {
   "cell_type": "code",
   "execution_count": 26,
   "id": "7763a702",
   "metadata": {},
   "outputs": [
    {
     "name": "stderr",
     "output_type": "stream",
     "text": [
      "No model was supplied, defaulted to distilbert-base-cased (https://huggingface.co/distilbert-base-cased)\n",
      "Some weights of the model checkpoint at distilbert-base-cased were not used when initializing DistilBertModel: ['vocab_transform.bias', 'vocab_layer_norm.bias', 'vocab_projector.weight', 'vocab_transform.weight', 'vocab_projector.bias', 'vocab_layer_norm.weight']\n",
      "- This IS expected if you are initializing DistilBertModel from the checkpoint of a model trained on another task or with another architecture (e.g. initializing a BertForSequenceClassification model from a BertForPreTraining model).\n",
      "- This IS NOT expected if you are initializing DistilBertModel from the checkpoint of a model that you expect to be exactly identical (initializing a BertForSequenceClassification model from a BertForSequenceClassification model).\n"
     ]
    },
    {
     "name": "stdout",
     "output_type": "stream",
     "text": [
      "[[[0.5642114281654358, 0.1064816564321518, 0.05079559236764908, -0.3685210347175598, -0.6029025912284851, -0.04557185247540474, 0.11228156089782715, 0.052640464156866074, 0.04195073992013931, -1.1887236833572388, -0.47542035579681396, 0.1693207025527954, -0.18549206852912903, 0.04103276878595352, -0.5473499894142151, 0.08845296502113342, 0.3194519281387329, 0.2894560694694519, -0.02468882128596306, -0.2969137728214264, -0.002839411608874798, -0.1750221699476242, 0.739684522151947, -0.2900165617465973, 0.16867266595363617, -0.059480562806129456, 0.47460073232650757, 0.16146941483020782, -0.16713635623455048, 0.43525430560112, 0.03017815202474594, 0.3116859495639801, 0.07316062599420547, 0.08993715047836304, -0.421871542930603, 0.1555507928133011, -0.12425709515810013, -0.43839848041534424, -0.14010705053806305, -0.041934993118047714, -0.5232452154159546, 0.12195662409067154, 0.6656383275985718, -0.23125667870044708, 0.22864119708538055, -0.6247425079345703, -0.016831988468766212, 0.08365786820650101, -0.01256997138261795, 0.23165316879749298, -0.07262180000543594, -0.083614781498909, 0.14896534383296967, 0.25022101402282715, -0.00892272312194109, -0.18045075237751007, -0.19389541447162628, 0.15396367013454437, -0.3965769112110138, 0.030353328213095665, -0.017971165478229523, -0.17325259745121002, 0.33435699343681335, 0.08291091024875641, -0.26516076922416687, 0.02610308676958084, -0.04958377778530121, 0.14197400212287903, -0.4028284251689911, -0.14868271350860596, -0.04023998975753784, 0.018804781138896942, 0.4037226736545563, 0.8810563087463379, 0.3419240415096283, -0.03821565955877304, 0.5251243114471436, 0.08385542780160904, -0.04974827915430069, 0.15040069818496704, 0.3344929814338684, 0.18902523815631866, 0.06257162988185883, -0.2232418954372406, -0.08509204536676407, -0.1630176305770874, 0.2177627980709076, -0.16862601041793823, 0.1828555315732956, 0.475297212600708, 0.2897563874721527, 0.026484021916985512, -0.17485007643699646, -0.20600508153438568, 0.1296291947364807, 0.13845881819725037, -0.03391660377383232, 0.1097690537571907, 6.38194465637207, -0.0746409222483635, 0.03882633149623871, 0.27049219608306885, 0.11499210447072983, -0.15440869331359863, 0.41418638825416565, -0.3864132761955261, -0.1260073035955429, -0.42904871702194214, 0.26977241039276123, 0.4660950303077698, 0.5789315700531006, -0.2781352996826172, 0.23727776110172272, -0.12782377004623413, -0.005130663514137268, -0.10504373908042908, 0.04344049096107483, 0.1819140911102295, -0.027217183262109756, -0.06850045919418335, 0.013537762686610222, 0.12829983234405518, 0.9285279512405396, -0.0028702877461910248, -0.14967498183250427, -0.19366715848445892, -0.04635108262300491, -0.07367168366909027, 0.44396767020225525, -0.12585604190826416, -0.8776593804359436, -0.1895729899406433, -0.21413739025592804, -0.08967960625886917, 0.1928509920835495, 0.09902120381593704, -0.30602341890335083, -0.11598152667284012, -0.7611609101295471, 0.24083393812179565, 0.16500461101531982, -0.47762954235076904, -0.07197462022304535, -0.2455582469701767, -0.01075247023254633, 2.8966002464294434, -0.276758074760437, -0.17003782093524933, -0.19693465530872345, 0.00037722522392868996, 0.05600392818450928, -0.16025689244270325, -0.3064768314361572, 0.00995318591594696, -0.19618721306324005, -0.17014570534229279, 0.11670921742916107, -0.16238342225551605, -0.08357816189527512, -0.07162793725728989, -0.8687793016433716, -0.05518651008605957, -0.33542636036872864, 0.2027604728937149, -0.0652824193239212, -0.08295309543609619, 0.11202754825353622, -0.7153593897819519, 0.10231896489858627, 0.40104910731315613, 0.06093080714344978, -0.06982738524675369, -2.3133270740509033, 0.18483495712280273, 0.3522774279117584, 0.07293188571929932, 0.11768114566802979, -0.10023321956396103, -0.012112507596611977, -0.19035866856575012, -0.2056916356086731, 0.1529560089111328, -0.03737327456474304, -0.2108173966407776, -0.38614723086357117, 0.14629924297332764, 0.07010380923748016, 0.07361909002065659, 0.27806878089904785, 0.08067101985216141, 0.14477069675922394, -0.022880420088768005, 0.018361598253250122, -0.06728106737136841, 0.08541955053806305, -0.21131107211112976, 0.13017335534095764, -0.29179051518440247, 0.05743831396102905, -0.061336759477853775, -0.10632140934467316, -0.032199081033468246, 0.007416240870952606, 0.1444760262966156, 0.2620689272880554, 0.09780795872211456, -0.12088535726070404, 0.10267753899097443, 0.3872564435005188, -0.09642548114061356, -0.21066509187221527, -0.07326916605234146, 0.008615739643573761, 0.4467954933643341, 0.4286537170410156, -0.09770312905311584, -0.08683639764785767, 0.06954717636108398, 0.23886904120445251, -0.23571032285690308, -0.039685752242803574, 0.06628366559743881, -0.1215200424194336, -0.31275397539138794, -0.03822294622659683, 0.06546573340892792, 0.2837713956832886, -0.07984529435634613, 0.12655968964099884, -0.4080919027328491, 0.33879584074020386, 0.19056344032287598, 0.15764863789081573, -0.2157249003648758, -0.12004433572292328, -0.20977360010147095, -0.03421329706907272, 0.1303166300058365, -0.027965441346168518, 0.21910999715328217, -0.14856389164924622, 0.10921759903430939, 0.2282792627811432, -0.039956629276275635, -0.05297175794839859, 0.5431929230690002, 0.2677367627620697, 0.16895243525505066, -0.061934176832437515, -0.010643817484378815, 0.8136764168739319, 0.11187624931335449, -0.12625065445899963, -0.20905029773712158, -0.4678683280944824, -0.02134394273161888, -0.09379829466342926, -1.6047484874725342, -0.1575424075126648, -0.009039431810379028, 0.33666378259658813, -2.916767120361328, 0.2447555810213089, 0.1507737636566162, 0.18720535933971405, -0.23513692617416382, 0.271096795797348, 0.058215148746967316, -0.08072477579116821, 0.2604742646217346, -0.49498796463012695, -0.018076229840517044, -0.4516628384590149, -0.11068323999643326, 0.11581696569919586, 0.2683444619178772, -0.050440989434719086, 0.11033758521080017, -0.19692565500736237, -0.1006072536110878, -0.46283042430877686, -0.016142889857292175, -0.4085458517074585, 0.3933784067630768, -0.38526955246925354, 0.4239403307437897, 0.38388851284980774, 0.07417412847280502, 0.009164402261376381, 3.858430862426758, 0.08948183059692383, 0.04335888475179672, 0.22604310512542725, -0.31654250621795654, -0.00896701030433178, 0.03578004986047745, -0.6253039836883545, 0.1526918113231659, -0.053911350667476654, 0.15055549144744873, -0.1296064257621765, -0.06211993470788002, -0.504883885383606, 0.20963765680789948, -0.38767528533935547, 0.02663286216557026, 0.07894125580787659, 0.17305906116962433, -0.8210840225219727, 0.032741159200668335, 0.6821150183677673, 0.08333878219127655, 0.04086638242006302, 0.09094484150409698, -0.20457041263580322, -0.5417649149894714, -0.37553998827934265, 0.46446549892425537, 0.15202614665031433, -0.9983307123184204, 0.04730907455086708, 0.04798724129796028, -0.31618770956993103, -0.10137571394443512, 0.17820633947849274, -0.09790828824043274, 0.11864498257637024, -0.18845847249031067, -0.33162328600883484, -0.21500179171562195, -0.006259538233280182, 0.0921388491988182, -0.27546748518943787, -0.15353205800056458, 0.014582138508558273, 0.10819120705127716, 0.12783706188201904, 0.1362845003604889, -0.02766146883368492, 0.014570373110473156, -0.29917287826538086, 0.03603021055459976, -0.2785477638244629, 0.19391217827796936, 0.36083540320396423, 0.04860710725188255, 0.24757933616638184, -0.19582650065422058, 0.18450620770454407, 0.14397379755973816, -0.10625182092189789, -0.08936020731925964, -0.2643495202064514, 0.15525494515895844, 0.22967466711997986, -0.09619427472352982, -0.0523906871676445, -0.15455110371112823, 0.14316588640213013, 0.18030278384685516, 0.06886725127696991, -2.1592676639556885, 0.28827521204948425, 0.14590372145175934, -0.2483784556388855, -0.08781646937131882, -0.1191781535744667, 0.14259320497512817, -0.029976777732372284, 0.48259299993515015, 0.32218801975250244, 0.17837859690189362, 0.23117829859256744, 0.22366201877593994, -0.4440983831882477, 0.07075468450784683, 0.013879640959203243, 0.724711000919342, 0.35988014936447144, -0.3991484045982361, -0.2896847724914551, 0.20608334243297577, 0.2048526555299759, -0.02906600572168827, 0.03136511892080307, 0.15682023763656616, -0.14883296191692352, -0.4413911700248718, 0.09673569351434708, 0.12135705351829529, 0.44855839014053345, 0.049000564962625504, -0.02527669258415699, -0.4095948040485382, -0.214028999209404, -0.09992535412311554, -0.19515526294708252, 0.32962971925735474, 0.29288941621780396, -0.29789116978645325, -0.31496521830558777, -0.018211577087640762, 0.09214992076158524, -0.06533993780612946, -0.1767393946647644, -0.11998853832483292, 0.18547981977462769, -0.24496306478977203, -1.498719573020935, 0.08650647848844528, -0.2563851475715637, -0.11080954968929291, -0.14755910634994507, 0.1945999562740326, 0.31383955478668213, -0.09699936211109161, 0.1802816092967987, -0.1431734561920166, 0.39003756642341614, 0.11418941617012024, 0.19760680198669434, 0.16387301683425903, 0.06959336996078491, -0.3601905107498169, -0.04610621929168701, 0.14445102214813232, -0.07909277081489563, -0.2988230586051941, 0.24380451440811157, -0.08214360475540161, -0.7458304762840271, -0.11272746324539185, 0.08341964334249496, -0.1441035121679306, -0.19664554297924042, -0.37537115812301636, 0.1036553829908371, -0.150863379240036, 0.018966998904943466, 5.246799945831299, -0.33485332131385803, 0.2796846926212311, -0.009334327653050423, -0.060210008174180984, -0.006266644224524498, 0.21147917211055756, -0.11115216463804245, 0.8408935070037842, -0.05650779604911804, -0.44756612181663513, -0.28366953134536743, 0.1782236397266388, 0.0393267497420311, -0.44350665807724, 0.43099677562713623, 0.10449500381946564, -0.001748986542224884, 0.06735483556985855, -0.018593773245811462, 0.10275951027870178, -0.29510846734046936, 0.1920613944530487, -0.30984237790107727, 0.15351934731006622, 0.4183967709541321, 0.16368402540683746, -0.039937615394592285, -0.023148231208324432, -0.5523116588592529, -0.4126990735530853, 0.2652067244052887, 0.18384967744350433, 0.1674848347902298, 0.04544246569275856, -0.043100882321596146, 0.17535416781902313, -0.026494912803173065, 0.22344891726970673, 0.2538246214389801, 0.25956153869628906, -0.05219786986708641, 0.965515673160553, -0.18215040862560272, 0.46653425693511963, 0.37828347086906433, -0.012690482661128044, -0.09152940660715103, 0.38706398010253906, 0.21004626154899597, -0.07764755189418793, 0.42432281374931335, 0.1899612843990326, -0.32634082436561584, 0.19511722028255463, -0.004661478102207184, 0.09328889846801758, 0.16885808110237122, 0.21792228519916534, 0.04645582288503647, -0.10629665851593018, -0.39890342950820923, -0.3143407702445984, -0.4222973585128784, 0.057280659675598145, 0.024119555950164795, 0.11249156296253204, -0.43498411774635315, -0.6049908399581909, -0.17278599739074707, -0.10988938808441162, 0.09593719989061356, -0.46269166469573975, 0.12195275723934174, 0.30211853981018066, -0.13729572296142578, -0.39983800053596497, -0.04776086285710335, 0.052418436855077744, -0.29116445779800415, -0.11625329405069351, -0.3433493971824646, -0.10830895602703094, -0.39162635803222656, 0.0342397540807724, 0.05870361253619194, -0.5317586660385132, -0.37280410528182983, -0.0349503830075264, 0.20536096394062042, -0.043976087123155594, -0.06994964182376862, -0.14105482399463654, 0.02821897342801094, 0.0675954818725586, 0.21315789222717285, -0.17246577143669128, 0.04447520524263382, -0.08233638107776642, 0.19128890335559845, 0.3290097415447235, 0.2234555333852768, 0.007560852915048599, 0.18769770860671997, 0.014407593756914139, -0.041358284652233124, -0.19004932045936584, 0.14590401947498322, 0.0009677885100245476, -0.1077452152967453, 0.1967320591211319, -0.09871881455183029, 0.20479761064052582, -0.23032546043395996, 0.03907701373100281, 0.28226572275161743, 0.22942648828029633, -0.5280926823616028, -6.799536228179932, 0.11186845600605011, 0.1271914839744568, 0.15468250215053558, -0.287862092256546, -0.1707884669303894, 0.49402105808258057, 0.10665124654769897, 0.3064534366130829, 0.08158427476882935, -0.239360049366951, 0.03503010421991348, -2.270033121109009, 0.2433655858039856, -0.267193078994751, -0.022191280499100685, -0.12980714440345764, -0.9483633041381836, -0.17058183252811432, 0.42288753390312195, -0.14990848302841187, 0.23197516798973083, 0.27343088388442993, 0.10707250237464905, 0.35952410101890564, 0.05713307857513428, 0.16523197293281555, -0.07213281095027924, 0.09762197732925415, -0.08048588782548904, 0.005294080823659897, -0.04168149083852768, 0.6024436950683594, 0.037962254136800766, -0.16507959365844727, -0.17328950762748718, -0.05987784266471863, 0.05004030093550682, 0.19988912343978882, -0.322893887758255, -0.1556963175535202, 0.10057701170444489, 0.3009219467639923, 0.24170853197574615, -0.569205105304718, -0.19890627264976501, -0.4941861629486084, -2.2055776119232178, 0.0811680257320404, -0.12975674867630005, 0.42484793066978455, 0.30473414063453674, -0.325920045375824, -0.23037421703338623, -0.3528350293636322, 0.20539520680904388, 0.22056570649147034, 0.032587550580501556, 0.3483032286167145, -0.3249398469924927, -0.26316550374031067, -0.07972186803817749, 0.3808773458003998, -0.09008657932281494, -0.3119741678237915, -0.04247357323765755, -0.30452650785446167, -0.10106369853019714, -0.2684483826160431, -0.1959732621908188, -0.028424248099327087, -0.19648200273513794, -0.023362191393971443, -0.050570886582136154, 0.3766099512577057, 0.30730578303337097, 0.09108544886112213, -0.10779161751270294, -0.023385681211948395, 0.027207061648368835, -0.5936585664749146, -0.24139031767845154, 0.2978014647960663, 0.08981552720069885, 0.22935926914215088, -0.19948308169841766, -0.18760445713996887, 0.030028648674488068, -0.2789669334888458, 0.00985732115805149, 0.06209751218557358, 0.08501870185136795, -0.01242184266448021, -0.28774455189704895, -0.2252463549375534, 0.17023058235645294, -0.2345309853553772, -0.13289207220077515, -0.4411078691482544, -0.10010556876659393, -0.05899699032306671, 0.24134407937526703, 0.09734536707401276, -0.439989298582077, -0.17576515674591064, -0.12154334783554077, 2.4715027809143066, 0.18842557072639465, -0.21098601818084717, -0.011543244123458862, -0.03376970440149307, 0.04975998401641846, -0.2002769261598587, 0.2674592137336731, 1.7954872846603394, -0.18883562088012695, -0.2431776076555252, 0.03300626203417778, -0.09122174978256226, 0.07456737011671066, -0.07611127942800522, 0.4586484432220459, 0.050197482109069824, 0.26913323998451233, -0.08648054301738739, 0.0888487696647644, 0.2302701622247696, -0.16400519013404846, -0.05523613095283508, 0.015222221612930298, 0.16206729412078857, -0.2253226339817047, -0.25829875469207764, -0.3477119207382202, 0.22806359827518463, -0.37134742736816406, 0.07398352771997452, -0.1883838176727295, -0.17734849452972412, 0.978678286075592, -0.2972078323364258, 0.19695070385932922, 0.31992068886756897, -0.0025007463991642, -0.030772652477025986, -0.3872336745262146, -0.11507456749677658, 0.10462719947099686, -0.48003435134887695, 0.6068182587623596, 0.020389363169670105, 0.017883090302348137, -0.03145407885313034, -0.21771925687789917, 0.12521208822727203, -0.17015670239925385, -0.11682561039924622, -0.44332683086395264, -0.23925994336605072, 0.09738770127296448, 0.02492573671042919, -0.12184570729732513, -0.6678063273429871, -0.11325131356716156, 0.2283085435628891, -0.09743277728557587, 0.10323592275381088, -0.04779775068163872, 0.038690075278282166, 0.03839447349309921, -0.28227630257606506, -0.041959941387176514, 0.22219209372997284, -0.45018690824508667, -0.2280251681804657, -0.1649540215730667, 0.06989656388759613, 0.006536398082971573, -2.2243621349334717, 0.07805980741977692, 0.0634627565741539, -0.4077451825141907, -0.3008720874786377, -0.26321470737457275, 0.23311644792556763, 0.08556748926639557, 0.05199555680155754, 0.34179455041885376, 0.03247307240962982, 1.9489606618881226, 0.035349197685718536, -0.24158479273319244, -0.16356781125068665, -0.09088586270809174, 0.31909632682800293, 0.09364917129278183, -0.06475932896137238, -0.3687976002693176, -0.2571125328540802, 1.5235265493392944, 0.15104784071445465, 0.31209835410118103, 0.1186421737074852, -0.24256467819213867, -0.20104332268238068, -0.007865000516176224, 0.036148156970739365, 0.19656382501125336, -0.18234595656394958, 0.2700451612472534, 0.27045753598213196], [0.3740346133708954, -0.07964197546243668, 0.051905225962400436, -0.15737174451351166, -0.5799710750579834, -0.03812539204955101, 0.15793965756893158, 0.12225405871868134, 0.5274146795272827, 0.10152708739042282, 0.03901108354330063, -0.09385828673839569, 0.08932744711637497, 0.5392844676971436, -0.3993399441242218, 0.17662540078163147, 0.1811937540769577, 0.18562433123588562, 0.015651077032089233, 0.09818825125694275, -0.16713085770606995, -0.1764766275882721, -0.05467712879180908, -0.1117178201675415, 0.12896588444709778, -0.26313516497612, 0.5141463279724121, 0.23625852167606354, 0.15326231718063354, 0.5266977548599243, 0.2260282188653946, 0.1329936385154724, 0.15029597282409668, 0.0046798791736364365, -0.04377725347876549, 0.21639211475849152, 0.2020961344242096, -0.014055419713258743, -0.050871364772319794, 0.3165550231933594, 0.08024978637695312, 0.22054973244667053, -0.18159864842891693, -0.3166888356208801, -0.188040092587471, -0.08020555227994919, 0.06565532088279724, 0.36390000581741333, 0.07373247295618057, 0.08842025697231293, 0.06442458927631378, -0.24472853541374207, 0.12054305523633957, 0.21159476041793823, -0.033633001148700714, -0.21870110929012299, -0.2838023900985718, 0.07898753881454468, 0.07061349600553513, -0.3671582043170929, -0.5824998021125793, -0.0836777538061142, -0.07800005376338959, 0.13540980219841003, -0.20741696655750275, -0.06036870554089546, 0.32383158802986145, -0.02506575733423233, 0.24773293733596802, 0.07793355733156204, 0.34886878728866577, -0.0569741390645504, -0.13024009764194489, 0.21770009398460388, 0.022967088967561722, 0.03543326258659363, -0.07209838926792145, 0.43845435976982117, 0.12739872932434082, 0.1284918189048767, 0.16835331916809082, -0.12097279727458954, 0.06831532716751099, -0.12275607138872147, 0.017077088356018066, 0.12131267786026001, 0.14252975583076477, -0.3001253008842468, 0.07126595079898834, 0.41983041167259216, 0.38012370467185974, -0.19937272369861603, -0.12569856643676758, -0.053112663328647614, -0.09804165363311768, 0.2816387414932251, 0.06645791977643967, 0.17193378508090973, 0.314193993806839, 0.124658964574337, 0.4219788610935211, 0.03756827116012573, -0.2746529281139374, -0.12878979742527008, -0.05979038029909134, -0.2811225354671478, -0.03270549327135086, -0.0761556327342987, 0.348564088344574, -0.05281627178192139, 0.4375433921813965, -0.48297232389450073, 0.4548921585083008, -0.33772996068000793, 0.29315662384033203, 0.3719141185283661, -0.06253547221422195, 0.31593194603919983, -0.3845796287059784, 0.017134055495262146, 0.08768270164728165, 0.47424501180648804, -0.34853294491767883, 0.06827260553836823, -0.08478298038244247, -0.10120093822479248, 0.31958508491516113, 0.07355977594852448, 0.26554498076438904, 0.31135988235473633, -0.19458186626434326, 0.04739152267575264, 0.05880802497267723, -0.25513753294944763, 0.5072121024131775, 0.25969982147216797, 0.07242132723331451, -0.09380481392145157, -0.48333609104156494, -0.027396520599722862, -0.09999801218509674, -0.5952874422073364, -0.28722041845321655, 0.014389283955097198, 0.3780955970287323, 0.24736371636390686, -0.39832717180252075, -0.007933981716632843, -0.3575001358985901, 0.4292699098587036, -0.04358106851577759, 0.24054588377475739, 0.18490080535411835, -0.16817867755889893, -0.1783246099948883, -0.03677159175276756, 0.1985642910003662, -0.32837170362472534, -0.06873735040426254, -0.1404438614845276, 0.174479678273201, -0.1215551346540451, -0.19207477569580078, 0.15224266052246094, -0.02339291200041771, 0.13099949061870575, -0.1724543273448944, 0.02004818618297577, -0.07993075251579285, -0.1610301285982132, -0.12459114193916321, -0.09630098938941956, -0.5525121092796326, 0.5053683519363403, 0.07670265436172485, -0.31678342819213867, 0.2310376763343811, -0.6138041615486145, 0.1344165951013565, -0.09157681465148926, 0.3260200321674347, 0.041344232857227325, -0.09016726911067963, -0.4459031820297241, -0.09928813576698303, 0.2984309196472168, 0.2964742183685303, -0.2495039999485016, -0.2890092134475708, -0.11862292885780334, 0.17381499707698822, -0.1187569871544838, 0.19644543528556824, 0.15914790332317352, -0.22048667073249817, -0.09077657759189606, 0.28211885690689087, -0.12574583292007446, 0.07188957929611206, 0.1852370947599411, 0.3256060481071472, 0.022127360105514526, 0.262658953666687, 0.15709473192691803, -0.16003991663455963, 0.16093015670776367, 0.38492006063461304, -0.4601913094520569, 0.1363207846879959, -0.1790248453617096, 0.07779617607593536, -0.11943115293979645, -0.2661295533180237, 0.09225570410490036, -0.4353657364845276, 0.020112697035074234, -0.01033594086766243, -0.11682875454425812, 0.1832183301448822, -0.11443096399307251, 0.5096282362937927, -0.16843238472938538, 0.2408991903066635, -0.3005295395851135, -0.4189598560333252, -0.17978046834468842, 0.12589821219444275, -0.14739066362380981, 0.29785868525505066, -0.2589781880378723, -0.0020464183762669563, 0.21465608477592468, 0.16744168102741241, -0.13333505392074585, -0.03707781434059143, -0.44305092096328735, 0.06277188658714294, -0.14426840841770172, -0.18427158892154694, 0.1415037363767624, -0.171171635389328, 0.07514910399913788, -0.06701759248971939, 0.01608482003211975, 0.059751011431217194, 0.35818731784820557, -0.10928454995155334, 0.47438743710517883, -0.15190239250659943, -0.019743088632822037, 0.5398717522621155, -0.10536187142133713, -0.01184864342212677, -0.008440576493740082, -0.04520735889673233, -0.03832538425922394, 0.05293646827340126, -0.4761204719543457, -0.13898353278636932, -0.25071990489959717, 0.13967734575271606, 0.15803638100624084, -0.24607183039188385, -0.1542191058397293, 0.3665968179702759, 0.05543655902147293, 0.1312876045703888, 0.2954217195510864, 0.07958963513374329, -0.020403411239385605, 0.10579006373882294, -0.37219926714897156, 0.005025230348110199, -0.0888921394944191, -0.1497860699892044, -0.01040929090231657, 0.3126864731311798, 0.28612110018730164, 0.35466575622558594, 0.09277099370956421, -0.23675085604190826, -0.37932562828063965, 0.0171525701880455, 0.6327117681503296, -0.48018088936805725, -0.11996003240346909, 0.07549095153808594, 0.21286340057849884, 0.11601492762565613, -0.14428861439228058, -0.2020719200372696, -0.03747452422976494, -0.1252175271511078, 0.259377121925354, 0.28349077701568604, 0.058505378663539886, -0.307947039604187, 0.26773935556411743, -0.256442129611969, 0.13190290331840515, -0.08063355833292007, -0.4859585165977478, -0.10236449539661407, 0.5805988907814026, -0.08002936094999313, -0.0579589381814003, -0.26149770617485046, 0.19895081222057343, 0.2048759013414383, 0.12045868486166, 0.2544426918029785, -0.052752286195755005, -0.038184408098459244, 0.04430148005485535, -0.16734573245048523, -0.27411895990371704, 0.12496718764305115, 0.11120572686195374, 0.0337597094476223, -0.07261545956134796, 0.039141278713941574, 0.11064264923334122, 0.0021368563175201416, 0.028318848460912704, 0.1407262533903122, -0.33791935443878174, -0.032506078481674194, -0.05002780631184578, -0.08020266890525818, -0.21466462314128876, 0.366072416305542, -0.08252978324890137, -0.1132575124502182, -0.10452358424663544, 0.25097817182540894, -0.5939463973045349, 0.21352910995483398, 0.08361320197582245, -0.16393911838531494, -0.20745640993118286, -0.18536709249019623, -0.13120844960212708, -0.020293980836868286, -0.16438323259353638, 0.3258471190929413, 0.1998032182455063, -0.18096014857292175, -0.2724462151527405, 0.45747262239456177, 0.19896945357322693, 0.25394701957702637, -0.2255019098520279, -0.3546251952648163, 0.2418283224105835, 0.27123409509658813, 0.2000228762626648, 0.12728583812713623, 0.17265278100967407, -0.35097652673721313, 0.22864319384098053, 0.45520150661468506, -0.02333971858024597, 0.23820772767066956, 0.16216212511062622, 0.20190250873565674, 0.01873614639043808, 0.15631358325481415, 0.5589132308959961, -0.08320940285921097, -0.06389383971691132, 0.08711075037717819, 0.06820299476385117, -0.1398506760597229, -0.0503242164850235, -0.0061314962804317474, 0.03141080215573311, 0.010477635078132153, 0.20317423343658447, 0.5061617493629456, -0.19866323471069336, 0.05741555988788605, 0.5115047693252563, -0.10783031582832336, 0.16127502918243408, 0.08374176919460297, 0.32697197794914246, 0.01347535103559494, -0.3359512984752655, -0.024111583828926086, 0.12730832397937775, -0.17953495681285858, 0.15566904842853546, -0.06009967252612114, -0.14200948178768158, -0.21957740187644958, -0.5350847840309143, -0.29580172896385193, 0.5019055008888245, -0.09436970949172974, -0.32747912406921387, -0.16484057903289795, 0.12668448686599731, 0.41294625401496887, 0.17363926768302917, -0.23233552277088165, -0.2622302174568176, 0.30327150225639343, -0.09781450033187866, 0.21173301339149475, 0.2814389765262604, -0.00959257036447525, -0.11866236478090286, -0.06044410541653633, 0.3127778172492981, -0.12628203630447388, -0.32331204414367676, 0.14706996083259583, 0.037970442324876785, 0.19378766417503357, -0.1299881637096405, 0.14354968070983887, -0.10193263739347458, 0.013951264321804047, -0.4358787536621094, -0.4022623598575592, -0.02014981396496296, -0.07595416903495789, 0.03496173024177551, -0.02108394168317318, -0.003937399014830589, -0.186493918299675, 0.006090790964663029, -0.321186900138855, -0.027118735015392303, -0.47367310523986816, 0.08459866791963577, -0.15375010669231415, 0.004791297018527985, -0.06627067923545837, -0.013502120971679688, -0.14990673959255219, 0.07808069884777069, -0.30200067162513733, 0.00048457272350788116, 0.15381494164466858, -0.1294012814760208, 0.02011900581419468, 0.12856115400791168, 0.04303044453263283, -0.3528304696083069, 0.27647390961647034, 0.10461807996034622, -0.12404659390449524, -0.22425517439842224, 0.47001370787620544, 0.4604441225528717, -0.10221951454877853, -0.09944634884595871, -0.18806806206703186, 0.06810668110847473, -0.10191994905471802, 0.04354171082377434, -0.31251880526542664, 0.2818148136138916, -0.002316948026418686, 0.31457090377807617, 0.12915390729904175, 0.2982836067676544, -0.6203279495239258, 0.012544896453619003, 0.45231369137763977, -0.02934012934565544, -0.22677090764045715, 0.433715283870697, -0.2945476472377777, 0.4449712336063385, -0.032791487872600555, 0.06633172184228897, 0.09259218722581863, 0.01942727342247963, -0.133022740483284, 0.2637918293476105, 0.3100387752056122, 0.3688836097717285, 0.4185013473033905, -0.04082300513982773, 0.2598437964916229, -0.02004452794790268, -0.018922045826911926, -0.054288268089294434, 0.13449165225028992, 0.1388937383890152, -0.014572801068425179, 0.25670719146728516, 0.278399258852005, 0.13273480534553528, 0.20778755843639374, 0.6104838848114014, 0.10194896161556244, -0.008754723705351353, -0.38821497559547424, -0.09777224063873291, -0.3075912296772003, -0.06155281141400337, 0.11530924588441849, -0.015943635255098343, -0.07949215918779373, -0.16986626386642456, 0.18512383103370667, -0.19180695712566376, 0.2154240757226944, -0.19569092988967896, -0.33970409631729126, -0.28011369705200195, -0.17511197924613953, -0.47625717520713806, -0.17493900656700134, -0.025522414594888687, 0.16702663898468018, -0.26062583923339844, -0.18773239850997925, -0.09465018659830093, -0.14731046557426453, -0.21971826255321503, -0.009023015387356281, 0.17781899869441986, 0.03316223993897438, 0.6923925876617432, -0.08223634958267212, 0.14861764013767242, -0.14570379257202148, -0.09762217104434967, 0.25258103013038635, 0.09124362468719482, 0.16423238813877106, -0.12879928946495056, -0.0736774429678917, -0.11063515394926071, -0.053868819028139114, 0.1493169069290161, 0.14424121379852295, 0.33898311853408813, -0.31730401515960693, 0.009603980928659439, 0.16145466268062592, 0.4492027759552002, 0.0888490080833435, 0.2355605810880661, -0.2934149503707886, -0.13624589145183563, -0.1256636530160904, 0.17430877685546875, -0.40243420004844666, 0.07431253790855408, 0.266425222158432, 0.0008712969720363617, -0.1096290796995163, -9.312819480895996, 0.1903795748949051, 0.00924374908208847, 0.18782685697078705, -0.1937347948551178, 0.08691877126693726, 0.2969498038291931, 0.10075116157531738, -0.07984276860952377, 0.0868619754910469, 0.15853175520896912, 0.19346411526203156, -0.21639424562454224, 0.011289659887552261, -0.16166380047798157, -0.24255402386188507, 0.11885076761245728, -0.05397292599081993, -0.25569868087768555, -0.05331110209226608, 0.45841458439826965, -0.14282672107219696, 0.37437719106674194, -0.24802348017692566, 0.2954009175300598, 0.3828132450580597, 0.3001406490802765, -0.1285805106163025, -0.24247702956199646, -0.12687347829341888, -0.0733669176697731, -0.03754007816314697, 0.11790968477725983, 0.3515946865081787, 0.016445545479655266, 0.1265382319688797, -0.1325654834508896, -0.0967576801776886, 0.13749995827674866, -0.07658860087394714, -0.12699928879737854, 0.058558523654937744, 0.38230782747268677, 0.2869637906551361, -0.15047931671142578, 0.011611759662628174, 0.2383970022201538, -0.0024356357753276825, -0.09561324119567871, 0.020451534539461136, 0.37371763586997986, 0.34422457218170166, -0.44368311762809753, -0.10201824456453323, -0.09348735213279724, 0.17881081998348236, 0.22523319721221924, 0.1177922710776329, -0.024581149220466614, -0.12136004865169525, -0.039924122393131256, -0.2429434359073639, -0.08781746029853821, 0.01549682766199112, 0.13008445501327515, -0.28384432196617126, -0.09189435839653015, -0.07774531096220016, -0.34856271743774414, 0.36291420459747314, 0.20952637493610382, -0.010453827679157257, 0.21523690223693848, -0.3716239631175995, -0.4659242630004883, -0.15182198584079742, 0.4265885055065155, 0.03420979529619217, 0.15132197737693787, 0.43795454502105713, -0.12102369964122772, -0.15351495146751404, 0.22641022503376007, -0.030437227338552475, -0.06969401240348816, -0.0268959179520607, -0.27749788761138916, 0.11055983603000641, -0.25092050433158875, 0.35794708132743835, -0.004732189700007439, -0.19511398673057556, -0.06373095512390137, -0.2536312937736511, -0.33686259388923645, 0.05012627691030502, -0.1235816478729248, 0.10230056941509247, -0.3867446482181549, 0.10666321218013763, 0.04126216471195221, 0.10438086092472076, 0.369648277759552, -0.383797824382782, 0.07713493704795837, -0.528353750705719, 0.027172187343239784, -0.1298123598098755, -0.11735064536333084, -0.21528732776641846, -0.023493267595767975, -0.16806185245513916, -0.05379645898938179, 0.1528855562210083, 0.09602483361959457, 0.08475396782159805, -0.12794692814350128, 0.1878923922777176, -0.11622963100671768, 0.1805579662322998, -0.5582224130630493, -0.17189013957977295, 0.41178032755851746, 0.4701293706893921, 0.22373493015766144, 0.0063269175589084625, -0.27721771597862244, 0.19719216227531433, -0.5296692848205566, -0.18266922235488892, 0.49712687730789185, 0.00468249898403883, -0.16874796152114868, -0.10894982516765594, 0.1448308229446411, 0.03911151364445686, 0.3146815001964569, -0.28195998072624207, -0.35578805208206177, -0.025208724662661552, -0.3377207815647125, -0.3207986354827881, 0.2286970615386963, 0.18744155764579773, 0.2633363902568817, 0.12644338607788086, -0.3433563709259033, 0.18978509306907654, -0.4783201217651367, 0.07528151571750641, 0.48586371541023254, 0.2534782588481903, -0.21625348925590515, -0.05589652433991432, 0.17825698852539062, -0.11593209207057953, 0.20631475746631622, -0.13427476584911346, -0.07160720229148865, 0.07699109613895416, -0.1519094705581665, -0.0984637588262558, -0.08467279374599457, -0.1983218640089035, -0.049221739172935486, -0.17843319475650787, 0.2321048378944397, -0.1906408667564392, -0.02953932248055935, 0.0759497582912445, -0.49500253796577454, -0.20816397666931152, 0.4109378457069397, -0.388973593711853, 0.0657259151339531, 0.24135826528072357, -0.09433558583259583, 0.01311076432466507, -0.03657141700387001, 0.07827248424291611, 0.0036455094814300537, 0.09395762532949448, 0.1596917062997818, -0.15601804852485657, 0.21335160732269287, -0.05384688824415207, -0.10351403057575226, 0.46786338090896606, -0.2252352088689804, -0.1508629322052002, 0.20747849345207214, -0.3096259832382202, -0.2149135321378708, 0.12495622038841248, 0.12356331944465637, 0.18226562440395355, -0.3731732666492462, -0.42903828620910645, -0.14823544025421143, -0.10914186388254166, 0.13362526893615723, 0.42435646057128906, -0.12315433472394943, -0.11318764090538025, -0.08425917476415634, -0.26622310280799866, -0.009122843854129314, 0.4244898855686188, -0.1569959670305252, 0.4321107864379883, 0.3993208110332489], [0.33670511841773987, -0.19893763959407806, 0.21294233202934265, -0.1136702448129654, -0.5642610192298889, 0.018036462366580963, 0.014033127576112747, 0.2302195131778717, -0.03156643360853195, -0.16701582074165344, -0.04173177853226662, 0.32099077105522156, -0.2817254662513733, 0.08118569105863571, -0.3740980327129364, 0.07780078053474426, -0.009523045271635056, 0.02608424611389637, 0.08106270432472229, 0.019818969070911407, -0.47901737689971924, -0.12496861815452576, 0.15270213782787323, -0.16012248396873474, 0.20009391009807587, -0.43593528866767883, 0.42909684777259827, 0.052972182631492615, -0.20085155963897705, 0.16321855783462524, 0.11893188953399658, 0.26674309372901917, -0.13904306292533875, -0.006779893301427364, -0.49499717354774475, 0.2915598154067993, 0.10996221005916595, -0.11433175206184387, -0.1125917062163353, 0.45100733637809753, 0.1818341463804245, 0.36833733320236206, 0.05984698235988617, -0.23904986679553986, -0.061218876391649246, 0.044363319873809814, 0.4063208997249603, 0.3660663664340973, 0.10744654387235641, 0.10683053731918335, 0.08677637577056885, -0.1793670356273651, 0.2028721421957016, 0.6673846244812012, -0.30912163853645325, -0.5469172596931458, 0.0030568293295800686, 0.15968212485313416, 0.27015218138694763, -0.14740264415740967, -0.5166645050048828, -0.26725393533706665, 0.09064340591430664, 0.336443692445755, -0.36307621002197266, -0.002011168748140335, 0.033414077013731, 0.02640664577484131, 0.37149810791015625, -0.030722767114639282, 0.1387891173362732, -0.1476837545633316, -0.32591530680656433, -0.07073186337947845, 0.10627055913209915, 0.25732773542404175, 0.050321608781814575, 0.14230848848819733, -0.11570597440004349, 0.343397855758667, 0.15924370288848877, -0.1972450315952301, -0.1713520586490631, -0.12051603943109512, -0.19037817418575287, 0.3403591513633728, -0.1766054481267929, 0.01003306731581688, 0.2753185033798218, 0.47499626874923706, 0.030632834881544113, -0.024787388741970062, -0.23715801537036896, -0.3007674515247345, 0.0918729305267334, 0.1642644703388214, 0.2115240842103958, 0.1269827038049698, 0.1063208281993866, 0.3875616788864136, 0.396306574344635, 0.11209775507450104, -0.10624952614307404, -0.0998665988445282, 0.24244874715805054, -0.103795625269413, 0.09239304810762405, -0.6122110486030579, 0.3057951331138611, 0.26098740100860596, 0.5036148428916931, -0.44966381788253784, 0.10453853756189346, -0.2901371717453003, 0.07296084612607956, 0.10684190690517426, -0.03723880648612976, 0.1930357962846756, -0.255367249250412, 0.11761090159416199, -0.1539231538772583, 0.03960078954696655, -0.1263897567987442, 0.03903428092598915, 0.1459999978542328, -0.18720529973506927, 0.025960838422179222, -0.027100935578346252, 0.2136775255203247, 0.2270168960094452, -0.43269461393356323, -0.0751442089676857, 0.32086053490638733, -0.1278543323278427, 0.30491623282432556, 0.08710818737745285, -0.3393925428390503, 0.2099742591381073, -0.6839632391929626, 0.15830641984939575, 0.1327597200870514, -0.2934630215167999, -0.17686434090137482, -0.022198744118213654, 0.5670405626296997, -0.024352967739105225, -0.09089726954698563, 0.09435324370861053, 0.044320639222860336, 0.20515722036361694, 0.030312012881040573, 0.007768124341964722, -0.04434744641184807, 0.04017157480120659, -0.35098323225975037, -0.05136977881193161, 0.21316193044185638, -0.41841450333595276, 0.16224798560142517, -0.14332640171051025, 0.3412773013114929, -0.37086018919944763, -0.24715344607830048, -0.31400924921035767, 0.02387644350528717, 0.2767595946788788, -0.030071932822465897, 0.08825486898422241, 0.028127098456025124, 0.13105328381061554, 0.09054774045944214, -0.0037062689661979675, -0.39215415716171265, 0.2711343467235565, -0.13564151525497437, -0.1277627795934677, 0.18600180745124817, -0.4125099778175354, 0.043565236032009125, 0.24623222649097443, 0.29101479053497314, -0.055393487215042114, -0.3591650128364563, -0.5011428594589233, -0.16476458311080933, 0.19889135658740997, 0.16686932742595673, 0.13496491312980652, -0.09443343430757523, -0.03760291635990143, 0.10273563116788864, 0.2806647717952728, 0.37146976590156555, -0.043523095548152924, 0.022461600601673126, -0.5007162094116211, 0.3940788507461548, -0.12121902406215668, 0.23655806481838226, -0.24481406807899475, -0.2960342466831207, -0.1696869432926178, 0.406091570854187, 0.11323317140340805, -0.1265302449464798, 0.24657806754112244, 0.2504432201385498, -0.028604306280612946, 0.06324505805969238, 0.16763946413993835, 0.05297672376036644, -0.2117272913455963, -0.24400655925273895, -0.01607513800263405, -0.11240257322788239, 0.24721606075763702, -0.21391184628009796, 0.04574168100953102, 0.16141623258590698, -0.11162477731704712, 0.43421363830566406, 0.1536218523979187, 0.43711626529693604, -0.3693717420101166, -0.005018129944801331, 0.14805184304714203, 0.5140854120254517, -0.10071726143360138, 0.2450193166732788, -0.2503458261489868, 0.0053093102760612965, 0.27451246976852417, 0.45161113142967224, -0.34864237904548645, 0.1264583170413971, -0.6040723323822021, 0.14613312482833862, 0.12512025237083435, 0.014837607741355896, 0.2083544135093689, -0.0063158608973026276, 0.16324083507061005, -0.35125067830085754, 0.0811917632818222, 0.0698871985077858, 0.5319666266441345, -0.3610658049583435, 0.2429109811782837, -0.36472901701927185, -0.16298681497573853, 0.27002090215682983, 0.09477944672107697, 0.009948790073394775, 0.2529388666152954, 0.07719738781452179, -0.0952620580792427, -0.1790807992219925, -0.41213828325271606, -0.08175639808177948, -0.3754374384880066, 0.13129335641860962, -0.15086141228675842, 0.31233975291252136, 0.11437666416168213, -0.061758413910865784, -0.13975271582603455, -0.220854714512825, 0.1105533018708229, 0.36647990345954895, 0.36468344926834106, 0.0953579694032669, -0.10151204466819763, 0.12159336358308792, 0.026395417749881744, 0.2460142821073532, 0.4306345582008362, 0.46540358662605286, 0.06252367794513702, 0.1996343731880188, 0.0037311017513275146, -0.1415112167596817, -0.09294655919075012, 0.0035851113498210907, 0.13900889456272125, -0.6031630039215088, 0.1727166622877121, 0.3373018205165863, 0.24479418992996216, 0.05456601083278656, -0.09689818322658539, 0.1833285540342331, 0.18938779830932617, 0.019781913608312607, -0.11568870395421982, -0.008624764159321785, 0.21813930571079254, -0.3570629060268402, 0.38737204670906067, -0.10995963215827942, 0.019552260637283325, 0.05621357262134552, -0.4372597932815552, -0.20455554127693176, 0.5429424047470093, 0.013759493827819824, -0.008504844270646572, -0.1751660406589508, 0.021713851019740105, 0.06167063117027283, -0.02127681113779545, 0.3148921728134155, 0.08269218355417252, 0.06414040923118591, -0.10187873989343643, -0.15125307440757751, -0.23817431926727295, -0.08353517204523087, -0.3677583932876587, 0.2496427595615387, 0.04270314425230026, 0.26129963994026184, 0.2755213975906372, -0.11147227138280869, 0.2438328117132187, 0.467327356338501, -0.28023603558540344, 0.4289664328098297, -0.10611008107662201, -0.02515094168484211, -0.242134228348732, 0.3882785737514496, 0.26176607608795166, -0.25209715962409973, 0.03609389811754227, -0.11214305460453033, 0.2767558693885803, 0.5398072004318237, 0.16752807796001434, -0.10181238502264023, 0.04978744313120842, -0.084208644926548, 0.16303136944770813, 0.14709782600402832, 0.33306729793548584, 0.2763209342956543, 0.13824832439422607, 0.05256415531039238, -0.38703447580337524, 0.36091792583465576, 0.18705645203590393, 0.04357104003429413, -0.2931794822216034, -0.31568872928619385, -0.0468640960752964, 0.30920565128326416, 0.11249517649412155, 0.009107651188969612, 0.25737035274505615, 0.032714974135160446, 0.05887710303068161, -0.0059065744280815125, -0.2234799712896347, 0.021451231092214584, 0.6618849635124207, 0.128293976187706, 0.000534985214471817, 0.18370360136032104, 0.26981550455093384, -0.27638518810272217, -0.038916878402233124, 0.21553851664066315, -0.059150174260139465, 0.08916915953159332, 0.22312575578689575, -0.047614339739084244, -0.0028097210451960564, -0.21578150987625122, -0.027947383001446724, 0.6573038697242737, -0.28682875633239746, 0.10212703049182892, 0.2911585569381714, -0.18159914016723633, -0.0973239615559578, 0.13044008612632751, -0.1543300300836563, -0.05243299901485443, -0.47555798292160034, 0.07331401109695435, 0.03227183595299721, -0.14183463156223297, 0.24204698204994202, 0.09277715533971786, -0.1465030163526535, -0.04439431056380272, -0.30802297592163086, -0.23463666439056396, 0.012326168827712536, -0.042708031833171844, -0.219354510307312, -0.13586756587028503, 0.29958054423332214, 0.37604382634162903, -0.18153691291809082, -0.20119844377040863, -0.32132256031036377, 0.2094704657793045, 0.03732094541192055, 0.1474304497241974, 0.4058475196361542, -0.36353182792663574, -0.537894070148468, 0.00657869316637516, 0.15421175956726074, 0.1944393813610077, -0.16454091668128967, 0.05917622894048691, 0.0007578404620289803, 0.09016057848930359, 0.12043802440166473, -0.09962096065282822, 0.10128449648618698, 0.43832874298095703, -0.1684105098247528, -0.13830670714378357, -0.35011619329452515, -0.13200543820858002, -0.019207587465643883, -0.1447533667087555, 0.07771395146846771, -0.22721394896507263, 0.3915240168571472, -0.038283731788396835, 0.33388131856918335, -0.31156933307647705, -0.008281899616122246, -0.09759055078029633, -0.029000673443078995, -0.3810517191886902, -0.04778832197189331, -0.08782034367322922, 0.034897249191999435, -0.10777032375335693, 0.1205560564994812, -0.10671032965183258, 0.0012444406747817993, 0.15177251398563385, -0.01839178241789341, 0.07571928203105927, -0.16620531678199768, 0.08908267319202423, 0.15106892585754395, -0.20020006597042084, -0.28366219997406006, 0.32876893877983093, -0.15912505984306335, -0.16609254479408264, -0.1265510767698288, -0.0045358240604400635, 0.0985369086265564, -0.2923082411289215, 0.03197823092341423, -0.3000536561012268, 0.18810857832431793, 0.2228209674358368, 0.12445398420095444, -0.09218905866146088, 0.454713374376297, -0.5677924156188965, 0.06722718477249146, 0.1471967101097107, 0.12929841876029968, -0.01923213340342045, 0.3757692575454712, -0.09302785992622375, 0.28796976804733276, -0.2497345507144928, 0.08198747038841248, 0.14125382900238037, -0.21791018545627594, -0.11019890010356903, 0.13721247017383575, -0.36191481351852417, 0.15225613117218018, 0.6275006532669067, -0.14330902695655823, 0.24828898906707764, 0.07643039524555206, 0.0153016597032547, 0.07102802395820618, 0.41805195808410645, 0.19411589205265045, 0.3422202169895172, 0.23081129789352417, 0.24510207772254944, 0.04414080083370209, 0.10554252564907074, 0.4833407402038574, 0.008578948676586151, -0.06867166608572006, -0.4865795969963074, 0.02354186773300171, -0.19191235303878784, 0.28102296590805054, -0.19343480467796326, 0.11349448561668396, -0.11272615194320679, -0.1591745913028717, 0.09411263465881348, -0.11895336210727692, -0.015129143372178078, -0.060896135866642, -0.04961007088422775, -0.01307584997266531, -0.19577622413635254, -0.4709595739841461, -0.3797760307788849, 0.4001730680465698, -0.014301382005214691, 0.11959533393383026, -0.2942255735397339, -0.04436522349715233, -0.3023642599582672, -0.07119640707969666, -0.06108506768941879, -0.06042266637086868, 0.16661660373210907, -0.12993764877319336, -0.22033101320266724, -0.11395053565502167, -0.01100321114063263, -0.05494314059615135, 0.10778404772281647, 0.08324699103832245, 0.20215612649917603, -0.16792115569114685, 0.057359419763088226, 0.0013251304626464844, 0.12055228650569916, 0.4598449468612671, 0.04367159307003021, -0.15591931343078613, -0.45911818742752075, 0.037045419216156006, 0.07211364060640335, 0.11393550038337708, 0.30390283465385437, 0.19494062662124634, -0.30409762263298035, 0.11405841261148453, -0.26791512966156006, 0.34775176644325256, -0.7545590400695801, 0.13650381565093994, 0.32549944519996643, 0.01117253303527832, -0.2455374002456665, -9.296610832214355, -0.15367798507213593, 0.1284496933221817, 0.12916378676891327, -0.01792496256530285, -0.13490934669971466, -0.003766082227230072, 0.00017612800002098083, -0.03620777279138565, -0.2306046038866043, -0.12242695689201355, 0.6062445044517517, -0.010926153510808945, -0.28778836131095886, -0.034505389630794525, -0.0577191598713398, 0.15265518426895142, -0.24752525985240936, -0.15102489292621613, 0.27083098888397217, 0.41332119703292847, -0.13202032446861267, 0.11403222382068634, -0.19965122640132904, 0.0560603067278862, 0.5282340049743652, -0.03667527437210083, -0.19740718603134155, -0.09325557947158813, -0.007701784372329712, 0.06340932846069336, 0.0867181271314621, 0.18409870564937592, 0.22265751659870148, 0.049869354814291, -0.12390251457691193, -0.05828549340367317, 0.0351058728992939, -0.07548276335000992, -0.39757561683654785, -0.22821983695030212, 0.008150860667228699, 0.3131975531578064, -0.06794342398643494, -0.17178210616111755, 0.3662056028842926, 0.1853068768978119, 0.32506632804870605, -0.17864690721035004, -0.11408929526805878, 0.4855303466320038, 0.1594872623682022, -0.44823017716407776, 0.1921754628419876, -0.36145979166030884, 0.11031553894281387, 0.12415763735771179, 0.4669169783592224, 0.1718093901872635, -0.4248163402080536, -0.19800415635108948, -0.24092523753643036, 0.1608809381723404, 0.19760316610336304, -0.2462988644838333, -0.2762124836444855, -0.2511565089225769, -0.012254185974597931, -0.26217424869537354, 0.1939769685268402, -0.2602151930332184, -0.1769828349351883, 0.3481718599796295, -0.06935858726501465, 0.012484120205044746, 0.1757584512233734, 0.5302519202232361, -0.1711900234222412, 0.1798129379749298, 0.3120933771133423, -0.12257049977779388, -0.060107775032520294, 0.2114759236574173, 0.1707167625427246, -0.11288577318191528, 0.045857880264520645, -0.7933057546615601, -0.09426090866327286, -0.0732608214020729, 0.11150208115577698, 0.05630788207054138, 0.1967429220676422, -0.1046692505478859, -0.25782477855682373, -0.3628421127796173, -0.10550316423177719, -0.3351157009601593, -0.008755713701248169, -0.21108144521713257, -0.25114962458610535, -0.1395072340965271, 0.34819483757019043, 0.42172083258628845, -0.360624223947525, -0.12470904737710953, 0.044916700571775436, 0.1551293432712555, -0.026553461328148842, -0.24746322631835938, -0.2476637065410614, -0.12839971482753754, -0.12421476095914841, -0.1373424530029297, 0.3087255358695984, 0.05205586552619934, -0.14892083406448364, 0.15228132903575897, -0.0038179755210876465, -0.30214282870292664, 0.2551473081111908, -0.39755797386169434, -0.029999785125255585, 0.15279647707939148, 0.2323705404996872, -0.27596691250801086, 0.19988244771957397, 0.10066597163677216, 0.3658950924873352, -0.3697109520435333, 0.01061517558991909, 0.28565067052841187, 0.18484781682491302, -0.09601927548646927, -0.09772080183029175, 0.00014966540038585663, 0.2761105000972748, -0.1716877669095993, -0.06970499455928802, -0.06981230527162552, 0.016268862411379814, -0.3624154329299927, -0.2759045958518982, 0.0847388282418251, 0.3309311866760254, 0.07285673171281815, 0.127299964427948, -0.03324345126748085, 0.07323553413152695, -0.36511126160621643, 0.1261197328567505, 0.2487468719482422, 0.06945346295833588, -0.23816069960594177, 0.0860338881611824, 0.07808487862348557, -0.5002298355102539, -0.08501774817705154, -0.28845399618148804, -0.12386772781610489, -0.20533856749534607, -0.08440626412630081, 0.3811112940311432, 0.11593189090490341, -0.12351702153682709, 0.019922174513339996, 0.1498241126537323, 0.29770246148109436, -0.30518123507499695, 0.05388210713863373, 0.14578776061534882, -0.49709516763687134, 0.04762503504753113, 0.12998351454734802, -0.23441635072231293, -0.05400677025318146, 0.35112565755844116, -0.07955846190452576, -0.2174731194972992, 0.4220976233482361, -0.35608795285224915, -0.0312531404197216, 0.04770471155643463, -0.08815643191337585, -0.25695520639419556, 0.1426677405834198, -0.1355312019586563, -0.3282303214073181, 0.29146119952201843, 0.038657091557979584, 0.104217529296875, 0.10421239584684372, -0.30066418647766113, -0.11920788884162903, -0.05256493762135506, 0.22169046103954315, 0.20575140416622162, -0.136124387383461, 0.03594989329576492, -0.22800800204277039, -0.13963210582733154, 0.18433703482151031, 0.15681016445159912, -0.3202820122241974, -0.230586439371109, -0.24701453745365143, -0.2799296975135803, 0.06683540344238281, 0.6242912411689758, 0.27191832661628723, 0.29317641258239746, 0.46019285917282104], [0.36017096042633057, -0.1229124516248703, -0.16544505953788757, 0.25646400451660156, -0.4185422956943512, 0.01684378832578659, -0.27585944533348083, 0.1916818767786026, -0.2926402688026428, -0.1457538902759552, -0.05516820400953293, 0.6043895483016968, -0.616622805595398, 0.7585693597793579, -0.4367656409740448, -0.1802619993686676, -0.09984410554170609, -0.09271296113729477, 0.12140130996704102, -0.1498156189918518, -0.381733238697052, -0.059527214616537094, 0.05429427698254585, -0.34721505641937256, 0.23106524348258972, -0.6879406571388245, 0.317632794380188, 0.21149611473083496, -0.03629489243030548, 0.06187872588634491, 0.17516125738620758, 0.2321022003889084, 0.48810675740242004, 0.25084078311920166, -0.7206029891967773, 0.008054673671722412, -0.199311763048172, 0.0808415338397026, -0.02934451960027218, 0.6276271343231201, 0.1276712417602539, 0.016428634524345398, -0.2811947464942932, 0.09960988163948059, 0.1270291656255722, -0.18944314122200012, -0.09563536196947098, -0.05436909943819046, -0.44387173652648926, 0.04944494739174843, 0.52745521068573, -0.4550492465496063, -0.04150182008743286, 0.250482976436615, -0.17152395844459534, -0.47325706481933594, 0.23701296746730804, 0.2795630693435669, 0.11985919624567032, 0.08931118249893188, -0.1018696203827858, -0.28202545642852783, -0.112937793135643, 0.3109125792980194, -0.11096040904521942, 0.3610877990722656, -0.09067068248987198, -0.2313167303800583, 0.1812826693058014, 0.03845512121915817, 0.3163982927799225, -0.20956942439079285, -0.3050781190395355, -0.054735586047172546, 0.014865461736917496, 0.3343248963356018, -0.033685192465782166, -0.2672998607158661, -0.17561671137809753, 0.07859598845243454, 0.41194143891334534, 0.6708412170410156, -0.2461528778076172, 0.23877117037773132, 0.18710143864154816, -0.04808571934700012, -0.03445260226726532, -0.013829481787979603, 0.4529155194759369, 0.8196848630905151, 0.05249720439314842, 0.0667826384305954, -0.005123608745634556, -0.5929595232009888, 0.47095948457717896, 0.10777313262224197, 0.041937872767448425, 0.19869200885295868, -0.0009902603924274445, 0.12002468854188919, 0.3845047950744629, 0.31380993127822876, -0.08777521550655365, 0.01644369401037693, 0.2551242411136627, -0.14851048588752747, 0.06587646156549454, -0.1579892635345459, 0.19893400371074677, 0.49007731676101685, 0.5322496294975281, -0.20092082023620605, 0.7509416937828064, -0.029980648308992386, 0.12287832796573639, -0.1566634476184845, 0.33552995324134827, 0.2520553767681122, -0.09313210099935532, 0.5536337494850159, -0.048561058938503265, 0.2692365050315857, -0.046767327934503555, 0.12531645596027374, 0.07828281819820404, -0.13753153383731842, -0.054669156670570374, -0.016771350055933, 0.3803330361843109, 0.2915680408477783, -0.9034333229064941, -0.18707071244716644, -0.09062597155570984, 0.18311898410320282, 0.23495705425739288, 0.02200416848063469, -0.7878884673118591, 0.2055019736289978, -0.9904493689537048, 0.08530239760875702, 0.047831617295742035, 0.04993710666894913, 0.15614883601665497, -0.26962992548942566, 0.6575840711593628, -0.07242375612258911, -0.8075190186500549, -0.09455826133489609, 0.27936097979545593, 0.3382130265235901, 0.10151854157447815, -0.14494459331035614, 0.22655923664569855, -0.3125624656677246, -0.321298211812973, -0.207163006067276, 0.11963662505149841, -0.3727897107601166, 0.2516677975654602, 0.23561137914657593, 0.7563754320144653, -0.6678124666213989, -0.34990471601486206, -0.11013175547122955, -0.11063500493764877, 0.33808445930480957, 0.1304880976676941, 0.3777235448360443, -0.19449874758720398, 0.19556428492069244, 0.3336038887500763, 0.3065083920955658, -0.032437823712825775, 0.5650615692138672, -0.06402675807476044, -0.3628632724285126, 0.4975863993167877, -0.26715320348739624, -0.2274588942527771, 0.22308123111724854, 0.226399227976799, -0.456586629152298, -0.2906659245491028, -0.6403368711471558, -0.3265053331851959, -0.023851029574871063, 0.07681603729724884, -0.002629511058330536, 0.2909858822822571, 0.3574630916118622, 0.22425523400306702, 0.0537978932261467, 0.0970706194639206, 0.030172985047101974, -0.15560781955718994, -0.6799902319908142, 0.5489392280578613, -0.19670236110687256, 0.20008380711078644, -0.3945079445838928, -0.166486456990242, -0.05467475950717926, 0.17271672189235687, 0.09211155772209167, -0.29942551255226135, 0.030710633844137192, 0.07630790770053864, 0.04472959786653519, -0.13802413642406464, -0.3785242438316345, -0.015264865010976791, -0.558619499206543, -0.24967162311077118, -0.07195105403661728, 0.041128844022750854, 0.14535915851593018, -0.22645153105258942, 0.013686906546354294, 0.18634119629859924, -0.1768815666437149, 0.4493273198604584, -0.2364082634449005, 0.4782828092575073, -0.19347383081912994, -0.12026825547218323, -0.14239837229251862, 0.21227918565273285, -0.1953800916671753, 0.18279214203357697, -0.28299281001091003, 0.08036510646343231, 0.42621779441833496, 0.5701761841773987, -0.09915022552013397, -0.1703551560640335, -0.4118900001049042, 0.012681305408477783, -0.41577771306037903, -0.45454561710357666, 0.11849763244390488, -0.11143501847982407, 0.18778929114341736, -0.12373540550470352, -0.08969239890575409, -0.108116015791893, 0.7002205848693848, -0.12511566281318665, 0.31749674677848816, -0.017494043335318565, -0.13375943899154663, -0.08702044188976288, -0.03520261123776436, 0.14931493997573853, 0.3197961151599884, 0.08271532505750656, 0.12241911888122559, -0.30140221118927, -0.2665494978427887, 0.19233396649360657, 0.16782702505588531, 0.2873881757259369, 0.2794041931629181, 0.09785062074661255, -0.21822065114974976, -0.143430694937706, -0.5531390905380249, -0.18329378962516785, -0.05076725780963898, 0.3439141809940338, 0.1630823165178299, -0.06394132971763611, 0.14376774430274963, 0.2977483570575714, -0.3629497289657593, 0.27018824219703674, 0.06930965185165405, -0.04619363695383072, -0.4004998505115509, 0.43431347608566284, -0.041921451687812805, -0.23383893072605133, 0.3061407804489136, 0.11100403219461441, 0.04618513584136963, -0.585723340511322, 0.0681116133928299, 0.23808108270168304, 0.07399816811084747, -0.08744233101606369, -0.13594688475131989, -0.02696622908115387, 0.05370031297206879, -0.2575474977493286, -0.03679448738694191, -0.0364217683672905, 0.14949864149093628, -0.5673131346702576, 0.5132388472557068, -0.11045576632022858, 0.1682201623916626, 0.15608283877372742, -0.04396374896168709, -0.034452375024557114, 0.08228763192892075, -0.20972086489200592, -0.21795760095119476, -0.1988527625799179, 0.31528496742248535, -0.02557828277349472, 0.06769158691167831, 0.8865126967430115, 0.23710370063781738, -0.03431084752082825, -0.2307584136724472, -0.20552700757980347, 0.02864181250333786, -0.25581425428390503, -0.16354496777057648, 0.3251059651374817, -0.04585514962673187, 0.14101234078407288, 0.28109467029571533, -0.0874970480799675, 0.2634246349334717, 0.07473800331354141, 0.10228230059146881, 0.34804290533065796, -0.5954646468162537, -0.08249935507774353, -0.35553544759750366, 0.4018217623233795, -0.18477120995521545, 0.10617944598197937, 0.007957488298416138, -0.025460688397288322, 0.6410596370697021, 0.46366724371910095, -0.1314777284860611, -0.2680622339248657, 0.36078235507011414, 0.09439639002084732, 0.2274119257926941, 0.10998251289129257, 0.4341546595096588, 0.24524696171283722, 0.11913919448852539, 0.07278365641832352, -0.3059758245944977, 0.16887007653713226, 0.2419106662273407, -0.14005397260189056, -0.4075995087623596, -0.4566211998462677, 0.01257690042257309, 0.49659642577171326, 0.206396222114563, 0.3066009283065796, -0.12281090021133423, 0.21525722742080688, 0.3157886266708374, 0.1194104254245758, -0.2984369695186615, 0.005202427506446838, 0.09016017615795135, 0.326978474855423, 0.040095314383506775, 0.041856639087200165, 0.9163514375686646, -0.05210035294294357, -0.09593777358531952, 0.4002101719379425, 0.003943931311368942, -0.24397127330303192, 0.2932904064655304, 0.23530742526054382, -0.15595994889736176, -0.4865534007549286, 0.2666211426258087, 0.3976702094078064, -0.13052678108215332, 0.013201199471950531, 0.386292964220047, -0.2592613995075226, 0.007195614278316498, 0.4258027672767639, -0.04652974754571915, -0.2856621742248535, 0.004722826182842255, 0.027616411447525024, 0.12189246714115143, -0.034662600606679916, -0.13392065465450287, 0.2546396553516388, -0.46290287375450134, 0.04599441960453987, -0.2503611445426941, -0.30672913789749146, -0.3036242723464966, -0.23586738109588623, 0.1282806694507599, -0.3444637656211853, -0.20521345734596252, 0.017989784479141235, -0.14789344370365143, -0.1546880602836609, -0.2081628441810608, -0.25024914741516113, 0.057843681424856186, -0.003221750259399414, 0.4904029667377472, -0.3128938376903534, -0.19181407988071442, 0.03823326155543327, -0.005273774266242981, 0.4952744245529175, -0.2673102915287018, -0.35042521357536316, -0.5638831257820129, 0.3987303376197815, -0.11598421633243561, -0.2879253029823303, 0.22894173860549927, 0.16963644325733185, -0.1940557360649109, 0.3369061052799225, -0.10675948113203049, -0.1258428394794464, -0.1906363070011139, -0.11139487475156784, -0.380849152803421, 0.10846291482448578, 0.22389385104179382, 0.2220243662595749, 0.3612823784351349, -0.12424536794424057, -0.22809650003910065, 0.13607676327228546, 0.013802312314510345, -0.026670722290873528, -0.43503713607788086, -0.11147228628396988, -0.406200647354126, -0.14907711744308472, -0.0013524405658245087, 0.2889055609703064, -0.19298920035362244, 0.2986396253108978, 0.12991155683994293, -0.021784737706184387, -0.5324534773826599, -0.18031615018844604, 0.07053502649068832, -0.24083128571510315, -0.6069948077201843, 0.036719899624586105, -0.4307267367839813, 0.021186478435993195, -0.052335549145936966, -0.1838938295841217, -0.013336960226297379, -0.5512383580207825, -0.0668870210647583, -0.3624477982521057, -0.08492660522460938, 0.5186677575111389, 0.2459731549024582, 0.2570871412754059, 0.5189786553382874, -0.4342998266220093, 0.08636173605918884, 0.25480327010154724, -0.19499129056930542, -0.1352619230747223, 0.31555604934692383, 0.033217016607522964, 0.12067024409770966, -0.08185993134975433, -0.25366657972335815, 0.3041221499443054, -0.1559447944164276, -0.34022578597068787, 0.2038564831018448, -0.5338165163993835, 0.04182690382003784, 0.3758222758769989, 0.007833575829863548, 0.43961119651794434, 0.26737895607948303, 0.18863984942436218, 0.41792917251586914, -0.09388406574726105, 0.38959962129592896, 0.08687159419059753, 0.17696736752986908, 0.08289453387260437, -0.2472895085811615, 0.19065164029598236, 0.30981138348579407, 0.09286388009786606, -0.2688446044921875, -0.7279627323150635, -0.9063196182250977, -0.4212542176246643, 0.2969564199447632, -0.08582888543605804, 0.5174408555030823, -0.5519972443580627, -0.5515958666801453, 0.07877598702907562, -0.1812853366136551, -0.06028572469949722, -0.604637086391449, -0.04921285808086395, 0.3095535337924957, 0.02736377716064453, -0.41256213188171387, 0.12316072732210159, 0.24616408348083496, -0.1834825575351715, 0.11233554780483246, -0.04481201246380806, -0.2700347304344177, -0.28546014428138733, -0.4939035177230835, -0.17789049446582794, -0.09779536724090576, 0.3930981159210205, -0.003797510638833046, -0.1851930469274521, -0.09432107955217361, 0.4384360909461975, 0.2149558812379837, 0.1120433658361435, -0.2591651678085327, 0.5861508250236511, -0.0845756083726883, 0.15522730350494385, 0.24389612674713135, 0.04451938346028328, 0.13051842153072357, 0.15730804204940796, -0.22407498955726624, -0.011432413011789322, 0.06786669790744781, 0.1532541811466217, 0.25838786363601685, -0.06979429721832275, 0.06187780946493149, -0.3143124580383301, 0.17431624233722687, -0.16586686670780182, 0.04887881875038147, -0.6255322098731995, 0.5009555220603943, -0.1357279121875763, 0.3248233199119568, 0.12480658292770386, -9.054033279418945, -0.17351533472537994, 0.07989389449357986, 0.07448913156986237, -0.001630093902349472, 0.07235722243785858, 0.2493768036365509, 0.05561792105436325, -0.17351976037025452, -0.346172958612442, 0.12136135995388031, 0.26634109020233154, -0.025681454688310623, -0.09588503837585449, -0.12877456843852997, -0.36846786737442017, -0.02137925662100315, -0.45070239901542664, 0.01656608283519745, 0.24730531871318817, 0.02508043497800827, -0.19274179637432098, 0.3790844678878784, 0.3254081606864929, 0.24987633526325226, 0.39086979627609253, 0.12934941053390503, -0.010702932253479958, -0.23135286569595337, 0.05529012531042099, 0.0976971983909607, 0.3487277925014496, 0.24773427844047546, 0.15956968069076538, 0.07413378357887268, -0.026724018156528473, 0.0875915139913559, -0.1307179182767868, 0.3921264410018921, -0.4464687407016754, -0.22326044738292694, 0.19284169375896454, 0.3821069002151489, -0.15889351069927216, -0.1655288189649582, 0.3125835657119751, 0.37567850947380066, 0.49951472878456116, 0.01937156915664673, 0.2734808027744293, 0.5962738990783691, 0.39713749289512634, -0.3052018880844116, -0.3457799255847931, -0.3791016936302185, -0.06137923151254654, 0.02529522404074669, 0.5972468852996826, 0.30744221806526184, -0.3667213022708893, 0.19937670230865479, 0.15420189499855042, 0.3889225721359253, -0.021851807832717896, -0.15310311317443848, -0.4217124283313751, -0.0015585720539093018, 0.030444014817476273, -0.4145289361476898, 0.36825743317604065, 0.23460529744625092, -0.06295681744813919, 0.17305240035057068, -0.14213310182094574, 0.007674726657569408, -0.13504675030708313, 0.1356535255908966, -0.0521993525326252, 0.02968253195285797, 0.06367562711238861, -0.6272733211517334, 0.2736383080482483, 0.37164705991744995, -0.24372117221355438, -0.07132501155138016, -0.1938437968492508, -0.6491535902023315, -0.10101237148046494, 0.09873291850090027, 0.2274317443370819, 0.05385800451040268, 0.38684403896331787, 0.07974302023649216, -0.31560662388801575, -0.12983478605747223, 0.1298736333847046, -0.011604903265833855, -0.23671796917915344, -0.47233420610427856, 0.14531536400318146, -0.30052679777145386, 0.2271224558353424, 0.40500468015670776, -0.18876975774765015, -0.22214682400226593, 0.004898714832961559, 0.030669238418340683, 0.0638781264424324, -0.24123349785804749, -0.0923331007361412, -0.05503041297197342, 0.22241875529289246, -0.008831262588500977, 0.2309354543685913, 0.3214077949523926, -0.11499997228384018, 0.16001741588115692, 0.04128022491931915, 0.06149393320083618, 0.23242974281311035, 0.14221559464931488, -0.050453826785087585, 0.1923503875732422, 0.209111288189888, -0.12673157453536987, 0.3664553761482239, -0.13341622054576874, 0.25671783089637756, -0.26008641719818115, 0.03353649377822876, 0.2441660314798355, -0.09707359969615936, -0.4169076383113861, 0.108303502202034, -0.2575830817222595, -0.04918346926569939, -0.12135215103626251, -0.23391248285770416, 0.010935068130493164, -0.017515558749437332, -0.572219967842102, -0.0386432409286499, 0.38449397683143616, 0.160737544298172, 0.10251288115978241, 0.11873903125524521, 0.10449814796447754, -0.1686885952949524, -0.08462399244308472, 0.1208554282784462, -0.38230660557746887, 0.32987141609191895, 0.0909382700920105, -0.3882089853286743, 0.06895547360181808, -0.5135517120361328, 0.225156769156456, -0.029058847576379776, -0.11942624300718307, -0.20000523328781128, 0.1853073686361313, 0.2333158254623413, 0.07444912195205688, -0.3404131531715393, 0.04163754731416702, -0.22941701114177704, 0.35132285952568054, -0.3378661274909973, 0.1531171202659607, 0.2521180510520935, -0.27224698662757874, -0.1343720555305481, -0.16267575323581696, -0.2152184545993805, -0.4131472408771515, 0.26535314321517944, -0.016170302405953407, -0.34038594365119934, 0.7771458029747009, 0.2595936954021454, 0.41150033473968506, 0.1310470849275589, -0.3168097734451294, -0.17565535008907318, -0.007208976894617081, -0.004407525062561035, -0.12425059080123901, 0.32589444518089294, 0.1827850490808487, 0.31901460886001587, 0.3064819872379303, -0.26186251640319824, -0.04885191097855568, 0.348451167345047, 0.12896202504634857, 0.186091810464859, -0.16831916570663452, 0.15649057924747467, -0.21333977580070496, -0.21824830770492554, 0.18971194326877594, 0.38427260518074036, 0.14527474343776703, -0.23338261246681213, -0.5715317130088806, -0.15739546716213226, -0.03089570254087448, 0.7515184879302979, 0.1833616942167282, -0.016161765903234482, 0.5434359908103943], [0.3474939465522766, -0.25619232654571533, -0.25698328018188477, 0.13729824125766754, -0.38018831610679626, -0.2145918309688568, -0.41585496068000793, 0.23502188920974731, -0.29018837213516235, -0.0865749642252922, 0.173295795917511, 0.560518741607666, -0.27794167399406433, 0.7656316757202148, -0.4241299033164978, -0.56859290599823, 0.13434067368507385, 0.18762364983558655, -0.044842567294836044, 0.10838537663221359, -0.32962945103645325, 0.1440582275390625, 0.16645699739456177, -0.37705108523368835, -0.13524729013442993, -0.690270185470581, 0.579727828502655, 0.6533405184745789, -0.006162375211715698, 0.0196869894862175, -0.25678059458732605, 0.21465960144996643, 0.3110126852989197, 0.4070078432559967, -0.7975008487701416, 0.2311084121465683, -0.15961387753486633, 0.4310048222541809, 0.22539304196834564, 0.29891520738601685, 0.03130586817860603, -0.08191794157028198, -0.5527893304824829, -0.3216562569141388, 0.717341423034668, 0.020117618143558502, 0.06032565236091614, 0.1632385402917862, -0.5351834297180176, 0.2055821269750595, -0.16648679971694946, -0.33561092615127563, 0.1198161318898201, 0.6308032870292664, -0.3621644973754883, -0.433255136013031, -0.05977550148963928, 0.21561738848686218, 0.06162475794553757, 0.3300614356994629, -0.13346488773822784, -0.1254531443119049, 0.22351610660552979, 0.32664406299591064, -0.25686901807785034, 0.08225788921117783, -0.02662057802081108, -0.4003749489784241, -0.38851645588874817, -0.2926574945449829, 0.05503564327955246, 0.2568051218986511, -0.3321327269077301, -0.47141462564468384, -0.20887324213981628, 0.18899790942668915, 0.4072403311729431, -0.06507565826177597, -0.009350433945655823, 0.07122082263231277, 0.4960653483867645, 0.7811468243598938, -0.7472917437553406, 0.45997893810272217, 0.3198986053466797, 0.015868116170167923, -0.16835246980190277, -0.15651293098926544, 0.44288352131843567, 1.132214069366455, -0.006953142583370209, 0.036796100437641144, 0.3587031960487366, -0.6211800575256348, 0.4308890700340271, -0.03803583234548569, -0.3017343282699585, 0.2986676096916199, -0.49662306904792786, 0.027214324101805687, -0.22775349020957947, 0.27815404534339905, 0.18103954195976257, -0.14071686565876007, 0.13957872986793518, 0.2504103481769562, 0.18213850259780884, -0.7655457258224487, 0.6924571394920349, 0.5480360388755798, 0.16753023862838745, -0.13427625596523285, 0.6142427921295166, 0.2293459177017212, 0.07255591452121735, -0.20903244614601135, -0.15838682651519775, 0.2523321211338043, 0.11702575534582138, 0.536383330821991, -0.3324328660964966, 0.44361504912376404, -0.19988296926021576, -0.13632477819919586, 0.18079043924808502, 0.08067995309829712, -0.23606806993484497, -0.0774090439081192, 0.7244638204574585, 0.368518590927124, -0.7296697497367859, -0.5688096284866333, 0.01845860481262207, 0.5121505856513977, 0.180882066488266, 0.07644043117761612, -1.2211676836013794, 0.010531414300203323, -1.083155632019043, -0.5008732080459595, -0.003962893038988113, 0.22798845171928406, 0.21155859529972076, -0.37661534547805786, 0.41940298676490784, -0.21649906039237976, -0.44407451152801514, -0.6793410181999207, 0.2029004991054535, 0.262645423412323, -0.1402081549167633, 0.04647108167409897, -0.04572867602109909, -0.37765514850616455, 0.011367138475179672, -0.392638623714447, -0.023952633142471313, -0.2707589566707611, 0.3083827495574951, -0.20306847989559174, 0.31390371918678284, -0.645496129989624, -0.15711110830307007, 0.042458318173885345, -0.2211315929889679, 0.36669695377349854, 0.06054706126451492, 0.20883160829544067, -0.2989678978919983, 0.08742707967758179, 0.5488584637641907, 0.12113422900438309, 0.2659599781036377, 0.436813622713089, -0.1256396770477295, -0.17869842052459717, 0.7367348074913025, -0.21292366087436676, -0.14297553896903992, 0.41350844502449036, 0.38310015201568604, -0.2895481288433075, -0.46159470081329346, -0.7738718390464783, 0.04042124003171921, 0.12584079802036285, -0.36394572257995605, 0.4203978478908539, 0.600891649723053, 0.3961034417152405, 0.3435605466365814, 0.2017287313938141, 0.1458902209997177, -0.2811061143875122, -0.29771798849105835, 0.1450401246547699, 0.682471513748169, 0.11046495288610458, 0.18351337313652039, 0.20779374241828918, -0.5491978526115417, 0.17369361221790314, 0.16012383997440338, -0.244563490152359, -0.40626561641693115, -0.764796793460846, -0.7089949250221252, 0.40425294637680054, -0.41435661911964417, -0.7164756655693054, 0.29563602805137634, -0.5439439415931702, -0.031702376902103424, 0.0742565467953682, 0.09290719032287598, 0.14441858232021332, -0.3068830072879791, -0.45624473690986633, 0.0609937459230423, -0.1028723269701004, 0.18343621492385864, -0.12002885341644287, 0.2644423246383667, -0.37138399481773376, -0.21720342338085175, 0.2568635642528534, 0.39828020334243774, -0.552366316318512, 0.2728588879108429, -0.2283681035041809, 0.21013523638248444, 0.766576886177063, 0.2672941982746124, -0.4389377534389496, -0.527005672454834, -0.3594188392162323, -0.1718219816684723, 0.17767152190208435, -0.5714221596717834, 0.2572159767150879, -0.32181018590927124, 0.44588446617126465, -0.18036451935768127, 0.07354585826396942, -0.2039080262184143, 0.5946357250213623, -0.17837128043174744, 0.4311339557170868, -0.06899300217628479, 0.11979863047599792, -0.3433404862880707, -0.2537824809551239, -0.09036462754011154, 0.017465360462665558, 0.5895841121673584, 0.46056321263313293, -0.17730244994163513, -0.07672345638275146, 0.15159153938293457, 0.14746229350566864, 0.2848631739616394, 0.5490127801895142, -0.09777276962995529, -0.2404526323080063, -0.19613823294639587, -0.3517058789730072, -0.416852742433548, -0.30700141191482544, 0.6603689193725586, 0.6249098777770996, 0.06993067264556885, 0.05285056680440903, 0.4582792818546295, 0.0012457966804504395, 0.3944607675075531, 0.31213220953941345, 0.7430012822151184, -0.6416026949882507, 0.08113092929124832, -0.019596904516220093, -0.489884614944458, -0.006127752363681793, -0.17277732491493225, 0.05604006350040436, -0.3069119453430176, 0.17909903824329376, 0.2781725525856018, 0.22597287595272064, 0.19911259412765503, -0.6947856545448303, -0.17669273912906647, -0.04764349386096001, -0.24841591715812683, 0.04903794080018997, -0.11561675369739532, -0.0013854429125785828, -0.5009158253669739, 0.6794552803039551, -0.8400703072547913, 0.6632338762283325, -0.08347784727811813, -0.18871265649795532, 0.24199074506759644, 0.07155559957027435, -0.18798339366912842, -0.42505520582199097, 0.1542169153690338, 0.14539246261119843, -0.14160174131393433, -0.007742656394839287, 1.4008551836013794, 0.27145305275917053, 0.5710289478302002, -0.15829142928123474, 0.00499599426984787, 0.020792752504348755, 0.2948471009731293, -0.31761014461517334, -0.25475919246673584, -0.19715353846549988, -0.05629078298807144, 0.14055626094341278, -0.2297627478837967, 0.4935682415962219, 0.4441458582878113, 0.4872346520423889, 0.48876476287841797, -0.3400903046131134, 0.16437003016471863, -0.3033457398414612, 0.07733604311943054, -0.2445143163204193, 0.3353826701641083, -0.23930250108242035, -0.13028396666049957, 0.29591837525367737, -0.1394578367471695, 0.007781733758747578, 0.11484125256538391, 0.31232720613479614, 0.19703322649002075, 0.2915287911891937, -0.07505184412002563, 0.7113168835639954, 0.17079809308052063, 0.013600138947367668, -0.08838112652301788, -0.19944193959236145, 0.12478707730770111, 0.0422968789935112, -0.28040915727615356, -0.6181749105453491, -0.15944010019302368, -0.12370723485946655, 0.9631437063217163, 0.46898749470710754, 0.04414062947034836, 0.030607648193836212, 0.28707751631736755, 0.16204746067523956, -0.07269394397735596, -0.5867906808853149, -0.11324037611484528, -0.02277282252907753, -0.017742624506354332, -0.051193349063396454, -0.2164187878370285, 0.5579581260681152, -0.013692595064640045, -0.09452981501817703, 0.748737096786499, -0.05497575178742409, 0.18065817654132843, 0.07724113017320633, -0.016233408823609352, -0.2272404432296753, -0.6140183210372925, 0.09069239348173141, 0.5410266518592834, -0.36349767446517944, -0.16145643591880798, 0.25943896174430847, -0.3836216628551483, -0.023238444700837135, 0.22374437749385834, -0.12535010278224945, -0.5225954651832581, -0.10101725161075592, 0.36422136425971985, -0.25799140334129333, -0.0991852730512619, 0.3574587404727936, -0.0042053875513374805, -0.5043463706970215, -0.20361709594726562, 0.13008497655391693, -0.6750848889350891, -0.13137657940387726, -0.0674569308757782, 0.03459649533033371, -0.6058545708656311, 0.025656111538410187, 0.46155208349227905, -0.4374418258666992, -0.39029252529144287, -0.4063955545425415, -0.8499531149864197, -0.3821007013320923, 0.046821825206279755, 0.2570967376232147, -0.4251047968864441, -0.1684834510087967, 0.35804057121276855, 0.6898000240325928, 0.3870953619480133, -0.7353180646896362, -0.2825419306755066, -0.2628331482410431, 0.24556633830070496, 0.08352090418338776, -0.5122084021568298, 0.5578473210334778, 0.2062402367591858, -0.03616748005151749, 0.25273293256759644, -0.1357850730419159, -0.2717781066894531, -0.5948399901390076, -0.1702321469783783, 0.3231563866138458, 0.15435199439525604, 0.32425975799560547, 0.32744497060775757, 0.8968872427940369, -0.112632617354393, -0.5388254523277283, 0.2727905511856079, -0.13704878091812134, 0.23945501446723938, -0.6054823398590088, 0.0882890596985817, -0.43833792209625244, 0.02342253178358078, -0.31090837717056274, 0.510579526424408, -0.3034317195415497, -0.04860175400972366, -0.17802347242832184, -0.6242634057998657, -0.5332136750221252, -0.21671266853809357, 0.2877233922481537, -0.17388251423835754, -0.2603577971458435, 0.1530190110206604, -0.16609042882919312, 0.010577648878097534, -0.03507864475250244, -0.26384222507476807, 0.37063509225845337, -0.6152173280715942, 0.29139894247055054, -0.01934465765953064, -0.08230002224445343, 0.23019343614578247, 0.041363004595041275, 0.2561691701412201, 0.5260425209999084, -0.6892291307449341, -0.3213249146938324, 0.2105138897895813, -0.11903251707553864, 0.8596254587173462, 0.28577151894569397, 0.3974757194519043, 0.11596868932247162, 0.033413104712963104, 0.16125573217868805, 0.36706778407096863, 0.036968547850847244, -0.654335618019104, 0.17255647480487823, -0.12648093700408936, 0.029036523774266243, 0.5641045570373535, 0.2390381097793579, 0.18069760501384735, 0.5952655673027039, 0.5066288113594055, 0.857675313949585, 0.15245726704597473, 0.47338587045669556, -0.5297459959983826, 0.3351370096206665, 0.1585720181465149, -0.23550742864608765, 0.3526344895362854, 0.26490339636802673, 0.17278647422790527, -0.6697108745574951, -0.6619604825973511, -0.6061037182807922, -0.39654240012168884, -0.002286338247358799, 0.04844477027654648, 0.3997608423233032, -0.7389312982559204, -0.44624754786491394, 0.18488121032714844, 0.19913619756698608, 0.2643164396286011, -0.4580587148666382, -0.2405223697423935, 0.2988232970237732, -0.23324239253997803, -0.43064868450164795, 0.04692313075065613, -0.06223272904753685, 0.3415471911430359, 0.2516336441040039, 0.27778056263923645, -0.09903929382562637, -0.582046627998352, 0.48342934250831604, -0.029181011021137238, 0.04830009862780571, 0.42412811517715454, 0.5729894638061523, 0.023383736610412598, -0.24446894228458405, 0.3642517030239105, 0.045506883412599564, 0.33156710863113403, 0.08689479529857635, 0.6111103892326355, 0.07208454608917236, 0.4994097948074341, 0.4502887427806854, -0.07075785845518112, 0.127043217420578, -0.07635189592838287, -0.44161373376846313, 0.26023733615875244, -0.04808499664068222, 0.05675933510065079, 0.38753485679626465, -0.02600705251097679, 0.1826210618019104, -0.32466381788253784, 0.21133743226528168, 0.11163730174303055, 0.15277592837810516, -0.12429969012737274, 0.5886838436126709, 0.1076357513666153, 0.7823600172996521, -0.32001444697380066, -8.565707206726074, -0.07755465805530548, -0.2637382745742798, 0.27946048974990845, 0.05143406242132187, 0.0948403924703598, 0.2758859694004059, -0.16793544590473175, -0.2344363033771515, 0.12917111814022064, 0.31965720653533936, 0.01986444741487503, 0.18182840943336487, -0.1299145519733429, -0.6127223372459412, -0.23445400595664978, -0.013135230168700218, -0.2549697160720825, 0.15797212719917297, -0.26217326521873474, 0.05743405222892761, -0.06009376049041748, 0.19728776812553406, 0.0470413900911808, 0.4741469621658325, 0.2578149139881134, 0.3092534840106964, -0.19746899604797363, -0.2173662781715393, 0.029102744534611702, -0.18792176246643066, 0.4320475161075592, 0.21889910101890564, -0.20905208587646484, 0.1390945166349411, -0.030957506969571114, 0.2221994251012802, -0.5829842686653137, 0.3893851339817047, -0.503361701965332, -0.17941899597644806, 0.24767906963825226, 0.14508967101573944, -0.24861019849777222, 0.11534291505813599, 0.0726136714220047, 0.22241081297397614, 0.7957462072372437, -0.21348534524440765, 0.44736817479133606, 0.7588008046150208, 0.8507103323936462, -0.0652802437543869, -0.40259239077568054, -0.27040860056877136, 0.09056993573904037, 0.06772629916667938, 0.3246864974498749, 0.39918628334999084, -0.5087530612945557, -0.6030576229095459, 0.040897879749536514, 0.27276611328125, -0.24958211183547974, -0.3205994963645935, -0.3653518259525299, 0.19804252684116364, 0.21266016364097595, 0.014177781529724598, 0.9816530346870422, 0.0022729188203811646, -0.35842207074165344, 0.5860271453857422, -0.4419160783290863, 0.33842477202415466, -0.48014211654663086, 0.418813556432724, -0.1078660637140274, -0.25056853890419006, 0.30110371112823486, -0.7440909147262573, 0.1447342336177826, 0.3598300814628601, -0.5991561412811279, -0.21271507441997528, -0.6326231360435486, -0.6561468839645386, -0.08424528688192368, -0.12625598907470703, 0.48155567049980164, -0.21529079973697662, 0.3522922098636627, 0.0029590651392936707, -0.38847509026527405, -0.12353850901126862, 0.2527158558368683, -0.3227294087409973, -0.812187671661377, -0.14476865530014038, -0.12863968312740326, -0.4653913080692291, 0.30895018577575684, 0.12208060920238495, -0.7322653532028198, -0.5181159973144531, -0.14645257592201233, -0.010806180536746979, -0.2423878312110901, -0.055356115102767944, 0.45959070324897766, -0.026246946305036545, 0.6176374554634094, -0.020764220505952835, 0.017071805894374847, 0.44815510511398315, 0.00522138737142086, 0.025187771767377853, -0.2658049166202545, 0.2732083201408386, -0.20451438426971436, 0.15591970086097717, -0.4239330589771271, -0.044452182948589325, -0.08493727445602417, -0.17152665555477142, 0.338470458984375, 0.025335904210805893, -0.2706162929534912, -0.33505669236183167, -0.17889341711997986, 0.6706846952438354, -0.389758437871933, -0.04643845558166504, 0.46697574853897095, -0.532734215259552, 0.06726063787937164, -0.1288592368364334, 0.059435393661260605, -0.15351814031600952, -0.08459481596946716, -0.4460635185241699, -0.18125507235527039, 0.41258350014686584, -0.19696608185768127, 0.21990785002708435, 0.022318536415696144, 0.1115364283323288, 0.050667911767959595, 0.23705387115478516, 0.03791502118110657, -0.1871841847896576, 0.35020750761032104, -0.04432956874370575, -0.12835200130939484, 0.25925758481025696, -0.644873321056366, 0.0669977217912674, 0.40029799938201904, -0.6262993812561035, -0.3326133191585541, 0.2873634696006775, -0.04338229447603226, 0.18902713060379028, 0.12923555076122284, -0.15528441965579987, 0.179027259349823, 0.32920214533805847, -0.2248172014951706, 0.4830024838447571, 0.2050143927335739, -0.17553123831748962, -0.4834071099758148, 0.207631453871727, 0.09092128276824951, -0.2777116596698761, 0.004693509079515934, 0.46223223209381104, -0.09096606820821762, 0.627870500087738, 0.25016796588897705, 0.3597683310508728, 0.6197267770767212, -0.1207118034362793, -0.28078141808509827, -0.3286910951137543, -0.03509870916604996, -0.1767670065164566, 0.48599883913993835, 0.19513176381587982, -0.01895085535943508, 0.3809042274951935, -0.10016196221113205, 0.11313223838806152, 0.26679477095603943, 0.15764769911766052, 0.1321977823972702, -0.3999510407447815, -0.03213341534137726, -0.01800653710961342, -0.11213282495737076, 0.04584650695323944, 0.03215514495968819, 0.19350041449069977, -0.42198023200035095, -0.5259407162666321, -0.059566862881183624, -0.12618209421634674, 0.4808109700679779, 0.46614351868629456, -0.15316826105117798, 0.32222700119018555], [0.368956983089447, 0.19270823895931244, -0.011919721961021423, -0.11283624172210693, -0.12553758919239044, 0.025795157998800278, 0.010550332255661488, 0.4285773038864136, 0.030228616669774055, -0.07404978573322296, 0.03473694249987602, -0.1465359479188919, -0.41220515966415405, 0.3088403344154358, -0.6985220909118652, -0.11831015348434448, 0.0775105208158493, -0.040947325527668, -0.13018639385700226, -0.004113237373530865, -0.3997458219528198, -0.1895051896572113, 0.34038087725639343, 0.03546687960624695, -0.10752315074205399, -0.1431208848953247, 0.05150469020009041, 0.26588374376296997, -0.115411177277565, 0.20519381761550903, -0.0005022338591516018, -0.056907348334789276, -0.12681901454925537, 0.06005575507879257, -0.48661521077156067, 0.12863299250602722, -0.1173069104552269, -0.09523601830005646, 0.15228287875652313, 0.450541615486145, -0.03411434590816498, -0.12786439061164856, 0.4813089966773987, 0.24719883501529694, 0.5076667070388794, -0.4525681734085083, -0.009377565234899521, -0.08258828520774841, -0.2878575623035431, 0.05631205812096596, 0.2227497547864914, -0.10224851220846176, 0.2817142605781555, 0.7757212519645691, -0.08367522060871124, -0.47607332468032837, 0.15358063578605652, 0.034342046827077866, -0.04109683632850647, -0.07654619216918945, -0.20700810849666595, -0.5023884177207947, 0.14834508299827576, 0.3471584618091583, -0.10665890574455261, -0.15991029143333435, -0.2288035750389099, 0.14250145852565765, 0.08350597321987152, -0.19939614832401276, 0.005828283727169037, -0.09215380996465683, 0.12999501824378967, -0.11487150192260742, -0.17572054266929626, 0.2340143471956253, 0.44582241773605347, 0.4468463063240051, -0.029718004167079926, 0.5646939277648926, 0.22153839468955994, 0.4438100755214691, 0.2951619029045105, 0.37731340527534485, -0.11234468221664429, 0.18718063831329346, -0.12481439858675003, 0.13121263682842255, 0.41994550824165344, 0.5296033620834351, 0.2634272575378418, 0.1559288650751114, 0.15707413852214813, -0.22326277196407318, 0.2555261254310608, 0.08821641653776169, 0.03833284229040146, 0.22475311160087585, -0.9159107208251953, 0.3761570155620575, 0.46537137031555176, 0.19473953545093536, -0.04452865570783615, 0.028509536758065224, 0.4050550162792206, -0.1462165266275406, -0.1336110383272171, -0.09948025643825531, 0.37357717752456665, 0.0761135071516037, 0.24335074424743652, -0.43259692192077637, 0.09556896984577179, 0.02885785698890686, -0.050859373062849045, -0.057158783078193665, 0.009149020537734032, 0.6616835594177246, -0.6190562844276428, 0.07171665132045746, 0.1587468832731247, 0.23365898430347443, -0.0831003338098526, -0.24855375289916992, 0.06109654903411865, -0.23462259769439697, 0.13222149014472961, 0.16582582890987396, -0.09400994330644608, 0.4629548192024231, -0.36370420455932617, 0.11614538729190826, -0.16802483797073364, -0.08420832455158234, 0.07530628889799118, 0.3018510043621063, -0.3380696773529053, -0.024486228823661804, -0.9799179434776306, -0.17865654826164246, -0.16564440727233887, -0.4185450077056885, 0.10041040182113647, -0.05044551193714142, 0.1869739592075348, 0.19543199241161346, -0.10964265465736389, -0.6143436431884766, 0.052559226751327515, 0.4555213749408722, -0.34626153111457825, -0.06603535264730453, -0.302932471036911, 0.0005513131618499756, -0.13570481538772583, -0.40039658546447754, 0.29756778478622437, -0.4298265874385834, -0.19753402471542358, -0.3027770519256592, 0.6439573168754578, -0.17762745916843414, -0.12492481619119644, -0.2741844654083252, 0.22874107956886292, 0.26331666111946106, 0.1361790895462036, 0.07378120720386505, 0.0456707701086998, -0.11991709470748901, 0.4533136785030365, -0.04281915724277496, 0.008639812469482422, 0.4353834390640259, 0.44816750288009644, 0.23866266012191772, 0.35422202944755554, -0.72353595495224, -0.046567365527153015, 0.21842628717422485, -0.12251964956521988, 0.249549001455307, -0.22969713807106018, -0.25518497824668884, 0.447820782661438, -0.4649440348148346, 0.29678604006767273, 0.1700945794582367, -0.19584719836711884, -0.16867198050022125, 0.25353196263313293, -0.043597400188446045, 0.14570561051368713, -0.575506329536438, -0.2852615714073181, -0.526455283164978, 0.2738179862499237, 0.00838509202003479, 0.11257553845643997, -0.4897979199886322, 0.05549159646034241, -0.0037577785551548004, 0.6180188655853271, 0.2737118899822235, 0.07128268480300903, 0.08717644959688187, -0.043820563703775406, 0.514441967010498, 0.022559944540262222, 0.3666397035121918, 0.050585221499204636, -0.5419741272926331, -0.2051641196012497, 0.12555427849292755, -0.15298129618167877, -0.33427202701568604, -0.039775896817445755, -0.025396648794412613, 0.2424193024635315, -0.12660738825798035, -0.16449926793575287, -0.003911428153514862, 0.505861759185791, -0.3154354691505432, 0.10307316482067108, -0.1059316098690033, 0.20960696041584015, 0.0029684603214263916, 0.12071382999420166, -0.29730552434921265, 0.22504746913909912, 0.3147903084754944, 0.23949825763702393, -0.13017559051513672, 0.09500769525766373, -0.5778325796127319, -0.06373195350170135, -0.14590734243392944, -0.48774993419647217, 0.011092489585280418, -0.35420262813568115, 0.05794920772314072, -0.26737022399902344, -0.12993678450584412, -0.21217089891433716, 0.5902838110923767, -0.45022234320640564, -0.007158137857913971, 0.2939508855342865, 0.190012589097023, -0.030150342732667923, -0.2617626190185547, 0.22121524810791016, 0.049789927899837494, 0.49553269147872925, -0.059623755514621735, -0.013159945607185364, -0.19364939630031586, -0.25851038098335266, -0.37058061361312866, 0.3160727322101593, 0.3572198450565338, 0.07101766765117645, -0.1652783900499344, -0.28392159938812256, -0.228826642036438, -0.3381316065788269, 0.009994138032197952, -0.4263070225715637, 0.4296407997608185, -0.3560291528701782, 0.21141654253005981, 0.28068602085113525, 0.133880153298378, 0.27141204476356506, -0.06528918445110321, 0.44910794496536255, 0.41718190908432007, 0.12695010006427765, -0.09062933176755905, 0.2479868084192276, 0.07607497274875641, 0.06345678865909576, -0.0610416941344738, -0.38939163088798523, 0.6186716556549072, 0.14369085431098938, -0.11298064887523651, -0.15589359402656555, 0.014335483312606812, -0.2777312695980072, 0.31988656520843506, 0.3715192377567291, 0.17460662126541138, 0.17077679932117462, 0.09729333966970444, -0.5194334387779236, 0.2534262239933014, -0.06655839830636978, 0.2605409026145935, -0.05893588066101074, 0.1750495731830597, -0.2262953370809555, 0.30446842312812805, -0.26378345489501953, -0.2725728750228882, 0.007581897079944611, 0.18993982672691345, 0.42542511224746704, 0.21473710238933563, 0.5431349873542786, -0.00042514968663454056, 0.0194847472012043, -0.12201185524463654, -0.06614735722541809, -0.1468556523323059, 0.13407990336418152, 0.10566866397857666, 0.2316020429134369, -0.003915570676326752, 0.022570118308067322, -0.17689022421836853, -0.33841872215270996, -0.13176418840885162, -0.1253443956375122, 0.006930965930223465, 0.08235156536102295, -0.10763706266880035, 0.1575624644756317, -0.6534554958343506, 0.09169624745845795, 0.017321038991212845, 0.3562522232532501, -0.00115106999874115, -0.13665762543678284, 0.15205056965351105, 0.07545682787895203, -0.1533249318599701, -0.17329370975494385, -0.39355605840682983, -0.14088904857635498, 0.27965375781059265, -0.2924380302429199, -0.45898422598838806, 0.10867753624916077, -0.022174663841724396, -0.13368074595928192, -0.31752830743789673, 0.3467560112476349, 0.2376331388950348, -0.10402949154376984, -0.3801007866859436, -0.10676637291908264, 0.1431286782026291, 0.26591601967811584, -0.012132457457482815, 0.062365829944610596, 0.1906435489654541, 0.19274096190929413, 0.31712013483047485, 0.1726113259792328, -0.06770999729633331, -0.18236631155014038, 0.12180491536855698, -0.2396153062582016, 0.1403343379497528, -0.1971435397863388, 0.694756031036377, -0.12053851783275604, 0.14087574183940887, 0.14061273634433746, 0.21769598126411438, 0.01638951525092125, 0.09069619327783585, -0.2087000608444214, -0.07554111629724503, -0.12544144690036774, 0.17710815370082855, 0.1397099494934082, -0.29044198989868164, 0.15107552707195282, 0.13761356472969055, 0.12088590860366821, -0.16237880289554596, -0.07474593818187714, 0.0604323148727417, -0.10016532987356186, -0.0952397808432579, 0.570226788520813, 0.18715064227581024, -0.5405230522155762, 0.004127196967601776, 0.3114771246910095, -0.26200026273727417, -0.3570479154586792, -0.26071369647979736, -0.46690577268600464, 0.19186300039291382, 0.1920861154794693, -0.37470152974128723, -0.22037248313426971, 0.26683786511421204, 0.13478517532348633, -0.256168931722641, -0.3333899676799774, -0.10820303112268448, 0.23739974200725555, -0.2101798802614212, 0.36303797364234924, 0.06612024456262589, 0.30825233459472656, -0.07519727945327759, 0.33881840109825134, -0.03896677494049072, 0.06107507646083832, -0.453339159488678, 0.09610908478498459, -0.2631576359272003, 0.35083499550819397, 0.18750596046447754, -0.1365644335746765, 0.19193631410598755, 0.22797349095344543, -0.20087668299674988, -0.23755647242069244, -0.11605590581893921, 0.12027589976787567, -0.1451977640390396, 0.010267585515975952, -0.3309372067451477, -0.059095676988363266, 0.2501019835472107, 0.14663273096084595, 0.52915358543396, -0.27911168336868286, -0.03462331369519234, 0.1882891058921814, 0.12221229076385498, 0.07594496011734009, 0.20489344000816345, 0.11911173909902573, 0.028018783777952194, 0.2619612216949463, -0.1634492427110672, -0.011954116635024548, -0.10751834511756897, -0.25226864218711853, -0.055161647498607635, -0.189494788646698, -0.2967509925365448, 0.02680787816643715, 0.05200885981321335, -0.09449699521064758, -0.09816386550664902, 0.35374051332473755, -0.38632503151893616, -0.06620676815509796, 0.31487274169921875, 0.2497488558292389, 0.002745542675256729, -0.10723285377025604, -0.10220988094806671, 0.00953991711139679, 0.13697783648967743, 0.021362103521823883, 0.20606942474842072, 0.30388399958610535, 0.2513680160045624, -0.06781496107578278, 0.13652729988098145, -0.008507389575242996, 0.3670303225517273, -0.19120784103870392, 0.289486289024353, -0.4181744456291199, -0.33626875281333923, -0.05344556272029877, 0.1829538494348526, -0.2569926977157593, -0.08243483304977417, 0.03716234862804413, -0.09300699830055237, -0.20323167741298676, 0.3091510832309723, 0.5134624242782593, -0.02882629632949829, 0.3305191099643707, 0.1272420734167099, -0.11876333504915237, 0.245570108294487, -0.06094291806221008, 0.14541268348693848, -0.09446942061185837, 0.15917138755321503, -0.09190286695957184, -0.19761042296886444, -0.04441855102777481, 0.43513527512550354, 0.0954495519399643, 0.10209197551012039, -0.4036954939365387, 0.17182040214538574, -0.20699483156204224, -0.15413081645965576, -0.1716209053993225, 0.14961400628089905, -0.27640625834465027, -0.130692720413208, 0.04044046252965927, -0.11480727046728134, -0.023677829653024673, -0.37836211919784546, -0.020311444997787476, 0.28722843527793884, -0.023437969386577606, -0.4717314541339874, 0.0020009055733680725, 0.04644162952899933, -0.04087795317173004, 0.2908400893211365, 0.09596799314022064, 0.14025703072547913, -0.010375455021858215, 0.363653302192688, 0.2655940055847168, -0.4880512058734894, 0.24913083016872406, -0.4183478355407715, -0.2762545943260193, -0.04687448590993881, 0.12757328152656555, -0.17913340032100677, 0.04370085150003433, -0.10925786942243576, 0.3024952709674835, 0.23367702960968018, 0.13404998183250427, -0.11742274463176727, -0.051811277866363525, 0.3762083947658539, 0.31238922476768494, -0.1287265568971634, 0.09775792062282562, 0.05182599276304245, -0.3046811819076538, -0.1810467541217804, 0.1820523589849472, 0.4194064736366272, 0.01573050767183304, -0.026707429438829422, 0.014170298352837563, 0.12081862986087799, -0.41228383779525757, 0.29070889949798584, 0.13282008469104767, 0.2440195530653, -0.14660103619098663, -9.156780242919922, 0.07135223597288132, -0.2491694539785385, -0.07425422221422195, 0.20959192514419556, 0.06656982004642487, 0.13749518990516663, -0.27386006712913513, 0.04409448057413101, -0.2933840751647949, 0.17829518020153046, 0.0679219663143158, 0.08467677980661392, 0.07193015515804291, -0.10872763395309448, 0.01579132303595543, -0.06653053313493729, -0.14398367702960968, -0.05973003804683685, -0.0683494582772255, 0.3015536665916443, 0.011053352616727352, 0.10669508576393127, 0.03196438029408455, 0.7964539527893066, 0.25525686144828796, 0.23683694005012512, -0.09746228903532028, 0.38693809509277344, 0.0741288959980011, -0.05101281404495239, -0.09489359706640244, 0.09181328117847443, -0.32384490966796875, 0.09441493451595306, 0.15471026301383972, -0.10765627026557922, -0.35504424571990967, -0.3117203414440155, -0.5863157510757446, -0.14571650326251984, 0.11451302468776703, 0.06622657924890518, -0.042436085641384125, 0.10662776231765747, 0.06963129341602325, 0.07828357070684433, 0.2732641398906708, -0.411536306142807, 0.03312257304787636, 0.08768012374639511, 0.4117124378681183, -0.5651392936706543, -0.0019735628738999367, -0.522220253944397, -0.5374382734298706, 0.19976989924907684, 0.374575138092041, -0.09753170609474182, -0.39822834730148315, -0.15674933791160583, -0.053219273686409, 0.6263464093208313, -0.10222099721431732, -0.18492689728736877, -0.27883681654930115, 0.3289361596107483, -0.0011959318071603775, -0.1979176253080368, 0.185703307390213, -0.1731446385383606, -0.08370291441679001, 0.37624391913414, 0.07845810800790787, 0.15624260902404785, 0.0420495867729187, -0.06600027531385422, 0.09728019684553146, 0.18858003616333008, 0.2923763394355774, -0.22436529397964478, 0.17898227274417877, 0.3335094153881073, -0.49354127049446106, -0.2783609628677368, -0.1536359339952469, -0.6451719999313354, 0.1950148493051529, -0.2701561152935028, 0.06932839751243591, -0.3340190351009369, 0.05463477224111557, 0.08905182778835297, -0.400029718875885, -0.17343288660049438, 0.1356557309627533, -0.2963845133781433, -0.22530801594257355, 0.3804140090942383, 0.01344265602529049, -0.14941909909248352, 0.5543670654296875, 0.14921197295188904, -0.004102662205696106, 0.1951131820678711, 0.10077501088380814, -0.010770026594400406, -0.1893346607685089, -0.2544006109237671, -0.1669132113456726, -0.43918853998184204, -0.06356871873140335, 0.09931167215108871, -0.06489405781030655, 0.08670168370008469, 0.20847153663635254, -0.158787801861763, -0.2415475845336914, -0.13078682124614716, -0.008144151419401169, 0.13700716197490692, -0.31534308195114136, 0.2424430549144745, 0.3443450331687927, 0.07890047878026962, 0.07486000657081604, -0.062177978456020355, 0.27144894003868103, -0.29362037777900696, -0.22010520100593567, 0.17186015844345093, 0.2455589920282364, -0.1366463601589203, 0.3857995867729187, -0.08151011914014816, 0.031783152371644974, -0.4333155155181885, 0.32283419370651245, -0.3779447674751282, 0.247588649392128, -1.0408517122268677, 0.1967659890651703, 0.7422596216201782, 0.5445874929428101, 0.1516200453042984, -0.13615116477012634, 0.37128907442092896, 0.14215967059135437, -0.21588587760925293, -0.04637620598077774, 0.34620633721351624, 0.2336493283510208, 0.3203328251838684, -0.13023512065410614, 0.3615886867046356, -0.2872973084449768, -0.005340874195098877, 0.051594898104667664, -0.06249943748116493, 0.11209140717983246, 0.05900011956691742, -0.18105393648147583, -0.03689609095454216, -0.0016710199415683746, 0.14842577278614044, -0.06057567894458771, 0.05324842035770416, -0.38671255111694336, 0.22261862456798553, -0.30503609776496887, -0.3210286796092987, -0.14762158691883087, 0.38864052295684814, -0.08751769363880157, -0.2098877727985382, 0.1420488804578781, -0.0041724094189703465, -0.13465917110443115, 0.1576388031244278, -0.46548527479171753, 0.24308332800865173, -0.21916057169437408, 0.028183069080114365, -0.024363979697227478, 0.07789143919944763, -0.05826299637556076, -0.024300362914800644, 0.20133693516254425, 0.4142609238624573, -0.20324252545833588, 0.6870837807655334, -0.1389216184616089, 0.21829500794410706, 0.09083370119333267, 0.1976999193429947, 0.1615152209997177, -0.1608535647392273, 0.30418434739112854, -0.1663372814655304, -0.0175936222076416, 0.1275015026330948, 0.15353059768676758, -0.4317871928215027, 0.059129439294338226, -0.4270176887512207, -0.6916188597679138, -0.3905676007270813, 0.27882105112075806, 0.4140355587005615, 0.4705316424369812, 0.5244039297103882], [0.28336086869239807, -0.16202062368392944, -0.1533365696668625, 0.05611042305827141, -0.32136067748069763, -0.08247633278369904, 0.33680176734924316, 0.15883822739124298, -0.09589643031358719, -0.312520831823349, -0.2619946002960205, -0.1613069772720337, -0.4089975655078888, 0.017212050035595894, -0.11028379946947098, 0.05110925808548927, -0.0005271220579743385, 0.2036973387002945, 0.10388335585594177, -0.19215185940265656, -0.5856618881225586, -0.24132677912712097, 0.19178013503551483, -0.09714208543300629, 0.5881214141845703, -0.32671818137168884, 0.2638072669506073, 0.15800108015537262, -0.09306539595127106, 0.3763854205608368, 0.4614523649215698, -0.1444648951292038, 0.2712635397911072, -0.0172909963876009, -0.22662290930747986, -0.14021405577659607, -0.17273306846618652, 0.16261382400989532, -0.23384231328964233, 0.4713566303253174, 0.13074205815792084, 0.12696591019630432, 0.39289459586143494, 0.025766965001821518, 0.24413557350635529, -0.35216742753982544, -0.12734389305114746, 0.2915189266204834, -0.052267566323280334, 0.12701544165611267, 0.05477927625179291, 0.06274009495973587, 0.2017211765050888, 0.40814173221588135, 0.057985082268714905, -0.3064897656440735, 0.16684849560260773, 0.19961218535900116, 0.007237520068883896, -0.3803379535675049, -0.34839141368865967, -0.1446121335029602, 0.010976254008710384, 0.5381598472595215, -0.26854729652404785, -0.019715333357453346, -0.03562268987298012, 0.049725241959095, -0.16426563262939453, -0.1120678186416626, 0.23060405254364014, -0.48100745677948, -0.46927332878112793, -0.15759854018688202, -0.3952847123146057, 0.22764815390110016, 0.29552096128463745, -0.056147657334804535, -0.15404099225997925, -0.11982861161231995, 0.24063719809055328, 0.21497969329357147, 0.6511480808258057, 0.41385090351104736, -0.17459726333618164, -0.10699570178985596, -0.013597184792160988, 0.07265249639749527, 0.2904195785522461, 0.5492746233940125, 0.45454007387161255, 0.041638754308223724, 0.5873591303825378, -0.6057949066162109, -0.005610730033367872, 0.03329730033874512, -0.015100078657269478, -0.013642564415931702, -0.677884042263031, 0.1579669862985611, 0.3643522560596466, -0.015278197824954987, 0.265251100063324, 0.13421893119812012, 0.3488040566444397, 0.07457280158996582, -0.02373490482568741, -0.09200716018676758, -0.07874500006437302, 0.3407893180847168, 0.3192632794380188, -0.4492475986480713, 0.5868356227874756, -0.08840391039848328, -0.1019023135304451, 0.29135990142822266, 0.12607458233833313, 0.6492689251899719, 0.01627107337117195, 0.37560132145881653, 0.09261411428451538, 0.13470284640789032, 0.28435948491096497, 0.023515870794653893, 0.5854165554046631, -0.3128754496574402, 0.0546017587184906, -0.09888574481010437, 0.24204279482364655, 0.5284591317176819, -0.7319133877754211, 0.1902126669883728, 0.15156961977481842, 0.0028144177049398422, 0.38653209805488586, 0.1775093525648117, -0.5603328347206116, 0.18674996495246887, -0.7589574456214905, 0.2394258677959442, -0.036939918994903564, 0.05796384811401367, -0.1804834008216858, 0.12681467831134796, 0.4060787558555603, 0.32874763011932373, -0.7058860659599304, -0.32407116889953613, 0.24917782843112946, 0.5416741371154785, 0.5765475034713745, 0.29056525230407715, 0.06841585040092468, -0.1069670021533966, -0.41148924827575684, -0.2457156777381897, 0.07954004406929016, -0.4503033459186554, 0.44204527139663696, -0.060266025364398956, 0.9467945098876953, -0.4622216820716858, -0.3515063226222992, -0.1629685014486313, -0.03186775743961334, -0.060792308300733566, 0.21111008524894714, 0.22282516956329346, -0.03622964769601822, 0.005630765110254288, 0.4482658803462982, 0.10262831300497055, -0.009464658796787262, -0.01983823999762535, -0.13377052545547485, 0.3155715763568878, 0.11187128722667694, -0.5754851698875427, 0.06094931811094284, -0.08193239569664001, 0.1698373407125473, -0.2325543761253357, -0.19525332748889923, -0.2970101237297058, 0.14608913660049438, 0.02277926355600357, 0.2249586433172226, 0.00012400001287460327, 0.1878032088279724, 0.034997597336769104, 0.08098943531513214, 0.10463934391736984, 0.32814136147499084, -0.19988854229450226, -0.3199067711830139, 0.00840197503566742, 0.36274752020835876, -0.29796963930130005, 0.3151471018791199, -0.5303137302398682, -0.14898177981376648, -0.17016318440437317, 0.403148889541626, 0.08007389307022095, -0.2277219444513321, -0.0035840850323438644, 0.12297481298446655, -0.17664146423339844, 0.2649987041950226, -0.2420189082622528, 0.35106128454208374, -0.8456248641014099, -0.45964252948760986, 0.11703570932149887, 0.0020687058568000793, -0.16736842691898346, -0.22082173824310303, -0.042269881814718246, 0.26647117733955383, -0.2494538426399231, 0.2748660445213318, 0.17942199110984802, 0.23411467671394348, 0.05327187106013298, -0.10835450887680054, 0.09720148146152496, 0.0044679176062345505, -0.14876939356327057, 0.15841758251190186, -0.32742470502853394, 0.2137283831834793, -0.01568146049976349, 0.13290423154830933, -0.15851451456546783, 0.01342000626027584, -0.21064075827598572, 0.1129278615117073, -0.34754201769828796, -0.4181537330150604, -0.003262409009039402, -0.21559399366378784, 0.3999832570552826, -0.4997578561306, 0.01052900031208992, 0.2309679538011551, 0.47537145018577576, 0.017604246735572815, 0.019789285957813263, -0.12220366299152374, -0.13086257874965668, -0.09479191899299622, 0.19946560263633728, 0.23634469509124756, -0.28874078392982483, -0.20325560867786407, -0.08012250065803528, -0.46323636174201965, -0.11645124852657318, -0.021139882504940033, -0.30486711859703064, 0.2327037751674652, 0.6562590599060059, 0.13928104937076569, -0.5380536317825317, 0.29668161273002625, -0.4346204400062561, -0.10210719704627991, 0.4179975986480713, -0.026612237095832825, 0.19463540613651276, -0.228177011013031, 0.08702603727579117, -0.02879410982131958, -0.03296729177236557, 0.8301841020584106, 0.37866270542144775, 0.2594216763973236, 0.008507132530212402, 0.2555478513240814, -0.23002052307128906, -0.30119019746780396, 0.42382293939590454, -0.2684098780155182, 0.23785772919654846, -0.5599307417869568, 0.3047879934310913, 0.17993178963661194, 0.4145788252353668, -0.21874581277370453, -0.3170548379421234, -0.3515520691871643, -0.02088545635342598, -0.06461046636104584, 0.020873606204986572, 0.2752394676208496, 0.27999380230903625, -0.6447833180427551, 0.15388727188110352, -0.5262496471405029, 0.17654412984848022, 0.13025999069213867, 0.13939905166625977, -0.18070672452449799, -0.1587112545967102, -0.187394380569458, -0.1805514246225357, 0.007385164499282837, -0.05668094754219055, 0.12251994013786316, -0.18903757631778717, 0.8327582478523254, -0.15817061066627502, -0.07287205755710602, -0.011067301034927368, 0.02209819108247757, 0.08620311319828033, -0.2915090024471283, -0.320025771856308, 0.3786607086658478, -0.3116908073425293, 0.2215937227010727, -0.21916580200195312, -0.4236180782318115, 0.378166526556015, 0.2002570629119873, 0.1331111192703247, 0.6029254198074341, -0.14972329139709473, -0.22585038840770721, -0.4261570870876312, 0.5243126153945923, 0.036033619195222855, -0.007289119064807892, -0.15998664498329163, -0.0702052041888237, 0.18954168260097504, 0.09114177525043488, -0.09093566238880157, -0.7125654816627502, 0.016957232728600502, 0.012653231620788574, 0.023550614714622498, -0.2933257818222046, 0.0212810467928648, 0.1166968047618866, -0.13109304010868073, 0.3548242449760437, -0.43746045231819153, 0.32710981369018555, 0.13155335187911987, -0.23492833971977234, -0.38220658898353577, -0.3140464127063751, -0.025569606572389603, 0.9083620309829712, -0.13769397139549255, 0.09349600970745087, -0.01176368072628975, 0.6996845006942749, 0.1324729472398758, -0.16809287667274475, 0.07298445701599121, -0.017312977463006973, -0.03102198988199234, 0.033945970237255096, -0.08018649369478226, -0.2448720932006836, 0.6057923436164856, 0.3707909882068634, -0.08297087252140045, 0.29659098386764526, -0.10922053456306458, -0.009173717349767685, -0.058152664452791214, 0.3311964273452759, -0.3072912096977234, -0.19642192125320435, 0.05086124688386917, 0.2678350806236267, -0.10685653984546661, 0.19790568947792053, 0.036866482347249985, 0.007266566157341003, 0.06800686568021774, 0.08269652724266052, -0.0024692192673683167, -0.3749110698699951, 0.181595578789711, 0.27371451258659363, 0.22977276146411896, 0.012021131813526154, 0.08705852925777435, 0.29166850447654724, 0.03641577437520027, -0.2663741707801819, -0.6795360445976257, -0.1998022198677063, 0.44412705302238464, -0.07946613430976868, 0.043710581958293915, -0.08874455094337463, -0.023340988904237747, 0.26632988452911377, -0.26278257369995117, -0.10292689502239227, -0.0004977136850357056, -0.3176391124725342, 0.39899003505706787, 0.18511654436588287, -0.024433495476841927, -0.08155983686447144, -0.35399100184440613, 0.104629285633564, 0.2313634306192398, 0.08322402834892273, -0.23728781938552856, -0.07125256210565567, -0.28695058822631836, 0.23779785633087158, 0.26252391934394836, -0.16158688068389893, 0.44166889786720276, 0.3596956729888916, -0.1778370887041092, -0.13377997279167175, 0.1689298450946808, -0.14693403244018555, -0.2830985486507416, 0.10679234564304352, -0.04426756501197815, 0.013706762343645096, -0.018055148422718048, 0.03428743779659271, 0.8457697629928589, -0.08300493657588959, 0.14643648266792297, 0.24487581849098206, 0.42710161209106445, -0.12566888332366943, -0.6421768069267273, -0.14747893810272217, -0.2924187481403351, 0.11989682167768478, -0.23899881541728973, 0.01111789420247078, -0.09345173835754395, 0.02883428893983364, -0.11192240566015244, -0.2328798621892929, -0.4872196316719055, -0.08877819776535034, 0.21278050541877747, -0.2147081047296524, -0.21433624625205994, 0.1378314197063446, -0.20750658214092255, -0.15149369835853577, 0.3094046711921692, -0.05248277634382248, 0.047238074243068695, -0.37992799282073975, -0.11877062916755676, -0.08475904166698456, 0.08202387392520905, 0.48428264260292053, 0.2805246114730835, -0.13502365350723267, 0.45265236496925354, -0.3744755983352661, -0.41941505670547485, 0.19388532638549805, -0.01740681380033493, -0.061603836715221405, 0.1787397563457489, 0.14642533659934998, -0.05185854062438011, 0.12449099868535995, 0.4397840201854706, -0.08522547781467438, 0.16146685183048248, -0.014606446027755737, -0.2204103022813797, -0.3231338560581207, 0.04328825697302818, 0.5513447523117065, -0.08836579322814941, 0.13313132524490356, -0.09606952965259552, -0.17470955848693848, 0.2823084890842438, 0.01260642521083355, 0.17626015841960907, 0.12832240760326385, 0.3856252431869507, -0.1430714726448059, 0.06829715520143509, 0.3383329510688782, 0.730149507522583, -0.1508248895406723, 0.17632487416267395, -0.4318576455116272, -0.5647125840187073, -0.336414098739624, 0.32959896326065063, -0.07887884229421616, 0.5790655016899109, -0.08556577563285828, -0.28692394495010376, -0.19610917568206787, -0.23818348348140717, -0.20185911655426025, -0.2981501817703247, -0.28934723138809204, -0.15228116512298584, -0.22707238793373108, -0.22550728917121887, -0.08658619225025177, 0.10872551798820496, 0.051760923117399216, 0.12752501666545868, -0.2637535035610199, -0.18991419672966003, -0.03662276268005371, -0.026923619210720062, -0.03327809274196625, -0.15832428634166718, 0.4767756462097168, 0.016086935997009277, 0.17120632529258728, -0.24181967973709106, 0.3064801096916199, 0.15957650542259216, 0.27513185143470764, -0.32197731733322144, 0.29894956946372986, 0.09089581668376923, 0.1451684534549713, -0.07377124577760696, -0.13935747742652893, 0.02386634051799774, 0.3113357424736023, -0.3784511983394623, -0.3608224391937256, 0.04533662647008896, -0.09944543242454529, 0.3417939245700836, 0.039230603724718094, 0.2731547951698303, -0.03408680856227875, -0.12269267439842224, -0.12325802445411682, 0.17404836416244507, -0.40891432762145996, 0.10207071900367737, -0.03701957315206528, -0.030660178512334824, -0.38690558075904846, -9.079641342163086, 0.12157506495714188, -0.4533481001853943, 0.15973086655139923, -0.11510460078716278, 0.1385328322649002, 0.654426097869873, -0.25262919068336487, 0.002609177492558956, 0.16242052614688873, 0.20846369862556458, 0.12743858993053436, -0.2554094195365906, -0.10461578518152237, -0.12044443190097809, 0.038556698709726334, -0.06485681980848312, -0.333877831697464, 0.14864830672740936, 0.2512066066265106, 0.06159818917512894, -0.17382538318634033, 0.22009389102458954, 0.11926661431789398, 0.36368414759635925, -0.11579982191324234, -0.02946404740214348, -0.3477645814418793, -0.02873990498483181, 0.01967323012650013, -0.16261915862560272, 0.09658097475767136, 0.25376173853874207, 0.24209952354431152, 0.13315866887569427, -0.10093212127685547, -0.28913170099258423, -0.1419013887643814, -0.013103533536195755, -0.23401710391044617, 0.1598251909017563, 0.008029811084270477, 0.33729350566864014, 0.354287326335907, -0.018032439053058624, -0.0009523779153823853, -0.01983049139380455, 0.4482010304927826, -0.1647968739271164, 0.11415337771177292, 0.3159466087818146, 0.20002105832099915, -0.5177554488182068, -0.156441330909729, -0.3688625693321228, -0.3791266083717346, 0.11303851008415222, 0.5224499106407166, 0.13308802247047424, -0.31810125708580017, -0.28333255648612976, -0.17269697785377502, 0.11489271372556686, 0.23042038083076477, -0.18358854949474335, 0.03257506713271141, -0.2808825373649597, -0.09875258803367615, -0.22412003576755524, 0.047648873180150986, -0.15023353695869446, -0.4457489550113678, 0.35204824805259705, -0.5187154412269592, 0.06356114894151688, -0.16257843375205994, 0.3204967975616455, 0.1754019856452942, 0.5464841723442078, 0.057838164269924164, -0.1134755089879036, -0.18857236206531525, 0.3676983118057251, 0.02876226231455803, -0.2211448848247528, -0.21949265897274017, -0.46518322825431824, -0.3939440846443176, 0.005529716610908508, 0.1154131218791008, 0.13288623094558716, -0.028617896139621735, -0.44186317920684814, -0.12156681716442108, -0.18848110735416412, 0.0832512304186821, -0.09385860711336136, -0.35692551732063293, 0.009274974465370178, 0.06491878628730774, 0.017404600977897644, 0.6439490914344788, 0.24366062879562378, -0.16254669427871704, 0.10494410246610641, -0.07740254700183868, -0.24420200288295746, 0.22643044590950012, 0.1462734043598175, 0.1828172206878662, -0.142412468791008, -0.1487698256969452, -0.3731725513935089, 0.27153658866882324, 0.372014582157135, 0.07755953073501587, 0.232234388589859, 0.40396130084991455, -0.43907520174980164, -0.2625330984592438, 0.10735265165567398, -0.29634997248649597, 0.2726767957210541, 0.3791210651397705, 0.14573603868484497, -0.16155755519866943, 0.02480800449848175, -0.08929216861724854, -0.4620007574558258, 0.03289301320910454, 0.7037535905838013, -0.4085787832736969, -0.045282378792762756, 0.11271946132183075, 0.17756804823875427, -0.2213250994682312, 0.13257867097854614, 0.17456494271755219, -0.22889120876789093, 5.8278441429138184e-05, -0.5563559532165527, -0.22050942480564117, 0.017850806936621666, 0.3231043219566345, 0.4248526394367218, 0.18745414912700653, 0.05399993062019348, 0.2592758536338806, 0.04460940137505531, 0.299364298582077, -0.21179413795471191, 0.009407518431544304, 0.34147220849990845, -0.4151529371738434, 0.39051562547683716, -0.523408830165863, 0.14356568455696106, -0.03837541863322258, 0.04352252185344696, -0.2439618706703186, -0.36069610714912415, 0.06098280847072601, 0.1219378262758255, -0.33779001235961914, 0.23258566856384277, -0.11660275608301163, 0.18806160986423492, -0.5675373673439026, 0.4443262219429016, 0.11077778041362762, 0.06174401566386223, 0.2744981646537781, 0.07007147371768951, -0.36366063356399536, 0.00324055552482605, 0.48882871866226196, 0.3545254170894623, 0.24247518181800842, 0.3975985050201416, 0.13233378529548645, 0.030414558947086334, 0.21844929456710815, -0.47254759073257446, -0.1409119963645935, 0.2812669575214386, 0.12759509682655334, -0.10028325766324997, 0.31883350014686584, 0.10527120530605316, 0.05409081280231476, 0.29256385564804077, -0.26546937227249146, 0.10904847085475922, 0.18595731258392334, 0.09960624575614929, 0.11319051682949066, 0.15485641360282898, 0.03920388221740723, -0.27387920022010803, -0.34597596526145935, -0.07796905934810638, 0.10404759645462036, -0.5230985879898071, -0.33841362595558167, 0.017514953389763832, -0.4606419503688812, -0.2826283276081085, 0.5455679893493652, 0.2526358962059021, -0.03296646848320961, 0.561182975769043], [0.4205797016620636, 0.05668723210692406, -0.030496491119265556, -0.027460331097245216, -0.23769988119602203, -0.18932516872882843, -0.2058810293674469, 0.18895910680294037, -0.3107573986053467, -0.03900940716266632, -0.12235816568136215, 0.5739989280700684, -0.20332887768745422, 0.44613906741142273, -0.811985969543457, -0.2129475176334381, 0.4614184498786926, 0.32311588525772095, 0.18387021124362946, -0.13623571395874023, -0.638393223285675, 0.13347789645195007, 0.0649397075176239, -0.33450669050216675, 0.2162928581237793, -0.38346630334854126, 0.5604766607284546, 0.5404038429260254, 0.07189320027828217, 0.2370114028453827, -0.08155739307403564, 0.3716840147972107, 0.42896562814712524, 0.3627488613128662, -0.3338688611984253, 0.3415677547454834, -0.11500964313745499, 0.11475265026092529, -0.2256801724433899, 0.1555558145046234, 0.13430553674697876, -0.07761730253696442, -0.14784391224384308, -0.23647050559520721, 0.19973699748516083, -0.2681496739387512, -0.3363444209098816, -0.005606343969702721, -0.24403083324432373, 0.27637869119644165, -0.184881329536438, -0.4864809513092041, 0.1421835571527481, 0.22897499799728394, -0.12430297583341599, -0.511370062828064, -0.16298870742321014, 0.4354619085788727, 0.16109374165534973, 0.03537881746888161, 0.10448021441698074, -0.258270800113678, 0.26772385835647583, 0.40609562397003174, -0.2821834981441498, 0.17776092886924744, 0.002608001232147217, -0.17945502698421478, -0.14055097103118896, -0.4203363060951233, 0.23359647393226624, 0.361075758934021, 0.3762645423412323, -0.5383081436157227, 0.07611359655857086, 0.1664678007364273, 0.4539605379104614, 0.06729674339294434, -0.46297043561935425, 0.09553619474172592, 0.7759764194488525, 0.5033205151557922, -0.08708998560905457, 0.21656465530395508, 0.16533875465393066, 0.2661917209625244, 0.14035733044147491, -0.08688642829656601, 0.5802058577537537, 0.660841703414917, 0.20180493593215942, 0.15519942343235016, 0.040919143706560135, -0.26408302783966064, 0.3349631130695343, 0.013966083526611328, -0.3370171785354614, 0.2365991473197937, -0.3176913857460022, -0.01965194009244442, 0.0646662786602974, 0.1224348396062851, 0.13995781540870667, -0.2323918491601944, 0.04640210047364235, -0.1583998203277588, -0.4185851216316223, -0.38279956579208374, 0.28753572702407837, 0.3046387732028961, 0.12284067273139954, -0.18098220229148865, 0.8593068718910217, -0.08326961100101471, 0.09600881487131119, 0.12287691235542297, 0.003444705158472061, 0.4482470750808716, -0.01363340113312006, 0.37231940031051636, 0.17079484462738037, 0.22778774797916412, -0.2536188066005707, -0.1879282295703888, 0.2872023284435272, -0.0040743909776210785, -0.17046737670898438, -0.10951832681894302, 0.7895228862762451, -0.09169480949640274, -0.8314365148544312, -0.43037086725234985, 0.005536723881959915, 0.3599047362804413, 0.22681757807731628, 0.1221056655049324, -0.7081202268600464, -0.058135420083999634, -1.164530873298645, 0.034063614904880524, 0.0027603469789028168, -0.12559539079666138, 0.3873772621154785, -0.48710066080093384, 0.334658682346344, 0.18944527208805084, -0.3297872543334961, -0.3035936951637268, 0.5559856295585632, 0.1758309006690979, 0.13359642028808594, 0.05247548967599869, 0.1327810138463974, -0.2980281710624695, 0.30276548862457275, -0.4034433960914612, -0.05252712592482567, -0.8325013518333435, 0.4692166745662689, -0.28456494212150574, 0.24723638594150543, -0.6088722944259644, -0.5420516729354858, -0.0684489905834198, -0.0015368536114692688, 0.12118925154209137, 0.23522019386291504, 0.12942853569984436, -0.017827924340963364, 0.555670976638794, 0.3284798264503479, 0.09470804035663605, 0.013623297214508057, -0.16175897419452667, -0.08504734933376312, -0.10991440713405609, 0.19537073373794556, 0.0533120334148407, 0.06733500212430954, -0.09877724945545197, 0.4083060026168823, -0.07645753026008606, -0.1693190336227417, -0.7359394431114197, -0.2108953297138214, 0.4329131841659546, -0.1772807389497757, 0.29100272059440613, 0.9587879180908203, 0.3593234121799469, 0.3434193432331085, -0.21237438917160034, -0.32620835304260254, -0.3363892138004303, -0.3407515287399292, -0.4906294643878937, 0.028912395238876343, -0.041536182165145874, 0.32700109481811523, 0.24794021248817444, -0.21613846719264984, 0.18146207928657532, -0.02803792804479599, 0.0224163681268692, -0.19448009133338928, -0.32011809945106506, -0.445077508687973, 0.3819873332977295, -0.03736504539847374, -0.536704421043396, -0.27852097153663635, -0.4266655445098877, -0.1689222753047943, 0.5592713952064514, -0.08185115456581116, -0.014478754252195358, -0.09901313483715057, -0.43078845739364624, 0.31772616505622864, -0.16737836599349976, 0.2421448826789856, -0.16546356678009033, 0.3371847867965698, -0.15270325541496277, 0.004513856023550034, -0.04279856011271477, 0.0753832459449768, -0.29073619842529297, 0.09369044005870819, -0.17514602839946747, 0.3380645215511322, 0.5978456139564514, -0.06619278341531754, -0.2604018747806549, -0.29804134368896484, 0.04338458925485611, -0.2545524835586548, 0.20864558219909668, -0.4222733676433563, -0.021688133478164673, -0.3195633292198181, 0.47515690326690674, 0.20806017518043518, -0.028218407183885574, -0.10707078129053116, 0.8368435502052307, -0.2194017767906189, 0.6090007424354553, -0.04179369658231735, 0.16859230399131775, 0.07184066623449326, -0.45045024156570435, 0.0030559226870536804, 0.2393755316734314, 0.5766063332557678, 0.28372108936309814, 0.09427660703659058, -0.023631153628230095, 0.35373327136039734, 0.4476466774940491, 0.38687506318092346, 0.5367757081985474, 0.07743619382381439, -0.12516574561595917, 0.009118905290961266, -0.2176261991262436, -0.21041792631149292, -0.18587495386600494, 0.07886055111885071, 0.8349524140357971, 0.2117786407470703, -0.08966991305351257, 0.7574647068977356, -0.09328079968690872, -0.15525078773498535, 0.45151999592781067, 0.5962786674499512, -0.34275463223457336, 0.20057983696460724, -0.12616054713726044, -0.22221101820468903, 0.13397327065467834, -0.24294975399971008, 0.4646528661251068, -0.7924428582191467, 0.2823393642902374, 0.3403904139995575, -0.02772940695285797, -0.0714958906173706, -0.39579102396965027, -0.15322963893413544, -0.0776459351181984, -0.18721003830432892, -0.10260949283838272, -0.09936332702636719, 0.005792699754238129, -0.4358067214488983, 0.454245001077652, -0.4853062629699707, 0.4478136897087097, 0.1865992695093155, 0.06633154302835464, 0.16165249049663544, 0.25988903641700745, -0.7612894177436829, -0.28185391426086426, 0.0737016499042511, 0.37491607666015625, -0.2452472746372223, -0.24311764538288116, 1.2669650316238403, 0.36571264266967773, -0.09880698472261429, -0.08057165890932083, -0.5491771697998047, -0.4176260530948639, -0.004821638576686382, -0.1082967221736908, 0.12022259831428528, -0.14039677381515503, -0.00683272909373045, 0.5175051093101501, -0.5014854669570923, 0.1969999521970749, 0.1885378211736679, 0.082160085439682, 0.12327881157398224, -0.27938705682754517, -0.3249681293964386, -0.12251105904579163, 0.362592488527298, -0.3731728494167328, 0.026844073086977005, 0.018821686506271362, 0.17467032372951508, 0.5912166833877563, 0.3466724753379822, -0.07734201848506927, 0.21566404402256012, 0.25876718759536743, 0.15387645363807678, 0.1584114134311676, 0.2535214424133301, 0.011630939319729805, -0.1287384182214737, 0.27457964420318604, 0.11695324629545212, -0.2444496899843216, 8.172541856765747e-05, -0.24623936414718628, -0.46740373969078064, -0.5372654795646667, -0.7319121956825256, 0.04207024723291397, 0.6097556352615356, -0.010635328479111195, 0.2650831341743469, 0.07843325287103653, 0.38260212540626526, 0.2290477156639099, 0.06479020416736603, -0.3936505913734436, 0.2874526083469391, -0.08025602996349335, -0.09883244335651398, -0.2371152937412262, -0.21126586198806763, 0.42921262979507446, 0.07020523399114609, 0.11967110633850098, 0.6702399849891663, 0.2810780107975006, 0.17749767005443573, 0.33099421858787537, -0.020495237782597542, 0.06468462944030762, -0.31846940517425537, 0.16763660311698914, 0.44738340377807617, -0.529793918132782, -0.006829492747783661, 0.3706921935081482, -0.0817166268825531, -0.11138812452554703, 0.09930187463760376, 0.19191855192184448, -0.3657369613647461, -0.24770642817020416, 0.4386732280254364, -0.013305295258760452, 0.5477431416511536, 0.1585496962070465, 0.21785061061382294, -0.46296191215515137, -0.21174533665180206, 0.2214755266904831, -0.5885865688323975, 0.1925559788942337, 0.19791077077388763, 0.1685377061367035, -0.773235559463501, 0.04132021218538284, 0.28843674063682556, -0.014102225191891193, -0.3343852162361145, -0.46815675497055054, -0.22069036960601807, -0.14003264904022217, 0.12938688695430756, 0.15689165890216827, -0.25189924240112305, -0.2580350637435913, 0.07224500179290771, 0.4640747308731079, 0.48481786251068115, -0.564249575138092, -0.022942984476685524, -0.12025655806064606, 0.2213554084300995, -0.08289080858230591, 0.05372272804379463, 0.04855924844741821, -0.3308159112930298, -0.0474405437707901, 0.4446255564689636, -0.3490724563598633, -0.24177956581115723, -0.34326180815696716, 0.2086201310157776, 0.043091315776109695, -0.25372540950775146, 0.02517876960337162, 0.2221207171678543, 0.5365922451019287, -0.20611244440078735, -0.3096623420715332, 0.043557289987802505, 0.1891595423221588, 0.3069222867488861, -0.394159734249115, -0.3548704981803894, -0.39311715960502625, 0.03304076939821243, -0.4085979759693146, 0.4347359836101532, -0.2964053750038147, 0.05229129642248154, 6.603822112083435e-05, -0.3382601737976074, -0.7924730777740479, 0.03744791820645332, 0.12853339314460754, -0.18225091695785522, -0.10172668099403381, 0.04485970735549927, -0.2096654176712036, 0.16756804287433624, -0.009059414267539978, -0.41282084584236145, 0.23492252826690674, -0.567875325679779, 0.22171571850776672, -0.10199615359306335, -0.013841617852449417, 0.7282052040100098, 0.41376346349716187, -0.13549651205539703, 0.7009684443473816, -0.7446101903915405, -0.205794095993042, 0.1823689043521881, -0.14155495166778564, 0.21127550303936005, 0.5848565697669983, -0.24372535943984985, 0.37184402346611023, 0.04142090678215027, -0.05905485153198242, 0.039869509637355804, 0.39518001675605774, -0.5688849687576294, -0.012880232185125351, -0.2684471905231476, 0.44554099440574646, 0.5011969804763794, 0.5129225254058838, 0.36902350187301636, 0.23258477449417114, 0.06986359506845474, 0.8586763143539429, 0.3470008969306946, 0.5178389549255371, -0.22272299230098724, 0.12265227735042572, 0.26354870200157166, -0.23243604600429535, 0.17526908218860626, 0.5080338716506958, 0.050221290439367294, -0.4641415476799011, -0.8700595498085022, -0.7611778974533081, -0.4910408854484558, 0.36101391911506653, 0.3439389169216156, 0.515559196472168, -0.9094171524047852, -0.6108043193817139, -0.1439211368560791, 0.2729058861732483, 0.07508572190999985, -0.7206642627716064, -0.21928392350673676, 0.17826342582702637, -0.5032100677490234, -0.12111923098564148, 0.14969363808631897, -0.026180390268564224, 0.05017976090312004, -0.026115402579307556, -0.03152597323060036, -0.37058666348457336, -0.4403107762336731, -0.11695224046707153, -0.16726291179656982, -0.06901674717664719, 0.3520128130912781, 0.32036298513412476, 0.039298780262470245, -0.04542124643921852, 0.0742078498005867, -0.12250911444425583, 0.06389930844306946, 0.27429428696632385, 0.5508626699447632, -0.17193153500556946, 0.13810715079307556, 0.5071718096733093, -0.07789983600378036, -0.33610522747039795, 0.1562795639038086, 0.18366043269634247, 0.3392511308193207, -0.10226479917764664, 0.09099248796701431, 0.18242359161376953, 0.033461570739746094, 0.3040052652359009, -0.3744105398654938, 0.16467586159706116, -0.36760371923446655, -0.03776169568300247, -0.46221354603767395, 0.10595821589231491, 0.16484960913658142, 0.8000892996788025, -0.2521854639053345, -8.853944778442383, -0.0992208942770958, 0.06739293783903122, 0.010582830756902695, 0.10153595358133316, -0.11191846430301666, 0.2798026502132416, -0.2691914737224579, -0.027176065370440483, 0.08444374799728394, 0.31429529190063477, 0.3701518774032593, 0.14385855197906494, 0.01989014819264412, -0.5035975575447083, -0.34967926144599915, 0.05005602538585663, -0.5021942853927612, -0.13580599427223206, 0.12013944983482361, -0.2502138912677765, -0.36058735847473145, 0.5225781798362732, 0.24257607758045197, 0.4889296889305115, 0.1800132393836975, 0.11586155742406845, 0.0049844179302453995, -0.19300730526447296, -0.44530728459358215, -0.043539002537727356, 0.19135665893554688, 0.20714840292930603, 0.30553069710731506, 0.020672056823968887, -0.3237547278404236, 0.43077340722084045, 0.030170541256666183, 0.18321195244789124, -0.2961881756782532, -0.3388500213623047, 0.16842682659626007, 0.34006577730178833, -0.24085065722465515, -0.052832264453172684, 0.11663559079170227, 0.26891034841537476, 0.032091449946165085, -0.022161684930324554, 0.16145069897174835, 0.7666085958480835, 0.5735853910446167, -0.5367796421051025, -0.4229543209075928, -0.4554416537284851, 0.31305766105651855, 0.1331028789281845, 0.2869921624660492, 0.16692334413528442, -0.4349403977394104, -0.0016228705644607544, -0.2177829146385193, 0.25568318367004395, -0.40975645184516907, -0.26256272196769714, -0.5425015091896057, -0.16462741792201996, -0.01770671084523201, 0.20373523235321045, 0.407153844833374, -0.18150219321250916, -0.42005661129951477, 0.19471026957035065, -0.2736114263534546, 0.2040957808494568, -0.157127246260643, -0.12150191515684128, 0.2204998880624771, -0.31850311160087585, 0.22336417436599731, -0.5773308277130127, 0.4754372239112854, 0.1692400723695755, -0.4689115583896637, 0.15033821761608124, -0.3785751461982727, -0.5763634443283081, 0.15233129262924194, 0.07331112027168274, 0.14282067120075226, 0.35635098814964294, 0.14346987009048462, -0.22617390751838684, -0.1511053740978241, -0.34144747257232666, 0.16630125045776367, -0.04180533066391945, -0.30761703848838806, -0.17478495836257935, 0.09308260679244995, -0.024259690195322037, 0.13628080487251282, 0.02685834839940071, -0.2415105402469635, -0.4217320382595062, 0.09678412973880768, -0.0692502111196518, -0.08784544467926025, -0.3511011600494385, 0.042954426258802414, 0.24547620117664337, 0.259957879781723, -0.18015338480472565, 0.2317170649766922, 0.18717429041862488, -0.2896503508090973, 0.1124773696064949, 0.019986487925052643, 0.2809237241744995, 0.24355217814445496, -0.20875602960586548, -0.2867331802845001, 0.3597102165222168, 0.2442627251148224, -0.3133203983306885, 0.14057840406894684, 0.18570205569267273, 0.0012817424722015858, 0.014199646189808846, -0.08226782083511353, 0.7061282396316528, 0.10834591090679169, -0.170011967420578, 0.20959970355033875, -0.18884526193141937, -0.07095697522163391, -0.15103217959403992, -0.1961669921875, -0.3116884231567383, -0.13109943270683289, -0.3127869963645935, -0.10570627450942993, 0.44882988929748535, -0.25203636288642883, 0.07523193955421448, 0.052238740026950836, -0.2168199121952057, 0.16533732414245605, -0.16721831262111664, 0.3242111802101135, -0.40349969267845154, 0.1996065229177475, 0.09294797480106354, -0.36877506971359253, -0.04980440437793732, -0.19352151453495026, 0.18240146338939667, 0.192263662815094, -0.4460911154747009, -0.03639250993728638, 0.11603786796331406, -0.3319917917251587, 0.4150886833667755, -0.05867154523730278, 0.1285141408443451, 0.1629893034696579, 0.013202967122197151, -0.34653687477111816, 0.35561078786849976, 0.1135280430316925, -0.2393408864736557, -0.41564688086509705, 0.07108686864376068, -0.2740941047668457, -0.36353278160095215, -0.07215755432844162, 0.3540712893009186, 0.05596227943897247, 0.09570185840129852, -0.026851121336221695, 0.004446681588888168, 0.24138659238815308, -0.43399307131767273, -0.4630536139011383, 0.05401325225830078, 0.03858926519751549, -0.03738803043961525, 0.4123641848564148, 0.26528504490852356, 0.20376436412334442, 0.10175367444753647, -0.22954387962818146, -0.23407624661922455, 0.4482170343399048, 0.2773189842700958, 0.3279910087585449, -0.019029878079891205, 0.23689833283424377, 0.0022635608911514282, 0.05084853246808052, -0.013642150908708572, 0.03662136197090149, 0.03612525016069412, -0.25752735137939453, -0.5974713563919067, -0.4961584508419037, 0.21150942146778107, 0.19607901573181152, 0.34750986099243164, 0.2841857671737671, 0.43095093965530396], [1.142503023147583, 0.10029169917106628, -0.003400238696485758, 0.07752607762813568, -0.7700086832046509, -0.614998996257782, -0.8851131200790405, 0.7050754427909851, 0.11705716699361801, -1.1120156049728394, -0.5536358952522278, 0.7678192853927612, -1.572967767715454, 0.18110285699367523, -1.4634596109390259, 0.2937539517879486, 0.0774419829249382, 1.1494317054748535, 0.000692758709192276, -0.03632500767707825, -0.7275112867355347, 0.23771518468856812, 0.10306623578071594, -0.24575930833816528, 0.23269426822662354, -0.23107707500457764, 1.000319004058838, 1.4242254495620728, -0.43434420228004456, 0.4911666810512543, -0.5691930055618286, 0.8553348183631897, 0.6869187951087952, 0.26616817712783813, -0.7802874445915222, 0.4429667592048645, -0.03452472388744354, -0.4399489462375641, -0.6427533030509949, 0.4270592927932739, -0.2609526515007019, 0.5542268753051758, 0.5401606559753418, -0.3851708471775055, 0.9910157918930054, -0.24341949820518494, -0.8051912784576416, 0.21758756041526794, -0.6233565807342529, 0.771057665348053, 0.007853859104216099, -0.5639869570732117, 0.22147352993488312, 0.9791926145553589, 0.02345399372279644, -0.8335059881210327, -0.8637125492095947, 0.9781813621520996, 0.10296802967786789, -0.7019930481910706, -0.1211143285036087, -0.3646412491798401, 0.791734516620636, 0.2780643105506897, -0.5661174654960632, -0.08992715179920197, 0.7192097902297974, -0.6198998689651489, -0.7129836678504944, -0.2388252168893814, 0.5772208571434021, 0.050974100828170776, 0.3763776123523712, -0.38068825006484985, 0.6517052054405212, 0.5885998606681824, 0.6159259080886841, 0.3682578504085541, -0.5321565270423889, 0.7453778386116028, 1.509560227394104, 0.6790795922279358, -0.6508713960647583, 0.07840931415557861, 0.0033479109406471252, 1.1501420736312866, -0.029479844495654106, -0.4898711144924164, 1.1401678323745728, 1.3791477680206299, 0.7741079330444336, 0.9000892043113708, -0.12213405966758728, -0.140467569231987, 1.0289357900619507, -0.006686575710773468, -0.3552863299846649, 0.9004780054092407, 0.7634933590888977, 0.6824875473976135, -0.028353160247206688, 1.1550365686416626, 0.2643224596977234, 0.148127019405365, 0.7722511887550354, -0.8228890299797058, -0.8426622748374939, -1.079341173171997, 0.7638348937034607, 1.2896913290023804, -0.13344088196754456, -0.9425356984138489, 0.9294180870056152, -1.4808545112609863, 0.21632084250450134, 0.8678029775619507, -0.26789140701293945, -0.11226774007081985, 0.03381874039769173, 0.33145394921302795, 0.28764382004737854, 0.4606870412826538, -0.38258635997772217, -0.5662789940834045, 0.9193181991577148, 0.047747645527124405, -0.47207123041152954, -0.24206535518169403, 1.2373294830322266, 0.5732182860374451, -1.268477439880371, 0.23626533150672913, 0.23652790486812592, 0.5570768117904663, 0.5719100832939148, 0.3686012327671051, -0.6447454690933228, -0.26646435260772705, -4.126906394958496, -0.5109126567840576, -0.4032105803489685, -1.266752004623413, 0.18484213948249817, -0.8840657472610474, 0.9590626955032349, 0.9812983274459839, -0.959244966506958, -0.022840000689029694, -0.04541073366999626, 0.4715171158313751, -0.3736077845096588, 0.6860307455062866, -0.11390246450901031, -0.8699010610580444, 0.33027026057243347, -1.2158609628677368, 0.2825445234775543, -1.1318930387496948, 0.8564077019691467, -0.21419771015644073, -0.2552541196346283, -1.245118260383606, -1.128429651260376, -0.9430681467056274, 0.00806550681591034, -0.0003849109634757042, 1.0834217071533203, -0.36250531673431396, -0.10893137753009796, 1.168250560760498, -0.0259776059538126, -1.0775080919265747, -0.6985135078430176, -0.2635517716407776, 0.6050635576248169, 0.289886474609375, 0.42797085642814636, -0.49390333890914917, 0.01555759645998478, -0.3559529781341553, 0.6894165873527527, 0.24923381209373474, -0.6406224370002747, -1.037613034248352, -0.3493120074272156, -0.002428651787340641, 0.2671166956424713, 1.080746054649353, 2.0452847480773926, 0.7747420072555542, 0.5263304710388184, -0.46102121472358704, -0.39598673582077026, -0.5407539010047913, -0.771573543548584, -0.820239782333374, -0.38182398676872253, -0.36160165071487427, 0.8026717305183411, 0.22793203592300415, -0.5944983959197998, 0.3376849293708801, 0.039440616965293884, 0.06321688741445541, -0.7596052885055542, -0.2733841836452484, 0.33047035336494446, -0.4053647220134735, -0.19148260354995728, -1.3871355056762695, -1.1678814888000488, -0.3326849043369293, -0.20343028008937836, 0.06324142217636108, 0.07410036027431488, 0.21884150803089142, -0.9156842231750488, 0.22417999804019928, 0.7444455623626709, -0.8885180950164795, 0.027085162699222565, -0.30063721537590027, 0.6348425149917603, -1.0102345943450928, 0.16809071600437164, -0.21663670241832733, 1.1595937013626099, -0.32765915989875793, 0.4083336889743805, -0.1299087107181549, 0.7929970622062683, 0.2938385009765625, 0.2131909430027008, -0.8013564944267273, -0.3328033983707428, -0.1425122320652008, 0.02096131443977356, 0.5405939817428589, -0.7875189781188965, 0.17746864259243011, -1.0250415802001953, 0.37590906023979187, 0.6494221687316895, -0.038276493549346924, -0.6590761542320251, 1.2093210220336914, 0.11173570156097412, 0.6612863540649414, -0.01592404395341873, 0.22213391959667206, 0.4050338864326477, -0.00868082046508789, -0.33555927872657776, 0.13192644715309143, 0.31218430399894714, 0.4209565222263336, 0.0384456105530262, -0.43825846910476685, -0.4078811705112457, 0.17828252911567688, -0.28824135661125183, 0.8224517703056335, 0.32321226596832275, 0.04366940259933472, 0.09068470448255539, -0.9592007398605347, -0.18951576948165894, 0.8305376172065735, 1.036550521850586, 1.2258212566375732, -0.21108853816986084, -0.21847227215766907, 0.08285468071699142, -0.3658299148082733, 0.09321407973766327, 0.825956404209137, 0.8054399490356445, 0.7319250106811523, 0.41573333740234375, -0.6550451517105103, -1.348166584968567, 0.3250718116760254, -0.969581127166748, 0.4759971797466278, -1.2086491584777832, 0.6626543998718262, -0.06012420356273651, -0.06178826093673706, 0.07536322623491287, 0.3306049108505249, -0.3174450993537903, -0.7996337413787842, -0.5703981518745422, 0.012754376977682114, 0.4856698215007782, -0.07287643849849701, -0.39580491185188293, 0.7899696230888367, -1.1844792366027832, 0.3508527874946594, 0.6447920203208923, -0.20399242639541626, -0.11807660013437271, 0.8947027325630188, -6.51092529296875, -0.4590296149253845, 0.18872296810150146, 0.4361405670642853, -0.4064156413078308, 0.37166059017181396, 2.498777389526367, 0.8130279183387756, -0.12648937106132507, 0.2968292236328125, -0.48401662707328796, -1.3376461267471313, -0.06450394541025162, -0.12614136934280396, -0.034643154591321945, -0.4261273443698883, -0.3001091778278351, 1.4525991678237915, -1.2108231782913208, 0.2513270676136017, 0.1308577060699463, -0.387412428855896, -0.408292293548584, 0.5587902665138245, -0.17997603118419647, -1.5533325672149658, 0.9081344604492188, 0.1523692011833191, -0.1490543633699417, -0.20895114541053772, -0.14477752149105072, -0.016991643235087395, 0.36246374249458313, -0.3481217622756958, -0.5520985126495361, 0.05129813775420189, 0.3643040060997009, 0.29099756479263306, -0.05249475687742233, 0.15729932487010956, -0.2992919087409973, 0.3207666873931885, -0.23430249094963074, -0.9938216209411621, 0.4395715594291687, 0.42474016547203064, -0.6818073987960815, -0.5502430200576782, -1.3801853656768799, -0.34195318818092346, 0.787987232208252, -0.0020716525614261627, 0.3981819450855255, 0.3591606616973877, -0.052653659135103226, 0.8967326879501343, 1.1554217338562012, -0.5506627559661865, 0.8814515471458435, 0.4897947311401367, -0.5045058727264404, -0.051734089851379395, -0.43092793226242065, 0.8801158666610718, 0.09384434670209885, 1.2675747871398926, 0.7393373250961304, -0.2301684021949768, 0.0010295100510120392, 0.9679235219955444, 0.041528962552547455, 0.38965946435928345, -0.14906762540340424, -0.43934497237205505, 0.7596686482429504, -0.816545844078064, 0.015346348285675049, 0.5000731348991394, -0.26038551330566406, 0.38953372836112976, 0.19854606688022614, 0.421224445104599, -0.5841516852378845, -0.3967355489730835, 1.4120153188705444, 0.7810247540473938, 0.9485455751419067, 0.32209789752960205, 0.17851106822490692, -1.6554970741271973, -1.3230332136154175, -0.20426684617996216, -1.4486745595932007, 0.28321027755737305, 0.05843902379274368, -0.220549538731575, -1.150333046913147, -0.2336106300354004, 0.44902902841567993, -0.34875616431236267, -0.3175864517688751, -0.6048447489738464, -0.34068214893341064, 0.6242807507514954, -0.23864556849002838, 0.66548091173172, -0.597129225730896, -0.37570253014564514, -0.24654704332351685, 0.725233256816864, 1.0516550540924072, -0.676626980304718, 0.5089954733848572, 0.36156266927719116, 0.3318430185317993, -0.12838679552078247, 0.5398974418640137, -0.24290448427200317, 0.42584264278411865, -0.28691452741622925, 1.0809909105300903, -0.1567581295967102, 0.36963629722595215, -0.2866416871547699, 0.5301358699798584, 0.19167178869247437, -1.1306555271148682, 0.3281422555446625, 0.048522889614105225, 0.19771221280097961, -0.5249556303024292, -0.8210127353668213, 0.2697230875492096, 0.2741633355617523, -0.8921434283256531, -0.042679011821746826, -0.4785851240158081, -0.4779697358608246, -0.4732241928577423, -0.6663854718208313, -0.0785616859793663, -0.8925446271896362, -0.3799518644809723, 0.337173730134964, 0.03046949952840805, -1.0460320711135864, 0.21662865579128265, 0.6865429878234863, 0.13781557977199554, -0.15065869688987732, -0.41552218794822693, 0.45662960410118103, 0.3267775774002075, -0.21047824621200562, -0.17388257384300232, 0.5329379439353943, -0.9848135113716125, 0.39058491587638855, -1.0079666376113892, 0.7870561480522156, 4.721226692199707, 0.1469481736421585, -0.46540430188179016, 1.2032822370529175, -0.9577065706253052, -0.12893269956111908, 0.885312020778656, -0.04879601672291756, 0.9293237924575806, 1.2397829294204712, -0.44175955653190613, 0.989128828048706, -0.3519854247570038, 0.04156343638896942, 0.742944598197937, -0.07380661368370056, 0.30502602458000183, 0.7113825678825378, -0.38334619998931885, 0.5626704692840576, 1.7962465286254883, 0.4724443852901459, 0.2817673087120056, 0.6577489972114563, -0.22383379936218262, 0.7713007926940918, 1.0225461721420288, 0.7805414795875549, -0.9090785384178162, 0.1789710819721222, 0.500640869140625, 0.3535623848438263, 0.7645195722579956, 0.3370218575000763, -0.09536100924015045, -0.021549653261899948, -0.8414932489395142, -0.6364861726760864, -0.770196259021759, 0.09347653388977051, 0.25531983375549316, 0.3751172125339508, -1.0862985849380493, -1.1301945447921753, -0.13306689262390137, -0.5011687874794006, -0.3490188419818878, -1.1175646781921387, -0.8809636831283569, 0.24654768407344818, -0.7205018997192383, -0.485417902469635, -0.2529585063457489, 0.5838750600814819, 0.13661733269691467, -0.037483472377061844, -0.5005530118942261, -1.0338925123214722, -1.3087174892425537, -0.2668202817440033, -0.44908249378204346, -0.7426210045814514, -0.19534434378147125, 0.6755446195602417, 0.5136883854866028, -0.13379214704036713, -1.2970356941223145, -0.1635637730360031, 0.11726626753807068, 0.4961563050746918, 0.7443978190422058, -0.521510899066925, -0.22184035181999207, -0.04663580656051636, 0.3022894859313965, 0.242298886179924, 0.3638494908809662, 0.5364700555801392, 0.4336565434932709, -0.7641301155090332, 0.5591326951980591, -0.0019671693444252014, 0.1649647206068039, 0.5953614115715027, -0.31224796175956726, 0.13705436885356903, -0.8762965202331543, 0.10712546855211258, -1.4095693826675415, 0.3082296848297119, 1.1018478870391846, 0.5592396855354309, -0.7548648118972778, -1.3780138492584229, -0.16721120476722717, 0.5109397768974304, 0.5441616177558899, -0.4746944010257721, 0.2256225049495697, 1.0234044790267944, -0.21062666177749634, 0.7219749093055725, 0.06581656634807587, -0.7896036505699158, 1.4853754043579102, -0.9484999775886536, 0.12773427367210388, -0.41257259249687195, -0.7546713352203369, -0.5139907598495483, -0.504176914691925, 0.6360678672790527, 0.8427095413208008, 0.4231652021408081, -0.10658925026655197, 0.707150936126709, -0.04389133304357529, 0.8323150277137756, 0.4708719253540039, 0.28466206789016724, 0.03736867010593414, -0.036624662578105927, -0.6113302111625671, -0.5689617395401001, 0.6139053106307983, 0.31170812249183655, -0.5531243681907654, 0.009721653535962105, -0.9475341439247131, -0.19921886920928955, 0.08670806884765625, 0.5832873582839966, -0.6193106174468994, -0.5027825832366943, 0.2844197750091553, -0.09113077819347382, 0.9448308944702148, -0.5112207531929016, -0.43416187167167664, -0.3782943785190582, 0.13150326907634735, -0.6983563303947449, -0.1464751809835434, 4.206364154815674, 1.1453748941421509, -0.6527009010314941, -1.8018478155136108, -1.1124342679977417, 1.079397201538086, -0.15436944365501404, 0.24814903736114502, 0.0018994193524122238, -0.34875598549842834, -0.6109890937805176, -0.5011370182037354, 0.2898719906806946, -0.6661328673362732, -0.6761407852172852, -1.0492650270462036, -0.2583968937397003, 0.2275729477405548, -0.07131604850292206, 0.48869258165359497, -0.0014624670147895813, -0.2866523563861847, 0.7826088070869446, -0.8891048431396484, 0.002231953665614128, 0.33276599645614624, -0.35478803515434265, 0.10780911147594452, -0.7049716711044312, -0.3938165307044983, -1.019529104232788, 0.07213394343852997, 0.8302028179168701, -0.21453647315502167, 0.3523920476436615, -0.7755908966064453, -1.2708114385604858, -0.6042503118515015, -0.3262087404727936, 0.19690649211406708, -0.15232530236244202, 0.1748875081539154, -1.1457793712615967, -0.36309245228767395, -1.3014379739761353, 0.1905900537967682, 0.1680860072374344, -0.6830702424049377, -0.3343563377857208, 0.16117852926254272, -0.4042377471923828, 1.0777333974838257, 0.08538638055324554, -0.5601795315742493, -0.2291470617055893, 0.29700782895088196, -0.23605604469776154, -0.38745689392089844, -0.669731080532074, 0.8891327381134033, 0.4615260064601898, -0.41749125719070435, -0.19352370500564575, 0.4205619692802429, 0.9980308413505554, -0.14935147762298584, -0.051847513765096664, 0.34520256519317627, -0.13003914058208466, 0.7007719874382019, -0.13158629834651947, 0.3672258257865906, 0.42347389459609985, -0.19652149081230164, 0.273919939994812, -0.3178636133670807, 0.39530375599861145, -0.2429620772600174, -0.9196368455886841, -0.13735297322273254, 1.217108130455017, -0.39381644129753113, -0.10495659708976746, -0.33379626274108887, 0.22634583711624146, -0.37863725423812866, -0.06712346524000168, -0.5316020250320435, 0.10350514948368073, 0.5393708348274231, -0.17867231369018555, 0.20409807562828064, 0.8568474054336548, 0.017911221832036972, 0.4608822464942932, -0.4894874691963196, -0.846977949142456, -0.3221258819103241, -0.49160656332969666, 1.3950484991073608, 0.10796045511960983, 0.4051598906517029, -0.164387047290802, -0.46716368198394775, -0.11894668638706207, -0.5174160599708557, -0.04291083291172981, -0.2998230755329132, -0.5269854068756104, -0.7241047024726868, -0.30208224058151245, -0.4336336851119995, 0.15571916103363037, -1.3641620874404907, 0.4509392976760864, 0.6175300478935242, 0.187605619430542, -1.0636240243911743, 0.8157147169113159, -0.24062243103981018, -1.3590457439422607, -0.1345575749874115, 0.35015106201171875, -0.4662702679634094, -0.28005221486091614, 0.23623515665531158, 0.8438339233398438, -0.46323785185813904, 0.6217809915542603, 0.45908793807029724, -0.24542851746082306, -0.06305071711540222, -0.28298813104629517, -0.8001264333724976, 0.4768863916397095, 0.2539687752723694, 0.06210670992732048, 0.8220544457435608, 0.22192594408988953, 0.6896893978118896, 0.39926621317863464, -1.3891454935073853, -0.48805543780326843, 0.4686623215675354, 0.8454341292381287, 0.14280536770820618, -0.25998976826667786, -0.6427303552627563, -0.9979403018951416, 0.4805261492729187, 0.4328465163707733, 0.1740272045135498, -0.03866689279675484, -0.40178182721138, -0.9111865162849426, -0.45885929465293884, 0.2718101739883423, 0.4544035792350769, 0.3802531063556671, 1.0418996810913086, 0.3781376779079437]]]\n"
     ]
    }
   ],
   "source": [
    "from transformers import pipeline\n",
    "\n",
    "feat_extractor = pipeline(\"feature-extraction\")\n",
    "feature = feat_extractor(\"NLP method for feature extraction.\")\n",
    "print(feature)"
   ]
  },
  {
   "cell_type": "code",
   "execution_count": null,
   "id": "183cfd80",
   "metadata": {},
   "outputs": [],
   "source": []
  }
 ],
 "metadata": {
  "kernelspec": {
   "display_name": "Python 3 (ipykernel)",
   "language": "python",
   "name": "python3"
  },
  "language_info": {
   "codemirror_mode": {
    "name": "ipython",
    "version": 3
   },
   "file_extension": ".py",
   "mimetype": "text/x-python",
   "name": "python",
   "nbconvert_exporter": "python",
   "pygments_lexer": "ipython3",
   "version": "3.9.15"
  }
 },
 "nbformat": 4,
 "nbformat_minor": 5
}
