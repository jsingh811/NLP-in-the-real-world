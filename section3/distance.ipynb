{
 "cells": [
  {
   "cell_type": "code",
   "execution_count": 1,
   "id": "4a6e2c37",
   "metadata": {},
   "outputs": [
    {
     "name": "stdout",
     "output_type": "stream",
     "text": [
      "Collecting fuzzy\n",
      "  Using cached Fuzzy-1.2.2-cp39-cp39-macosx_10_9_x86_64.whl\n",
      "Installing collected packages: fuzzy\n",
      "Successfully installed fuzzy-1.2.2\n",
      "Collecting scikit-learn\n",
      "  Using cached scikit_learn-1.1.3-cp39-cp39-macosx_10_9_x86_64.whl (8.7 MB)\n",
      "Requirement already satisfied: threadpoolctl>=2.0.0 in /Users/jyotikasingh/opt/anaconda3/envs/myenv/lib/python3.9/site-packages (from scikit-learn) (3.1.0)\n",
      "Requirement already satisfied: joblib>=1.0.0 in /Users/jyotikasingh/opt/anaconda3/envs/myenv/lib/python3.9/site-packages (from scikit-learn) (1.2.0)\n",
      "Requirement already satisfied: scipy>=1.3.2 in /Users/jyotikasingh/opt/anaconda3/envs/myenv/lib/python3.9/site-packages (from scikit-learn) (1.9.3)\n",
      "Requirement already satisfied: numpy>=1.17.3 in /Users/jyotikasingh/opt/anaconda3/envs/myenv/lib/python3.9/site-packages (from scikit-learn) (1.23.5)\n",
      "Installing collected packages: scikit-learn\n",
      "Successfully installed scikit-learn-1.1.3\n"
     ]
    }
   ],
   "source": [
    "! pip install fuzzy\n",
    "! pip install scikit-learn"
   ]
  },
  {
   "cell_type": "markdown",
   "id": "5c400d5e",
   "metadata": {},
   "source": [
    "# Character-level matching"
   ]
  },
  {
   "cell_type": "code",
   "execution_count": 2,
   "id": "b089a0fc",
   "metadata": {},
   "outputs": [],
   "source": [
    "# follow install instructions  https://github.com/jsingh811/pyStringMatching#setup\n",
    "from pyStringMatching import matcher\n",
    "# Longest Common Subsequence (LCS)\n",
    "lcs , lcs_len = matcher .LCS (\" string \", \" strings \")\n",
    "# Longest Common Sub - string ( LCSubStr )\n",
    "lcsubstr = matcher . LCSubStr (\" string \", \" strings \")\n",
    "# Levenshtein distance between 2 strings\n",
    "lev = matcher . levenshtein (\" string \", \" strings \")\n",
    "# Jaro similarity between 2 strings\n",
    "j_similarity = matcher . jaro_similarity (\" string \", \" strings \")\n",
    "# Jaro - Winkler similarity between 2 strings\n",
    "jw_similarity = matcher . jaro_winkler_similarity (\n",
    "\" string \", \" strings \"\n",
    ")"
   ]
  },
  {
   "cell_type": "markdown",
   "id": "dc9e8092",
   "metadata": {},
   "source": [
    "# Soundex"
   ]
  },
  {
   "cell_type": "code",
   "execution_count": 2,
   "id": "ca3eeaa3",
   "metadata": {},
   "outputs": [
    {
     "name": "stdout",
     "output_type": "stream",
     "text": [
      "N364000\n",
      "N364000\n"
     ]
    }
   ],
   "source": [
    "# Dictionary which maps letters to soundex codes. \n",
    "# Vowels and 'H', 'W' and 'Y' will be represented by '.'\n",
    "codes = {\n",
    "    \"BFPV\": \"1\", \"CGJKQSXZ\": \"2\",\n",
    "    \"DT\": \"3\",\n",
    "    \"L\": \"4\", \"MN\": \"5\", \"R\": \"6\",\n",
    "    \"AEIOUHWY\": \".\"\n",
    "}\n",
    "def soundex_generator(token):\n",
    "    token = token.upper()\n",
    "    soundex = \"\"\n",
    "    soundex += token[0]\n",
    "\n",
    "    # Enode as per the codes\n",
    "    for char in token[1:]:\n",
    "        for key in codes.keys():\n",
    "            if char in key:\n",
    "                code = codes[key]\n",
    "                if code != '.':\n",
    "                    if code != soundex[-1]:\n",
    "                        soundex += code\n",
    "\n",
    "    # Trim or Pad to make a 4-character code\n",
    "    soundex = soundex[:7].ljust(7, \"0\")\n",
    "\n",
    "    return soundex\n",
    "\n",
    "print(soundex_generator('natural'))\n",
    "print(soundex_generator('natuaral'))\n"
   ]
  },
  {
   "cell_type": "code",
   "execution_count": 3,
   "id": "4694c15a",
   "metadata": {},
   "outputs": [
    {
     "name": "stdout",
     "output_type": "stream",
     "text": [
      "Requirement already satisfied: fuzzy in /Users/jyotikasingh/opt/anaconda3/envs/myenv/lib/python3.9/site-packages (1.2.2)\r\n"
     ]
    },
    {
     "ename": "UnicodeDecodeError",
     "evalue": "'ascii' codec can't decode byte 0xd0 in position 0: ordinal not in range(128)",
     "output_type": "error",
     "traceback": [
      "\u001b[0;31m---------------------------------------------------------------------------\u001b[0m",
      "\u001b[0;31mUnicodeDecodeError\u001b[0m                        Traceback (most recent call last)",
      "Cell \u001b[0;32mIn [3], line 4\u001b[0m\n\u001b[1;32m      2\u001b[0m \u001b[38;5;28;01mimport\u001b[39;00m \u001b[38;5;21;01mfuzzy\u001b[39;00m\n\u001b[1;32m      3\u001b[0m soundex \u001b[38;5;241m=\u001b[39m fuzzy\u001b[38;5;241m.\u001b[39mSoundex(\u001b[38;5;241m4\u001b[39m)\n\u001b[0;32m----> 4\u001b[0m \u001b[43msoundex\u001b[49m\u001b[43m(\u001b[49m\u001b[38;5;124;43m'\u001b[39;49m\u001b[38;5;124;43mfuzzy\u001b[39;49m\u001b[38;5;124;43m'\u001b[39;49m\u001b[43m)\u001b[49m\n",
      "File \u001b[0;32msrc/fuzzy.pyx:230\u001b[0m, in \u001b[0;36mfuzzy.Soundex.__call__\u001b[0;34m()\u001b[0m\n",
      "\u001b[0;31mUnicodeDecodeError\u001b[0m: 'ascii' codec can't decode byte 0xd0 in position 0: ordinal not in range(128)"
     ]
    }
   ],
   "source": [
    "! pip install fuzzy\n",
    "import fuzzy\n",
    "soundex = fuzzy.Soundex(4)\n",
    "soundex('fuzzy')"
   ]
  },
  {
   "cell_type": "markdown",
   "id": "4a5d1108",
   "metadata": {},
   "source": [
    "# Cosine"
   ]
  },
  {
   "cell_type": "code",
   "execution_count": 5,
   "id": "df5ee556",
   "metadata": {},
   "outputs": [
    {
     "name": "stdout",
     "output_type": "stream",
     "text": [
      "[[1.]]\n",
      "[[1.]]\n"
     ]
    }
   ],
   "source": [
    "from sklearn.metrics.pairwise import cosine_similarity\n",
    "\n",
    "print(cosine_similarity([[1.0, 2.0, 3.0]], [[1.0, 2.0, 3.0]]))\n",
    "print(cosine_similarity([[1.0, 2.0, 3.0]], [[2.0, 4.0, 6.0]]))"
   ]
  },
  {
   "cell_type": "markdown",
   "id": "a9dcd221",
   "metadata": {},
   "source": [
    "# Euclidean"
   ]
  },
  {
   "cell_type": "code",
   "execution_count": 4,
   "id": "17058764",
   "metadata": {},
   "outputs": [
    {
     "name": "stdout",
     "output_type": "stream",
     "text": [
      "[[0.]]\n",
      "[[3.74165739]]\n"
     ]
    }
   ],
   "source": [
    "from sklearn.metrics.pairwise import euclidean_distances\n",
    "\n",
    "print(euclidean_distances([[1.0, 2.0, 3.0]], [[1.0, 2.0, 3.0]]))\n",
    "print(euclidean_distances([[1.0, 2.0, 3.0]], [[2.0, 4.0, 6.0]]))\n"
   ]
  }
 ],
 "metadata": {
  "kernelspec": {
   "display_name": "Python 3 (ipykernel)",
   "language": "python",
   "name": "python3"
  },
  "language_info": {
   "codemirror_mode": {
    "name": "ipython",
    "version": 3
   },
   "file_extension": ".py",
   "mimetype": "text/x-python",
   "name": "python",
   "nbconvert_exporter": "python",
   "pygments_lexer": "ipython3",
   "version": "3.9.7"
  }
 },
 "nbformat": 4,
 "nbformat_minor": 5
}
